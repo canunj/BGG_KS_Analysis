{
 "cells": [
  {
   "cell_type": "code",
   "execution_count": 14,
   "id": "7f7cc008-8a44-4e12-91ae-61720a2a3cdb",
   "metadata": {},
   "outputs": [],
   "source": [
    "import pandas as pd\n",
    "import numpy as np\n",
    "import re"
   ]
  },
  {
   "cell_type": "code",
   "execution_count": 15,
   "id": "c79f9e0b",
   "metadata": {},
   "outputs": [],
   "source": [
    "df = pd.read_csv('./BGG_data.csv')"
   ]
  },
  {
   "cell_type": "code",
   "execution_count": 16,
   "id": "404e1f58",
   "metadata": {},
   "outputs": [],
   "source": [
    "def encoder_columns(frame,targets):\n",
    "    for t in targets:\n",
    "        one_hot = pd.get_dummies(frame[t].apply(pd.Series).stack(),prefix=t).groupby(level=0).sum()\n",
    "        frame = pd.concat([frame,one_hot],axis=1)\n",
    "    return frame\n",
    "\n",
    "def encode_column(frame,target_col,target_val):\n",
    "    one_hot = pd.get_dummies(frame[target_col].apply(pd.Series).stack()).groupby(level=0).sum()\n",
    "    one_hot = one_hot[target_val]\n",
    "    frame = pd.concat([frame,one_hot],axis=1)\n",
    "\n",
    "    return frame"
   ]
  },
  {
   "cell_type": "code",
   "execution_count": null,
   "id": "81a9e830",
   "metadata": {},
   "outputs": [],
   "source": []
  }
 ],
 "metadata": {
  "kernelspec": {
   "display_name": "Python 3 (ipykernel)",
   "language": "python",
   "name": "python3"
  },
  "language_info": {
   "codemirror_mode": {
    "name": "ipython",
    "version": 3
   },
   "file_extension": ".py",
   "mimetype": "text/x-python",
   "name": "python",
   "nbconvert_exporter": "python",
   "pygments_lexer": "ipython3",
   "version": "3.9.6"
  }
 },
 "nbformat": 4,
 "nbformat_minor": 5
}
