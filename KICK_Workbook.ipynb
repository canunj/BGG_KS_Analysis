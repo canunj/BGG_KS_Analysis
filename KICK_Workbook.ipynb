{
 "cells": [
  {
   "cell_type": "code",
   "execution_count": null,
   "id": "d23e3c6c",
   "metadata": {},
   "outputs": [],
   "source": [
    "import requests\n",
    "from bs4 import BeautifulSoup\n",
    "from urllib.request import urlopen\n",
    "from zipfile import ZipFile"
   ]
  },
  {
   "cell_type": "code",
   "execution_count": null,
   "id": "7ba12ec3",
   "metadata": {},
   "outputs": [],
   "source": [
    "# Extract .zip file download links from webrobots.io and append to an interable.\n",
    "url = 'https://webrobots.io/kickstarter-datasets/'\n",
    "reqs = requests.get(url)\n",
    "soup = BeautifulSoup(reqs.text, 'html.parser')\n",
    " \n",
    "zip_urls = []\n",
    "for link in soup.find_all('a'):\n",
    "    try:\n",
    "        if 'Z.zip' in link.get('href'):\n",
    "            zip_urls.append(link.get('href'))\n",
    "    except:\n",
    "        continue"
   ]
  },
  {
   "cell_type": "code",
   "execution_count": 59,
   "id": "2c31116d",
   "metadata": {},
   "outputs": [
    {
     "name": "stdout",
     "output_type": "stream",
     "text": [
      "1\n",
      "2\n",
      "3\n",
      "4\n",
      "5\n",
      "6\n",
      "7\n",
      "8\n",
      "9\n",
      "10\n",
      "11\n",
      "12\n",
      "13\n",
      "14\n",
      "15\n",
      "16\n",
      "17\n",
      "18\n",
      "19\n",
      "20\n",
      "21\n",
      "22\n",
      "23\n",
      "24\n",
      "25\n",
      "26\n",
      "27\n",
      "28\n",
      "29\n",
      "30\n",
      "31\n",
      "32\n",
      "33\n",
      "34\n",
      "35\n",
      "36\n",
      "37\n",
      "38\n",
      "39\n",
      "40\n",
      "41\n",
      "42\n",
      "43\n",
      "44\n",
      "45\n",
      "46\n",
      "47\n",
      "48\n",
      "49\n",
      "50\n",
      "51\n",
      "52\n",
      "53\n",
      "54\n",
      "55\n",
      "56\n",
      "57\n",
      "58\n",
      "59\n",
      "60\n",
      "61\n",
      "62\n",
      "63\n",
      "64\n",
      "65\n",
      "66\n",
      "67\n",
      "68\n",
      "69\n",
      "70\n",
      "71\n",
      "72\n",
      "73\n",
      "74\n",
      "75\n",
      "76\n",
      "77\n"
     ]
    }
   ],
   "source": [
    "# Define necessary directorys, loop through .zip file list created in step above, dowload .CSVs and append to df. \n",
    "path = Path().parent.absolute()\n",
    "temp_zip = str(path)+'/temp.zip'\n",
    "\n",
    "fdf = pd.DataFrame()\n",
    "i=1\n",
    "\n",
    "for zipurl in zip_urls:\n",
    "    zipresp = urlopen(zipurl)\n",
    "    tempzip = open(temp_zip, \"wb\")\n",
    "    tempzip.write(zipresp.read())\n",
    "    tempzip.close()\n",
    "    zf = zipfile.ZipFile(temp_zip)\n",
    "    \n",
    "    text_files = zf.infolist()\n",
    "    for text_file in text_files:\n",
    "        try:\n",
    "            df = pd.read_csv(zf.open(text_file.filename))\n",
    "            df['pull_date'] = zip_file\n",
    "            df = df[df['source_url'].str.contains('categories/games')]\n",
    "            fdf = fdf.append(df)\n",
    "        except:\n",
    "            continue\n",
    "    \n",
    "    zf.close()\n",
    "    print(i)\n",
    "    i+=1\n",
    "\n",
    "os.remove(\"temp.zip\")"
   ]
  },
  {
   "cell_type": "code",
   "execution_count": 62,
   "id": "9ad47070",
   "metadata": {},
   "outputs": [
    {
     "name": "stderr",
     "output_type": "stream",
     "text": [
      "/var/folders/mt/j3cd4z6111z5jqc6hx30y3k00000gn/T/ipykernel_1040/889761902.py:26: FutureWarning: The default value of regex will change from True to False in a future version.\n",
      "  adf['pull_date'] = adf['pull_date'].str.replace('Kickstarter_', '').str.replace('Z.zip', '')\n"
     ]
    }
   ],
   "source": [
    "adf = fdf.drop(\n",
    "         ['currency_symbol', \n",
    "          'currency_trailing_code',\n",
    "          'current_currency',\n",
    "          'disable_communication',\n",
    "          'is_backing',\n",
    "          'permissions',\n",
    "          'urls',\n",
    "          'unread_messages_count',\n",
    "          'unseen_activity_count',\n",
    "          'country_displayable_name',\n",
    "          'projects',\n",
    "          'total_hits',\n",
    "          'seed',\n",
    "          'search_url',\n",
    "          'has_more',\n",
    "          'last_update_published_at'\n",
    "         ]\n",
    "         , axis=1)\n",
    "\n",
    "adf['created_at'] = pd.to_datetime(adf['created_at'].fillna(0).astype('int'),unit='s')\n",
    "adf['deadline'] = pd.to_datetime(adf['deadline'].fillna(0).astype('int'),unit='s')\n",
    "adf['launched_at'] = pd.to_datetime(adf['launched_at'].fillna(0).astype('int'),unit='s')\n",
    "adf['state_changed_at'] = pd.to_datetime(adf['state_changed_at'].fillna(0).astype('int'),unit='s')\n",
    "\n",
    "adf['pull_date'] = adf['pull_date'].str.replace('Kickstarter_', '').str.replace('Z.zip', '')\n",
    "adf['pull_date'] = pd.to_datetime(adf['pull_date'], format='%Y-%m-%dT%H_%M_%S_%f')"
   ]
  },
  {
   "cell_type": "code",
   "execution_count": 63,
   "id": "82262247",
   "metadata": {},
   "outputs": [],
   "source": [
    "idx = adf.groupby(['slug'])['pull_date'].transform(max) == adf['pull_date']\n",
    "adf = adf[idx]\n",
    "adf = adf.drop_duplicates(subset=['slug'])"
   ]
  },
  {
   "cell_type": "code",
   "execution_count": 65,
   "id": "da6bc89f",
   "metadata": {},
   "outputs": [],
   "source": [
    "adf.to_csv(str(path)+'/KICK_Data.csv')"
   ]
  }
 ],
 "metadata": {
  "kernelspec": {
   "display_name": "Python 3 (ipykernel)",
   "language": "python",
   "name": "python3"
  },
  "language_info": {
   "codemirror_mode": {
    "name": "ipython",
    "version": 3
   },
   "file_extension": ".py",
   "mimetype": "text/x-python",
   "name": "python",
   "nbconvert_exporter": "python",
   "pygments_lexer": "ipython3",
   "version": "3.9.7"
  }
 },
 "nbformat": 4,
 "nbformat_minor": 5
}
