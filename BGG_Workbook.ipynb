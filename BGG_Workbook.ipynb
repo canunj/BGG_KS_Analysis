{
 "cells": [
  {
   "cell_type": "code",
   "execution_count": 44,
   "id": "7f7cc008-8a44-4e12-91ae-61720a2a3cdb",
   "metadata": {},
   "outputs": [],
   "source": [
    "import pandas as pd\n",
    "import numpy as np\n",
    "import re"
   ]
  },
  {
   "cell_type": "code",
   "execution_count": 47,
   "id": "c79f9e0b",
   "metadata": {},
   "outputs": [],
   "source": [
    "df = pd.read_json(r'placeholder/bgg_GameItem.jl', lines=True)"
   ]
  },
  {
   "cell_type": "code",
   "execution_count": 48,
   "id": "652b92e8",
   "metadata": {},
   "outputs": [],
   "source": [
    "df = df[df['compilation']!=1]"
   ]
  },
  {
   "cell_type": "code",
   "execution_count": 49,
   "id": "1b7209e1",
   "metadata": {},
   "outputs": [],
   "source": [
    "singlec_pattern = re.compile(\"([\\S ]+)(?=:)\")"
   ]
  },
  {
   "cell_type": "code",
   "execution_count": 50,
   "id": "090389e6",
   "metadata": {},
   "outputs": [],
   "source": [
    "def text_col_cleaner(col):\n",
    "    \n",
    "    pattern = singlec_pattern\n",
    "    \n",
    "    df[col] = df[col].map(lambda x: [re.findall(pattern,val)[0].strip() for val in x], na_action='ignore')\n",
    "    return df"
   ]
  },
  {
   "cell_type": "code",
   "execution_count": 51,
   "id": "52acd585",
   "metadata": {},
   "outputs": [],
   "source": [
    "def cleaner_pack(frame):\n",
    "    \n",
    "    df = frame\n",
    "    one_c = ['game_type','designer','artist','publisher','category','mechanic','family']\n",
    "    df['year'] = df['year'].fillna(0).astype(int)\n",
    "    df['rank'] = df['rank'].fillna(0).astype(int)\n",
    "\n",
    "    for cat in one_c:\n",
    "        text_col_cleaner(cat)\n",
    "\n",
    "    return df"
   ]
  },
  {
   "cell_type": "code",
   "execution_count": 52,
   "id": "c5162ba8",
   "metadata": {},
   "outputs": [],
   "source": [
    "def encoder_columns(frame,targets):\n",
    "    for t in targets:\n",
    "        one_hot = pd.get_dummies(frame[t].apply(pd.Series).stack(),prefix=t).groupby(level=0).sum()\n",
    "        frame = pd.concat([frame,one_hot],axis=1)\n",
    "    return frame"
   ]
  },
  {
   "cell_type": "code",
   "execution_count": 53,
   "id": "404e1f58",
   "metadata": {},
   "outputs": [],
   "source": [
    "def encode_column(frame,target_col,target_val):\n",
    "    one_hot = pd.get_dummies(frame[target_col].apply(pd.Series).stack()).groupby(level=0).sum()\n",
    "    one_hot = one_hot[target_val]\n",
    "    frame = pd.concat([frame,one_hot],axis=1)\n",
    "\n",
    "    return frame"
   ]
  },
  {
   "cell_type": "code",
   "execution_count": 54,
   "id": "2c768317",
   "metadata": {},
   "outputs": [],
   "source": [
    "df = encoder_columns(cleaner_pack(df),['mechanic','category'])"
   ]
  },
  {
   "cell_type": "code",
   "execution_count": 62,
   "id": "fbf76960",
   "metadata": {},
   "outputs": [],
   "source": [
    "df = encode_column(df,'family','Crowdfunding: Kickstarter')"
   ]
  },
  {
   "cell_type": "code",
   "execution_count": 65,
   "id": "62d602c9",
   "metadata": {},
   "outputs": [],
   "source": [
    "mid = df[['bgg_id','name','rank']]"
   ]
  },
  {
   "cell_type": "code",
   "execution_count": 76,
   "id": "f3519a5d",
   "metadata": {},
   "outputs": [],
   "source": [
    "df = pd.concat([mid, df], axis=1)"
   ]
  },
  {
   "cell_type": "code",
   "execution_count": 83,
   "id": "70b9a4b9",
   "metadata": {},
   "outputs": [],
   "source": [
    "from pathlib import Path  \n",
    "\n",
    "filepath = Path(r'.\\BGG_Data.csv')  \n",
    "\n",
    "filepath.parent.mkdir(parents=True, exist_ok=True)  \n",
    "\n",
    "df.to_csv(filepath,index=False)  "
   ]
  },
  {
   "cell_type": "code",
   "execution_count": null,
   "id": "b43a9ef8",
   "metadata": {},
   "outputs": [],
   "source": []
  }
 ],
 "metadata": {
  "kernelspec": {
   "display_name": "Python 3 (ipykernel)",
   "language": "python",
   "name": "python3"
  },
  "language_info": {
   "codemirror_mode": {
    "name": "ipython",
    "version": 3
   },
   "file_extension": ".py",
   "mimetype": "text/x-python",
   "name": "python",
   "nbconvert_exporter": "python",
   "pygments_lexer": "ipython3",
   "version": "3.9.6"
  }
 },
 "nbformat": 4,
 "nbformat_minor": 5
}
