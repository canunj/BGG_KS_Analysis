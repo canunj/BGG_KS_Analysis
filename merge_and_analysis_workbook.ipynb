{
  "cells": [
    {
      "cell_type": "markdown",
      "metadata": {
        "id": "6zVm-PNBTUEh"
      },
      "source": [
        "# Import & Raw Cleaner Functions"
      ]
    },
    {
      "cell_type": "code",
      "execution_count": null,
      "metadata": {
        "colab": {
          "base_uri": "https://localhost:8080/"
        },
        "id": "jGPHqCEY5g6J",
        "outputId": "09413cd9-030f-4940-ebb8-6d6c508f66fb"
      },
      "outputs": [
        {
          "output_type": "stream",
          "name": "stdout",
          "text": [
            "Looking in indexes: https://pypi.org/simple, https://us-python.pkg.dev/colab-wheels/public/simple/\n",
            "Collecting fuzzywuzzy[speedup]\n",
            "  Downloading fuzzywuzzy-0.18.0-py2.py3-none-any.whl (18 kB)\n",
            "Collecting python-levenshtein>=0.12\n",
            "  Downloading python-Levenshtein-0.12.2.tar.gz (50 kB)\n",
            "\u001b[K     |████████████████████████████████| 50 kB 4.2 MB/s \n",
            "\u001b[?25hRequirement already satisfied: setuptools in /usr/local/lib/python3.7/dist-packages (from python-levenshtein>=0.12->fuzzywuzzy[speedup]) (57.4.0)\n",
            "Building wheels for collected packages: python-levenshtein\n",
            "  Building wheel for python-levenshtein (setup.py) ... \u001b[?25l\u001b[?25hdone\n",
            "  Created wheel for python-levenshtein: filename=python_Levenshtein-0.12.2-cp37-cp37m-linux_x86_64.whl size=149874 sha256=3a53b69591f013253f22ba8dfad451a46a0f8e64349a8dc0bce684b2b892119e\n",
            "  Stored in directory: /root/.cache/pip/wheels/05/5f/ca/7c4367734892581bb5ff896f15027a932c551080b2abd3e00d\n",
            "Successfully built python-levenshtein\n",
            "Installing collected packages: python-levenshtein, fuzzywuzzy\n",
            "Successfully installed fuzzywuzzy-0.18.0 python-levenshtein-0.12.2\n"
          ]
        }
      ],
      "source": [
        "#run this every time for now, there's a way to add it to the colab config files but it's a to-do\n",
        "!pip install fuzzywuzzy[speedup]"
      ]
    },
    {
      "cell_type": "code",
      "execution_count": null,
      "metadata": {
        "id": "Y2IFyaBs5KLE",
        "colab": {
          "base_uri": "https://localhost:8080/"
        },
        "outputId": "51cac442-f26a-4ce4-d959-3b06b526c509"
      },
      "outputs": [
        {
          "output_type": "stream",
          "name": "stderr",
          "text": [
            "/usr/local/lib/python3.7/dist-packages/statsmodels/tools/_testing.py:19: FutureWarning: pandas.util.testing is deprecated. Use the functions in the public API at pandas.testing instead.\n",
            "  import pandas.util.testing as tm\n"
          ]
        }
      ],
      "source": [
        "### Run cells from here through the helper functions on load! Select either raw or pickle import\n",
        "\n",
        "import pandas as pd\n",
        "import numpy as np\n",
        "import re\n",
        "import math\n",
        "import matplotlib.pyplot as plt\n",
        "import statsmodels.formula.api as sm\n",
        "import seaborn as sns\n",
        "from fuzzywuzzy import fuzz\n",
        "import plotly.express as px\n",
        "import plotly.graph_objects as go\n",
        "import scipy.stats as stats\n",
        "import altair as alt\n",
        "\n",
        "pd.options.mode.chained_assignment = None\n",
        "pd.set_option('display.float_format', lambda x: '%.5f' % x)\n",
        "pd.set_option('display.max_rows', 500)"
      ]
    },
    {
      "cell_type": "code",
      "execution_count": null,
      "metadata": {
        "id": "1A4QaMQu5Zvw"
      },
      "outputs": [],
      "source": [
        "#uncomment if the raw csv is needed instead of the pickled df\n",
        "  #bgg_df = pd.read_csv('https://media.githubusercontent.com/media/canunj/BGG_KS_Analysis/main/BGG_Data.csv')\n",
        "  #bgg_df.to_pickle('bgg_df.pkl')\n",
        "\n",
        "  #kick_df = pd.read_csv('https://media.githubusercontent.com/media/canunj/BGG_KS_Analysis/main/KICK_Data.csv')\n",
        "  #kick_df.to_pickle('kick_df.pkl')"
      ]
    },
    {
      "cell_type": "code",
      "execution_count": null,
      "metadata": {
        "id": "ISHx7h5vr7cm"
      },
      "outputs": [],
      "source": [
        "#Initial import pickled dataframes\n",
        "bgg_df = pd.read_pickle('https://media.githubusercontent.com/media/canunj/BGG_KS_Analysis/main/Staging_Files/bgg_df.pkl')\n",
        "kick_df = pd.read_pickle('https://media.githubusercontent.com/media/canunj/BGG_KS_Analysis/main/Staging_Files/kick_df.pkl')\n",
        "\n",
        "#manually cleaned ranked items (un-merged)\n",
        "rank_bg_ks = pd.read_pickle('https://media.githubusercontent.com/media/canunj/BGG_KS_Analysis/main/Staging_Files/rank_bg_ks.pkl')\n",
        "\n",
        "#cleaned and merged ranked items\n",
        "ranked_df = pd.read_pickle('https://media.githubusercontent.com/media/canunj/BGG_KS_Analysis/main/Staging_Files/ranked_data.pkl')\n",
        "ranked_df = ranked_df[~ranked_df['ks_id'].isin(['Missing','Ongoing'])]\n",
        "\n",
        "#pre-processed ranked_df\n",
        "final_ranked = pd.read_pickle('https://media.githubusercontent.com/media/canunj/BGG_KS_Analysis/main/Staging_Files/final_ranked.pkl')\n",
        "\n",
        "#removing outlier rows\n",
        "final_ranked = final_ranked[~(final_ranked['per_backer_contribution'].ge(0.02))]\n",
        "final_ranked['deadline'] = pd.to_datetime(final_ranked['deadline'], infer_datetime_format=True)  \n",
        "\n",
        "#splitting out multi-id ks campaigns to compare removed/included\n",
        "id_count = final_ranked['ks_id'].value_counts()\n",
        "multi_df = final_ranked[final_ranked['ks_id'].isin(list(id_count[id_count.between(2,10)].index))]\n",
        "no_multi_df = final_ranked[~final_ranked['ks_id'].isin(list(id_count[id_count.between(2,10)].index))]\n"
      ]
    },
    {
      "cell_type": "code",
      "execution_count": null,
      "metadata": {
        "id": "uC_uhSan5vtX"
      },
      "outputs": [],
      "source": [
        "#this will one-hot encode text from multiple columns\n",
        "def encoder_columns(frame,targets):\n",
        "    for t in targets:\n",
        "        one_hot = pd.get_dummies(frame[t].apply(pd.Series).stack(),prefix=t).groupby(level=0).sum()\n",
        "        frame = pd.concat([frame,one_hot],axis=1)\n",
        "    return frame\n",
        "\n",
        "#this should one-hot encode a target value from a single column without encoding the other unique values in that column\n",
        "def encode_column(frame,target_col,target_val):\n",
        "    one_hot = pd.get_dummies(frame[target_col].apply(pd.Series).stack()).groupby(level=0).sum()\n",
        "    one_hot = one_hot[target_val]\n",
        "    frame = pd.concat([frame,one_hot],axis=1)\n",
        "\n",
        "    return frame\n",
        "\n",
        "#pass in a target column and pattern, set multi if there's more than one value per cell already (most of our fields have this).\n",
        "def text_col_cleaner(frame, col, pattern, multi=True):\n",
        "    \n",
        "    pattern = re.compile(pattern)\n",
        "    \n",
        "    if multi:\n",
        "      frame[col] = frame[col].map(lambda x: [re.findall(pattern,val)[0].strip() for val in x], na_action='ignore')\n",
        "    else:\n",
        "      frame[col] = frame[col].map(lambda x: re.findall(pattern,x), na_action='ignore')\n",
        "    return frame"
      ]
    },
    {
      "cell_type": "code",
      "execution_count": null,
      "metadata": {
        "id": "1RYaBGNVxvxb"
      },
      "outputs": [],
      "source": [
        "#cleaning columns that I found useful in the parser but hadn't already cleaned\n",
        "bgg_df = text_col_cleaner(bgg_df, 'alt_name', \"(?<=')[^,]+(?=')\", multi=False)\n",
        "bgg_df = text_col_cleaner(bgg_df, 'publisher', \"'(.*?)'\", multi=False)\n",
        "bgg_df = text_col_cleaner(bgg_df, 'designer', \"'(.*?)'\", multi=False)"
      ]
    },
    {
      "cell_type": "code",
      "execution_count": null,
      "metadata": {
        "id": "raBmtFo6p7tZ"
      },
      "outputs": [],
      "source": [
        "#basic filtering for the initial merge, see below-\n",
        "\n",
        "#bgg data w/no ks and games marked as ks but originally published before 2009. This hits most reprints, have to manually remove some as well.\n",
        "no_ks_bgg = bgg_df[(bgg_df['Crowdfunding: Kickstarter']==0) | \n",
        "                   (bgg_df['Crowdfunding: Kickstarter']==1) & (bgg_df['year'] < 2009)].sort_values('bgg_id')\n",
        "no_ks_bgg['Crowdfunding: Kickstarter'] = 0\n",
        "ranked = no_ks_bgg[no_ks_bgg['rank'] != 0]\n",
        "\n",
        "#bgg data w/ks flag after ks launch by bgg_id, splitting ks by ranked and unranked for ease of manual cleaning\n",
        "#Ranked should be easier to track items for, unranked will likely be messier to fix\n",
        "bgg_ks = bgg_df[(bgg_df['Crowdfunding: Kickstarter']==1) & (bgg_df['year'] >= 2009)].sort_values('bgg_id')\n",
        "ranked_bgg_ks = bgg_ks[bgg_ks['rank'] != 0].sort_values('rank')\n",
        "unranked_bgg_ks = bgg_ks[bgg_ks['rank'] == 0]\n",
        "\n",
        "#initial purge to just tabletop, hiding some targeted fields to improve the parser overall (will miss a few titles that use expansion when its a core game though)\n",
        "kick_clean = kick_df[(kick_df.category.str.contains('Tabletop', na=False) == True) &\n",
        "                  (kick_df.name.str.contains('expansion|rpg|roleplaying|Complete Collection', na=False, flags=re.IGNORECASE, regex=True) == False) & \n",
        "                  (kick_df.blurb.str.contains('roleplaying', na=False, flags=re.IGNORECASE, regex=True) == False)]"
      ]
    },
    {
      "cell_type": "markdown",
      "metadata": {
        "id": "W8DTtMp6UGeg"
      },
      "source": [
        "# Parser and Parse Cleaner Functions"
      ]
    },
    {
      "cell_type": "code",
      "execution_count": null,
      "metadata": {
        "id": "AfYOb4njp97F"
      },
      "outputs": [],
      "source": [
        "def board_game_parser(frame,start,stop):\n",
        "  #set frame slice\n",
        "  bgg = frame[start:stop]\n",
        "  \n",
        "  #creating a set of itertuple filters for both the manual and fuzzy parsing\n",
        "  tup_filter = list(bgg[['name','bgg_id']].itertuples(index=False))\n",
        "  \n",
        "  manual_filter = list(bgg[['name','bgg_id','alt_name','publisher','designer']].itertuples(index=False))\n",
        "  \n",
        "  test_ks = list(kick_clean[['name','id']].itertuples(index=False))\n",
        "\n",
        "  #empty field for zipping later\n",
        "  hold = []\n",
        "\n",
        "  #manual parser\n",
        "  for game in manual_filter:\n",
        "      \n",
        "      #checking for game\n",
        "      filtered_ks = kick_clean[(kick_clean.name.str.contains(game[0], flags=re.IGNORECASE, regex=True, na=False) == True)]\n",
        "\n",
        "      #try setting an initial fallback value from the basic search\n",
        "      try: \n",
        "          fallback = filtered_ks.sort_values('created_at').iloc[0]\n",
        "      except:\n",
        "          pass\n",
        "\n",
        "      #if there's more than 1 ks left, step through here\n",
        "      if len(filtered_ks) > 1:\n",
        "\n",
        "        #check with a moderately soft fuzzy token set\n",
        "        fuzz_ks = [val[1] for val in list(\n",
        "            filtered_ks[['name','id']].itertuples(index=False)\n",
        "            ) if fuzz.token_set_ratio(game[0],val[0]) > 90]\n",
        "        \n",
        "        filtered_ks = filtered_ks[filtered_ks['id'].isin(fuzz_ks)].sort_values('created_at')\n",
        "\n",
        "\n",
        "        #if there's still more than one, we use a stricter token sort on the subset of filtered games by alternate names\n",
        "        if len(filtered_ks) > 1:\n",
        "          \n",
        "          alt_fuzz = [[val[1] for val in list(\n",
        "              filtered_ks[['name','id']].itertuples(index=False)\n",
        "              ) if fuzz.token_sort_ratio(alt,val[0]) > 90] for alt in game[2]]\n",
        "          \n",
        "          #try looking for matches on designer or publisher in any relevant fields\n",
        "          #helps catch some complete mismatches that only have similar names\n",
        "          try:\n",
        "            des_pub_filter = game[3].extend(game[4])\n",
        "            \n",
        "            mask = np.column_stack([filtered_ks[col].str.contains(\n",
        "                \"'|'.join(des_pub_filter)\", flags=re.IGNORECASE, regex=True, na=False\n",
        "                ) for col in filtered_ks[['blurb','creator','slug','name']]])\n",
        "            \n",
        "            fallback_ks = filtered_ks.loc[mask.any(axis=1)]\n",
        "            \n",
        "            #if any match items are found, it updates the fallback ks value\n",
        "            fallback = fallback_ks.sort_values('created_at').iloc[0]\n",
        "          \n",
        "          except:\n",
        "            pass\n",
        "\n",
        "          #try to break the alt fuzz values out and find a better match, if this breaks, it will try and use the fallback\n",
        "          try:\n",
        "            alt_fuzz = [i for ls in alt_fuzz for i in ls]\n",
        "            \n",
        "            filtered_ks = filtered_ks[filtered_ks['id'].isin(alt_fuzz)].sort_values('created_at')\n",
        "            \n",
        "            hold.append((filtered_ks.iloc[0]['name'],game[0],filtered_ks.iloc[0]['id'],game[1]))\n",
        "          \n",
        "          except:\n",
        "            \n",
        "            if 'fallback' in locals():\n",
        "              hold.append((fallback['name'],game[0],fallback['id'],game[1]))\n",
        "            \n",
        "            else:\n",
        "              #if nothing is found and there's no fallback, we add the missing game struct to the tuples\n",
        "              hold.append((None,game[0],None,game[1]))\n",
        "        \n",
        "        #if we're down to one ks after the first token set match, add it to hold\n",
        "        elif len(filtered_ks) == 1:\n",
        "          hold.append((filtered_ks.iloc[0]['name'],game[0],filtered_ks.iloc[0]['id'],game[1]))\n",
        "\n",
        "        else:\n",
        "          hold.append((None,game[0],None,game[1]))\n",
        "\n",
        "      #if there's only one result to start, it's added to hold here\n",
        "      elif len(filtered_ks) == 1:\n",
        "        hold.append((filtered_ks.iloc[0]['name'],game[0],filtered_ks.iloc[0]['id'],game[1]))\n",
        "      \n",
        "      #if nothing is found, we add a missing flag with game info from BGG for cleaning\n",
        "      else:\n",
        "        hold.append((None,game[0],None,game[1]))\n",
        "\n",
        "  #take the max value of a token sort for each game against the ks df\n",
        "  tuples_list = [max([(fuzz.token_sort_ratio(i[0],j[0]),j[0],j[1]) for j in test_ks]) for i in tup_filter]\n",
        "  \n",
        "  #zip and output an id list that has (ks name, bgg name, ks id, bgg id)\n",
        "  id_list = [(x[0][1],x[2][0],x[0][2],x[2][1]) if x[0][0] >= 90 else x[1] for x in list(zip(tuples_list,hold,tup_filter))]\n",
        "\n",
        "  #create a new bgg df with the updated ks id to eventually join on the ks_id\n",
        "  bgg['ks_id'] = [x[2] if x else x for x in id_list]\n",
        "\n",
        "  #we return both the df and the id_list, call the id_list to see details on what the parser passed to the df\n",
        "  return bgg, id_list"
      ]
    },
    {
      "cell_type": "code",
      "execution_count": null,
      "metadata": {
        "id": "X8OorfdbcjB5"
      },
      "outputs": [],
      "source": [
        "#input the target frame and BGG id in a list, will unflag ks\n",
        "#example: disable_ks(ranked_df_1000, [230951, 187654])\n",
        "#This will toggle off the Kickstarter family value and set the ks_id field to None - matching non KS board games\n",
        "#Use for any game that didn't actually have a completed KS campaign (failed then retail, xpac was the KS not the core game, etc)\n",
        "def disable_ks(frame, row_ids):\n",
        "  \n",
        "  for id in row_ids:\n",
        "    frame.loc[frame['bgg_id'] == id,'ks_id'] = None\n",
        "    frame.loc[frame['bgg_id'] == id, 'Crowdfunding: Kickstarter'] = 0  \n",
        "  \n",
        "  return frame\n",
        "\n",
        "\n",
        "\n",
        "\n",
        "\n",
        "#input frame, a list of BGG row ids, and a list of corrected KS ids (in the same element position).\n",
        "#Updates ks_id and returns the frame - will notify if input format is wrong\n",
        "#example: correct_id(ranked_df_1000, [230951, 187654], [7.811255e+08,5.007936e+07])\n",
        "#This replaced the ks_id field for the associated BGG ID\n",
        "def correct_id(frame, row_ids, vals):\n",
        "  if (type(row_ids) != list) or (type(vals) != list):\n",
        "    print('Enclose values in list')\n",
        "  elif len(row_ids) != len(vals):\n",
        "    print('Rows and IDs must be same length')\n",
        "  else:\n",
        "    for row in row_ids:\n",
        "      frame.loc[frame['bgg_id'] == row,'ks_id'] = vals[row_ids.index(row)]\n",
        "    return frame\n",
        "\n",
        "\n",
        "#helper to quickly mark KS ids as 'Missing'\n",
        "#sends a list of BGG ids to the corred_id function with a list of 'Missing' values of same length\n",
        "def missing_id(frame, row_ids):\n",
        "  vals = ['Missing'] * len(row_ids)\n",
        "  return correct_id(frame, row_ids, vals)\n",
        "\n",
        "\n",
        "#ks df lookup helper, will return list of regex pat matches\n",
        "#example ks_lookup('Too Many Bones')\n",
        "#Runs a contains query on the unmodified KS df, returns name/id/create date for each\n",
        "def ks_lookup(bg_name):\n",
        "  lookup = kick_df[(kick_df.name.str.contains(bg_name, flags=re.IGNORECASE, regex=True, na=False) == True)]\n",
        "  return lookup[['name','id','created_at']]\n",
        "\n",
        "\n",
        "\n",
        "\n",
        "\n",
        "#will entirely remove BG items if they're not meant to be in the dataset (expansions, rpgs, etc that might slip through)\n",
        "#example xpac_remover(ranked_df_1000, [230432, 138790])\n",
        "#Removes the bgg row completely, for the rare item we don't want in the cleaned data at all\n",
        "def xpac_remover(frame, bg_id):\n",
        "  frame = frame[frame.bgg_id != bg_id]\n",
        "  return frame\n",
        "\n",
        "def correct_notation(bg_id, id_list):\n",
        "  names = []\n",
        "  fix_ids = []\n",
        "  for id in id_list:\n",
        "    if id == 'Missing':\n",
        "      names.append(id)\n",
        "      fix_ids.append(id)\n",
        "    elif id == 'Ongoing':\n",
        "      names.append(id)\n",
        "      fix_ids.append(id)\n",
        "    else:\n",
        "      fix_id = round(id)\n",
        "      notation_range = 10 ** (math.floor(math.log(fix_id, 10)) - 6) / 2\n",
        "      try:\n",
        "        #item = kick_df[kick_df['id']==fix_id].iloc[0]\n",
        "        notation_matches = kick_df[(kick_df['id'] >= fix_id - notation_range) & (kick_df['id'] <= fix_id + notation_range)]\n",
        "        if len(notation_matches.index) == 1:\n",
        "          item = notation_matches.iloc[0]\n",
        "          names.append(item['name'])\n",
        "          fix_ids.append(item['id'])\n",
        "        elif len(notation_matches.index) == 0:\n",
        "          names.append('⚠️ No matches ⚠️')\n",
        "          fix_ids.append('⚠️⚠️⚠️')\n",
        "        else:\n",
        "          names.append('⚠️ Multiple matches, cannot auto-choose ⚠️')\n",
        "          fix_ids.append('⚠️⚠️⚠️')\n",
        "      except:\n",
        "        names.append('None')\n",
        "        fix_ids.append('⚠️⚠️⚠️')\n",
        "  print('Your corrected id_list:')\n",
        "  print(fix_ids)\n",
        "  return list(zip(bg_id,names))\n",
        "\n",
        "\n",
        "#experimental: display the ids list of tuples as a dataframe where you can click the ks and bgg ids to check them\n",
        "#example clickable_ids(id_100)\n",
        "#for jupyter display purposes while cleaning, does not affect data\n",
        "def clickable_ids(id_x):\n",
        "  frame = pd.DataFrame(id_x, columns =['ks_name', 'bgg_name', 'ks_id', 'bgg_id'])\n",
        "  frame.ks_id = frame.ks_id.astype(pd.Int64Dtype())\n",
        "  frame.ks_id = frame.ks_id.astype('string')\n",
        "  frame['ks_id'] = frame['ks_id'].fillna(frame['bgg_name'])\n",
        "  def ks_clickable(val):\n",
        "    if val.isdigit():\n",
        "      return '<a target=\"_blank\" href=\"https://www.kickstarter.com/projects/user/{}\">{}</a>'.format(val, val)\n",
        "    else:\n",
        "      return '<a target=\"_blank\" href=\"https://www.kickstarter.com/discover/advanced?term={}\">first try ks_lookup, then click to search'.format(val)\n",
        "  def bgg_clickable(val):\n",
        "    return '<a target=\"_blank\" href=\"https://boardgamegeek.com/boardgame/{}\">{}</a>'.format(val, val)\n",
        "  frame = frame.style.format({'ks_id': ks_clickable, 'bgg_id': bgg_clickable})\n",
        "  return frame"
      ]
    },
    {
      "cell_type": "markdown",
      "metadata": {
        "id": "-994_BLYUXVR"
      },
      "source": [
        "# Ranked KS Data Cleaning Cells"
      ]
    },
    {
      "cell_type": "code",
      "execution_count": null,
      "metadata": {
        "id": "b6KSIDgfBfiC"
      },
      "outputs": [],
      "source": [
        "### Don't run the following code blocks, copy any and paste in an open section of IDs\n",
        "### There are ~3300 ranked games and ~4000 unranked ones, once we finish ranked, put a cell gap like this then start in on unranked"
      ]
    },
    {
      "cell_type": "code",
      "execution_count": null,
      "metadata": {
        "id": "IsimTGIDP7mB"
      },
      "outputs": [],
      "source": [
        "#ranked 1-100 - clean (Nick)\n",
        "rank_bg_100, id_100 = board_game_parser(ranked_bgg_ks,0,100)\n",
        "rank_bg_100 = correct_id(rank_bg_100,\n",
        "                    [224517, 266524, 328871,48726,250458,285192,128996,146791,123123,169427,119506,235802],\n",
        "                    [1947961225.0,588936299.0, 673101553.0,2065732671.0,813407289.0,1690704587.0,2019999689.0,840500157.0,674143459.0,454159597.0,1217984419.0,'Missing'])\n",
        "rank_bg_100 = disable_ks(rank_bg_100,[122515,158600,164928,196340,175640])\n",
        "#rank_bg_100 = xpac_remover(rank_bg_100,)"
      ]
    },
    {
      "cell_type": "code",
      "execution_count": null,
      "metadata": {
        "id": "crIn1_UJWx7U"
      },
      "outputs": [],
      "source": [
        "#rank 101-200 - clean (Nick)\n",
        "rank_bg_200, id_200 = board_game_parser(ranked_bgg_ks,100,200)\n",
        "rank_bg_200 = correct_id(rank_bg_200,\n",
        "                    [232414,216734,248490,150997,113294,163839,137988,177590,300300,176165,204472,195137,161866,131357,195314],\n",
        "                    [188976222.0,781125510.0,50079363.0,840500157.0,2080342511.0, 1113106831.0,1692752007.0,1351864481.0,\n",
        "                     1869734658.0,1027293716.0,133188892.0, 793285455.0,1412753497.0,791322668.0,1308510649.0])\n",
        "rank_bg_200 = disable_ks(rank_bg_200,[102652,119432,87890,194879])"
      ]
    },
    {
      "cell_type": "code",
      "execution_count": null,
      "metadata": {
        "id": "VkluDIjkfWDU"
      },
      "outputs": [],
      "source": [
        "#rank 201-300 - clean (Nick)\n",
        "rank_bg_300, id_300 = board_game_parser(ranked_bgg_ks,200,300)\n",
        "rank_bg_300 = correct_id(rank_bg_300,\n",
        "                    [89409,272739,315767,306881, 192074, 191597, 233020,308119,292375,163474,109125,131111,230933],\n",
        "                    [724480015.0, \t2085899123.0, 1625145363.0,976237755.0,1589213165.0, 680208393.0, 1162343406.0, \n",
        "                     1521954228.0, 81524567.0,550957434.0,1313982789.0,13442114.0,2131161136.0])\n",
        "#rank_bg_300 = disable_ks(rank_bg_300,[])\n",
        "#rank_bg_300 = xpac_remover(rank_bg_300,)"
      ]
    },
    {
      "cell_type": "code",
      "execution_count": null,
      "metadata": {
        "id": "UkkpCsV4kCgp"
      },
      "outputs": [],
      "source": [
        "#rank 301-500 - clean (Nick)\n",
        "rank_bg_500, id_500 = board_game_parser(ranked_bgg_ks,300,500)\n",
        "rank_bg_500 = correct_id(rank_bg_500,\n",
        "                    [259298,112138,210232,302098,245931,266966,238656, 172737,235555,98918,\n",
        "                     233208,306882,288513,196496,266965,266967,299121,266964,215613,125046,\n",
        "                     232520,132544,223376,111105,103649,277927,154906],\n",
        "                    [856945905.0,2091252173.0,1330306600.0,1869734658.0,743921753.0,84616861.0,\n",
        "                     473182502.0,1310994379.0,1985975136.0,390027603.0,360496660.0,976237755.0,\n",
        "                     1591656604.0,973425687.0,84616861.0,84616861.0,1794960290.0,84616861.0,\n",
        "                     1758883646.0,624809956.0,2131161136.0,399039802.0, 'Missing',2079613585.0,\n",
        "                     116292769.0,1294778358.0,438147425.0])\n",
        "rank_bg_500 = disable_ks(rank_bg_500,[204574,162388,41429,78733])\n",
        "#rank_bg_500 = xpac_remover(rank_bg_500,)"
      ]
    },
    {
      "cell_type": "code",
      "execution_count": null,
      "metadata": {
        "id": "v30vPjcPtGTE"
      },
      "outputs": [],
      "source": [
        "#rank 501-700 - clean (Nick)\n",
        "rank_bg_700, id_700 = board_game_parser(ranked_bgg_ks,500,700)\n",
        "rank_bg_700 = correct_id(rank_bg_700,\n",
        "                    [268504,177659,253185,190400,136000,246201,159469,172242,235344,227545,\n",
        "                     302312,234190,185709,155122,300751,164702,188076,304985,200726,310789,\n",
        "                     195227],\n",
        "                    [289160211.0,1428816925.0, 331858316.0, 4221490.0, 1059021975.0, 113967465.0,912280454.0, 1955357092.0, 396705003.0,'Missing',\n",
        "                     1869734658.0,'Missing',318296350.0, 1152391877.0, 1314816843.0, 314098301.0, 1003202814.0, 1721298084.0, 351044238.0, 37709739.0,\n",
        "                     2141444222.0])\n",
        "rank_bg_700 = disable_ks(rank_bg_700,[99392,250396,129122,251723,53168])\n",
        "rank_bg_700 = xpac_remover(rank_bg_700,264476)"
      ]
    },
    {
      "cell_type": "code",
      "execution_count": null,
      "metadata": {
        "id": "ULpEWdUo2myo"
      },
      "outputs": [],
      "source": [
        "#rank 701-1000 - clean (Nick)\n",
        "rank_bg_1000, id_1000 = board_game_parser(ranked_bgg_ks,700,1000)\n",
        "rank_bg_1000 = correct_id(rank_bg_1000,\n",
        "                   [265784,261403,130390,270143,322561,295535,300305,125943,64826,320527,\n",
        "                     345584,98347,139992,72809,130605,292187,277030,174476,199242,\n",
        "                     207898,173115,263192,275067,325348,236301,171964,257198,209641,\n",
        "                     176361,322563,299566,192240,142239,229791,66126,322562,289247,\n",
        "                     218025,299450,148083,170669,165004,205185,334307,254976,158753,\n",
        "                     157088,180543,164185,174402,147021,218395,162351,198832,154905],\n",
        "                    [2063338821.0, 1017491360.0, 1412750294.0, 35468856.0, 2056303761.0, 1721298084.0, 1231957904.0, \n",
        "                     614686796.0, 337472340.0, 2056303761.0, 'Missing', 843734660.0, 1777537891.0, 1331692036.0, \n",
        "                     476927100.0, 242054124.0, 1140312460.0, 1268230321.0, 1151897659.0, 673532220.0, 1712068287.0, \n",
        "                     1614248084.0, 1993986523.0, 1028298667.0, 'Missing', 1371059184.0, 690203042.0, 1558793995.0, \n",
        "                     1748641936.0, 2056303761.0, 1722671955.0, 486774962.0, 1314754725.0, 'Missing', 1006885357.0, \n",
        "                     2056303761.0, 1217570905.0, 'Missing', 1760605364.0, 1927377633.0, 1838459397.0, 786963334.0, \n",
        "                     1702789615.0, 2011705311.0, 1735171959.0, 'Missing', 238383224.0, 385981695.0, 1539290382.0, \n",
        "                     323665766.0, 128730189.0, 'Missing', 1108774754.0, 1295622362.0, 438147425.0])\n",
        "rank_bg_1000 = disable_ks(rank_bg_1000,[27739,255455,253743,146559,159143])\n",
        "rank_bg_1000 = xpac_remover(rank_bg_1000,149896)"
      ]
    },
    {
      "cell_type": "code",
      "execution_count": null,
      "metadata": {
        "id": "IspQjEia3WZy"
      },
      "outputs": [],
      "source": [
        "#rank 1000-1200 - clean (Nick)\n",
        "rank_bg_1200, id_1200 = board_game_parser(ranked_bgg_ks,1000,1200)\n",
        "rank_bg_1200 = correct_id(rank_bg_1200,\n",
        "                    [300523,175254,163027,224141,331328,281260,216179,189192,164237,260645,\n",
        "                     228183,194062,274861,224149,167828,236304,228766,299946,188325,227212,\n",
        "                     155042,158915,165346,184287,298619,219621,89342],\n",
        "                    [1231957904.0, 1019039281.0, 687320112.0, 54494218.0, 'Missing', 1049806130.0, \n",
        "                     1295622362.0, 1145886561.0, 691100838.0, 915310374.0, 'Missing', 'Missing', \n",
        "                     2094644353.0, 269423233.0, 1955120276.0, 651563303.0, 1467411092.0, 1258487882.0, \n",
        "                     1717941826.0, 2044413040.0, 'Missing', 1539290382.0, 1521654989.0, 1287814340.0, \n",
        "                     1258487882.0, 642786861.0, 1600323371.0])\n",
        "rank_bg_1200 = disable_ks(rank_bg_1200,[158534,226009,131568,164159,269420])\n",
        "#rank_bg_1200 = xpac_remover(rank_bg_1200,)"
      ]
    },
    {
      "cell_type": "code",
      "execution_count": null,
      "metadata": {
        "id": "3Em9Lz88o9t6"
      },
      "outputs": [],
      "source": [
        "#rank 1200-1500 - clean (Nick)\n",
        "rank_bg_1500, id_1500 = board_game_parser(ranked_bgg_ks,1200,1500)\n",
        "rank_bg_1500 = correct_id(rank_bg_1500,\n",
        "                    [168537,185378,318709,156482,121409,244170,279497,114684,249233,322010,\n",
        "                     177877,185380,163047,334065,248878,179259,337324,185381,105023,192827,\n",
        "                     195454,284665,295895,108665,256997,228399,338460,178153,199908,174926,\n",
        "                     229240,198630,261624,172542,137744,154939,210295,184145,350184,276161,\n",
        "                     234104,280162,236125,186986,264314,229965,192824,337627,299908,329873,\n",
        "                     256779,267402,163048,154902,256742,256778,316343,190017],\n",
        "                    [205611990.0, 385981695.0, 616279203.0, 1813073061.0, 1556938625.0, 673532220.0, \n",
        "                     188861514.0, 1405743927.0, 1319328944.0, 1610696616.0, 1869115293.0, 385981695.0, \n",
        "                     233735725.0, 'Ongoing', 1676261151.0, 475424058.0, 1717608581.0, 385981695.0, \n",
        "                     287973134.0, 1526410626.0, 1526410626.0, 1809755131.0, 'Ongoing', 981766422.0, \n",
        "                     'Ongoing', 3437938.0, 1771917343.0, 109447577.0, 311250896.0, 730632176.0, 1509685726.0, \n",
        "                     111098765.0, 962486338.0, 522433823.0, 1951356807.0, 761341218.0, 2145496949.0, \n",
        "                     1489036487.0, 'Ongoing', 752218419.0, 'Missing', 1290675462.0, 366158979.0, 111940431.0, \n",
        "                     1533342590.0, 'Missing', 1526410626.0, 'Ongoing', 446872357.0, 'Ongoing', 223635330.0, \n",
        "                     1517619132.0, 233735725.0, 438147425.0, 223635330.0, 223635330.0, 771502150.0, 109447577.0])\n",
        "rank_bg_1500 = disable_ks(rank_bg_1500,[174400,286363,181120,176914,182544,193327,257349,222462])\n",
        "#rank_bg_1500 = xpac_remover(rank_bg_1500,)"
      ]
    },
    {
      "cell_type": "code",
      "execution_count": null,
      "metadata": {
        "id": "m8pQh8eBDX_e"
      },
      "outputs": [],
      "source": [
        "#rank 1500-1700 - clean (Nick)\n",
        "rank_bg_1700, id_1700 = board_game_parser(ranked_bgg_ks,1500,1700)\n",
        "rank_bg_1700 = correct_id(rank_bg_1700,\n",
        "                    [303734,260934,156474,268252,339302,146144,321608,289566,232956,127324,\n",
        "                     289565,251037,224675,232823,325191,262135,142687,256780,182050,35395,\n",
        "                     195373,266538,164236,231367,212401,224319,102107, 181382,196698,158876,\n",
        "                     251364,102881,303733,208321,174584,300296,149639,343847,265039,309081,\n",
        "                     325829,104163],\n",
        "                    [1258487882.0, 271332977.0, 761341218.0, 690203042.0, 'Ongoing', 1637816129.0, \n",
        "                     'Ongoing', 578750109.0, 1523777891.0, 90870929.0, 578750109.0, 55137667.0, 495987409.0, \n",
        "                     1633083769.0, 606908855.0, 1180958909.0, 1570073155.0, 223635330.0, 1405048161.0, \n",
        "                     84578404.0, 1526410626.0, 1506762084.0, 1150838582.0, 'Missing', 1522186260.0, 2052976729.0, \n",
        "                     1124350513.0, 474249489.0, 1115419262.0, 785663041.0, 1358638902.0, 140869766.0, 1258487882.0, \n",
        "                     1391959448.0, 475563867.0, 2052675671.0, 1372555774.0, 'Missing', 'Missing', 446588936.0, \n",
        "                     1716511308.0, 212761308.0])\n",
        "rank_bg_1700 = disable_ks(rank_bg_1700,[325810,156750,232509,201054,148744,247567,278917])\n",
        "#rank_bg_1700 = xpac_remover(rank_bg_1700,)"
      ]
    },
    {
      "cell_type": "code",
      "execution_count": null,
      "metadata": {
        "id": "9DE_QVQMkOmS"
      },
      "outputs": [],
      "source": [
        "#rank 1700-2000 - clean (Jonathan)\n",
        "rank_bg_2000, id_2000 = board_game_parser(ranked_bgg_ks,1700,2000)\n",
        "rank_bg_2000 = correct_id(rank_bg_2000,\n",
        "                    [164775, 276205, 159375, 301728, 235360, 182510, 164446, 281945, 286447,\n",
        "                      227502, 278304, 267397, 180785, 272215, 304983, 190266, 122701, 212807,\n",
        "                      158122, 195547, 178349, 174646, 161290, 216630, 296644, 330592, 300076,\n",
        "                      300298, 326848, 239262, 136229, 114504, 187785, 171351, 295483, 253759,\n",
        "                      152471, 247034, 263312, 233783, 203845, 89880,158916,261666,301085,\n",
        "                     148375,274230],\n",
        "                    [1682485058.0, 1565643427.0, 2069639643.0, 572756874.0, 396705003.0, 281002564.0, \n",
        "                     440521457.0, 1687074130.0, 1686817826.0, 1464903664.0, 849119531.0, 1023313828.0, \n",
        "                     1081529476.0, 751569056.0, 382412875.0, 1315731220.0, 1148016116.0, 957659703.0, \n",
        "                     26359869.0, 1301018404.0, 1000232288.0, 475563867.0, 1048038796.0, 789276015.0, \n",
        "                     401048225.0, 59213959.0, 2052675671.0, 2052675671.0, 1405822606.0, 648059299.0, \n",
        "                     2036448060.0, 1942729685.0, 1194385803.0, 759958806.0, 1436930229.0, 'Ongoing', \n",
        "                     792100429.0, 1016485451.0, 793808067.0, 63381877.0, 893371227.0, 2036448060.0,\n",
        "                     1539290382.0,962486338.0,1258487882.0,1003677068.0,573353057.0])\n",
        "rank_bg_2000 = missing_id(rank_bg_2000, [231920, 322339, 336986, 202884, 338980, 274471, 270871, 193981, 281549, 229235, \n",
        "                                          342508, 142829, 330973, 334207, 189663, 345868, 219650, 342479, 348406, 333255])\n",
        "rank_bg_2000 = disable_ks(rank_bg_2000,[156945, 85567, 135732,253149,230266,182064,170922])\n",
        "rank_bg_2000 = xpac_remover(rank_bg_2000,172563)\n",
        "rank_bg_2000 = xpac_remover(rank_bg_2000,249578)\n",
        "rank_bg_2000 = xpac_remover(rank_bg_2000,2734826)\n",
        "rank_bg_2000 = xpac_remover(rank_bg_2000,276551)\n",
        "rank_bg_2000 = xpac_remover(rank_bg_2000,319223)\n",
        "rank_bg_2000 = xpac_remover(rank_bg_2000,338896)"
      ]
    },
    {
      "cell_type": "markdown",
      "metadata": {
        "id": "9ruf9kMPIc-x"
      },
      "source": [
        ""
      ]
    },
    {
      "cell_type": "code",
      "execution_count": null,
      "metadata": {
        "id": "l_5gs0VmCKhD"
      },
      "outputs": [],
      "source": [
        "#rank 2001-2300 - clean (Adam)\n",
        "rank_bg_2300, id_2300 = board_game_parser(ranked_bgg_ks,2000,2300)\n",
        "rank_bg_2300 = correct_id(rank_bg_2300,\n",
        "                   [232732, 204314, 229540, 248673, 338067, 343900, 284987, 299106, 312182,\n",
        "                    169555, 190577, 246310, 154931, 313807, 350079, 335427, 330950, 217012,\n",
        "                    256940, 219622, 304434, 133862, 208323, 160762, 244039, 125605,\n",
        "                    253763, 336195, 249550, 150797, 292099, 180295, 291183,\n",
        "                    286021, 236884, 331401, 128352, 321713, 97432, 340789, 232106,\n",
        "                    141437, 219926, 351817, 236365, 176633, 276086, 332393],\n",
        "                   [1610659345.0, 1009796905.0, 792813229.0, 1585127390.0, 'Missing', 'Missing', \n",
        "                    'Missing', 'Missing', 1581570594.0, 1899627365.0, 143829968.0, 1467411092.0, 234120504.0, \n",
        "                    'Missing', 'Missing', 'Missing', 'Missing', 1955839879.0, 1674565811.0, 907960954.0, \n",
        "                    232598864.0, 337472340.0, 1328922958.0, 1841115252.0, 1192866484.0, 965292903.0, \n",
        "                    3872653.0, 'Missing', 2097704706.0, 1354014529.0, 1312198705.0, 887824636.0, \n",
        "                    1748219791.0, 546491813.0, 'Missing', 'Missing', 1745066032.0, 'Missing', 729228566.0, \n",
        "                    'Missing', 'Missing', 1066749250.0, 1684587588.0, 'Ongoing', 396705003.0, 1692162160.0, \n",
        "                    'Ongoing', 'Missing'])\n",
        "rank_bg_2300 = disable_ks(rank_bg_2300,[222291, 325828, 181795, 242191, 249039, 185456, 209773, 66643, 295072,\n",
        "                                        158891, 340420, 333136, 160560, 341362, 224152, 137637, 34207, 185383,\n",
        "                                        347909, 202245, 193131, 222885, 287608])\n",
        "rank_bg_2300 = xpac_remover(rank_bg_2300,177482)\n",
        "rank_bg_2300 = xpac_remover(rank_bg_2300,169246)"
      ]
    },
    {
      "cell_type": "code",
      "execution_count": null,
      "metadata": {
        "id": "6Nd6uUai5vP5"
      },
      "outputs": [],
      "source": [
        "#rank 2301-2600 - clean (Adam)\n",
        "rank_bg_2600, id_2600 = board_game_parser(ranked_bgg_ks,2300,2600)\n",
        "rank_bg_2600 = correct_id(rank_bg_2600,\n",
        "                   [322202, 172597, 282437, 348955, 307561, 198898, 167190, 172465, 183404, 148330, \n",
        "                    182214, 174049, 246911, 257599, 154904, 159685, 174128, 158487, 153916, 223790, \n",
        "                    333776, 318838, 352818, 316915, 284948, 183305, 129031, 247394, 340646, 228724, \n",
        "                    170583, 208419, 299191, 174218, 309250, 138799, 342900],\n",
        "                   [1767083922.0, 261110566.0, 1808873374.0, 'Missing', 'Missing', 68806483.0, 1617786455.0, 1291447066.0, 1126744851.0, 'Missing', \n",
        "                    2126934180.0, 'Missing', 748979338.0, 1697815937.0, 438147425.0, 1761246929.0, 1729212468.0, 2132235744.0, 138400705.0, 1095540211.0, \n",
        "                    339585824.0, 'Missing', 'Missing', 414663589.0, 905267010.0, 1557972186.0, 1761640291.0, 188567321.0, 746092303.0, 333241757.0, \n",
        "                    1727391020.0, 'Missing', 408652160.0, 1206014856.0, 'Missing', 972241939.0, 'Missing'])\n",
        "rank_bg_2600 = disable_ks(rank_bg_2600,[255235, 197069, 298086, 292013, 121322, 264221, 153724, 282287, 144412,\n",
        "                                        150323, 209774, 172599, 125547, 230967, 175867, 157995, 325830, 252901,\n",
        "                                        117558])"
      ]
    },
    {
      "cell_type": "code",
      "execution_count": null,
      "metadata": {
        "id": "g4j69mLeWwZY"
      },
      "outputs": [],
      "source": [
        "#rank 2601-2900 - clean (Nick)\n",
        "rank_bg_2900, id_2900 = board_game_parser(ranked_bgg_ks,2600,2900)\n",
        "rank_bg_2900 = correct_id(rank_bg_2900,\n",
        "                   [112462,270632,251253,192722,182400,181928,242818,187205,169652,165095,\n",
        "                    268377,198886,101685,157586,129224,131200,202776,135107,201458,176884,\n",
        "                    197066,173931,305872,195214,156358,154327,166248,169459,194819],\n",
        "                   [956720528.0,1302584415.0,1579426585.0, 2077262778.0,1951609615.0,364855279.0,1091206273.0,20906129.0,256509435.0,496035853.0,\n",
        "                    436550682.0,173364079.0,1192069568.0,2066099072.0,748818182.0,1215836793.0,1259547126.0, 949885485.0,1899644840.0,1257999544.0,\n",
        "                    425625133.0,2057059367.0,1712243719.0,33772455.0,880752952.0,1715956485.0,962803154.0,507181289.0,1985876663.0])\n",
        "rank_bg_2900 = missing_id(rank_bg_2900, [337098,223329,342246,239189,235807,236332])\n",
        "rank_bg_2900 = disable_ks(rank_bg_2900,[160353,141997,220137,47475,338678,270635,244531,253861,140940,156927,250718,156557,245528])"
      ]
    },
    {
      "cell_type": "code",
      "execution_count": null,
      "metadata": {
        "id": "kJa1NEkRk1pq"
      },
      "outputs": [],
      "source": [
        "#rank 2900-3186 - clean - (Nick)\n",
        "rank_bg_3186, id_3186 = board_game_parser(ranked_bgg_ks,2900,3186)\n",
        "rank_bg_3186 = correct_id(rank_bg_3186,\n",
        "                   [159858,220406, 311927,258775,169462,159087,23304,176872,299309,201453,\n",
        "                    205604,175848,247473,160413,99286,159525,158053,183481,85389,150659,150659,\n",
        "                    148115,162071,207713,176286,169463,109252,139769,197068,140829,187033,175846,\n",
        "                    141896,121601,275802,158918,177751,154901,195455,128672,127748,155582,158917,\n",
        "                    240463,144110],\n",
        "                   [1594242207.0, 266941084.0, 1866597656.0, 2002572767.0, 507181289.0, 1314927186.0, 1146339465.0, 167078040.0, 2047739102.0, \n",
        "                    339972818.0, 1503876316.0, 1423828863.0, 2082391356.0, 1272283916.0, 261478634.0, 1287386063.0, 1883397053.0, 423207523.0, 1813076884.0, \n",
        "                    417680555.0, 1732841616.0, 492151570.0, 699300135.0, 401287826.0, 627491070.0, 507181289.0, 586027091.0, 1295579858.0, 425625133.0, \n",
        "                    1605316524.0, 1259996514.0, 1423828863.0, 970879158.0, 70421414.0, 1803610374.0, 1539290382.0, 759958806.0, 1606887398.0, 1526410626.0, \n",
        "                    2143119805.0, 1613582464.0, 1364398419.0, 1539290382.0, 177948024.0, 975950547.0])\n",
        "rank_bg_3186 = missing_id(rank_bg_3186, [111418,177750,344268])\n",
        "rank_bg_3186 = disable_ks(rank_bg_3186,[146384,238884,307830,155327,172707,195545,154753,221644,120426])\n",
        "rank_bg_3186 = xpac_remover(rank_bg_3186,203019)\n",
        "rank_bg_3186 = xpac_remover(rank_bg_3186,246398)\n",
        "rank_bg_3186 = xpac_remover(rank_bg_3186,240624)\n",
        "rank_bg_3186 = xpac_remover(rank_bg_3186,141019)"
      ]
    },
    {
      "cell_type": "code",
      "execution_count": null,
      "metadata": {
        "id": "-aV77XeqYd5g"
      },
      "outputs": [],
      "source": [
        "#concat + pickle rank ks\n",
        "rank_bg_final = pd.concat([rank_bg_100,rank_bg_200,rank_bg_300,rank_bg_500,rank_bg_700,rank_bg_1000,\n",
        "                          rank_bg_1200,rank_bg_1500,rank_bg_1700,rank_bg_2000,rank_bg_2300,rank_bg_2600,\n",
        "                          rank_bg_2900,rank_bg_3186],axis=0,ignore_index=True)\n",
        "rank_bg_final.to_pickle('rank_bg_ks.pkl')"
      ]
    },
    {
      "cell_type": "markdown",
      "metadata": {
        "id": "uwo9LvUXUdqN"
      },
      "source": [
        "# Ranked Merge"
      ]
    },
    {
      "cell_type": "code",
      "execution_count": null,
      "metadata": {
        "id": "9Q8UBuWf-t83"
      },
      "outputs": [],
      "source": [
        "kick_df = kick_df.rename(columns={'id':'ks_id',\n",
        "                                  'category':'ks_category',\n",
        "                                  'name':'ks_name'}).drop(columns=['Unnamed: 0'])\n",
        "kick_df['ks_id'] = kick_df['ks_id'].astype(str)\n",
        "rank_bg_ks['ks_id'] = rank_bg_ks['ks_id'].astype(str)"
      ]
    },
    {
      "cell_type": "code",
      "execution_count": null,
      "metadata": {
        "id": "VOuz1oS2Usay"
      },
      "outputs": [],
      "source": [
        "rank_merge = rank_bg_ks.merge(kick_df, how='left', on='ks_id')\n",
        "rank_merge['ks_id'] = rank_merge['ks_id'].replace({'nan':None,'None':None})"
      ]
    },
    {
      "cell_type": "code",
      "execution_count": null,
      "metadata": {
        "id": "aaZB_-abhwB0"
      },
      "outputs": [],
      "source": [
        "ranked_data = pd.concat([rank_merge,ranked], axis=0, ignore_index=True).sort_values('rank').reset_index(drop=True)"
      ]
    },
    {
      "cell_type": "code",
      "execution_count": null,
      "metadata": {
        "id": "qAlAS1TgmJ-T"
      },
      "outputs": [],
      "source": [
        "ranked_data.to_pickle('ranked_data.pkl')"
      ]
    },
    {
      "cell_type": "code",
      "execution_count": null,
      "metadata": {
        "id": "NORVMS7AnW9I"
      },
      "outputs": [],
      "source": [
        "ranked_data.to_csv('ranked_data.csv',index=False)"
      ]
    },
    {
      "cell_type": "markdown",
      "metadata": {
        "id": "5Y7On7L7z6es"
      },
      "source": [
        "# Ranked Data Manipulation"
      ]
    },
    {
      "cell_type": "code",
      "execution_count": null,
      "metadata": {
        "id": "cbNC3Ls2z8H8"
      },
      "outputs": [],
      "source": [
        "#ranked_df is the dataframe to use for analysis, pickling a finished file"
      ]
    },
    {
      "cell_type": "code",
      "execution_count": null,
      "metadata": {
        "id": "-TYQTyaqaw3N"
      },
      "outputs": [],
      "source": [
        "#removing pre-release games (+2 failed that slipped through at merge)\n",
        "ranked_df = ranked_df[(ranked_df['state'] != 'failed') & \n",
        "                      (ranked_df['year'] < 2022)]\n",
        "\n",
        "#feature engineering some basic ks metrics\n",
        "ranked_df['avg_pledge'] = (ranked_df['usd_pledged']/ranked_df['backers_count'])\n",
        "ranked_df['per_backer_contribution'] = (ranked_df['avg_pledge']/ranked_df['usd_pledged'])\n",
        "ranked_df['funding_multiplier'] = (ranked_df['pledged']/ranked_df['goal'])\n",
        "\n",
        "#creating split weighted rank as a ks success variable\n",
        "#the goal is to target games with the highest net engagement by weighting total funding against\n",
        "#the amount that the average backer contributed to funding\n",
        "ranked_df['ks_rank'] = (ranked_df['pledged'].rank(ascending=False) + ranked_df['per_backer_contribution'].rank()).rank()\n"
      ]
    },
    {
      "cell_type": "code",
      "execution_count": null,
      "metadata": {
        "id": "VfY53fvRGw1Y"
      },
      "outputs": [],
      "source": [
        "ranked_df.to_csv('final_ranked.csv')\n",
        "ranked_df.to_pickle('final_ranked.pkl')"
      ]
    },
    {
      "cell_type": "code",
      "execution_count": null,
      "metadata": {
        "id": "RIWY81jGVE2J"
      },
      "outputs": [],
      "source": [
        ""
      ]
    },
    {
      "cell_type": "markdown",
      "metadata": {
        "id": "R1z88TXjL7VB"
      },
      "source": [
        "# Initial Data Exploration + Game Type"
      ]
    },
    {
      "cell_type": "code",
      "execution_count": null,
      "metadata": {
        "id": "XBhB5I59TbvR"
      },
      "outputs": [],
      "source": [
        "#172225 is a duplicate outlier (a second deck for exploding kittens that shares the same funding data, it's the only multi_id impacting results at more than a rounding error)\n",
        "final_ranked = final_ranked[final_ranked['bgg_id'] != 172225]\n",
        "\n",
        "#release delta flattens to just year (not used in report)\n",
        "final_ranked['release_delta'] = final_ranked.apply(lambda x: (x.year - x.deadline.year) if (x.year - x.deadline.year) >= 0 else None, axis=1)"
      ]
    },
    {
      "cell_type": "code",
      "execution_count": null,
      "metadata": {
        "colab": {
          "base_uri": "https://localhost:8080/",
          "height": 112
        },
        "id": "hnH1H4p7MBR1",
        "outputId": "212a74c4-0ef7-4c2b-d6c8-1be595da5063"
      },
      "outputs": [
        {
          "data": {
            "text/html": [
              "\n",
              "  <div id=\"df-588cdb21-3666-4c67-a570-916a84be82b9\">\n",
              "    <div class=\"colab-df-container\">\n",
              "      <div>\n",
              "<style scoped>\n",
              "    .dataframe tbody tr th:only-of-type {\n",
              "        vertical-align: middle;\n",
              "    }\n",
              "\n",
              "    .dataframe tbody tr th {\n",
              "        vertical-align: top;\n",
              "    }\n",
              "\n",
              "    .dataframe thead th {\n",
              "        text-align: right;\n",
              "    }\n",
              "</style>\n",
              "<table border=\"1\" class=\"dataframe\">\n",
              "  <thead>\n",
              "    <tr style=\"text-align: right;\">\n",
              "      <th></th>\n",
              "      <th>bayes_rating</th>\n",
              "      <th>ks_rank</th>\n",
              "    </tr>\n",
              "  </thead>\n",
              "  <tbody>\n",
              "    <tr>\n",
              "      <th>bayes_rating</th>\n",
              "      <td>1.00000</td>\n",
              "      <td>-0.55938</td>\n",
              "    </tr>\n",
              "    <tr>\n",
              "      <th>ks_rank</th>\n",
              "      <td>-0.55938</td>\n",
              "      <td>1.00000</td>\n",
              "    </tr>\n",
              "  </tbody>\n",
              "</table>\n",
              "</div>\n",
              "      <button class=\"colab-df-convert\" onclick=\"convertToInteractive('df-588cdb21-3666-4c67-a570-916a84be82b9')\"\n",
              "              title=\"Convert this dataframe to an interactive table.\"\n",
              "              style=\"display:none;\">\n",
              "        \n",
              "  <svg xmlns=\"http://www.w3.org/2000/svg\" height=\"24px\"viewBox=\"0 0 24 24\"\n",
              "       width=\"24px\">\n",
              "    <path d=\"M0 0h24v24H0V0z\" fill=\"none\"/>\n",
              "    <path d=\"M18.56 5.44l.94 2.06.94-2.06 2.06-.94-2.06-.94-.94-2.06-.94 2.06-2.06.94zm-11 1L8.5 8.5l.94-2.06 2.06-.94-2.06-.94L8.5 2.5l-.94 2.06-2.06.94zm10 10l.94 2.06.94-2.06 2.06-.94-2.06-.94-.94-2.06-.94 2.06-2.06.94z\"/><path d=\"M17.41 7.96l-1.37-1.37c-.4-.4-.92-.59-1.43-.59-.52 0-1.04.2-1.43.59L10.3 9.45l-7.72 7.72c-.78.78-.78 2.05 0 2.83L4 21.41c.39.39.9.59 1.41.59.51 0 1.02-.2 1.41-.59l7.78-7.78 2.81-2.81c.8-.78.8-2.07 0-2.86zM5.41 20L4 18.59l7.72-7.72 1.47 1.35L5.41 20z\"/>\n",
              "  </svg>\n",
              "      </button>\n",
              "      \n",
              "  <style>\n",
              "    .colab-df-container {\n",
              "      display:flex;\n",
              "      flex-wrap:wrap;\n",
              "      gap: 12px;\n",
              "    }\n",
              "\n",
              "    .colab-df-convert {\n",
              "      background-color: #E8F0FE;\n",
              "      border: none;\n",
              "      border-radius: 50%;\n",
              "      cursor: pointer;\n",
              "      display: none;\n",
              "      fill: #1967D2;\n",
              "      height: 32px;\n",
              "      padding: 0 0 0 0;\n",
              "      width: 32px;\n",
              "    }\n",
              "\n",
              "    .colab-df-convert:hover {\n",
              "      background-color: #E2EBFA;\n",
              "      box-shadow: 0px 1px 2px rgba(60, 64, 67, 0.3), 0px 1px 3px 1px rgba(60, 64, 67, 0.15);\n",
              "      fill: #174EA6;\n",
              "    }\n",
              "\n",
              "    [theme=dark] .colab-df-convert {\n",
              "      background-color: #3B4455;\n",
              "      fill: #D2E3FC;\n",
              "    }\n",
              "\n",
              "    [theme=dark] .colab-df-convert:hover {\n",
              "      background-color: #434B5C;\n",
              "      box-shadow: 0px 1px 3px 1px rgba(0, 0, 0, 0.15);\n",
              "      filter: drop-shadow(0px 1px 2px rgba(0, 0, 0, 0.3));\n",
              "      fill: #FFFFFF;\n",
              "    }\n",
              "  </style>\n",
              "\n",
              "      <script>\n",
              "        const buttonEl =\n",
              "          document.querySelector('#df-588cdb21-3666-4c67-a570-916a84be82b9 button.colab-df-convert');\n",
              "        buttonEl.style.display =\n",
              "          google.colab.kernel.accessAllowed ? 'block' : 'none';\n",
              "\n",
              "        async function convertToInteractive(key) {\n",
              "          const element = document.querySelector('#df-588cdb21-3666-4c67-a570-916a84be82b9');\n",
              "          const dataTable =\n",
              "            await google.colab.kernel.invokeFunction('convertToInteractive',\n",
              "                                                     [key], {});\n",
              "          if (!dataTable) return;\n",
              "\n",
              "          const docLinkHtml = 'Like what you see? Visit the ' +\n",
              "            '<a target=\"_blank\" href=https://colab.research.google.com/notebooks/data_table.ipynb>data table notebook</a>'\n",
              "            + ' to learn more about interactive tables.';\n",
              "          element.innerHTML = '';\n",
              "          dataTable['output_type'] = 'display_data';\n",
              "          await google.colab.output.renderOutput(dataTable, element);\n",
              "          const docLink = document.createElement('div');\n",
              "          docLink.innerHTML = docLinkHtml;\n",
              "          element.appendChild(docLink);\n",
              "        }\n",
              "      </script>\n",
              "    </div>\n",
              "  </div>\n",
              "  "
            ],
            "text/plain": [
              "              bayes_rating  ks_rank\n",
              "bayes_rating       1.00000 -0.55938\n",
              "ks_rank           -0.55938  1.00000"
            ]
          },
          "execution_count": 10,
          "metadata": {},
          "output_type": "execute_result"
        }
      ],
      "source": [
        "final_ranked[['bayes_rating','ks_rank']].corr(method='spearman')"
      ]
    },
    {
      "cell_type": "code",
      "execution_count": null,
      "metadata": {
        "colab": {
          "base_uri": "https://localhost:8080/",
          "height": 112
        },
        "id": "jpicL3vhNxzD",
        "outputId": "1608b693-f614-4d47-d7b3-92d3bbbe162c"
      },
      "outputs": [
        {
          "data": {
            "text/html": [
              "\n",
              "  <div id=\"df-e6171a90-1d18-491e-ba08-9bbe298e82dd\">\n",
              "    <div class=\"colab-df-container\">\n",
              "      <div>\n",
              "<style scoped>\n",
              "    .dataframe tbody tr th:only-of-type {\n",
              "        vertical-align: middle;\n",
              "    }\n",
              "\n",
              "    .dataframe tbody tr th {\n",
              "        vertical-align: top;\n",
              "    }\n",
              "\n",
              "    .dataframe thead th {\n",
              "        text-align: right;\n",
              "    }\n",
              "</style>\n",
              "<table border=\"1\" class=\"dataframe\">\n",
              "  <thead>\n",
              "    <tr style=\"text-align: right;\">\n",
              "      <th></th>\n",
              "      <th>bayes_rating</th>\n",
              "      <th>ks_rank</th>\n",
              "    </tr>\n",
              "  </thead>\n",
              "  <tbody>\n",
              "    <tr>\n",
              "      <th>bayes_rating</th>\n",
              "      <td>1.00000</td>\n",
              "      <td>-0.55966</td>\n",
              "    </tr>\n",
              "    <tr>\n",
              "      <th>ks_rank</th>\n",
              "      <td>-0.55966</td>\n",
              "      <td>1.00000</td>\n",
              "    </tr>\n",
              "  </tbody>\n",
              "</table>\n",
              "</div>\n",
              "      <button class=\"colab-df-convert\" onclick=\"convertToInteractive('df-e6171a90-1d18-491e-ba08-9bbe298e82dd')\"\n",
              "              title=\"Convert this dataframe to an interactive table.\"\n",
              "              style=\"display:none;\">\n",
              "        \n",
              "  <svg xmlns=\"http://www.w3.org/2000/svg\" height=\"24px\"viewBox=\"0 0 24 24\"\n",
              "       width=\"24px\">\n",
              "    <path d=\"M0 0h24v24H0V0z\" fill=\"none\"/>\n",
              "    <path d=\"M18.56 5.44l.94 2.06.94-2.06 2.06-.94-2.06-.94-.94-2.06-.94 2.06-2.06.94zm-11 1L8.5 8.5l.94-2.06 2.06-.94-2.06-.94L8.5 2.5l-.94 2.06-2.06.94zm10 10l.94 2.06.94-2.06 2.06-.94-2.06-.94-.94-2.06-.94 2.06-2.06.94z\"/><path d=\"M17.41 7.96l-1.37-1.37c-.4-.4-.92-.59-1.43-.59-.52 0-1.04.2-1.43.59L10.3 9.45l-7.72 7.72c-.78.78-.78 2.05 0 2.83L4 21.41c.39.39.9.59 1.41.59.51 0 1.02-.2 1.41-.59l7.78-7.78 2.81-2.81c.8-.78.8-2.07 0-2.86zM5.41 20L4 18.59l7.72-7.72 1.47 1.35L5.41 20z\"/>\n",
              "  </svg>\n",
              "      </button>\n",
              "      \n",
              "  <style>\n",
              "    .colab-df-container {\n",
              "      display:flex;\n",
              "      flex-wrap:wrap;\n",
              "      gap: 12px;\n",
              "    }\n",
              "\n",
              "    .colab-df-convert {\n",
              "      background-color: #E8F0FE;\n",
              "      border: none;\n",
              "      border-radius: 50%;\n",
              "      cursor: pointer;\n",
              "      display: none;\n",
              "      fill: #1967D2;\n",
              "      height: 32px;\n",
              "      padding: 0 0 0 0;\n",
              "      width: 32px;\n",
              "    }\n",
              "\n",
              "    .colab-df-convert:hover {\n",
              "      background-color: #E2EBFA;\n",
              "      box-shadow: 0px 1px 2px rgba(60, 64, 67, 0.3), 0px 1px 3px 1px rgba(60, 64, 67, 0.15);\n",
              "      fill: #174EA6;\n",
              "    }\n",
              "\n",
              "    [theme=dark] .colab-df-convert {\n",
              "      background-color: #3B4455;\n",
              "      fill: #D2E3FC;\n",
              "    }\n",
              "\n",
              "    [theme=dark] .colab-df-convert:hover {\n",
              "      background-color: #434B5C;\n",
              "      box-shadow: 0px 1px 3px 1px rgba(0, 0, 0, 0.15);\n",
              "      filter: drop-shadow(0px 1px 2px rgba(0, 0, 0, 0.3));\n",
              "      fill: #FFFFFF;\n",
              "    }\n",
              "  </style>\n",
              "\n",
              "      <script>\n",
              "        const buttonEl =\n",
              "          document.querySelector('#df-e6171a90-1d18-491e-ba08-9bbe298e82dd button.colab-df-convert');\n",
              "        buttonEl.style.display =\n",
              "          google.colab.kernel.accessAllowed ? 'block' : 'none';\n",
              "\n",
              "        async function convertToInteractive(key) {\n",
              "          const element = document.querySelector('#df-e6171a90-1d18-491e-ba08-9bbe298e82dd');\n",
              "          const dataTable =\n",
              "            await google.colab.kernel.invokeFunction('convertToInteractive',\n",
              "                                                     [key], {});\n",
              "          if (!dataTable) return;\n",
              "\n",
              "          const docLinkHtml = 'Like what you see? Visit the ' +\n",
              "            '<a target=\"_blank\" href=https://colab.research.google.com/notebooks/data_table.ipynb>data table notebook</a>'\n",
              "            + ' to learn more about interactive tables.';\n",
              "          element.innerHTML = '';\n",
              "          dataTable['output_type'] = 'display_data';\n",
              "          await google.colab.output.renderOutput(dataTable, element);\n",
              "          const docLink = document.createElement('div');\n",
              "          docLink.innerHTML = docLinkHtml;\n",
              "          element.appendChild(docLink);\n",
              "        }\n",
              "      </script>\n",
              "    </div>\n",
              "  </div>\n",
              "  "
            ],
            "text/plain": [
              "              bayes_rating  ks_rank\n",
              "bayes_rating       1.00000 -0.55966\n",
              "ks_rank           -0.55966  1.00000"
            ]
          },
          "execution_count": 11,
          "metadata": {},
          "output_type": "execute_result"
        }
      ],
      "source": [
        "no_multi_df[['bayes_rating','ks_rank']].corr(method='spearman')"
      ]
    },
    {
      "cell_type": "code",
      "execution_count": null,
      "metadata": {
        "colab": {
          "base_uri": "https://localhost:8080/"
        },
        "id": "zQiC0ttGLLhh",
        "outputId": "a38fdada-dd2d-4605-b619-8bfd07eef96d"
      },
      "outputs": [
        {
          "name": "stdout",
          "output_type": "stream",
          "text": [
            "                            OLS Regression Results                            \n",
            "==============================================================================\n",
            "Dep. Variable:           bayes_rating   R-squared:                       0.240\n",
            "Model:                            OLS   Adj. R-squared:                  0.240\n",
            "Method:                 Least Squares   F-statistic:                     892.6\n",
            "Date:                Tue, 17 May 2022   Prob (F-statistic):          1.17e-170\n",
            "Time:                        17:28:29   Log-Likelihood:                -1221.7\n",
            "No. Observations:                2825   AIC:                             2447.\n",
            "Df Residuals:                    2823   BIC:                             2459.\n",
            "Df Model:                           1                                         \n",
            "Covariance Type:            nonrobust                                         \n",
            "==============================================================================\n",
            "                 coef    std err          t      P>|t|      [0.025      0.975]\n",
            "------------------------------------------------------------------------------\n",
            "Intercept      6.1419      0.014    437.360      0.000       6.114       6.169\n",
            "ks_rank       -0.0003    8.6e-06    -29.877      0.000      -0.000      -0.000\n",
            "==============================================================================\n",
            "Omnibus:                     1289.343   Durbin-Watson:                   0.432\n",
            "Prob(Omnibus):                  0.000   Jarque-Bera (JB):             7280.184\n",
            "Skew:                           2.129   Prob(JB):                         0.00\n",
            "Kurtosis:                       9.612   Cond. No.                     3.27e+03\n",
            "==============================================================================\n",
            "\n",
            "Warnings:\n",
            "[1] Standard Errors assume that the covariance matrix of the errors is correctly specified.\n",
            "[2] The condition number is large, 3.27e+03. This might indicate that there are\n",
            "strong multicollinearity or other numerical problems.\n"
          ]
        }
      ],
      "source": [
        "result = sm.ols(formula=\"bayes_rating ~ ks_rank\", data=final_ranked).fit()\n",
        "print(result.summary())"
      ]
    },
    {
      "cell_type": "code",
      "execution_count": null,
      "metadata": {
        "colab": {
          "base_uri": "https://localhost:8080/",
          "height": 282
        },
        "id": "McNELaKCr7Qp",
        "outputId": "07da9e79-4712-4dfb-c6c2-e4cc44f293ef"
      },
      "outputs": [
        {
          "data": {
            "text/plain": [
              "(2982.975, -140.475)"
            ]
          },
          "execution_count": 13,
          "metadata": {},
          "output_type": "execute_result"
        },
        {
          "data": {
            "image/png": "[encoded data removed]",
            "text/plain": [
              "<Figure size 432x288 with 1 Axes>"
            ]
          },
          "metadata": {},
          "output_type": "display_data"
        }
      ],
      "source": [
        "plt.scatter(x=final_ranked.ks_rank,\n",
        "                y=final_ranked.bayes_rating,\n",
        "                c='DarkBlue')\n",
        "ax = plt.gca()\n",
        "ax.set_xlim(ax.get_xlim()[::-1])"
      ]
    },
    {
      "cell_type": "code",
      "execution_count": null,
      "metadata": {
        "colab": {
          "base_uri": "https://localhost:8080/",
          "height": 293
        },
        "id": "H3tgnS8PDQnI",
        "outputId": "72eb8492-5fcd-4a15-8dd8-fc5f952dca78"
      },
      "outputs": [
        {
          "data": {
            "text/plain": [
              "<matplotlib.collections.PathCollection at 0x7f0482dab750>"
            ]
          },
          "execution_count": 14,
          "metadata": {},
          "output_type": "execute_result"
        },
        {
          "data": {
            "image/png": "[encoded data removed]",
            "text/plain": [
              "<Figure size 432x288 with 1 Axes>"
            ]
          },
          "metadata": {},
          "output_type": "display_data"
        }
      ],
      "source": [
        "plt.scatter(x=final_ranked.bayes_rating,\n",
        "                y=final_ranked.usd_pledged,\n",
        "                c='DarkBlue')"
      ]
    },
    {
      "cell_type": "code",
      "execution_count": null,
      "metadata": {
        "colab": {
          "base_uri": "https://localhost:8080/",
          "height": 282
        },
        "id": "9eOw75uuD_hl",
        "outputId": "96dd3ae1-61fe-4c8a-a9bf-70cadfaf0ea5"
      },
      "outputs": [
        {
          "data": {
            "text/plain": [
              "<matplotlib.collections.PathCollection at 0x7f0482d99550>"
            ]
          },
          "execution_count": 15,
          "metadata": {},
          "output_type": "execute_result"
        },
        {
          "data": {
            "image/png": "[encoded data removed]",
            "text/plain": [
              "<Figure size 432x288 with 1 Axes>"
            ]
          },
          "metadata": {},
          "output_type": "display_data"
        }
      ],
      "source": [
        "plt.scatter(x=no_multi_df.bayes_rating,\n",
        "                y=no_multi_df.backers_count,\n",
        "                c='DarkBlue')"
      ]
    },
    {
      "cell_type": "code",
      "execution_count": null,
      "metadata": {
        "colab": {
          "base_uri": "https://localhost:8080/"
        },
        "id": "daU2ZSsNqpV5",
        "outputId": "55313ccc-026d-4996-aea6-600c983088ce"
      },
      "outputs": [
        {
          "data": {
            "text/plain": [
              "array(['bgg_id', 'name', 'rank', 'year', 'alt_name', 'artist',\n",
              "       'avg_rating', 'bayes_rating', 'category', 'complexity',\n",
              "       'description', 'designer', 'family', 'game_type',\n",
              "       'language_dependency', 'max_players', 'max_players_best',\n",
              "       'max_players_rec', 'max_time', 'mechanic', 'min_age',\n",
              "       'min_age_rec', 'min_players', 'min_players_best',\n",
              "       'min_players_rec', 'min_time', 'num_votes', 'publisher',\n",
              "       'stddev_rating', 'url', 'video_url', 'expansion', 'cooperative',\n",
              "       'game_type_Abstract Game', 'game_type_Amiga', 'game_type_Arcade',\n",
              "       'game_type_Atari ST', \"game_type_Children's Game\",\n",
              "       'game_type_Commodore 64', 'game_type_Customizable',\n",
              "       'game_type_Family Game', 'game_type_Party Game',\n",
              "       'game_type_Strategy Game', 'game_type_Thematic',\n",
              "       'game_type_War Game', 'mechanic_Acting',\n",
              "       'mechanic_Action Drafting', 'mechanic_Action Points',\n",
              "       'mechanic_Action Queue', 'mechanic_Action Retrieval',\n",
              "       'mechanic_Action Timer', 'mechanic_Action/Event',\n",
              "       'mechanic_Advantage Token', 'mechanic_Alliances',\n",
              "       'mechanic_Area Majority / Influence', 'mechanic_Area Movement',\n",
              "       'mechanic_Area-Impulse', 'mechanic_Auction/Bidding',\n",
              "       'mechanic_Auction: Dexterity', 'mechanic_Auction: Dutch',\n",
              "       'mechanic_Auction: Dutch Priority', 'mechanic_Auction: English',\n",
              "       'mechanic_Auction: Fixed Placement',\n",
              "       'mechanic_Auction: Once Around', 'mechanic_Auction: Sealed Bid',\n",
              "       'mechanic_Auction: Turn Order Until Pass',\n",
              "       'mechanic_Automatic Resource Growth',\n",
              "       'mechanic_Betting and Bluffing', 'mechanic_Bias', 'mechanic_Bingo',\n",
              "       'mechanic_Bribery', 'mechanic_Campaign / Battle Card Driven',\n",
              "       'mechanic_Card Play Conflict Resolution',\n",
              "       'mechanic_Catch the Leader', 'mechanic_Chaining',\n",
              "       'mechanic_Chit-Pull System', 'mechanic_Closed Drafting',\n",
              "       'mechanic_Closed Economy Auction', 'mechanic_Command Cards',\n",
              "       'mechanic_Commodity Speculation', 'mechanic_Communication Limits',\n",
              "       'mechanic_Connections', 'mechanic_Constrained Bidding',\n",
              "       'mechanic_Contracts', 'mechanic_Cooperative Game',\n",
              "       'mechanic_Crayon Rail System',\n",
              "       'mechanic_Critical Hits and Failures', 'mechanic_Cube Tower',\n",
              "       'mechanic_Deck Construction',\n",
              "       'mechanic_Deck, Bag, and Pool Building', 'mechanic_Deduction',\n",
              "       'mechanic_Delayed Purchase', 'mechanic_Dice Rolling',\n",
              "       'mechanic_Die Icon Resolution', 'mechanic_Different Dice Movement',\n",
              "       'mechanic_Drafting', 'mechanic_Elapsed Real Time Ending',\n",
              "       'mechanic_Enclosure', 'mechanic_End Game Bonuses',\n",
              "       'mechanic_Events', 'mechanic_Finale Ending', 'mechanic_Flicking',\n",
              "       'mechanic_Follow', 'mechanic_Force Commitment',\n",
              "       'mechanic_Grid Coverage', 'mechanic_Grid Movement',\n",
              "       'mechanic_Hand Management', 'mechanic_Hexagon Grid',\n",
              "       'mechanic_Hidden Movement', 'mechanic_Hidden Roles',\n",
              "       'mechanic_Hidden Victory Points',\n",
              "       'mechanic_Highest-Lowest Scoring', 'mechanic_Hot Potato',\n",
              "       'mechanic_I Cut, You Choose', 'mechanic_Impulse Movement',\n",
              "       'mechanic_Income', 'mechanic_Increase Value of Unchosen Resources',\n",
              "       'mechanic_Induction', 'mechanic_Interrupts', 'mechanic_Investment',\n",
              "       'mechanic_Kill Steal', 'mechanic_King of the Hill',\n",
              "       'mechanic_Ladder Climbing', 'mechanic_Layering',\n",
              "       'mechanic_Legacy Game', 'mechanic_Line Drawing',\n",
              "       'mechanic_Line of Sight', 'mechanic_Loans', 'mechanic_Lose a Turn',\n",
              "       'mechanic_Mancala', 'mechanic_Map Addition',\n",
              "       'mechanic_Map Deformation', 'mechanic_Map Reduction',\n",
              "       'mechanic_Market', 'mechanic_Matching',\n",
              "       'mechanic_Measurement Movement', 'mechanic_Melding and Splaying',\n",
              "       'mechanic_Memory', 'mechanic_Minimap Resolution',\n",
              "       'mechanic_Modular Board', 'mechanic_Move Through Deck',\n",
              "       'mechanic_Movement Points', 'mechanic_Movement Template',\n",
              "       'mechanic_Moving Multiple Units', 'mechanic_Multiple Maps',\n",
              "       'mechanic_Multiple-Lot Auction',\n",
              "       'mechanic_Narrative Choice / Paragraph', 'mechanic_Negotiation',\n",
              "       'mechanic_Network and Route Building',\n",
              "       'mechanic_Once-Per-Game Abilities', 'mechanic_Open Drafting',\n",
              "       'mechanic_Order Counters', 'mechanic_Ownership',\n",
              "       'mechanic_Paper-and-Pencil', 'mechanic_Passed Action Token',\n",
              "       'mechanic_Pattern Building', 'mechanic_Pattern Movement',\n",
              "       'mechanic_Pattern Recognition', 'mechanic_Physical Removal',\n",
              "       'mechanic_Pick-up and Deliver', 'mechanic_Pieces as Map',\n",
              "       'mechanic_Player Elimination', 'mechanic_Player Judge',\n",
              "       'mechanic_Point to Point Movement', 'mechanic_Predictive Bid',\n",
              "       \"mechanic_Prisoner's Dilemma\", 'mechanic_Programmed Movement',\n",
              "       'mechanic_Push Your Luck', 'mechanic_Race',\n",
              "       'mechanic_Random Production',\n",
              "       'mechanic_Ratio / Combat Results Table',\n",
              "       'mechanic_Re-rolling and Locking', 'mechanic_Real-Time',\n",
              "       'mechanic_Relative Movement', 'mechanic_Resource to Move',\n",
              "       'mechanic_Rock-Paper-Scissors', 'mechanic_Role Playing',\n",
              "       'mechanic_Roles with Asymmetric Information',\n",
              "       'mechanic_Roll / Spin and Move', 'mechanic_Rondel',\n",
              "       'mechanic_Scenario / Mission / Campaign Game',\n",
              "       'mechanic_Score-and-Reset Game', 'mechanic_Secret Unit Deployment',\n",
              "       'mechanic_Selection Order Bid', 'mechanic_Semi-Cooperative Game',\n",
              "       'mechanic_Set Collection', 'mechanic_Simulation',\n",
              "       'mechanic_Simultaneous Action Selection', 'mechanic_Singing',\n",
              "       'mechanic_Single Loser Game', 'mechanic_Slide/Push',\n",
              "       'mechanic_Solo / Solitaire Game', 'mechanic_Speed Matching',\n",
              "       'mechanic_Square Grid', 'mechanic_Stacking and Balancing',\n",
              "       'mechanic_Stat Check Resolution', 'mechanic_Static Capture',\n",
              "       'mechanic_Stock Holding', 'mechanic_Storytelling',\n",
              "       'mechanic_Sudden Death Ending', 'mechanic_Take That',\n",
              "       'mechanic_Targeted Clues', 'mechanic_Team-Based Game',\n",
              "       'mechanic_Tech Trees / Tech Tracks',\n",
              "       'mechanic_Three Dimensional Movement', 'mechanic_Tile Placement',\n",
              "       'mechanic_Time Track', 'mechanic_Track Movement',\n",
              "       'mechanic_Trading', 'mechanic_Traitor Game',\n",
              "       'mechanic_Trick-taking', 'mechanic_Tug of War',\n",
              "       'mechanic_Turn Order: Auction',\n",
              "       'mechanic_Turn Order: Claim Action',\n",
              "       'mechanic_Turn Order: Pass Order',\n",
              "       'mechanic_Turn Order: Progressive', 'mechanic_Turn Order: Random',\n",
              "       'mechanic_Turn Order: Role Order',\n",
              "       'mechanic_Turn Order: Stat-Based', 'mechanic_Variable Phase Order',\n",
              "       'mechanic_Variable Player Powers', 'mechanic_Variable Set-up',\n",
              "       'mechanic_Victory Points as a Resource', 'mechanic_Voting',\n",
              "       'mechanic_Worker Placement',\n",
              "       'mechanic_Worker Placement with Dice Workers',\n",
              "       'mechanic_Worker Placement, Different Worker Types',\n",
              "       'mechanic_Zone of Control', 'category_Abstract Strategy',\n",
              "       'category_Action / Dexterity', 'category_Adventure',\n",
              "       'category_Age of Reason', 'category_American Civil War',\n",
              "       'category_American Indian Wars',\n",
              "       'category_American Revolutionary War', 'category_American West',\n",
              "       'category_Ancient', 'category_Animals', 'category_Arabian',\n",
              "       'category_Aviation / Flight', 'category_Bluffing', 'category_Book',\n",
              "       'category_Card Game', \"category_Children's Game\",\n",
              "       'category_City Building', 'category_Civil War',\n",
              "       'category_Civilization', 'category_Collectible Components',\n",
              "       'category_Comic Book / Strip', 'category_Deduction',\n",
              "       'category_Dice', 'category_Economic', 'category_Educational',\n",
              "       'category_Electronic', 'category_Environmental',\n",
              "       'category_Expansion for Base-game', 'category_Exploration',\n",
              "       'category_Fan Expansion', 'category_Fantasy', 'category_Farming',\n",
              "       'category_Fighting', 'category_Game System', 'category_Horror',\n",
              "       'category_Humor', 'category_Industry / Manufacturing',\n",
              "       'category_Korean War', 'category_Mafia', 'category_Math',\n",
              "       'category_Mature / Adult', 'category_Maze', 'category_Medical',\n",
              "       'category_Medieval', 'category_Memory', 'category_Miniatures',\n",
              "       'category_Modern Warfare', 'category_Movies / TV / Radio theme',\n",
              "       'category_Murder/Mystery', 'category_Music', 'category_Mythology',\n",
              "       'category_Napoleonic', 'category_Nautical', 'category_Negotiation',\n",
              "       'category_Novel-based', 'category_Number', 'category_Party Game',\n",
              "       'category_Pike and Shot', 'category_Pirates', 'category_Political',\n",
              "       'category_Post-Napoleonic', 'category_Prehistoric',\n",
              "       'category_Print & Play', 'category_Puzzle', 'category_Racing',\n",
              "       'category_Real-time', 'category_Religious', 'category_Renaissance',\n",
              "       'category_Science Fiction', 'category_Space Exploration',\n",
              "       'category_Spies/Secret Agents', 'category_Sports',\n",
              "       'category_Territory Building', 'category_Trains',\n",
              "       'category_Transportation', 'category_Travel', 'category_Trivia',\n",
              "       'category_Video Game Theme', 'category_Vietnam War',\n",
              "       'category_Wargame', 'category_Word Game', 'category_World War I',\n",
              "       'category_World War II', 'category_Zombies',\n",
              "       'Crowdfunding: Kickstarter', 'ks_id', 'backers_count', 'blurb',\n",
              "       'ks_category', 'converted_pledged_amount', 'country', 'created_at',\n",
              "       'creator', 'currency', 'deadline', 'friends', 'fx_rate', 'goal',\n",
              "       'is_starrable', 'is_starred', 'launched_at', 'location', 'ks_name',\n",
              "       'photo', 'pledged', 'profile', 'slug', 'source_url', 'spotlight',\n",
              "       'staff_pick', 'state', 'state_changed_at', 'static_usd_rate',\n",
              "       'usd_exchange_rate', 'usd_pledged', 'usd_type', 'pull_date',\n",
              "       'avg_pledge', 'per_backer_contribution', 'funding_multiplier',\n",
              "       'ks_rank', 'release_delta'], dtype=object)"
            ]
          },
          "execution_count": 16,
          "metadata": {},
          "output_type": "execute_result"
        }
      ],
      "source": [
        "final_ranked.columns.values"
      ]
    },
    {
      "cell_type": "code",
      "execution_count": null,
      "metadata": {
        "colab": {
          "base_uri": "https://localhost:8080/",
          "height": 282
        },
        "id": "9-4q5EHPwEDw",
        "outputId": "af12f0a8-8d03-43ec-ad8d-bbaba568fd62"
      },
      "outputs": [
        {
          "data": {
            "text/plain": [
              "<matplotlib.collections.PathCollection at 0x7f0482868d90>"
            ]
          },
          "execution_count": 17,
          "metadata": {},
          "output_type": "execute_result"
        },
        {
          "data": {
            "image/png": "[encoded data removed]",
            "text/plain": [
              "<Figure size 432x288 with 1 Axes>"
            ]
          },
          "metadata": {},
          "output_type": "display_data"
        }
      ],
      "source": [
        "plt.scatter(x=final_ranked.num_votes,\n",
        "                y=final_ranked.release_delta,\n",
        "                c='DarkBlue')"
      ]
    },
    {
      "cell_type": "code",
      "execution_count": null,
      "metadata": {
        "colab": {
          "base_uri": "https://localhost:8080/",
          "height": 143
        },
        "id": "-4qR4ab6psgU",
        "outputId": "c258cdde-bf70-4a69-804a-fdc6f6438097"
      },
      "outputs": [
        {
          "data": {
            "text/html": [
              "\n",
              "  <div id=\"df-f601b1d4-3c3a-45f7-a5e9-d77021322d71\">\n",
              "    <div class=\"colab-df-container\">\n",
              "      <div>\n",
              "<style scoped>\n",
              "    .dataframe tbody tr th:only-of-type {\n",
              "        vertical-align: middle;\n",
              "    }\n",
              "\n",
              "    .dataframe tbody tr th {\n",
              "        vertical-align: top;\n",
              "    }\n",
              "\n",
              "    .dataframe thead th {\n",
              "        text-align: right;\n",
              "    }\n",
              "</style>\n",
              "<table border=\"1\" class=\"dataframe\">\n",
              "  <thead>\n",
              "    <tr style=\"text-align: right;\">\n",
              "      <th></th>\n",
              "      <th>bayes_rating</th>\n",
              "      <th>release_delta</th>\n",
              "      <th>usd_pledged</th>\n",
              "    </tr>\n",
              "  </thead>\n",
              "  <tbody>\n",
              "    <tr>\n",
              "      <th>bayes_rating</th>\n",
              "      <td>1.00000</td>\n",
              "      <td>0.10872</td>\n",
              "      <td>0.56250</td>\n",
              "    </tr>\n",
              "    <tr>\n",
              "      <th>release_delta</th>\n",
              "      <td>0.10872</td>\n",
              "      <td>1.00000</td>\n",
              "      <td>0.20954</td>\n",
              "    </tr>\n",
              "    <tr>\n",
              "      <th>usd_pledged</th>\n",
              "      <td>0.56250</td>\n",
              "      <td>0.20954</td>\n",
              "      <td>1.00000</td>\n",
              "    </tr>\n",
              "  </tbody>\n",
              "</table>\n",
              "</div>\n",
              "      <button class=\"colab-df-convert\" onclick=\"convertToInteractive('df-f601b1d4-3c3a-45f7-a5e9-d77021322d71')\"\n",
              "              title=\"Convert this dataframe to an interactive table.\"\n",
              "              style=\"display:none;\">\n",
              "        \n",
              "  <svg xmlns=\"http://www.w3.org/2000/svg\" height=\"24px\"viewBox=\"0 0 24 24\"\n",
              "       width=\"24px\">\n",
              "    <path d=\"M0 0h24v24H0V0z\" fill=\"none\"/>\n",
              "    <path d=\"M18.56 5.44l.94 2.06.94-2.06 2.06-.94-2.06-.94-.94-2.06-.94 2.06-2.06.94zm-11 1L8.5 8.5l.94-2.06 2.06-.94-2.06-.94L8.5 2.5l-.94 2.06-2.06.94zm10 10l.94 2.06.94-2.06 2.06-.94-2.06-.94-.94-2.06-.94 2.06-2.06.94z\"/><path d=\"M17.41 7.96l-1.37-1.37c-.4-.4-.92-.59-1.43-.59-.52 0-1.04.2-1.43.59L10.3 9.45l-7.72 7.72c-.78.78-.78 2.05 0 2.83L4 21.41c.39.39.9.59 1.41.59.51 0 1.02-.2 1.41-.59l7.78-7.78 2.81-2.81c.8-.78.8-2.07 0-2.86zM5.41 20L4 18.59l7.72-7.72 1.47 1.35L5.41 20z\"/>\n",
              "  </svg>\n",
              "      </button>\n",
              "      \n",
              "  <style>\n",
              "    .colab-df-container {\n",
              "      display:flex;\n",
              "      flex-wrap:wrap;\n",
              "      gap: 12px;\n",
              "    }\n",
              "\n",
              "    .colab-df-convert {\n",
              "      background-color: #E8F0FE;\n",
              "      border: none;\n",
              "      border-radius: 50%;\n",
              "      cursor: pointer;\n",
              "      display: none;\n",
              "      fill: #1967D2;\n",
              "      height: 32px;\n",
              "      padding: 0 0 0 0;\n",
              "      width: 32px;\n",
              "    }\n",
              "\n",
              "    .colab-df-convert:hover {\n",
              "      background-color: #E2EBFA;\n",
              "      box-shadow: 0px 1px 2px rgba(60, 64, 67, 0.3), 0px 1px 3px 1px rgba(60, 64, 67, 0.15);\n",
              "      fill: #174EA6;\n",
              "    }\n",
              "\n",
              "    [theme=dark] .colab-df-convert {\n",
              "      background-color: #3B4455;\n",
              "      fill: #D2E3FC;\n",
              "    }\n",
              "\n",
              "    [theme=dark] .colab-df-convert:hover {\n",
              "      background-color: #434B5C;\n",
              "      box-shadow: 0px 1px 3px 1px rgba(0, 0, 0, 0.15);\n",
              "      filter: drop-shadow(0px 1px 2px rgba(0, 0, 0, 0.3));\n",
              "      fill: #FFFFFF;\n",
              "    }\n",
              "  </style>\n",
              "\n",
              "      <script>\n",
              "        const buttonEl =\n",
              "          document.querySelector('#df-f601b1d4-3c3a-45f7-a5e9-d77021322d71 button.colab-df-convert');\n",
              "        buttonEl.style.display =\n",
              "          google.colab.kernel.accessAllowed ? 'block' : 'none';\n",
              "\n",
              "        async function convertToInteractive(key) {\n",
              "          const element = document.querySelector('#df-f601b1d4-3c3a-45f7-a5e9-d77021322d71');\n",
              "          const dataTable =\n",
              "            await google.colab.kernel.invokeFunction('convertToInteractive',\n",
              "                                                     [key], {});\n",
              "          if (!dataTable) return;\n",
              "\n",
              "          const docLinkHtml = 'Like what you see? Visit the ' +\n",
              "            '<a target=\"_blank\" href=https://colab.research.google.com/notebooks/data_table.ipynb>data table notebook</a>'\n",
              "            + ' to learn more about interactive tables.';\n",
              "          element.innerHTML = '';\n",
              "          dataTable['output_type'] = 'display_data';\n",
              "          await google.colab.output.renderOutput(dataTable, element);\n",
              "          const docLink = document.createElement('div');\n",
              "          docLink.innerHTML = docLinkHtml;\n",
              "          element.appendChild(docLink);\n",
              "        }\n",
              "      </script>\n",
              "    </div>\n",
              "  </div>\n",
              "  "
            ],
            "text/plain": [
              "               bayes_rating  release_delta  usd_pledged\n",
              "bayes_rating        1.00000        0.10872      0.56250\n",
              "release_delta       0.10872        1.00000      0.20954\n",
              "usd_pledged         0.56250        0.20954      1.00000"
            ]
          },
          "execution_count": 18,
          "metadata": {},
          "output_type": "execute_result"
        }
      ],
      "source": [
        "final_ranked[['bayes_rating','release_delta','usd_pledged']].corr(method='spearman')"
      ]
    },
    {
      "cell_type": "code",
      "execution_count": null,
      "metadata": {
        "colab": {
          "base_uri": "https://localhost:8080/",
          "height": 295
        },
        "id": "moMV0m-EaYZL",
        "outputId": "45ec7fee-36f2-495e-81b3-43e132a38933"
      },
      "outputs": [
        {
          "data": {
            "text/plain": [
              "<matplotlib.collections.PathCollection at 0x7f04827e5dd0>"
            ]
          },
          "execution_count": 19,
          "metadata": {},
          "output_type": "execute_result"
        },
        {
          "data": {
            "image/png": "[encoded data removed]",
            "text/plain": [
              "<Figure size 432x288 with 1 Axes>"
            ]
          },
          "metadata": {},
          "output_type": "display_data"
        }
      ],
      "source": [
        "plt.scatter(x=final_ranked.usd_pledged,\n",
        "                y=final_ranked.release_delta,\n",
        "                c='DarkBlue')"
      ]
    },
    {
      "cell_type": "code",
      "execution_count": null,
      "metadata": {
        "colab": {
          "base_uri": "https://localhost:8080/",
          "height": 282
        },
        "id": "t49mV2j9RX2-",
        "outputId": "4344f3a5-f504-4ac2-8745-3531679fd67c"
      },
      "outputs": [
        {
          "data": {
            "text/plain": [
              "(2982.975, -140.475)"
            ]
          },
          "execution_count": 20,
          "metadata": {},
          "output_type": "execute_result"
        },
        {
          "data": {
            "image/png": "[encoded data removed]",
            "text/plain": [
              "<Figure size 432x288 with 1 Axes>"
            ]
          },
          "metadata": {},
          "output_type": "display_data"
        }
      ],
      "source": [
        "plt.scatter(x=final_ranked.ks_rank,\n",
        "                y=final_ranked.release_delta,\n",
        "                c='DarkBlue')\n",
        "\n",
        "ax = plt.gca()\n",
        "ax.set_xlim(ax.get_xlim()[::-1])"
      ]
    },
    {
      "cell_type": "code",
      "execution_count": null,
      "metadata": {
        "id": "vxmrDTivaQRT"
      },
      "outputs": [],
      "source": [
        "filter_col = [col for col in final_ranked if col.startswith('game_type_')]"
      ]
    },
    {
      "cell_type": "code",
      "execution_count": null,
      "metadata": {
        "id": "JSOzc72ObC05"
      },
      "outputs": [],
      "source": [
        "def col_describe(col):\n",
        "   desc = final_ranked.groupby(col).describe()[['ks_rank','usd_pledged','backers_count','bayes_rating','avg_rating','complexity','num_votes']]\n",
        "   return desc\n",
        "\n",
        "def dict_compare(frame, test_field, test_func='mean', comp_type='game_type_'):\n",
        "    filter = [col for col in frame if col.startswith(comp_type)]\n",
        "    value_pairs = [(val,getattr(frame.groupby([val])[test_field],test_func)()) for val in filter]\n",
        "    comp = []\n",
        "    for x in value_pairs:\n",
        "      try:\n",
        "        comp.append((x[0],x[1][1]))\n",
        "      except:\n",
        "        pass\n",
        "    return sorted([x for x in comp if x[1] == x[1]], key=lambda tup: tup[1], reverse=True)"
      ]
    },
    {
      "cell_type": "code",
      "execution_count": null,
      "metadata": {
        "id": "J7AVJmOUcULc"
      },
      "outputs": [],
      "source": [
        "describes = [col_describe(col) for col in filter_col]"
      ]
    },
    {
      "cell_type": "code",
      "execution_count": null,
      "metadata": {
        "colab": {
          "base_uri": "https://localhost:8080/"
        },
        "id": "ehfuUItXchOS",
        "outputId": "a290428f-bc1f-4662-c8b9-d12c20abc82d"
      },
      "outputs": [
        {
          "name": "stdout",
          "output_type": "stream",
          "text": [
            "                     ks_rank                                         \\\n",
            "                       count       mean       std     min       25%   \n",
            "game_type_Thematic                                                    \n",
            "0.00000            833.00000 1191.00060 786.31908 1.50000 511.00000   \n",
            "1.00000            285.00000  788.42632 719.24526 3.50000 217.50000   \n",
            "\n",
            "                                                    usd_pledged               \\\n",
            "                          50%        75%        max       count         mean   \n",
            "game_type_Thematic                                                             \n",
            "0.00000            1097.00000 1787.00000 2834.00000   833.00000 197027.08864   \n",
            "1.00000             532.50000 1203.00000 2802.00000   285.00000 501977.50660   \n",
            "\n",
            "                                                                     \\\n",
            "                            std        min         25%          50%   \n",
            "game_type_Thematic                                                    \n",
            "0.00000            543412.73437 1340.00000 26268.00000  55588.84000   \n",
            "1.00000            931628.65770 2815.54791 56473.92956 162908.52000   \n",
            "\n",
            "                                              backers_count             \\\n",
            "                            75%           max         count       mean   \n",
            "game_type_Thematic                                                       \n",
            "0.00000            153330.00000 8782571.99000     833.00000 3049.51501   \n",
            "1.00000            537093.00000 6373468.07096     285.00000 4180.66667   \n",
            "\n",
            "                                                                         \\\n",
            "                          std       min       25%        50%        75%   \n",
            "game_type_Thematic                                                        \n",
            "0.00000            9583.80613  54.00000 487.00000 1043.00000 2750.00000   \n",
            "1.00000            5980.14505 109.00000 869.00000 2175.00000 4942.00000   \n",
            "\n",
            "                                bayes_rating                                  \\\n",
            "                            max        count    mean     std     min     25%   \n",
            "game_type_Thematic                                                             \n",
            "0.00000            219382.00000   8868.00000 5.80426 0.46269 3.58410 5.52704   \n",
            "1.00000             41939.00000   1160.00000 6.04690 0.55633 5.22062 5.61827   \n",
            "\n",
            "                                           avg_rating                          \\\n",
            "                       50%     75%     max      count    mean     std     min   \n",
            "game_type_Thematic                                                              \n",
            "0.00000            5.60246 5.91737 8.42267 8868.00000 6.62111 0.86669 2.13613   \n",
            "1.00000            5.86604 6.32468 8.49672 1160.00000 6.85402 0.80007 1.43750   \n",
            "\n",
            "                                                   complexity                  \\\n",
            "                       25%     50%     75%     max      count    mean     std   \n",
            "game_type_Thematic                                                              \n",
            "0.00000            6.10772 6.66687 7.21150 9.29717 8843.00000 2.30812 0.85210   \n",
            "1.00000            6.31340 6.86680 7.41537 8.85422 1160.00000 2.45934 0.65508   \n",
            "\n",
            "                                                            num_votes  \\\n",
            "                       min     25%     50%     75%     max      count   \n",
            "game_type_Thematic                                                      \n",
            "0.00000            1.00000 1.61275 2.27270 2.90060 5.00000 8868.00000   \n",
            "1.00000            1.00000 2.00000 2.40000 2.85763 4.81620 1160.00000   \n",
            "\n",
            "                                                                       \\\n",
            "                         mean        std      min       25%       50%   \n",
            "game_type_Thematic                                                      \n",
            "0.00000            1629.18820 5418.42273 30.00000  77.00000 257.00000   \n",
            "1.00000            2638.26897 5458.14583 31.00000 326.75000 837.50000   \n",
            "\n",
            "                                            \n",
            "                          75%          max  \n",
            "game_type_Thematic                          \n",
            "0.00000            1032.00000 111009.00000  \n",
            "1.00000            2297.50000  49619.00000  \n"
          ]
        }
      ],
      "source": [
        "pd.options.display.max_columns = 400\n",
        "print(describes[10])"
      ]
    },
    {
      "cell_type": "markdown",
      "source": [
        "# Categories"
      ],
      "metadata": {
        "id": "gsJQHnEyveYb"
      }
    },
    {
      "cell_type": "code",
      "execution_count": null,
      "metadata": {
        "id": "vbQKsM2Gs54L"
      },
      "outputs": [],
      "source": [
        "cat_rank = list(dict_compare(final_ranked,'ks_rank', comp_type='category_', test_func='count'))"
      ]
    },
    {
      "cell_type": "code",
      "execution_count": null,
      "metadata": {
        "id": "eXes4iqzrV3K"
      },
      "outputs": [],
      "source": [
        "cat_back = list(dict_compare(final_ranked,'backers_count', comp_type='category_', test_func='median'))[0:10]"
      ]
    },
    {
      "cell_type": "code",
      "execution_count": null,
      "metadata": {
        "id": "5ybkbFxArWC5"
      },
      "outputs": [],
      "source": [
        "cat_fund = list(dict_compare(final_ranked,'usd_pledged', comp_type='category_', test_func='median'))[0:10]"
      ]
    },
    {
      "cell_type": "code",
      "execution_count": null,
      "metadata": {
        "id": "-JHUlhPNrejP"
      },
      "outputs": [],
      "source": [
        "cat_filter = [x[0] for x in cat_rank if x[1] > 200]\n",
        "corr_set = ['ks_rank','usd_pledged','backers_count','per_backer_contribution']\n",
        "cat_filter.extend(corr_set)\n",
        "test_frame = final_ranked[final_ranked['Crowdfunding: Kickstarter'] == 1][[corr_set[0],cat_filter[3]]].dropna()"
      ]
    },
    {
      "cell_type": "code",
      "execution_count": null,
      "metadata": {
        "colab": {
          "base_uri": "https://localhost:8080/"
        },
        "id": "k7yMqOz5EKza",
        "outputId": "673a054d-9700-4e16-ea2f-e76f0c6362e4"
      },
      "outputs": [
        {
          "data": {
            "text/plain": [
              "['category_Card Game',\n",
              " 'category_Fantasy',\n",
              " 'category_Fighting',\n",
              " 'category_Science Fiction',\n",
              " 'category_Dice',\n",
              " 'category_Adventure',\n",
              " 'category_Miniatures',\n",
              " 'category_Wargame',\n",
              " 'category_Humor',\n",
              " 'category_Party Game',\n",
              " 'category_Exploration',\n",
              " 'category_Economic',\n",
              " 'category_Horror',\n",
              " 'ks_rank',\n",
              " 'usd_pledged',\n",
              " 'backers_count',\n",
              " 'per_backer_contribution']"
            ]
          },
          "execution_count": 29,
          "metadata": {},
          "output_type": "execute_result"
        }
      ],
      "source": [
        "cat_filter"
      ]
    },
    {
      "cell_type": "code",
      "execution_count": null,
      "metadata": {
        "colab": {
          "base_uri": "https://localhost:8080/"
        },
        "id": "Ya_dXaYP8VO5",
        "outputId": "eaf6db1f-35ac-48d9-9c9e-bc1b14ca8d87"
      },
      "outputs": [
        {
          "data": {
            "text/plain": [
              "[('category_Miniatures', 135.67241465608697),\n",
              " ('category_Collectible Components', 121.24599728739453),\n",
              " ('category_World War II', 111.15410241614825),\n",
              " ('category_Electronic', 108.42867108229674),\n",
              " ('category_World War I', 107.48237565775922),\n",
              " ('category_Modern Warfare', 104.38146499812525),\n",
              " ('category_American Revolutionary War', 103.10739689536939),\n",
              " ('category_Pike and Shot', 98.69264486843893),\n",
              " ('category_Wargame', 98.20039246601506),\n",
              " ('category_Vietnam War', 95.4939756200082),\n",
              " ('category_Comic Book / Strip', 91.47742443164061),\n",
              " ('category_Korean War', 89.79710144927536),\n",
              " ('category_Napoleonic', 89.41325451650756),\n",
              " ('category_Fighting', 87.2467831865254),\n",
              " ('category_Zombies', 85.87297379271656),\n",
              " ('category_Adventure', 84.70968427153753),\n",
              " ('category_Horror', 84.06825489299617),\n",
              " ('category_Video Game Theme', 81.26195818419323),\n",
              " ('category_Age of Reason', 81.23391345438878),\n",
              " ('category_Exploration', 79.92796011277382),\n",
              " ('category_American Indian Wars', 78.88494844844396),\n",
              " ('category_Movies / TV / Radio theme', 78.10468782719839),\n",
              " ('category_Aviation / Flight', 77.70200940814613),\n",
              " ('category_Expansion for Base-game', 77.35056193698065),\n",
              " ('category_Science Fiction', 74.92109602037837),\n",
              " ('category_American Civil War', 74.37745272504412),\n",
              " ('category_Mythology', 73.99824853841199),\n",
              " ('category_Fantasy', 72.06038791897609),\n",
              " ('category_Trains', 71.51906476897656),\n",
              " ('category_Sports', 71.02387257979771),\n",
              " ('category_Nautical', 70.49087934953123),\n",
              " ('category_Transportation', 70.01993834978893),\n",
              " ('category_Ancient', 69.48545837955548),\n",
              " ('category_American West', 69.3073814236057),\n",
              " ('category_Economic', 68.60437049217113),\n",
              " ('category_Civilization', 68.41108038787681),\n",
              " ('category_Post-Napoleonic', 67.66611220014777),\n",
              " ('category_Book', 67.44169895287696),\n",
              " ('category_Renaissance', 66.86928573829513),\n",
              " ('category_Territory Building', 66.75376619432888),\n",
              " ('category_Travel', 66.34811367901611),\n",
              " ('category_Novel-based', 66.21205056075684),\n",
              " ('category_Medieval', 65.47341723449912),\n",
              " ('category_Religious', 65.38971444085712),\n",
              " ('category_Pirates', 65.26953199823225),\n",
              " ('category_Negotiation', 65.1536016006154),\n",
              " ('category_Civil War', 65.0562288999273),\n",
              " ('category_Arabian', 64.94043929236507),\n",
              " ('category_Dice', 64.40354210644072),\n",
              " ('category_Mature / Adult', 64.2233446891603),\n",
              " ('category_Space Exploration', 63.47020092399058),\n",
              " ('category_Political', 63.39997045920469),\n",
              " ('category_City Building', 62.8337775315602),\n",
              " ('category_Environmental', 59.90057215534208),\n",
              " ('category_Murder/Mystery', 58.97284342551614),\n",
              " ('category_Industry / Manufacturing', 58.384729405113866),\n",
              " ('category_Trivia', 58.1224127609059),\n",
              " ('category_Action / Dexterity', 57.09850449214491),\n",
              " ('category_Prehistoric', 56.83911415731132),\n",
              " ('category_Racing', 56.63619866182916),\n",
              " ('category_Spies/Secret Agents', 55.81889857873028),\n",
              " ('category_Educational', 54.62502717522324),\n",
              " ('category_Real-time', 54.28774262186285),\n",
              " ('category_Farming', 53.44059789826448),\n",
              " ('category_Memory', 51.958735938674714),\n",
              " ('category_Music', 50.53964548470037),\n",
              " ('category_Puzzle', 49.95031474297966),\n",
              " ('category_Maze', 49.867252895328754),\n",
              " ('category_Humor', 49.2111879521436),\n",
              " ('category_Mafia', 47.44233392557854),\n",
              " ('category_Abstract Strategy', 47.24720582212696),\n",
              " ('category_Medical', 46.81391850243628),\n",
              " ('category_Card Game', 46.77351822609203),\n",
              " ('category_Animals', 45.3023648312291),\n",
              " ('category_Bluffing', 45.195195563804205),\n",
              " ('category_Party Game', 43.086338008008006),\n",
              " ('category_Math', 42.298688135528074),\n",
              " ('category_Deduction', 42.253351723312825),\n",
              " (\"category_Children's Game\", 42.029783586927344),\n",
              " ('category_Game System', 41.27980184401126),\n",
              " ('category_Number', 38.83487104740436),\n",
              " ('category_Word Game', 35.75405440855574),\n",
              " ('category_Print & Play', 33.74800192774385)]"
            ]
          },
          "execution_count": 30,
          "metadata": {},
          "output_type": "execute_result"
        }
      ],
      "source": [
        "dict_compare(final_ranked,'avg_pledge', comp_type='category_', test_func='mean')"
      ]
    },
    {
      "cell_type": "code",
      "execution_count": null,
      "metadata": {
        "colab": {
          "base_uri": "https://localhost:8080/"
        },
        "id": "6b4abpKfJ4fc",
        "outputId": "052f1cd5-5c41-4074-c369-7032a92bfcdf"
      },
      "outputs": [
        {
          "data": {
            "text/plain": [
              "62.48938340744114"
            ]
          },
          "execution_count": 31,
          "metadata": {},
          "output_type": "execute_result"
        }
      ],
      "source": [
        "final_ranked['avg_pledge'].mean()"
      ]
    },
    {
      "cell_type": "code",
      "execution_count": null,
      "metadata": {
        "colab": {
          "base_uri": "https://localhost:8080/",
          "height": 457
        },
        "id": "g2_tRc7y3q2E",
        "outputId": "d8557c14-7ad5-40a5-c75c-2ede324f4a7f"
      },
      "outputs": [
        {
          "data": {
            "text/html": [
              "\n",
              "  <div id=\"df-463d1033-a687-402a-a30d-4398dbc07c9a\">\n",
              "    <div class=\"colab-df-container\">\n",
              "      <div>\n",
              "<style scoped>\n",
              "    .dataframe tbody tr th:only-of-type {\n",
              "        vertical-align: middle;\n",
              "    }\n",
              "\n",
              "    .dataframe tbody tr th {\n",
              "        vertical-align: top;\n",
              "    }\n",
              "\n",
              "    .dataframe thead th {\n",
              "        text-align: right;\n",
              "    }\n",
              "</style>\n",
              "<table border=\"1\" class=\"dataframe\">\n",
              "  <thead>\n",
              "    <tr style=\"text-align: right;\">\n",
              "      <th></th>\n",
              "      <th>ks_rank</th>\n",
              "      <th>usd_pledged</th>\n",
              "      <th>backers_count</th>\n",
              "      <th>per_backer_contribution</th>\n",
              "    </tr>\n",
              "  </thead>\n",
              "  <tbody>\n",
              "    <tr>\n",
              "      <th>category_Card Game</th>\n",
              "      <td>0.14726</td>\n",
              "      <td>-0.22445</td>\n",
              "      <td>-0.06992</td>\n",
              "      <td>0.06923</td>\n",
              "    </tr>\n",
              "    <tr>\n",
              "      <th>category_Fantasy</th>\n",
              "      <td>-0.13570</td>\n",
              "      <td>0.14490</td>\n",
              "      <td>0.12603</td>\n",
              "      <td>-0.12576</td>\n",
              "    </tr>\n",
              "    <tr>\n",
              "      <th>category_Fighting</th>\n",
              "      <td>-0.13620</td>\n",
              "      <td>0.16346</td>\n",
              "      <td>0.10678</td>\n",
              "      <td>-0.10660</td>\n",
              "    </tr>\n",
              "    <tr>\n",
              "      <th>category_Science Fiction</th>\n",
              "      <td>-0.08730</td>\n",
              "      <td>0.10060</td>\n",
              "      <td>0.07619</td>\n",
              "      <td>-0.07601</td>\n",
              "    </tr>\n",
              "    <tr>\n",
              "      <th>category_Dice</th>\n",
              "      <td>-0.00528</td>\n",
              "      <td>0.01929</td>\n",
              "      <td>-0.00174</td>\n",
              "      <td>0.00196</td>\n",
              "    </tr>\n",
              "    <tr>\n",
              "      <th>category_Adventure</th>\n",
              "      <td>-0.16451</td>\n",
              "      <td>0.18641</td>\n",
              "      <td>0.13795</td>\n",
              "      <td>-0.13779</td>\n",
              "    </tr>\n",
              "    <tr>\n",
              "      <th>category_Miniatures</th>\n",
              "      <td>-0.26025</td>\n",
              "      <td>0.32467</td>\n",
              "      <td>0.19354</td>\n",
              "      <td>-0.19345</td>\n",
              "    </tr>\n",
              "    <tr>\n",
              "      <th>category_Wargame</th>\n",
              "      <td>0.05401</td>\n",
              "      <td>0.01716</td>\n",
              "      <td>-0.11345</td>\n",
              "      <td>0.11370</td>\n",
              "    </tr>\n",
              "    <tr>\n",
              "      <th>category_Humor</th>\n",
              "      <td>0.05384</td>\n",
              "      <td>-0.06518</td>\n",
              "      <td>-0.03843</td>\n",
              "      <td>0.03863</td>\n",
              "    </tr>\n",
              "    <tr>\n",
              "      <th>category_Party Game</th>\n",
              "      <td>0.07123</td>\n",
              "      <td>-0.09646</td>\n",
              "      <td>-0.04384</td>\n",
              "      <td>0.04406</td>\n",
              "    </tr>\n",
              "    <tr>\n",
              "      <th>category_Exploration</th>\n",
              "      <td>-0.11668</td>\n",
              "      <td>0.13218</td>\n",
              "      <td>0.09560</td>\n",
              "      <td>-0.09548</td>\n",
              "    </tr>\n",
              "    <tr>\n",
              "      <th>category_Economic</th>\n",
              "      <td>-0.03140</td>\n",
              "      <td>0.04676</td>\n",
              "      <td>0.00401</td>\n",
              "      <td>-0.00386</td>\n",
              "    </tr>\n",
              "    <tr>\n",
              "      <th>category_Horror</th>\n",
              "      <td>-0.09817</td>\n",
              "      <td>0.10933</td>\n",
              "      <td>0.08412</td>\n",
              "      <td>-0.08400</td>\n",
              "    </tr>\n",
              "  </tbody>\n",
              "</table>\n",
              "</div>\n",
              "      <button class=\"colab-df-convert\" onclick=\"convertToInteractive('df-463d1033-a687-402a-a30d-4398dbc07c9a')\"\n",
              "              title=\"Convert this dataframe to an interactive table.\"\n",
              "              style=\"display:none;\">\n",
              "        \n",
              "  <svg xmlns=\"http://www.w3.org/2000/svg\" height=\"24px\"viewBox=\"0 0 24 24\"\n",
              "       width=\"24px\">\n",
              "    <path d=\"M0 0h24v24H0V0z\" fill=\"none\"/>\n",
              "    <path d=\"M18.56 5.44l.94 2.06.94-2.06 2.06-.94-2.06-.94-.94-2.06-.94 2.06-2.06.94zm-11 1L8.5 8.5l.94-2.06 2.06-.94-2.06-.94L8.5 2.5l-.94 2.06-2.06.94zm10 10l.94 2.06.94-2.06 2.06-.94-2.06-.94-.94-2.06-.94 2.06-2.06.94z\"/><path d=\"M17.41 7.96l-1.37-1.37c-.4-.4-.92-.59-1.43-.59-.52 0-1.04.2-1.43.59L10.3 9.45l-7.72 7.72c-.78.78-.78 2.05 0 2.83L4 21.41c.39.39.9.59 1.41.59.51 0 1.02-.2 1.41-.59l7.78-7.78 2.81-2.81c.8-.78.8-2.07 0-2.86zM5.41 20L4 18.59l7.72-7.72 1.47 1.35L5.41 20z\"/>\n",
              "  </svg>\n",
              "      </button>\n",
              "      \n",
              "  <style>\n",
              "    .colab-df-container {\n",
              "      display:flex;\n",
              "      flex-wrap:wrap;\n",
              "      gap: 12px;\n",
              "    }\n",
              "\n",
              "    .colab-df-convert {\n",
              "      background-color: #E8F0FE;\n",
              "      border: none;\n",
              "      border-radius: 50%;\n",
              "      cursor: pointer;\n",
              "      display: none;\n",
              "      fill: #1967D2;\n",
              "      height: 32px;\n",
              "      padding: 0 0 0 0;\n",
              "      width: 32px;\n",
              "    }\n",
              "\n",
              "    .colab-df-convert:hover {\n",
              "      background-color: #E2EBFA;\n",
              "      box-shadow: 0px 1px 2px rgba(60, 64, 67, 0.3), 0px 1px 3px 1px rgba(60, 64, 67, 0.15);\n",
              "      fill: #174EA6;\n",
              "    }\n",
              "\n",
              "    [theme=dark] .colab-df-convert {\n",
              "      background-color: #3B4455;\n",
              "      fill: #D2E3FC;\n",
              "    }\n",
              "\n",
              "    [theme=dark] .colab-df-convert:hover {\n",
              "      background-color: #434B5C;\n",
              "      box-shadow: 0px 1px 3px 1px rgba(0, 0, 0, 0.15);\n",
              "      filter: drop-shadow(0px 1px 2px rgba(0, 0, 0, 0.3));\n",
              "      fill: #FFFFFF;\n",
              "    }\n",
              "  </style>\n",
              "\n",
              "      <script>\n",
              "        const buttonEl =\n",
              "          document.querySelector('#df-463d1033-a687-402a-a30d-4398dbc07c9a button.colab-df-convert');\n",
              "        buttonEl.style.display =\n",
              "          google.colab.kernel.accessAllowed ? 'block' : 'none';\n",
              "\n",
              "        async function convertToInteractive(key) {\n",
              "          const element = document.querySelector('#df-463d1033-a687-402a-a30d-4398dbc07c9a');\n",
              "          const dataTable =\n",
              "            await google.colab.kernel.invokeFunction('convertToInteractive',\n",
              "                                                     [key], {});\n",
              "          if (!dataTable) return;\n",
              "\n",
              "          const docLinkHtml = 'Like what you see? Visit the ' +\n",
              "            '<a target=\"_blank\" href=https://colab.research.google.com/notebooks/data_table.ipynb>data table notebook</a>'\n",
              "            + ' to learn more about interactive tables.';\n",
              "          element.innerHTML = '';\n",
              "          dataTable['output_type'] = 'display_data';\n",
              "          await google.colab.output.renderOutput(dataTable, element);\n",
              "          const docLink = document.createElement('div');\n",
              "          docLink.innerHTML = docLinkHtml;\n",
              "          element.appendChild(docLink);\n",
              "        }\n",
              "      </script>\n",
              "    </div>\n",
              "  </div>\n",
              "  "
            ],
            "text/plain": [
              "                          ks_rank  usd_pledged  backers_count  \\\n",
              "category_Card Game        0.14726     -0.22445       -0.06992   \n",
              "category_Fantasy         -0.13570      0.14490        0.12603   \n",
              "category_Fighting        -0.13620      0.16346        0.10678   \n",
              "category_Science Fiction -0.08730      0.10060        0.07619   \n",
              "category_Dice            -0.00528      0.01929       -0.00174   \n",
              "category_Adventure       -0.16451      0.18641        0.13795   \n",
              "category_Miniatures      -0.26025      0.32467        0.19354   \n",
              "category_Wargame          0.05401      0.01716       -0.11345   \n",
              "category_Humor            0.05384     -0.06518       -0.03843   \n",
              "category_Party Game       0.07123     -0.09646       -0.04384   \n",
              "category_Exploration     -0.11668      0.13218        0.09560   \n",
              "category_Economic        -0.03140      0.04676        0.00401   \n",
              "category_Horror          -0.09817      0.10933        0.08412   \n",
              "\n",
              "                          per_backer_contribution  \n",
              "category_Card Game                        0.06923  \n",
              "category_Fantasy                         -0.12576  \n",
              "category_Fighting                        -0.10660  \n",
              "category_Science Fiction                 -0.07601  \n",
              "category_Dice                             0.00196  \n",
              "category_Adventure                       -0.13779  \n",
              "category_Miniatures                      -0.19345  \n",
              "category_Wargame                          0.11370  \n",
              "category_Humor                            0.03863  \n",
              "category_Party Game                       0.04406  \n",
              "category_Exploration                     -0.09548  \n",
              "category_Economic                        -0.00386  \n",
              "category_Horror                          -0.08400  "
            ]
          },
          "execution_count": 32,
          "metadata": {},
          "output_type": "execute_result"
        }
      ],
      "source": [
        "final_ranked[cat_filter].corr(method='spearman')[corr_set].drop(corr_set)"
      ]
    },
    {
      "cell_type": "code",
      "execution_count": null,
      "metadata": {
        "id": "oRJTk0L4Md1D"
      },
      "outputs": [],
      "source": [
        "del filter_col[1:4]"
      ]
    },
    {
      "cell_type": "code",
      "execution_count": null,
      "metadata": {
        "colab": {
          "base_uri": "https://localhost:8080/"
        },
        "id": "TPpPLr7v8EgP",
        "outputId": "edb495cf-b76e-42ce-ab80-0e9830166a19"
      },
      "outputs": [
        {
          "data": {
            "text/plain": [
              "0.09656714358354955"
            ]
          },
          "execution_count": 35,
          "metadata": {},
          "output_type": "execute_result"
        }
      ],
      "source": [
        "0.0009656714358354955 * 100"
      ]
    },
    {
      "cell_type": "markdown",
      "source": [
        "# Release Channel + Year Data"
      ],
      "metadata": {
        "id": "3mWMwqa0voY1"
      }
    },
    {
      "cell_type": "code",
      "execution_count": null,
      "metadata": {
        "colab": {
          "base_uri": "https://localhost:8080/"
        },
        "id": "kHmrDa_Pz1iJ",
        "outputId": "a8d4a3fc-cade-45fb-c473-c89c3db013a6"
      },
      "outputs": [
        {
          "output_type": "execute_result",
          "data": {
            "text/plain": [
              "Crowdfunding: Kickstarter\n",
              "0.00000    15401\n",
              "1.00000     2834\n",
              "dtype: int64"
            ]
          },
          "metadata": {},
          "execution_count": 4
        }
      ],
      "source": [
        "groupby_ks = final_ranked.groupby('Crowdfunding: Kickstarter')\n",
        "groupby_ks.size()"
      ]
    },
    {
      "cell_type": "code",
      "execution_count": null,
      "metadata": {
        "colab": {
          "base_uri": "https://localhost:8080/"
        },
        "id": "I07f8ib3tyd6",
        "outputId": "0273ebb6-50d7-4fa3-ad3e-0b1634fc46dd"
      },
      "outputs": [
        {
          "output_type": "execute_result",
          "data": {
            "text/plain": [
              "Crowdfunding: Kickstarter\n",
              "0.00000   -3500\n",
              "1.00000    2009\n",
              "Name: year, dtype: int64"
            ]
          },
          "metadata": {},
          "execution_count": 5
        }
      ],
      "source": [
        "groupby_ks['year'].min()"
      ]
    },
    {
      "cell_type": "code",
      "execution_count": null,
      "metadata": {
        "colab": {
          "base_uri": "https://localhost:8080/"
        },
        "id": "FGv3DRCqt0V6",
        "outputId": "6bcfdc2f-759e-450f-91b8-f449363c7bff"
      },
      "outputs": [
        {
          "output_type": "execute_result",
          "data": {
            "text/plain": [
              "Crowdfunding: Kickstarter\n",
              "0.00000    8046\n",
              "1.00000    2834\n",
              "dtype: int64"
            ]
          },
          "metadata": {},
          "execution_count": 6
        }
      ],
      "source": [
        "final_ranked[final_ranked['year'] > 2008].groupby('Crowdfunding: Kickstarter').size()"
      ]
    },
    {
      "cell_type": "code",
      "execution_count": null,
      "metadata": {
        "id": "RRz19shPt2Wa"
      },
      "outputs": [],
      "source": [
        "groupby_year_ks = final_ranked.groupby(['year', 'Crowdfunding: Kickstarter'])\n",
        "year_ks = groupby_year_ks.size().unstack()\n",
        "year_ks.columns = ['Non-KS', 'KS']\n",
        "year_ks.index.names = ['Year']"
      ]
    },
    {
      "cell_type": "code",
      "execution_count": null,
      "metadata": {
        "colab": {
          "base_uri": "https://localhost:8080/",
          "height": 542
        },
        "id": "jBxUNJFxuUxk",
        "outputId": "72693911-3c36-4309-e359-36f61a152784"
      },
      "outputs": [
        {
          "output_type": "display_data",
          "data": {
            "text/html": [
              "<html>\n",
              "<head><meta charset=\"utf-8\" /></head>\n",
              "<body>\n",
              "    <div>            <script src=\"https://cdnjs.cloudflare.com/ajax/libs/mathjax/2.7.5/MathJax.js?config=TeX-AMS-MML_SVG\"></script><script type=\"text/javascript\">if (window.MathJax) {MathJax.Hub.Config({SVG: {font: \"STIX-Web\"}});}</script>                <script type=\"text/javascript\">window.PlotlyConfig = {MathJaxConfig: 'local'};</script>\n",
              "        <script src=\"https://cdn.plot.ly/plotly-2.8.3.min.js\"></script>                <div id=\"ccc47a44-8ef2-4752-bde8-434833ad2ff5\" class=\"plotly-graph-div\" style=\"height:525px; width:100%;\"></div>            <script type=\"text/javascript\">                                    window.PLOTLYENV=window.PLOTLYENV || {};                                    if (document.getElementById(\"ccc47a44-8ef2-4752-bde8-434833ad2ff5\")) {                    Plotly.newPlot(                        \"ccc47a44-8ef2-4752-bde8-434833ad2ff5\",                        [{\"alignmentgroup\":\"True\",\"hovertemplate\":\"variable=Non-KS<br>Year=%{x}<br>BGG-Ranked Games Published=%{y}<extra></extra>\",\"legendgroup\":\"Non-KS\",\"marker\":{\"color\":\"#3f3a5f\",\"pattern\":{\"shape\":\"\"}},\"name\":\"Non-KS\",\"offsetgroup\":\"Non-KS\",\"orientation\":\"v\",\"showlegend\":true,\"textposition\":\"auto\",\"x\":[2000,2001,2002,2003,2004,2005,2006,2007,2008,2009,2010,2011,2012,2013,2014,2015,2016,2017,2018,2019,2020,2021],\"xaxis\":\"x\",\"y\":[258.0,248.0,266.0,345.0,393.0,438.0,418.0,444.0,493.0,533.0,555.0,581.0,592.0,538.0,599.0,675.0,721.0,771.0,738.0,750.0,583.0,410.0],\"yaxis\":\"y\",\"type\":\"bar\"},{\"alignmentgroup\":\"True\",\"hovertemplate\":\"variable=KS<br>Year=%{x}<br>BGG-Ranked Games Published=%{y}<extra></extra>\",\"legendgroup\":\"KS\",\"marker\":{\"color\":\"#08ce78\",\"pattern\":{\"shape\":\"\"}},\"name\":\"KS\",\"offsetgroup\":\"KS\",\"orientation\":\"v\",\"showlegend\":true,\"textposition\":\"auto\",\"x\":[2000,2001,2002,2003,2004,2005,2006,2007,2008,2009,2010,2011,2012,2013,2014,2015,2016,2017,2018,2019,2020,2021],\"xaxis\":\"x\",\"y\":[null,null,null,null,null,null,null,null,null,7.0,13.0,35.0,103.0,190.0,275.0,325.0,344.0,302.0,338.0,349.0,266.0,287.0],\"yaxis\":\"y\",\"type\":\"bar\"}],                        {\"template\":{\"data\":{\"barpolar\":[{\"marker\":{\"line\":{\"color\":\"white\",\"width\":0.5},\"pattern\":{\"fillmode\":\"overlay\",\"size\":10,\"solidity\":0.2}},\"type\":\"barpolar\"}],\"bar\":[{\"error_x\":{\"color\":\"#2a3f5f\"},\"error_y\":{\"color\":\"#2a3f5f\"},\"marker\":{\"line\":{\"color\":\"white\",\"width\":0.5},\"pattern\":{\"fillmode\":\"overlay\",\"size\":10,\"solidity\":0.2}},\"type\":\"bar\"}],\"carpet\":[{\"aaxis\":{\"endlinecolor\":\"#2a3f5f\",\"gridcolor\":\"#C8D4E3\",\"linecolor\":\"#C8D4E3\",\"minorgridcolor\":\"#C8D4E3\",\"startlinecolor\":\"#2a3f5f\"},\"baxis\":{\"endlinecolor\":\"#2a3f5f\",\"gridcolor\":\"#C8D4E3\",\"linecolor\":\"#C8D4E3\",\"minorgridcolor\":\"#C8D4E3\",\"startlinecolor\":\"#2a3f5f\"},\"type\":\"carpet\"}],\"choropleth\":[{\"colorbar\":{\"outlinewidth\":0,\"ticks\":\"\"},\"type\":\"choropleth\"}],\"contourcarpet\":[{\"colorbar\":{\"outlinewidth\":0,\"ticks\":\"\"},\"type\":\"contourcarpet\"}],\"contour\":[{\"colorbar\":{\"outlinewidth\":0,\"ticks\":\"\"},\"colorscale\":[[0.0,\"#0d0887\"],[0.1111111111111111,\"#46039f\"],[0.2222222222222222,\"#7201a8\"],[0.3333333333333333,\"#9c179e\"],[0.4444444444444444,\"#bd3786\"],[0.5555555555555556,\"#d8576b\"],[0.6666666666666666,\"#ed7953\"],[0.7777777777777778,\"#fb9f3a\"],[0.8888888888888888,\"#fdca26\"],[1.0,\"#f0f921\"]],\"type\":\"contour\"}],\"heatmapgl\":[{\"colorbar\":{\"outlinewidth\":0,\"ticks\":\"\"},\"colorscale\":[[0.0,\"#0d0887\"],[0.1111111111111111,\"#46039f\"],[0.2222222222222222,\"#7201a8\"],[0.3333333333333333,\"#9c179e\"],[0.4444444444444444,\"#bd3786\"],[0.5555555555555556,\"#d8576b\"],[0.6666666666666666,\"#ed7953\"],[0.7777777777777778,\"#fb9f3a\"],[0.8888888888888888,\"#fdca26\"],[1.0,\"#f0f921\"]],\"type\":\"heatmapgl\"}],\"heatmap\":[{\"colorbar\":{\"outlinewidth\":0,\"ticks\":\"\"},\"colorscale\":[[0.0,\"#0d0887\"],[0.1111111111111111,\"#46039f\"],[0.2222222222222222,\"#7201a8\"],[0.3333333333333333,\"#9c179e\"],[0.4444444444444444,\"#bd3786\"],[0.5555555555555556,\"#d8576b\"],[0.6666666666666666,\"#ed7953\"],[0.7777777777777778,\"#fb9f3a\"],[0.8888888888888888,\"#fdca26\"],[1.0,\"#f0f921\"]],\"type\":\"heatmap\"}],\"histogram2dcontour\":[{\"colorbar\":{\"outlinewidth\":0,\"ticks\":\"\"},\"colorscale\":[[0.0,\"#0d0887\"],[0.1111111111111111,\"#46039f\"],[0.2222222222222222,\"#7201a8\"],[0.3333333333333333,\"#9c179e\"],[0.4444444444444444,\"#bd3786\"],[0.5555555555555556,\"#d8576b\"],[0.6666666666666666,\"#ed7953\"],[0.7777777777777778,\"#fb9f3a\"],[0.8888888888888888,\"#fdca26\"],[1.0,\"#f0f921\"]],\"type\":\"histogram2dcontour\"}],\"histogram2d\":[{\"colorbar\":{\"outlinewidth\":0,\"ticks\":\"\"},\"colorscale\":[[0.0,\"#0d0887\"],[0.1111111111111111,\"#46039f\"],[0.2222222222222222,\"#7201a8\"],[0.3333333333333333,\"#9c179e\"],[0.4444444444444444,\"#bd3786\"],[0.5555555555555556,\"#d8576b\"],[0.6666666666666666,\"#ed7953\"],[0.7777777777777778,\"#fb9f3a\"],[0.8888888888888888,\"#fdca26\"],[1.0,\"#f0f921\"]],\"type\":\"histogram2d\"}],\"histogram\":[{\"marker\":{\"pattern\":{\"fillmode\":\"overlay\",\"size\":10,\"solidity\":0.2}},\"type\":\"histogram\"}],\"mesh3d\":[{\"colorbar\":{\"outlinewidth\":0,\"ticks\":\"\"},\"type\":\"mesh3d\"}],\"parcoords\":[{\"line\":{\"colorbar\":{\"outlinewidth\":0,\"ticks\":\"\"}},\"type\":\"parcoords\"}],\"pie\":[{\"automargin\":true,\"type\":\"pie\"}],\"scatter3d\":[{\"line\":{\"colorbar\":{\"outlinewidth\":0,\"ticks\":\"\"}},\"marker\":{\"colorbar\":{\"outlinewidth\":0,\"ticks\":\"\"}},\"type\":\"scatter3d\"}],\"scattercarpet\":[{\"marker\":{\"colorbar\":{\"outlinewidth\":0,\"ticks\":\"\"}},\"type\":\"scattercarpet\"}],\"scattergeo\":[{\"marker\":{\"colorbar\":{\"outlinewidth\":0,\"ticks\":\"\"}},\"type\":\"scattergeo\"}],\"scattergl\":[{\"marker\":{\"colorbar\":{\"outlinewidth\":0,\"ticks\":\"\"}},\"type\":\"scattergl\"}],\"scattermapbox\":[{\"marker\":{\"colorbar\":{\"outlinewidth\":0,\"ticks\":\"\"}},\"type\":\"scattermapbox\"}],\"scatterpolargl\":[{\"marker\":{\"colorbar\":{\"outlinewidth\":0,\"ticks\":\"\"}},\"type\":\"scatterpolargl\"}],\"scatterpolar\":[{\"marker\":{\"colorbar\":{\"outlinewidth\":0,\"ticks\":\"\"}},\"type\":\"scatterpolar\"}],\"scatter\":[{\"marker\":{\"colorbar\":{\"outlinewidth\":0,\"ticks\":\"\"}},\"type\":\"scatter\"}],\"scatterternary\":[{\"marker\":{\"colorbar\":{\"outlinewidth\":0,\"ticks\":\"\"}},\"type\":\"scatterternary\"}],\"surface\":[{\"colorbar\":{\"outlinewidth\":0,\"ticks\":\"\"},\"colorscale\":[[0.0,\"#0d0887\"],[0.1111111111111111,\"#46039f\"],[0.2222222222222222,\"#7201a8\"],[0.3333333333333333,\"#9c179e\"],[0.4444444444444444,\"#bd3786\"],[0.5555555555555556,\"#d8576b\"],[0.6666666666666666,\"#ed7953\"],[0.7777777777777778,\"#fb9f3a\"],[0.8888888888888888,\"#fdca26\"],[1.0,\"#f0f921\"]],\"type\":\"surface\"}],\"table\":[{\"cells\":{\"fill\":{\"color\":\"#EBF0F8\"},\"line\":{\"color\":\"white\"}},\"header\":{\"fill\":{\"color\":\"#C8D4E3\"},\"line\":{\"color\":\"white\"}},\"type\":\"table\"}]},\"layout\":{\"annotationdefaults\":{\"arrowcolor\":\"#2a3f5f\",\"arrowhead\":0,\"arrowwidth\":1},\"autotypenumbers\":\"strict\",\"coloraxis\":{\"colorbar\":{\"outlinewidth\":0,\"ticks\":\"\"}},\"colorscale\":{\"diverging\":[[0,\"#8e0152\"],[0.1,\"#c51b7d\"],[0.2,\"#de77ae\"],[0.3,\"#f1b6da\"],[0.4,\"#fde0ef\"],[0.5,\"#f7f7f7\"],[0.6,\"#e6f5d0\"],[0.7,\"#b8e186\"],[0.8,\"#7fbc41\"],[0.9,\"#4d9221\"],[1,\"#276419\"]],\"sequential\":[[0.0,\"#0d0887\"],[0.1111111111111111,\"#46039f\"],[0.2222222222222222,\"#7201a8\"],[0.3333333333333333,\"#9c179e\"],[0.4444444444444444,\"#bd3786\"],[0.5555555555555556,\"#d8576b\"],[0.6666666666666666,\"#ed7953\"],[0.7777777777777778,\"#fb9f3a\"],[0.8888888888888888,\"#fdca26\"],[1.0,\"#f0f921\"]],\"sequentialminus\":[[0.0,\"#0d0887\"],[0.1111111111111111,\"#46039f\"],[0.2222222222222222,\"#7201a8\"],[0.3333333333333333,\"#9c179e\"],[0.4444444444444444,\"#bd3786\"],[0.5555555555555556,\"#d8576b\"],[0.6666666666666666,\"#ed7953\"],[0.7777777777777778,\"#fb9f3a\"],[0.8888888888888888,\"#fdca26\"],[1.0,\"#f0f921\"]]},\"colorway\":[\"#636efa\",\"#EF553B\",\"#00cc96\",\"#ab63fa\",\"#FFA15A\",\"#19d3f3\",\"#FF6692\",\"#B6E880\",\"#FF97FF\",\"#FECB52\"],\"font\":{\"color\":\"#2a3f5f\"},\"geo\":{\"bgcolor\":\"white\",\"lakecolor\":\"white\",\"landcolor\":\"white\",\"showlakes\":true,\"showland\":true,\"subunitcolor\":\"#C8D4E3\"},\"hoverlabel\":{\"align\":\"left\"},\"hovermode\":\"closest\",\"mapbox\":{\"style\":\"light\"},\"paper_bgcolor\":\"white\",\"plot_bgcolor\":\"white\",\"polar\":{\"angularaxis\":{\"gridcolor\":\"#EBF0F8\",\"linecolor\":\"#EBF0F8\",\"ticks\":\"\"},\"bgcolor\":\"white\",\"radialaxis\":{\"gridcolor\":\"#EBF0F8\",\"linecolor\":\"#EBF0F8\",\"ticks\":\"\"}},\"scene\":{\"xaxis\":{\"backgroundcolor\":\"white\",\"gridcolor\":\"#DFE8F3\",\"gridwidth\":2,\"linecolor\":\"#EBF0F8\",\"showbackground\":true,\"ticks\":\"\",\"zerolinecolor\":\"#EBF0F8\"},\"yaxis\":{\"backgroundcolor\":\"white\",\"gridcolor\":\"#DFE8F3\",\"gridwidth\":2,\"linecolor\":\"#EBF0F8\",\"showbackground\":true,\"ticks\":\"\",\"zerolinecolor\":\"#EBF0F8\"},\"zaxis\":{\"backgroundcolor\":\"white\",\"gridcolor\":\"#DFE8F3\",\"gridwidth\":2,\"linecolor\":\"#EBF0F8\",\"showbackground\":true,\"ticks\":\"\",\"zerolinecolor\":\"#EBF0F8\"}},\"shapedefaults\":{\"line\":{\"color\":\"#2a3f5f\"}},\"ternary\":{\"aaxis\":{\"gridcolor\":\"#DFE8F3\",\"linecolor\":\"#A2B1C6\",\"ticks\":\"\"},\"baxis\":{\"gridcolor\":\"#DFE8F3\",\"linecolor\":\"#A2B1C6\",\"ticks\":\"\"},\"bgcolor\":\"white\",\"caxis\":{\"gridcolor\":\"#DFE8F3\",\"linecolor\":\"#A2B1C6\",\"ticks\":\"\"}},\"title\":{\"x\":0.05},\"xaxis\":{\"automargin\":true,\"gridcolor\":\"#EBF0F8\",\"linecolor\":\"#EBF0F8\",\"ticks\":\"\",\"title\":{\"standoff\":15},\"zerolinecolor\":\"#EBF0F8\",\"zerolinewidth\":2},\"yaxis\":{\"automargin\":true,\"gridcolor\":\"#EBF0F8\",\"linecolor\":\"#EBF0F8\",\"ticks\":\"\",\"title\":{\"standoff\":15},\"zerolinecolor\":\"#EBF0F8\",\"zerolinewidth\":2}}},\"xaxis\":{\"anchor\":\"y\",\"domain\":[0.0,1.0],\"title\":{\"text\":\"Year\"}},\"yaxis\":{\"anchor\":\"x\",\"domain\":[0.0,1.0],\"title\":{\"text\":\"BGG-Ranked Games Published\"}},\"legend\":{\"title\":{\"text\":\"variable\"},\"tracegroupgap\":0},\"margin\":{\"t\":60},\"barmode\":\"group\",\"showlegend\":false},                        {\"responsive\": true}                    ).then(function(){\n",
              "                            \n",
              "var gd = document.getElementById('ccc47a44-8ef2-4752-bde8-434833ad2ff5');\n",
              "var x = new MutationObserver(function (mutations, observer) {{\n",
              "        var display = window.getComputedStyle(gd).display;\n",
              "        if (!display || display === 'none') {{\n",
              "            console.log([gd, 'removed!']);\n",
              "            Plotly.purge(gd);\n",
              "            observer.disconnect();\n",
              "        }}\n",
              "}});\n",
              "\n",
              "// Listen for the removal of the full notebook cells\n",
              "var notebookContainer = gd.closest('#notebook-container');\n",
              "if (notebookContainer) {{\n",
              "    x.observe(notebookContainer, {childList: true});\n",
              "}}\n",
              "\n",
              "// Listen for the clearing of the current output cell\n",
              "var outputEl = gd.closest('.output');\n",
              "if (outputEl) {{\n",
              "    x.observe(outputEl, {childList: true});\n",
              "}}\n",
              "\n",
              "                        })                };                            </script>        </div>\n",
              "</body>\n",
              "</html>"
            ]
          },
          "metadata": {}
        }
      ],
      "source": [
        "fig = px.bar(year_ks.loc[year_ks.index >= 2000],\n",
        "             barmode='group',\n",
        "              color_discrete_map={\n",
        "                  'KS': '#08ce78',\n",
        "                  'Non-KS': '#3f3a5f'\n",
        "              },\n",
        "             template='plotly_white',\n",
        "             labels={'value': 'BGG-Ranked Games Published'})\n",
        "fig.update_layout(showlegend=False)\n",
        "fig.show()"
      ]
    },
    {
      "cell_type": "code",
      "execution_count": null,
      "metadata": {
        "colab": {
          "base_uri": "https://localhost:8080/",
          "height": 542
        },
        "id": "gTsIzKjYuVrq",
        "outputId": "c23d6c41-cf40-453c-c0e8-c5448c5e1819"
      },
      "outputs": [
        {
          "output_type": "display_data",
          "data": {
            "text/html": [
              "<html>\n",
              "<head><meta charset=\"utf-8\" /></head>\n",
              "<body>\n",
              "    <div>            <script src=\"https://cdnjs.cloudflare.com/ajax/libs/mathjax/2.7.5/MathJax.js?config=TeX-AMS-MML_SVG\"></script><script type=\"text/javascript\">if (window.MathJax) {MathJax.Hub.Config({SVG: {font: \"STIX-Web\"}});}</script>                <script type=\"text/javascript\">window.PlotlyConfig = {MathJaxConfig: 'local'};</script>\n",
              "        <script src=\"https://cdn.plot.ly/plotly-2.8.3.min.js\"></script>                <div id=\"abd2f9d3-e7d7-44a5-a173-41410bc442bd\" class=\"plotly-graph-div\" style=\"height:525px; width:100%;\"></div>            <script type=\"text/javascript\">                                    window.PLOTLYENV=window.PLOTLYENV || {};                                    if (document.getElementById(\"abd2f9d3-e7d7-44a5-a173-41410bc442bd\")) {                    Plotly.newPlot(                        \"abd2f9d3-e7d7-44a5-a173-41410bc442bd\",                        [{\"legendgroup\":\"Non-KS\",\"line\":{\"color\":\"purple\"},\"name\":\"Non-KS\",\"scalegroup\":\"Non-KS\",\"side\":\"negative\",\"x\":[2015,2020,2016,2017,2017,2016,2011,2015,2016,2020,2011,2015,2013,2012,2016,2019,2016,2015,2014,2019,2011,2020,2020,2015,2013,2019,2019,2018,2021,2017,2016,2019,2012,2014,2016,2018,2017,2011,2012,2020,2016,2014,2012,2018,2014,2015,2010,2016,2012,2010,2015,2021,2012,2010,2009,2019,2015,2013,2016,2014,2013,2018,2011,2016,2015,2014,2016,2017,2019,2015,2016,2015,2012,2016,2019,2014,2020,2014,2012,2019,2012,2009,2018,2014,2011,2018,2012,2019,2009,2018,2017,2017,2009,2019,2018,2014,2019,2014,2011,2020,2011,2011,2012,2016,2011,2016,2013,2018,2015,2018,2018,2017,2014,2019,2018,2014,2016,2015,2009,2020,2012,2014,2019,2017,2016,2020,2013,2016,2015,2009,2020,2013,2017,2013,2019,2016,2012,2014,2011,2019,2011,2013,2020,2019,2019,2014,2015,2014,2010,2017,2017,2011,2016,2016,2014,2010,2020,2009,2018,2013,2009,2017,2020,2020,2013,2017,2013,2015,2020,2020,2009,2018,2012,2009,2018,2010,2015,2011,2012,2010,2015,2017,2009,2011,2012,2015,2017,2016,2017,2016,2020,2009,2017,2018,2011,2009,2013,2018,2019,2016,2018,2010,2011,2012,2018,2020,2014,2017,2015,2018,2014,2009,2016,2017,2009,2012,2012,2017,2009,2017,2019,2012,2010,2009,2017,2013,2012,2021,2019,2017,2019,2011,2019,2021,2010,2011,2016,2011,2016,2011,2014,2021,2010,2014,2016,2020,2018,2011,2013,2017,2015,2014,2019,2018,2014,2010,2010,2019,2016,2013,2010,2011,2020,2018,2014,2013,2012,2010,2016,2012,2016,2016,2011,2015,2020,2017,2015,2018,2011,2020,2012,2019,2018,2009,2015,2011,2014,2017,2020,2013,2010,2009,2015,2011,2019,2018,2013,2012,2016,2015,2017,2011,2015,2016,2011,2018,2021,2014,2015,2020,2009,2019,2019,2009,2015,2016,2009,2018,2012,2016,2015,2011,2019,2013,2019,2012,2015,2010,2014,2019,2012,2016,2017,2019,2021,2016,2009,2013,2011,2015,2020,2012,2016,2011,2010,2012,2013,2015,2012,2011,2015,2018,2015,2010,2012,2017,2014,2015,2009,2014,2013,2015,2017,2011,2016,2013,2010,2017,2014,2014,2019,2018,2018,2015,2019,2018,2010,2017,2018,2010,2017,2020,2009,2019,2009,2015,2010,2012,2013,2015,2018,2018,2017,2017,2009,2009,2021,2016,2015,2014,2012,2021,2016,2019,2019,2011,2014,2014,2018,2020,2010,2014,2014,2009,2019,2011,2015,2017,2020,2018,2014,2009,2012,2019,2016,2016,2015,2017,2018,2018,2014,2014,2016,2018,2019,2014,2013,2017,2012,2013,2015,2017,2015,2014,2017,2014,2009,2019,2015,2020,2012,2012,2018,2012,2009,2010,2012,2014,2011,2009,2014,2017,2011,2021,2014,2019,2011,2009,2012,2011,2017,2018,2017,2010,2011,2016,2011,2013,2021,2011,2019,2016,2010,2019,2013,2018,2018,2016,2017,2015,2017,2017,2012,2020,2015,2021,2017,2018,2011,2015,2015,2015,2020,2012,2016,2014,2020,2010,2019,2010,2016,2014,2018,2015,2012,2014,2016,2012,2014,2010,2017,2021,2017,2012,2010,2014,2018,2012,2014,2011,2017,2016,2017,2019,2013,2014,2020,2019,2016,2015,2018,2017,2016,2009,2015,2011,2016,2019,2009,2017,2013,2009,2014,2016,2014,2021,2012,2019,2016,2019,2014,2011,2014,2014,2013,2019,2018,2010,2021,2015,2011,2016,2021,2014,2012,2021,2014,2011,2017,2021,2019,2019,2010,2014,2017,2012,2015,2015,2017,2010,2011,2015,2015,2017,2013,2009,2013,2011,2013,2018,2019,2017,2016,2014,2018,2016,2014,2013,2012,2014,2015,2016,2020,2017,2018,2020,2011,2016,2013,2019,2009,2020,2010,2018,2011,2020,2017,2015,2021,2012,2015,2015,2013,2014,2011,2014,2011,2019,2009,2016,2016,2013,2021,2021,2012,2017,2012,2009,2010,2018,2018,2016,2017,2013,2014,2009,2012,2015,2011,2009,2018,2010,2017,2017,2019,2010,2020,2020,2019,2019,2016,2015,2015,2020,2017,2020,2010,2012,2020,2011,2020,2013,2020,2016,2017,2013,2017,2010,2013,2017,2020,2015,2017,2009,2014,2014,2013,2017,2015,2010,2017,2020,2018,2013,2018,2018,2021,2015,2016,2015,2011,2018,2020,2015,2017,2018,2018,2019,2011,2014,2017,2011,2021,2018,2013,2015,2019,2019,2010,2021,2012,2014,2017,2017,2015,2018,2009,2020,2019,2015,2010,2016,2014,2015,2016,2014,2016,2012,2020,2013,2016,2019,2013,2017,2010,2015,2019,2016,2019,2018,2011,2018,2012,2013,2009,2019,2014,2017,2018,2016,2012,2013,2015,2011,2010,2017,2020,2019,2020,2016,2019,2019,2017,2014,2017,2011,2018,2016,2012,2009,2013,2018,2011,2009,2018,2016,2021,2009,2018,2020,2018,2019,2016,2017,2019,2015,2012,2017,2011,2016,2010,2014,2017,2010,2011,2018,2017,2019,2017,2020,2021,2017,2010,2015,2015,2019,2017,2011,2014,2017,2013,2013,2015,2019,2015,2017,2018,2011,2016,2013,2019,2018,2018,2016,2013,2013,2015,2009,2012,2013,2012,2019,2015,2015,2020,2015,2020,2019,2016,2012,2015,2016,2017,2017,2020,2019,2019,2017,2011,2010,2015,2019,2015,2018,2009,2009,2020,2015,2010,2009,2017,2010,2021,2019,2018,2018,2013,2019,2010,2021,2015,2020,2017,2019,2014,2019,2017,2018,2013,2019,2010,2016,2009,2010,2011,2018,2013,2010,2020,2010,2015,2021,2016,2016,2013,2019,2020,2018,2017,2010,2018,2019,2012,2011,2015,2018,2014,2019,2016,2019,2013,2016,2015,2010,2020,2016,2021,2020,2019,2015,2019,2018,2018,2010,2017,2021,2019,2016,2013,2016,2010,2011,2015,2012,2017,2017,2017,2019,2014,2013,2012,2013,2018,2019,2010,2020,2021,2011,2015,2021,2009,2010,2016,2012,2015,2009,2017,2009,2014,2017,2014,2016,2015,2015,2017,2012,2021,2021,2015,2009,2011,2017,2010,2016,2009,2018,2020,2010,2018,2013,2009,2016,2011,2015,2013,2017,2010,2010,2017,2019,2020,2012,2012,2009,2017,2020,2015,2017,2012,2021,2013,2017,2016,2019,2010,2016,2020,2016,2010,2013,2012,2010,2012,2020,2011,2013,2017,2019,2011,2017,2010,2011,2014,2009,2017,2015,2016,2010,2015,2018,2011,2017,2011,2017,2014,2010,2019,2014,2021,2009,2019,2014,2016,2014,2010,2021,2021,2011,2019,2017,2009,2014,2014,2016,2012,2019,2016,2017,2010,2015,2017,2013,2009,2019,2009,2017,2020,2010,2014,2014,2014,2016,2016,2013,2009,2016,2019,2016,2009,2018,2016,2017,2020,2021,2011,2019,2016,2020,2013,2010,2015,2010,2019,2018,2013,2021,2016,2015,2016,2019,2021,2016,2017,2013,2013,2019,2017,2016,2015,2012,2010,2021,2018,2013,2017,2021,2019,2009,2013,2017,2017,2017,2016,2017,2016,2020,2015,2018,2010,2021,2014,2012,2017,2021,2011,2018,2018,2018,2020,2010,2016,2010,2018,2016,2012,2012,2016,2010,2018,2013,2018,2017,2020,2009,2018,2019,2010,2019,2010,2018,2013,2009,2018,2021,2016,2014,2019,2010,2011,2017,2012,2012,2011,2018,2019,2019,2020,2019,2017,2012,2018,2018,2019,2013,2010,2018,2020,2019,2013,2014,2011,2020,2014,2020,2019,2015,2018,2018,2017,2015,2011,2011,2018,2017,2017,2016,2014,2009,2010,2017,2020,2016,2012,2021,2015,2019,2015,2019,2013,2017,2021,2019,2012,2019,2017,2019,2020,2009,2019,2012,2020,2011,2012,2009,2013,2019,2017,2018,2020,2014,2015,2020,2016,2012,2019,2018,2017,2009,2017,2020,2012,2011,2020,2018,2020,2016,2017,2014,2011,2012,2021,2016,2020,2013,2021,2013,2015,2016,2009,2018,2009,2019,2021,2011,2019,2016,2016,2015,2014,2020,2009,2018,2021,2013,2017,2012,2016,2019,2011,2020,2015,2015,2017,2016,2018,2017,2019,2011,2021,2018,2016,2019,2012,2016,2017,2019,2017,2013,2010,2015,2017,2011,2019,2015,2010,2018,2009,2017,2017,2013,2018,2017,2012,2017,2018,2010,2017,2018,2015,2014,2016,2017,2016,2012,2010,2019,2018,2014,2017,2020,2018,2015,2020,2017,2018,2010,2016,2013,2011,2019,2009,2019,2020,2021,2010,2009,2016,2017,2012,2020,2021,2021,2011,2012,2012,2016,2017,2019,2012,2020,2019,2009,2016,2019,2021,2013,2021,2015,2011,2017,2017,2009,2010,2015,2013,2020,2018,2012,2020,2016,2017,2020,2015,2020,2020,2020,2013,2017,2015,2016,2016,2017,2016,2016,2017,2015,2019,2019,2009,2017,2019,2009,2013,2017,2018,2018,2015,2013,2018,2010,2021,2017,2013,2016,2020,2018,2021,2013,2013,2012,2016,2018,2020,2016,2015,2017,2019,2020,2018,2021,2016,2016,2019,2018,2019,2010,2018,2014,2013,2009,2015,2017,2010,2015,2013,2012,2018,2020,2013,2016,2012,2016,2020,2014,2019,2020,2015,2015,2021,2018,2021,2013,2013,2013,2020,2017,2017,2009,2015,2020,2017,2020,2013,2013,2009,2011,2019,2009,2018,2015,2018,2013,2016,2016,2014,2011,2018,2019,2018,2009,2019,2012,2015,2019,2011,2011,2014,2021,2015,2017,2010,2011,2010,2019,2012,2014,2018,2011,2017,2009,2016,2011,2009,2014,2018,2016,2014,2018,2013,2016,2020,2011,2014,2019,2020,2019,2020,2020,2010,2011,2018,2014,2018,2012,2018,2014,2010,2019,2009,2016,2021,2011,2012,2018,2017,2019,2015,2019,2015,2014,2017,2017,2019,2016,2012,2015,2012,2010,2010,2014,2010,2016,2016,2019,2019,2011,2018,2010,2009,2016,2011,2020,2016,2018,2015,2019,2012,2012,2016,2017,2019,2019,2010,2011,2015,2020,2009,2015,2016,2017,2011,2017,2018,2018,2010,2012,2018,2015,2010,2021,2009,2013,2015,2018,2018,2016,2020,2019,2019,2019,2018,2009,2021,2020,2019,2009,2016,2014,2014,2018,2010,2015,2019,2020,2016,2012,2012,2014,2019,2016,2021,2011,2018,2017,2018,2018,2015,2021,2019,2019,2019,2019,2018,2015,2010,2016,2016,2021,2016,2017,2010,2015,2016,2018,2018,2017,2014,2020,2009,2021,2010,2012,2019,2017,2019,2019,2020,2019,2009,2018,2016,2014,2016,2013,2009,2020,2020,2019,2012,2019,2011,2018,2010,2017,2020,2014,2018,2016,2020,2010,2011,2021,2018,2019,2011,2019,2017,2009,2016,2014,2012,2009,2011,2016,2015,2011,2011,2019,2018,2011,2019,2012,2016,2017,2017,2021,2017,2020,2010,2012,2015,2018,2011,2018,2017,2012,2013,2021,2014,2020,2017,2009,2019,2019,2018,2011,2010,2019,2016,2018,2019,2011,2020,2015,2011,2012,2010,2012,2016,2010,2020,2021,2016,2011,2010,2010,2013,2020,2014,2014,2017,2015,2017,2016,2012,2017,2010,2021,2012,2017,2013,2020,2017,2010,2020,2018,2013,2012,2017,2021,2016,2013,2019,2016,2011,2012,2017,2016,2017,2019,2012,2018,2013,2017,2021,2020,2021,2012,2009,2011,2015,2015,2017,2019,2015,2018,2009,2010,2019,2021,2009,2018,2009,2012,2019,2016,2016,2018,2014,2018,2009,2018,2020,2018,2019,2017,2018,2018,2016,2018,2018,2019,2011,2017,2015,2019,2016,2018,2010,2019,2021,2019,2010,2014,2009,2012,2017,2019,2015,2018,2017,2016,2020,2018,2014,2015,2009,2009,2010,2019,2020,2020,2019,2012,2018,2014,2013,2021,2012,2017,2018,2019,2014,2015,2009,2011,2012,2015,2014,2019,2011,2009,2020,2017,2016,2020,2013,2019,2016,2020,2014,2018,2018,2019,2020,2014,2014,2019,2011,2020,2019,2020,2014,2009,2018,2014,2019,2019,2017,2014,2014,2020,2020,2016,2016,2013,2012,2018,2017,2011,2010,2018,2009,2018,2018,2015,2014,2015,2017,2015,2015,2020,2019,2010,2015,2013,2016,2011,2018,2018,2019,2012,2013,2012,2018,2021,2017,2017,2011,2021,2017,2017,2017,2014,2009,2017,2010,2009,2014,2017,2017,2018,2009,2015,2019,2020,2009,2009,2012,2016,2017,2013,2014,2012,2009,2017,2011,2020,2013,2021,2021,2018,2015,2015,2016,2018,2021,2016,2012,2012,2010,2010,2015,2021,2009,2014,2021,2011,2009,2009,2021,2019,2017,2012,2017,2011,2011,2017,2020,2014,2017,2012,2017,2014,2017,2019,2019,2019,2013,2015,2011,2017,2019,2015,2010,2011,2019,2019,2016,2021,2018,2018,2019,2018,2009,2021,2011,2014,2016,2017,2012,2020,2020,2017,2013,2013,2017,2014,2012,2017,2016,2017,2012,2016,2019,2020,2018,2018,2014,2019,2020,2018,2020,2009,2009,2020,2014,2016,2016,2012,2016,2018,2020,2012,2010,2013,2015,2010,2013,2021,2010,2019,2010,2010,2010,2018,2018,2013,2021,2019,2013,2019,2019,2018,2017,2018,2015,2015,2019,2013,2014,2009,2009,2010,2018,2017,2016,2019,2019,2017,2021,2009,2021,2009,2015,2013,2016,2010,2017,2011,2019,2016,2012,2013,2018,2011,2009,2020,2015,2011,2011,2021,2021,2012,2011,2017,2021,2012,2017,2016,2009,2014,2020,2009,2014,2018,2017,2017,2012,2014,2012,2013,2020,2010,2019,2018,2012,2016,2009,2018,2018,2019,2016,2010,2019,2019,2012,2018,2016,2009,2017,2017,2021,2011,2018,2010,2015,2019,2011,2011,2011,2020,2009,2016,2017,2016,2012,2016,2017,2020,2016,2019,2013,2018,2009,2019,2019,2018,2015,2014,2009,2015,2021,2020,2012,2018,2019,2015,2016,2010,2016,2010,2018,2016,2019,2017,2020,2017,2015,2020,2019,2011,2018,2017,2020,2019,2012,2020,2016,2013,2014,2018,2019,2014,2017,2016,2020,2013,2014,2012,2015,2016,2015,2017,2014,2020,2018,2012,2014,2012,2017,2010,2019,2012,2018,2012,2014,2019,2018,2012,2014,2018,2019,2009,2013,2019,2015,2013,2020,2015,2019,2012,2011,2013,2012,2018,2011,2019,2015,2014,2018,2012,2012,2019,2010,2010,2012,2015,2017,2015,2013,2015,2013,2016,2017,2020,2018,2019,2013,2021,2020,2020,2014,2018,2010,2021,2013,2019,2017,2012,2016,2018,2019,2015,2017,2013,2014,2016,2009,2018,2015,2013,2012,2019,2016,2021,2015,2017,2016,2020,2015,2016,2021,2016,2015,2015,2011,2020,2020,2011,2012,2020,2021,2021,2017,2017,2019,2012,2017,2010,2016,2012,2015,2019,2009,2010,2015,2012,2014,2014,2010,2020,2019,2011,2016,2017,2011,2011,2012,2017,2018,2020,2012,2016,2017,2019,2012,2016,2019,2015,2020,2012,2011,2016,2009,2018,2015,2016,2015,2018,2011,2014,2018,2021,2020,2012,2016,2019,2017,2021,2019,2016,2016,2009,2020,2017,2017,2015,2010,2019,2018,2018,2021,2012,2017,2014,2012,2017,2018,2018,2010,2019,2011,2017,2020,2021,2019,2018,2009,2020,2019,2012,2013,2013,2021,2020,2020,2017,2020,2010,2018,2015,2010,2009,2012,2010,2017,2011,2020,2020,2019,2014,2017,2017,2016,2018,2019,2020,2012,2021,2009,2014,2016,2010,2013,2015,2014,2017,2019,2018,2013,2009,2012,2018,2019,2013,2017,2019,2018,2011,2014,2015,2012,2017,2011,2010,2017,2019,2018,2019,2019,2019,2009,2010,2012,2014,2015,2017,2018,2015,2012,2020,2020,2009,2015,2010,2018,2014,2017,2014,2016,2015,2021,2011,2009,2021,2010,2016,2013,2021,2017,2014,2016,2015,2017,2014,2020,2014,2017,2012,2015,2021,2016,2016,2018,2015,2015,2009,2015,2011,2021,2020,2014,2015,2016,2010,2018,2021,2012,2018,2011,2020,2017,2015,2014,2014,2015,2014,2014,2011,2017,2009,2020,2018,2016,2015,2012,2012,2020,2019,2021,2010,2012,2014,2010,2011,2021,2016,2021,2016,2012,2019,2015,2012,2021,2018,2016,2010,2015,2017,2019,2016,2017,2018,2013,2014,2017,2010,2021,2015,2009,2019,2019,2016,2014,2015,2019,2016,2010,2013,2017,2018,2014,2017,2011,2020,2018,2019,2010,2018,2019,2019,2020,2017,2012,2015,2012,2013,2019,2014,2019,2018,2017,2009,2019,2017,2021,2014,2009,2013,2017,2018,2021,2019,2014,2012,2010,2011,2012,2019,2017,2009,2009,2015,2017,2017,2018,2013,2016,2020,2017,2018,2013,2011,2011,2009,2019,2011,2015,2009,2016,2019,2011,2010,2018,2018,2018,2018,2015,2019,2010,2012,2013,2019,2015,2012,2014,2013,2018,2019,2011,2015,2017,2014,2015,2012,2020,2016,2019,2020,2017,2016,2018,2016,2019,2013,2020,2021,2020,2016,2009,2013,2013,2009,2019,2019,2021,2010,2014,2011,2014,2010,2019,2014,2020,2019,2015,2021,2021,2013,2014,2017,2013,2015,2019,2013,2010,2018,2021,2016,2016,2013,2020,2017,2009,2011,2013,2019,2020,2018,2017,2016,2014,2011,2014,2018,2010,2014,2012,2013,2018,2015,2009,2018,2021,2012,2016,2010,2009,2021,2017,2010,2018,2018,2010,2021,2019,2020,2009,2015,2012,2021,2019,2020,2012,2016,2014,2016,2012,2021,2016,2017,2009,2016,2018,2021,2017,2018,2019,2012,2009,2019,2013,2020,2010,2013,2018,2010,2015,2009,2011,2014,2015,2013,2016,2016,2016,2018,2018,2010,2017,2018,2018,2017,2016,2016,2021,2011,2019,2017,2020,2009,2018,2016,2019,2015,2017,2018,2011,2011,2018,2018,2015,2014,2021,2011,2013,2019,2015,2017,2017,2015,2009,2018,2019,2015,2010,2016,2015,2014,2018,2018,2009,2018,2017,2012,2017,2020,2016,2014,2009,2020,2010,2016,2018,2010,2019,2017,2021,2017,2018,2020,2018,2009,2021,2014,2009,2013,2014,2019,2009,2019,2013,2012,2013,2017,2013,2014,2020,2017,2011,2016,2020,2014,2018,2009,2014,2010,2014,2013,2020,2014,2016,2013,2012,2010,2012,2019,2019,2012,2016,2017,2017,2017,2016,2011,2010,2020,2020,2011,2017,2016,2016,2020,2012,2019,2020,2019,2019,2016,2021,2018,2009,2015,2014,2017,2019,2010,2020,2014,2013,2015,2013,2015,2021,2012,2011,2020,2016,2021,2017,2013,2013,2017,2019,2018,2013,2021,2018,2018,2015,2016,2013,2013,2020,2012,2015,2018,2016,2014,2018,2015,2017,2017,2016,2011,2011,2010,2015,2009,2012,2020,2019,2020,2013,2018,2012,2018,2017,2013,2014,2010,2014,2012,2020,2017,2020,2012,2012,2012,2017,2019,2010,2020,2017,2020,2014,2014,2010,2019,2021,2019,2017,2009,2013,2009,2009,2019,2015,2019,2020,2016,2013,2009,2018,2019,2014,2015,2014,2016,2015,2021,2019,2012,2015,2011,2009,2011,2014,2018,2021,2015,2009,2015,2020,2012,2015,2011,2012,2017,2017,2014,2020,2019,2019,2009,2011,2010,2010,2014,2021,2015,2018,2015,2015,2012,2020,2014,2017,2009,2018,2010,2021,2017,2016,2009,2017,2011,2012,2011,2010,2014,2017,2015,2020,2018,2014,2017,2020,2010,2012,2017,2015,2021,2009,2021,2019,2020,2017,2021,2011,2019,2018,2010,2019,2020,2021,2017,2021,2011,2018,2017,2018,2015,2018,2018,2018,2014,2015,2021,2020,2020,2014,2013,2014,2020,2017,2010,2017,2011,2020,2017,2013,2013,2018,2019,2017,2015,2019,2021,2013,2015,2018,2019,2020,2017,2015,2013,2015,2018,2015,2014,2018,2015,2013,2009,2010,2009,2013,2016,2009,2013,2021,2013,2012,2010,2018,2018,2016,2015,2013,2019,2018,2021,2013,2019,2011,2019,2020,2012,2018,2019,2016,2018,2017,2014,2018,2020,2020,2016,2015,2018,2013,2018,2012,2015,2017,2015,2017,2013,2011,2017,2012,2013,2010,2018,2018,2010,2019,2012,2014,2018,2012,2021,2021,2015,2011,2018,2013,2011,2010,2021,2020,2012,2016,2017,2019,2010,2019,2021,2019,2011,2017,2016,2015,2021,2020,2012,2010,2014,2011,2017,2015,2017,2019,2015,2010,2012,2015,2021,2015,2011,2019,2020,2016,2014,2011,2011,2017,2013,2016,2011,2010,2019,2021,2009,2017,2017,2020,2020,2017,2013,2021,2010,2021,2014,2016,2016,2017,2009,2021,2013,2019,2016,2020,2010,2010,2013,2011,2020,2014,2013,2019,2018,2013,2021,2016,2018,2014,2018,2009,2021,2013,2021,2014,2010,2010,2016,2016,2020,2018,2010,2015,2020,2017,2021,2010,2017,2018,2019,2013,2016,2015,2009,2016,2019,2014,2009,2014,2015,2014,2014,2017,2014,2015,2019,2017,2009,2018,2017,2016,2018,2017,2011,2021,2020,2016,2018,2018,2019,2018,2009,2011,2011,2020,2019,2014,2018,2011,2020,2020,2019,2016,2020,2018,2018,2019,2020,2021,2015,2018,2021,2018,2014,2013,2017,2015,2014,2020,2009,2010,2013,2019,2020,2015,2019,2012,2014,2020,2019,2017,2013,2017,2011,2021,2013,2021,2010,2010,2017,2014,2020,2017,2010,2010,2019,2015,2018,2017,2014,2015,2016,2019,2011,2009,2020,2009,2019,2013,2016,2015,2019,2010,2013,2016,2014,2010,2021,2010,2020,2014,2010,2016,2012,2012,2013,2009,2017,2018,2014,2010,2015,2010,2017,2013,2018,2009,2011,2020,2019,2021,2011,2011,2014,2020,2011,2018,2015,2016,2015,2016,2019,2020,2010,2019,2016,2018,2016,2013,2014,2018,2010,2019,2015,2015,2012,2016,2017,2018,2009,2021,2015,2013,2018,2010,2017,2014,2009,2013,2012,2020,2019,2019,2015,2015,2016,2011,2017,2018,2016,2015,2018,2018,2021,2020,2013,2013,2012,2019,2019,2017,2015,2015,2011,2012,2014,2016,2012,2013,2017,2017,2016,2019,2021,2017,2019,2012,2016,2013,2012,2014,2013,2016,2019,2017,2014,2009,2017,2014,2009,2020,2015,2012,2010,2010,2020,2020,2014,2017,2018,2015,2011,2015,2017,2011,2018,2013,2009,2015,2018,2015,2011,2016,2011,2017,2019,2009,2015,2017,2017,2019,2009,2020,2016,2013,2020,2016,2015,2020,2020,2016,2012,2016,2021,2020,2019,2011,2020,2017,2019,2019,2020,2017,2009,2019,2016,2016,2011,2016,2014,2010,2016,2021,2012,2021,2018,2017,2009,2017,2013,2019,2010,2010,2019,2012,2015,2020,2019,2019,2019,2011,2017,2019,2010,2009,2011,2017,2020,2010,2021,2014,2018,2014,2020,2018,2015,2018,2020,2018,2009,2017,2018,2009,2016,2018,2019,2021,2016,2019,2021,2012,2018,2019,2013,2009,2011,2010,2016,2011,2013,2018,2009,2019,2014,2015,2017,2014,2014,2017,2015,2013,2021,2015,2017,2009,2012,2020,2015,2010,2017,2021,2015,2017,2020,2017,2015,2015,2018,2015,2019,2013,2014,2020,2012,2010,2015,2019,2016,2013,2021,2017,2014,2018,2019,2012,2020,2020,2019,2011,2017,2009,2016,2010,2010,2009,2019,2010,2021,2009,2014,2013,2018,2012,2017,2011,2009,2014,2017,2016,2020,2019,2017,2019,2021,2015,2010,2009,2014,2013,2011,2021,2011,2015,2018,2017,2016,2010,2017,2016,2009,2018,2013,2019,2017,2017,2018,2020,2017,2017,2020,2021,2012,2019,2014,2018,2011,2009,2020,2020,2012,2019,2017,2015,2015,2020,2012,2011,2014,2015,2017,2009,2015,2017,2018,2012,2015,2017,2017,2015,2019,2016,2020,2018,2019,2012,2020,2018,2010,2017,2015,2017,2021,2021,2011,2009,2016,2015,2017,2019,2013,2013,2014,2019,2016,2009,2020,2020,2015,2018,2012,2016,2012,2017,2020,2011,2012,2021,2018,2020,2019,2014,2018,2019,2009,2021,2017,2010,2015,2011,2017,2016,2017,2020,2017,2018,2016,2019,2017,2009,2016,2017,2016,2010,2017,2021,2015,2015,2019,2020,2017,2013,2014,2013,2015,2014,2020,2018,2010,2020,2018,2017,2016,2013,2019,2017,2021,2017,2021,2017,2013,2011,2012,2021,2014,2016,2015,2021,2013,2018,2019,2020,2015,2016,2011,2018,2020,2021,2015,2017,2015,2020,2018,2017,2012,2010,2016,2013,2021,2015,2019,2019,2015,2015,2016,2011,2021,2012,2016,2015,2016,2013,2016,2020,2011,2011,2021,2010,2018,2017,2013,2014,2012,2012,2019,2014,2019,2015,2012,2020,2010,2017,2009,2018,2015,2018,2019,2017,2014,2014,2020,2014,2012,2014,2010,2012,2019,2018,2018,2020,2015,2019,2015,2018,2016,2009,2014,2018,2018,2010,2016,2021,2016,2019,2016,2016,2016,2015,2011,2017,2017,2020,2011,2021,2017,2019,2011,2015,2016,2017,2017,2011,2017,2019,2019,2014,2016,2019,2021,2013,2014,2018,2019,2015,2017,2015,2017,2014,2011,2015,2016,2010,2016,2018,2021,2019,2018,2011,2011,2012,2018,2020,2021,2021,2020,2021,2010,2017,2015,2012,2021,2019,2015,2010,2019,2017,2016,2019,2015,2020,2021,2020,2020,2017,2010,2013,2013,2009,2019,2013,2014,2019,2016,2014,2018,2016,2016,2016,2014,2010,2016,2012,2020,2017,2017,2019,2017,2021,2015,2021,2019,2019,2014,2015,2015,2009,2009,2014,2009,2021,2015,2011,2012,2020,2017,2011,2015,2018,2009,2010,2019,2012,2017,2017,2018,2014,2016,2021,2012,2017,2019,2012,2010,2018,2011,2021,2019,2014,2020,2011,2019,2018,2016,2017,2015,2012,2020,2012,2019,2021,2014,2017,2021,2013,2019,2013,2013,2019,2021,2018,2017,2016,2009,2020,2019,2020,2020,2020,2021,2021,2016,2009,2012,2021,2021,2010,2011,2019,2012,2018,2019,2017,2018,2020,2015,2020,2014,2010,2015,2020,2012,2018,2014,2017,2017,2018,2016,2018,2013,2018,2011,2018,2018,2013,2014,2019,2009,2018,2014,2021,2016,2015,2010,2020,2020,2021,2017,2016,2014,2020,2020,2020,2010,2020,2010,2016,2014,2018,2020,2021,2011,2021,2010,2010,2014,2011,2010,2011,2016,2013,2014,2010,2013,2019,2015,2014,2010,2019,2012,2015,2011,2017,2009,2012,2013,2018,2019,2013,2020,2009,2011,2012,2009,2018,2017,2015,2012,2018,2017,2018,2016,2014,2015,2020,2019,2010,2018,2016,2019,2012,2014,2010,2021,2021,2017,2019,2020,2015,2016,2010,2015,2020,2017,2010,2013,2018,2019,2015,2019,2014,2020,2016,2021,2016,2020,2016,2021,2009,2014,2017,2013,2019,2020,2011,2012,2020,2019,2015,2021,2010,2012,2010,2011,2015,2016,2010,2016,2013,2016,2017,2020,2012,2012,2019,2009,2011,2009,2017,2017,2018,2013,2020,2015,2015,2021,2020,2015,2018,2010,2013,2009,2012,2015,2009,2017,2013,2015,2016,2016,2020,2010,2016,2012,2016,2016,2013,2009,2018,2019,2019,2013,2016,2020,2011,2016,2012,2019,2018,2016,2010,2014,2016,2014,2011,2019,2011,2015,2020,2014,2010,2018,2014,2019,2021,2009,2009,2016,2019,2019,2010,2019,2021,2012,2021,2018,2018,2018,2020,2011,2013,2018,2013,2009,2017,2015,2010,2015,2015,2016,2021,2015,2020,2015,2019,2015,2010,2019,2010,2015,2010,2020,2015,2013,2012,2010,2017,2017,2017,2017,2009,2009,2020,2009,2012,2018,2016,2012,2017,2020,2017,2017,2016,2017,2016,2016,2016,2009,2010,2020,2019,2016,2014,2019,2020,2016,2012,2021,2016,2018,2021,2013,2014,2017,2021,2016,2020,2019,2021,2020,2020,2011,2013,2020,2018,2009,2012,2020,2021,2009,2021,2018,2011,2013,2013,2015,2012,2010,2016,2018,2010,2018,2012,2013,2011,2009,2010,2020,2015,2019,2020,2017,2012,2016,2017,2020,2021,2010,2011,2013,2020,2017,2017,2019,2014,2019,2015,2019,2009,2019,2012,2020,2019,2020,2012,2019,2018,2017,2019,2018,2017,2019,2017,2015,2019,2011,2020,2017,2017,2011,2011,2020,2019,2012,2016,2021,2021,2011,2019,2011,2016,2013,2014,2014,2009,2016,2011,2011,2012,2020,2016,2010,2012,2015,2010,2016,2021,2013,2012,2017,2016,2021,2016,2015,2014,2017,2009,2018,2012,2017,2009,2019,2018,2019,2021,2017,2020,2014,2011,2019,2015,2021,2021,2015,2012,2018,2010,2018,2018,2016,2009,2011,2018,2011,2017,2013,2018,2017,2012,2015,2021,2020,2020,2012,2019,2013,2011,2020,2013,2011,2015,2019,2020,2019,2009,2012,2014,2019,2012,2021,2016,2011,2013,2018,2009,2017,2013,2018,2017,2021,2015,2016,2015,2015,2019,2019,2020,2009,2019,2019,2014,2013,2014,2016,2014,2021,2011,2019,2018,2018,2018,2018,2013,2017,2020,2011,2014,2020,2019,2013,2013,2019,2013,2014,2010,2015,2012,2014,2017,2013,2012,2011,2018,2011,2017,2011,2016,2015,2021,2014,2020,2009,2021,2010,2009,2009,2017,2016,2016,2020,2016,2009,2021,2017,2011,2010,2021,2009,2009,2016,2012,2016,2016,2013,2017,2018,2014,2017,2012,2017,2014,2021,2017,2020,2011,2014,2017,2019,2020,2014,2019,2010,2012,2013,2019,2018,2012,2021,2019,2013,2014,2016,2011,2020,2020,2018,2014,2010,2010,2019,2013,2021,2010,2017,2017,2011,2018,2018,2018,2012,2019,2016,2018,2011,2011,2021,2014,2012,2014,2012,2014,2010,2014,2016,2018,2016,2017,2017,2012,2012,2021,2015,2012,2020,2016,2014,2016,2009,2015,2017,2021,2015,2021,2019,2014,2009,2017,2016,2012,2018,2010,2014,2016,2016,2018,2015,2014,2018,2020,2011,2021,2013,2014,2012,2020,2020,2016,2019,2017,2017,2021,2020,2016,2012,2018,2018,2009,2020,2017,2015,2018,2010,2009,2015,2011,2016,2013,2011,2021,2017,2010,2016,2019,2011,2018,2015,2011,2009,2010,2017,2014,2020,2017,2013,2014,2014,2015,2020,2020,2019,2009,2012,2016,2015,2021,2015,2010,2018,2011,2016,2017,2010,2009,2021,2016,2017,2019,2011,2009,2017,2013,2020,2016,2010,2012,2013,2010,2017,2021,2009,2014,2010,2014,2018,2019,2020,2016,2010,2014,2019,2016,2018,2019,2012,2015,2021,2016,2018,2015,2018,2020,2018,2019,2021,2021,2010,2016,2015,2021,2010,2010,2020,2015,2011,2019,2019,2020,2018,2011,2018,2010,2011,2020,2021,2009,2020,2019,2020,2014,2020,2014,2017,2018,2009,2011,2009,2017,2020,2015,2016,2019,2021,2013,2018,2009,2016,2017,2014,2009,2016,2015,2015,2019,2012,2013,2018,2015,2018,2011,2014,2018,2021,2016,2012,2017,2019,2018,2020,2013,2015,2017,2019,2017,2021,2020,2021,2016,2014,2020,2010,2014,2010,2012,2016,2011,2017,2010,2015,2011,2011,2021,2013,2018,2017,2019,2019,2011,2021,2011,2014,2015,2010,2018,2018,2012,2017,2020,2016,2014,2011,2015,2021,2021,2019,2019,2017,2013,2019,2017,2017,2019,2018,2017,2010,2015,2011,2011,2017,2018,2013,2020,2014,2017,2018,2018,2014,2017,2018,2011,2018,2018,2009,2020,2011,2019,2012,2014,2015,2018,2016,2021,2019,2016,2010,2021,2019,2015,2014,2021,2020,2014,2012,2009,2018,2019,2021,2018,2018,2016,2013,2016,2019,2020,2014,2018,2016,2020,2018,2016,2020,2018,2011,2014,2012,2013,2017,2011,2012,2017,2010,2018,2015,2017,2018,2012,2016,2009,2011,2019,2018,2021,2016,2015,2020,2019,2017,2015,2009,2015,2017,2010,2016,2009,2011,2010,2016,2015,2017,2016,2017,2012,2015,2009,2017,2019,2013,2021,2018,2010,2019,2020,2017,2021,2010,2017,2021,2018,2010,2021,2014,2009,2011,2019,2018,2018,2012,2009,2013,2017,2017,2019,2017,2017,2020,2014,2012,2017,2016,2021,2014,2010,2013,2019,2009,2013,2009,2016,2011,2016,2021,2020,2018,2010,2009,2012,2019,2020,2019,2009,2009,2021,2011,2015,2019,2018,2012,2020,2012,2010,2016,2017,2019,2012,2015,2014,2016,2021,2017,2013,2012,2017,2021,2014,2010,2018,2015,2020,2018,2021,2014,2019,2018,2016,2018,2013,2017,2015,2012,2018,2020,2018,2019,2016,2020,2012,2018,2012,2021,2019,2015,2021,2017,2014,2009,2017,2018,2018,2020,2010,2020,2016,2019,2018,2012,2014,2011,2009,2015,2012,2014,2019,2020,2019,2011,2020,2011,2020,2020,2011,2019,2015,2018,2021,2013,2014,2019,2011,2017,2018,2017,2019,2017,2015,2013,2017,2017,2010,2014,2012,2015,2015,2016,2011,2020,2016,2011,2021,2018,2015,2010,2012,2021,2015,2009,2015,2021,2020,2020,2013,2012,2016,2011,2011,2016,2021,2018,2016,2014,2016,2019,2019,2020,2019,2013,2020,2012,2018,2016,2019,2012,2016,2013,2014,2016,2020,2012,2010,2011,2016,2020,2010,2017,2017,2011,2015,2020,2020,2018,2016,2018,2010,2020,2020,2016,2014,2011,2011,2012,2019,2009,2016,2019,2015,2016,2017,2015,2013,2013,2017,2012,2011,2010,2019,2018,2011,2013,2015,2018,2014,2017,2016,2012,2016,2016,2015,2009,2010,2016,2020,2020,2012,2016,2009,2018,2021,2018,2015,2011,2016,2021,2020,2012,2018,2011,2016,2009,2016,2020,2011,2021,2015,2014,2010,2009,2018,2011,2017,2020,2019,2018,2013,2012,2013,2012,2021,2021,2017,2013,2009,2015,2019,2020,2009,2020,2020,2016,2021,2020,2021,2016,2012,2018,2015,2012,2017,2016,2009,2021,2018,2018,2019,2014,2017,2012,2013,2020,2021,2018,2014,2015,2015,2013,2015,2013,2011,2021,2012,2012,2013,2011,2009,2020,2020,2021,2015,2016,2013,2015,2020,2017,2012,2011,2013,2016,2016,2009,2021,2019,2018,2015,2012,2013,2012,2014,2015,2016,2011,2020,2011,2020,2020,2011,2020,2014,2015,2020,2017,2021,2011,2020,2010,2010,2010,2015,2016,2013,2019,2009,2013,2014,2019,2017,2015,2018,2019,2016,2013,2014,2016,2020,2020,2016,2020,2013,2016,2018,2014,2018,2010,2010,2014,2017,2019,2020,2019,2019,2015,2009,2012,2013,2011,2021,2014,2019,2020,2021,2013,2019,2012,2017,2012,2017,2011,2010,2021,2016,2014,2019,2017,2018,2019,2020,2018,2018,2010,2013,2012,2018,2019,2017,2013,2019,2021,2018,2019,2020,2013,2014,2019,2012,2017,2018,2011,2010,2012,2011,2015,2017,2017,2018,2011,2017,2019,2018,2020,2017,2012,2014,2020,2012,2019,2020,2011,2020,2017,2014,2015,2017,2018,2017,2019,2010,2009,2009,2018,2011,2011,2009,2016,2021,2009,2013,2012,2009,2014,2016,2021,2016,2011,2021,2016,2020,2009,2012,2021,2021,2018,2019,2016,2011,2016,2011,2018,2017,2012,2019,2011,2011,2018,2010,2019,2011,2009,2016,2011,2010,2017,2016,2016,2010,2014,2021,2017,2015,2020,2016,2020,2014,2015,2021,2021,2016,2015,2018,2017,2017,2018,2015,2013,2014,2017,2012,2011,2012,2016,2010,2016,2014,2020,2016,2019,2012,2017,2009,2019,2021,2015,2010,2021,2012,2011,2015,2016,2017,2020,2010,2010,2011,2018,2021,2010,2021,2011,2018,2009,2019,2018,2016,2009,2009,2020,2020,2021,2017,2010,2019,2014,2019,2019,2009,2012,2011,2015,2018,2012,2017,2010,2017,2016,2019,2019,2010,2009,2020,2019,2012,2020,2015,2014,2018,2019,2020,2013,2020,2009,2021,2012,2019,2014,2010,2015,2018,2009,2014,2019,2016,2015,2011,2018,2011,2017,2014,2019,2020,2010,2011,2010,2011,2017,2021,2021,2018,2018,2019,2011,2015,2014,2010,2012,2013,2019,2014,2018,2015,2012,2010,2020,2019,2013,2018,2019,2014,2020,2018,2017,2009,2018,2020,2016,2011,2010,2018,2011,2017,2015,2011,2011,2013,2019,2018,2012,2020,2010,2017,2016,2017,2020,2020,2017,2016,2019,2020,2012,2018,2015,2012,2016,2018,2015,2012,2011,2009,2010,2018,2011,2012,2016,2018,2017,2019,2019,2015,2019,2015,2019,2019,2012,2016,2012,2020,2017,2017,2016,2012,2015,2015,2019,2016,2010,2019,2021,2021,2017,2019,2013,2018,2011,2020,2013,2011,2014,2015,2014,2009,2010,2017,2009,2015,2019,2021,2011,2018,2013,2015,2012,2014,2013,2011,2009,2017,2017,2010,2020,2016,2017,2012,2019,2010,2014,2017,2011,2019,2015,2020,2019,2009,2017,2019,2021,2013,2015,2009,2019,2016,2019,2016,2015,2012,2011,2020,2017,2017,2016,2011,2020,2013,2019,2010,2011,2013,2010,2021,2014,2011,2010,2020,2010,2015,2019,2013,2020,2017,2020,2011,2020,2018,2019,2010,2016,2018,2021,2019,2018,2017,2014,2014,2012,2013,2019,2012,2010,2020,2018,2015,2018,2015,2020,2017,2016,2019,2019,2009,2011,2015,2020,2011,2015,2017,2014,2019,2013,2009,2019,2020,2011,2021,2020,2020,2016,2012,2021,2019,2020,2009,2017,2014,2014,2017,2009,2019,2013,2018,2015,2012,2011,2014,2016,2012,2021,2021,2017,2015,2015,2009,2020,2018,2019,2018,2017,2020,2021,2018,2009,2015,2013,2018,2013,2016,2009,2011,2020,2016,2011,2015,2014,2010,2017,2011,2017,2016,2016,2018,2013,2009,2015,2012,2009,2009,2016,2016,2011,2018,2011,2010,2020,2017,2016,2020,2013,2010,2010,2017,2018,2020,2013,2011,2011,2012,2013,2010,2019,2011,2018,2017,2017,2010,2015,2017,2015,2018,2016,2012,2016,2020,2011,2011,2014,2015,2019,2016,2009,2014,2019,2013,2015,2013,2015,2010,2014,2012,2018,2011,2014,2011,2020,2020,2014,2014,2017,2016,2019,2016,2019,2019,2011,2014,2013,2017,2010,2018,2016,2009,2009,2016,2020,2019,2009,2018,2021,2014,2014,2011,2017,2019,2010,2011,2019,2010,2016,2012,2013,2019,2013,2020,2014,2012,2015,2013,2020,2019,2015,2019,2012,2009,2011,2009,2016,2011,2021,2019,2018,2010,2016,2014,2016,2014,2013,2020,2021,2013,2020,2019,2018,2018,2013,2012,2012,2012,2013,2019,2015,2013,2019,2017,2016,2017,2010,2011,2017,2014,2013,2015,2016,2014,2015,2017,2014,2017,2015,2015,2009,2017,2010,2020,2014,2012,2009,2021,2021,2016,2014,2020,2014,2021,2019,2011,2014,2011,2018,2015,2016,2020,2010,2019,2013,2013,2017,2014,2013,2012,2012,2009,2009,2011,2015,2018,2009,2018,2018,2019,2015,2018,2011,2015,2013,2019,2012,2011,2015,2020,2018,2019,2013,2017,2013,2010,2016,2011,2015,2016,2010,2010,2015,2011,2019,2015,2019,2021,2015,2010,2012,2021,2012,2011,2021,2019,2009,2014,2018,2014,2015,2020,2012,2020,2010,2016,2019,2016,2016,2019,2019,2019,2021,2014,2019,2015,2021,2012,2010,2017,2018,2012,2014,2009,2009,2015,2017,2014,2018,2018,2010,2021,2019,2013,2017,2019,2012,2021,2009,2014,2018,2012,2014,2019,2015,2018,2016,2014,2012,2017,2011,2009,2019,2010,2019,2012,2016,2010,2016,2009,2019,2019,2017,2009,2018,2014,2013,2020,2010,2010,2012,2021,2013,2014,2012,2009,2016,2018,2015,2015,2017,2019,2014,2020,2015,2016,2019,2012,2013,2015,2012,2013,2018,2020,2020,2016,2017,2018,2020,2011,2016,2014,2011,2014,2012,2021,2017,2015,2010,2013,2011,2018,2014,2017,2009,2015,2020,2019,2019,2017,2014,2020,2020,2019,2015,2020,2013,2011,2018,2019,2018,2010,2013,2020,2015,2019,2009,2018,2013,2011,2015,2011,2018,2017,2017,2018,2012,2018,2017,2013,2013,2021,2011,2014,2015,2016,2018,2016,2013,2011,2019,2014,2016,2009,2011,2019,2009,2014,2011,2015,2015,2013,2009,2011,2013,2015,2016,2014,2009,2019,2012,2010,2020,2018,2010,2018,2010,2014,2015,2011,2016,2017,2012,2012,2015,2015,2009,2015,2018,2017,2011,2012,2016,2015,2014,2019,2015,2010,2019,2014,2019,2011,2009,2012,2020,2021,2020,2015,2010,2011,2016,2011,2017,2011,2014,2018,2020,2014,2012,2015,2012,2013,2009,2019,2016,2017,2013,2012,2020,2019,2009,2017,2013,2020,2017,2009,2019,2017,2016,2012,2014,2011,2018,2013,2018,2021,2016,2019,2018,2014,2013,2018,2016,2010,2009,2013,2020,2020,2012,2009,2010,2015,2015,2015,2015,2009,2017,2011,2018,2013,2014,2015,2012,2021,2013,2015,2020,2012,2019,2021,2019,2016,2012,2013,2010,2014,2017,2011,2015,2019,2013,2017,2020,2017,2020,2019,2015,2017,2016,2014,2018,2013,2016,2009,2010,2010,2015,2009,2010,2014,2019,2009,2020,2013,2012,2011,2017,2017,2014,2012,2013,2014,2012,2017,2019,2016,2016,2014,2018,2010,2016,2021,2016,2011,2013,2014,2020,2018,2017,2013,2017,2016,2014,2016,2018,2012,2017,2021,2012,2009,2020,2012,2015,2019,2011,2015,2016,2016,2017,2016,2020,2009,2015,2011,2017,2011,2015,2012,2017,2018,2014,2014,2011,2009,2013,2019,2009,2017,2021,2012,2016,2010,2014,2017,2012,2016,2016,2013,2011,2021,2018,2011,2016,2010,2016,2015,2009,2013,2011,2015,2020,2018,2015,2010,2015,2016,2014,2010,2018,2017,2013,2018,2014,2010,2016,2010,2012,2012,2011,2018,2014,2016,2012,2009,2011,2017,2013,2018,2013,2010,2021,2019,2014,2015,2014,2016,2010,2014,2021,2016,2021,2016,2016,2011,2010,2020,2011,2021,2017,2014,2015,2010,2010,2015,2019,2018,2014,2009,2014,2014,2018,2019,2018,2018,2010,2011,2019,2010,2010,2010,2018,2018,2016,2015,2015,2016,2009,2019,2013,2010,2010,2014,2014,2011,2010,2020,2015,2011,2018,2019,2018,2016,2014,2013,2018,2019,2016,2016,2009,2017,2013,2019,2009,2010,2018,2016,2012,2020,2013,2013,2021,2014,2014,2019,2015,2018,2013,2016,2019,2011,2018,2013,2012,2019,2013,2015,2018,2012,2011,2014,2016,2011,2010,2014,2016,2020,2010,2019,2015,2019,2013,2017,2016,2013,2017,2014,2015,2017,2015,2013,2012,2010,2009,2010,2013,2012,2012,2011,2013,2011,2012,2015,2016,2017,2010,2020,2009,2009,2015,2011,2012,2009,2014,2013,2020,2017,2009,2012,2018,2020,2018,2010,2015,2012,2011,2018,2019,2012,2010,2018,2017,2020,2018,2009,2018,2010,2018,2010,2011,2009,2011,2019,2013,2018,2013,2014,2013,2009,2014,2014,2010,2012,2016,2020,2013,2015,2012,2021,2009,2010,2010,2012,2017,2021,2009,2009,2016,2011,2012,2009,2015,2014,2010,2018,2020,2019,2011,2013,2012,2015,2014,2017,2017,2018,2011,2009,2019,2014,2010,2014,2011,2010,2017,2014,2011,2013,2013,2009,2017,2016,2015,2014,2011,2015,2015,2011,2018,2019,2011,2010,2018,2018,2015,2018,2019,2014,2010,2015,2016,2016,2014,2019,2013,2009,2010,2015,2015,2013,2019,2014,2010,2014,2010,2016,2011,2012,2014,2018,2021,2018,2016,2018,2018,2012,2018,2017,2012,2011,2009,2009,2017,2010,2015,2010,2017,2011,2014,2010,2009,2015,2016,2014,2014,2015,2019,2016,2017,2014,2013,2017,2017,2018,2021,2012,2014,2015,2018,2020,2016,2010,2012,2018,2019,2012,2011,2012,2017,2009,2013,2010,2014,2011,2018,2016,2012,2011,2014,2009,2017,2012,2019,2011,2015,2012,2018,2015,2012,2012,2009,2020,2009,2013,2013,2009,2009,2013,2017,2009,2018,2011,2016,2009,2018,2017,2011,2017,2012,2017,2014,2015,2016,2012,2009,2021,2011,2020,2010,2014,2018,2012,2009,2012,2009,2013,2018,2012,2013,2011,2013,2015,2019,2014,2009,2010,2017,2011,2017,2013,2011,2016,2013,2017,2009,2009,2019,2017,2010,2014,2016,2017,2010,2015,2014,2020,2017,2020,2010,2015,2017,2013,2018,2016,2009,2018,2012,2010,2010,2010,2009,2012,2015,2013,2010,2012,2011,2014,2016,2015,2019,2013,2016,2013,2009,2012,2014,2021,2012,2016,2015,2011,2016,2018,2017,2009,2009,2013,2017,2019,2016,2015,2017,2010,2017,2014,2019,2019,2011,2011,2014,2016,2017,2015,2017,2009,2018,2016,2018,2016,2014,2016,2017,2009,2015,2014,2011,2010,2012,2010,2014,2010,2010,2013,2010,2012,2012,2013,2017,2014,2017,2012,2010,2013,2011,2018,2017,2014,2021,2014,2013,2011,2015,2015,2013,2011,2017,2019,2021,2019,2012,2010,2010,2015,2015,2018,2019,2013,2009,2019,2010,2009,2012,2011,2012,2019,2011,2019,2014,2017,2019,2014,2014,2016,2014,2015,2014,2016,2011,2012,2010,2014,2017,2014,2012,2020,2016,2015,2012,2012,2011,2019,2011,2018,2021,2015,2013,2016,2014,2018,2015,2009,2016,2016,2012,2016,2009,2016,2018,2010,2012,2013,2009,2016,2013,2013,2012,2014,2012,2014,2016,2018,2018,2015,2014,2018,2014,2012,2011,2014,2010,2015,2009,2012,2013,2015,2010,2013,2018,2014,2010,2014,2014,2009,2012,2011,2019,2010,2010,2011,2015,2009,2017,2010,2017,2014,2010,2013,2009,2019,2013,2014,2017,2012,2013,2009,2010,2016,2020,2017,2017,2020,2014,2015,2012,2010,2009,2015,2014,2017,2012,2016,2010,2017,2009,2020,2009,2018,2015,2015,2012,2014,2016,2019,2009,2017,2009,2018,2012,2017,2019,2018,2015,2019,2018,2012,2017,2014,2011,2015,2009,2012,2018,2013,2009,2020,2015,2013,2018,2019,2012,2017,2014,2016,2020,2012,2013,2016,2010,2015,2009,2012,2016,2017,2016,2010,2020,2010,2013,2010,2017,2013,2011,2019,2012,2011,2020,2010,2009,2012,2021,2017,2017,2019,2011,2016,2012,2015,2011,2013,2012,2016,2016,2011,2015,2019,2014,2009,2013,2017,2013,2012,2018,2010,2009,2016,2011,2012,2010,2013,2020,2015,2010,2012,2015,2012,2009,2016,2021,2013,2011,2020,2010,2015,2021,2019,2016,2013,2018,2016,2011,2009,2012,2016,2013,2009,2010,2012,2015,2010,2011,2014,2018,2015,2018,2019,2010,2017,2009,2010,2019,2011,2011,2013,2016,2014,2014,2014,2011,2010,2013,2016,2015,2014,2017,2009,2018,2015,2018,2012,2013,2018,2012,2013,2017,2011,2014,2011,2016,2010,2009,2014,2012,2010,2014,2014,2013,2011,2012,2009,2014,2010,2010,2010,2009,2019,2013,2018,2009,2010,2018,2010,2012,2016,2016,2014,2011,2013,2018,2009,2012,2017,2012,2016,2015,2015,2014,2013,2015,2011,2013,2012,2010,2012,2015,2015,2009,2020,2014,2019,2018,2016,2016,2014,2011,2014,2015,2019,2010,2016,2009,2009,2010,2013,2017,2011,2017,2018,2019,2021,2016,2013,2016,2009,2011,2011,2014,2013,2018,2021,2013,2015,2009,2021,2014,2014,2013,2012,2015,2013,2011,2013,2009,2009,2017,2010,2018,2011,2013,2021,2014,2011,2010,2014,2011,2010,2010,2011,2013,2015,2009,2013,2012,2009,2013,2019,2012,2013,2009,2015,2009,2009,2011,2018,2013,2018,2015,2009,2016,2012,2011,2015,2017,2010,2018,2012,2019,2009,2013,2010,2011,2014,2014,2009,2012,2011,2015,2013,2015,2013,2011,2019,2009,2009,2011,2013,2010,2009,2014,2009,2015,2010,2015,2010,2015,2016,2013,2013,2009,2012,2010,2010,2015,2009,2009,2010,2010,2011,2010,2009,2016,2011,2012,2017,2015,2011,2017,2016,2016,2018,2015,2019,2013,2011,2012,2018,2011,2011,2013,2009,2012,2017,2012,2011,2019,2012,2009,2015,2017,2010,2011,2016,2015,2009,2010,2017,2011,2014,2015,2011,2015,2010,2018,2012,2016,2009,2021,2014,2009,2018,2014,2015,2018,2012,2013,2016,2011,2013,2016,2011,2011,2011,2017,2016,2014,2009,2013,2010,2011,2013,2014,2012,2015,2019,2018,2009,2014,2009,2018,2012,2015,2016,2016,2013,2016,2020,2010,2009,2016,2011,2012,2010,2014,2020,2018,2013,2020,2015,2010,2019,2017,2019,2009,2009,2012,2010,2012,2009,2011,2021,2015,2017,2016,2017,2018,2009,2016,2014,2012,2016,2012,2009,2015,2011,2013,2009,2016,2009,2019,2009,2010,2011,2014,2010,2016,2018,2011,2014,2016,2012,2010,2009,2010,2015,2009,2010,2013,2009,2013,2012,2009,2017,2012,2015,2015,2014,2011,2009,2011,2018,2020,2013,2010,2012,2016,2009,2021,2017,2013,2021,2019,2009,2009,2011,2015,2016,2011,2009,2013,2017,2012,2009,2015,2012,2009,2013,2010,2011,2016,2016,2011,2010,2019,2021,2014,2009,2010,2013,2016,2009,2015,2009,2012,2013,2012,2010,2011,2011,2017,2012,2014,2015,2016,2021,2014,2012,2009,2014,2012,2009,2009,2009,2019,2010,2013,2009,2009,2014,2013,2020,2014,2018,2012,2013,2014,2016,2009,2013,2013,2012,2011,2018,2010,2012,2011,2014,2012,2009,2011,2018,2013,2017,2016,2016,2015,2013,2017,2015,2018,2010,2014,2011,2009,2011,2009,2013,2012,2014,2011,2016,2018,2009,2018,2019,2016,2013,2017,2014,2011,2009,2016,2016,2009,2012,2011,2017,2011,2015,2011,2016,2018,2011,2012,2009,2010,2015,2011,2019,2017,2016],\"y\":[8.43552,8.27009,8.26887,8.25471,8.17351,8.169,8.14192,8.13873,8.11859,8.02626,8.00572,7.98399,7.96806,7.95652,7.95525,7.94451,7.92496,7.8901,7.88291,7.88044,7.8736,7.87036,7.86686,7.83409,7.81895,7.81297,7.78519,7.77768,7.77775,7.7764,7.77441,7.76651,7.73693,7.71236,7.71207,7.69147,7.67868,7.6738,7.66442,7.65785,7.6477,7.64362,7.63925,7.63642,7.63533,7.63305,7.62397,7.62057,7.61571,7.60985,7.6073,7.60284,7.579,7.54974,7.54802,7.54702,7.54441,7.5441,7.53023,7.52546,7.52367,7.52136,7.51097,7.50717,7.49803,7.4936,7.48264,7.49307,7.48275,7.48551,7.47732,7.4689,7.46787,7.46163,7.46063,7.44354,7.43705,7.43728,7.43628,7.43456,7.43418,7.42631,7.42254,7.41612,7.41059,7.4092,7.40809,7.40688,7.40328,7.39934,7.39843,7.39569,7.38729,7.38478,7.38313,7.38197,7.37418,7.37093,7.36713,7.36604,7.3654,7.34998,7.34681,7.3388,7.33866,7.33807,7.33001,7.32909,7.32869,7.32341,7.32294,7.31995,7.31973,7.31886,7.31101,7.30953,7.30646,7.30146,7.29579,7.29732,7.29605,7.29158,7.28221,7.2811,7.27603,7.27471,7.26698,7.26275,7.25816,7.255,7.25314,7.24358,7.23898,7.23526,7.23395,7.22532,7.22305,7.22232,7.22063,7.2111,7.20963,7.20895,7.20686,7.20623,7.20605,7.20331,7.2032,7.19871,7.19177,7.1909600000000005,7.18636,7.18424,7.18057,7.18001,7.17848,7.17693,7.17438,7.17088,7.16956,7.16521,7.16504,7.16421,7.15467,7.15293,7.15181,7.15087,7.1456,7.14555,7.14497,7.14355,7.14468,7.14322,7.14022,7.14018,7.13812,7.13734,7.13832,7.13768,7.13662,7.13365,7.13066,7.12913,7.12796,7.12648,7.12283,7.1211,7.11984,7.11552,7.11502,7.10558,7.09403,7.09256,7.08724,7.08586,7.08581,7.0839,7.07579,7.0753,7.07479,7.07428,7.07291,7.0722,7.06933,7.06785,7.06704,7.06697,7.06484,7.06434,7.06343,7.06338,7.06096,7.0605,7.06014,7.05958,7.05863,7.05824,7.05819,7.05552,7.05369,7.05323,7.04811,7.04784,7.04235,7.04225,7.03613,7.03567,7.03055,7.03429,7.03042,7.03035,7.02351,7.02337,7.02007,7.01908,7.01434,7.01885,7.01546,7.0131,7.01245,7.00572,7.00043,6.99972,6.9978,6.99469,6.98963,6.98907,6.98853,6.98405,6.98198,6.97966,6.9768,6.97427,6.97386,6.97115,6.97053,6.96955,6.96795,6.96574,6.9643,6.96209,6.96087,6.96005,6.95803,6.9577100000000005,6.9560200000000005,6.95534,6.95504,6.95469,6.95469,6.95449,6.95386,6.9525,6.94977,6.9481,6.94753,6.94562,6.9451,6.94435,6.94201,6.9407,6.9409,6.93818,6.93385,6.93221,6.93009,6.92983,6.92982,6.92868,6.92699,6.92424,6.92129,6.92105,6.9186700000000005,6.91862,6.91454,6.9144,6.91396,6.91381,6.9138,6.9142,6.91234,6.91208,6.91008,6.90736,6.90437,6.90414,6.9026,6.9026,6.8948,6.89107,6.889,6.88662,6.8865300000000005,6.88597,6.88269,6.88244,6.8804,6.87915,6.87788,6.87742,6.8757,6.87546,6.87153,6.8676,6.86711,6.85522,6.85271,6.85168,6.84853,6.84434,6.84301,6.84273,6.84241,6.84075,6.83833,6.83737,6.83718,6.83351,6.83185,6.8317,6.82874,6.82823,6.82156,6.82026,6.8195,6.8178,6.81663,6.81452,6.81233,6.81135,6.80954,6.80789,6.80637,6.80615,6.80485,6.80147,6.80147,6.80045,6.79532,6.79458,6.79421,6.7937,6.79216,6.79173,6.79026,6.78938,6.78936,6.78663,6.7859300000000005,6.78449,6.78354,6.78247,6.78202,6.78158,6.78111,6.78076,6.78061,6.78016,6.77946,6.7787500000000005,6.77827,6.77791,6.77717,6.7737,6.77352,6.77259,6.76999,6.76572,6.76448,6.76381,6.76251,6.76041,6.75839,6.75786,6.75728,6.75633,6.75603,6.7555,6.75511,6.75408,6.75215,6.74863,6.74842,6.74802,6.74739,6.745950000000001,6.74536,6.7445,6.74449,6.73891,6.73728,6.73655,6.73629,6.73556,6.73533,6.734,6.73097,6.73048,6.73047,6.72788,6.7272,6.72702,6.7257,6.72569,6.72423,6.7240400000000005,6.72027,6.71859,6.7185500000000005,6.71847,6.7148,6.71445,6.71429,6.71282,6.71251,6.71036,6.70805,6.70706,6.7056,6.70246,6.7003,6.69886,6.69845,6.6976700000000005,6.69578,6.69514,6.68995,6.68965,6.68827,6.68815,6.68712,6.68708,6.68639,6.68592,6.68534,6.68414,6.6835,6.68254,6.68124,6.68112,6.68102,6.67393,6.67147,6.67121,6.66801,6.66769,6.66751,6.66735,6.66706,6.6657,6.66498,6.66327,6.66281,6.66222,6.66195,6.6604,6.6568000000000005,6.65464,6.65438,6.65435,6.65346,6.65249,6.65126,6.65091,6.64914,6.64884,6.64557,6.64318,6.64213,6.64156,6.64027,6.63604,6.63536,6.63474,6.63032,6.63041,6.62897,6.6261600000000005,6.62459,6.62452,6.6239,6.62278,6.62251,6.62073,6.61916,6.6182,6.61707,6.61688,6.61685,6.61622,6.61556,6.6151,6.61295,6.61164,6.60935,6.60641,6.60548,6.6054,6.60483,6.60477,6.6046700000000005,6.60066,6.60037,6.59872,6.59727,6.59623,6.59527,6.59516,6.59443,6.59406,6.59276,6.5926100000000005,6.59237,6.59194,6.59065,6.59056,6.58838,6.58693,6.58632,6.58344,6.58342,6.58258,6.58178,6.5807400000000005,6.58049,6.58003,6.57971,6.57887,6.57422,6.5733,6.57216,6.57109,6.57085,6.56845,6.5673,6.56697,6.56567,6.56442,6.56308,6.56228,6.56186,6.5603,6.55968,6.55636,6.55539,6.55474,6.55255,6.55237,6.55179,6.55013,6.54851,6.54629,6.54552,6.54452,6.54439,6.54364,6.54363,6.54343,6.54213,6.54096,6.5409,6.54004,6.53945,6.53934,6.5368,6.5362100000000005,6.53594,6.53567,6.53555,6.53537,6.53495,6.53219,6.53208,6.53149,6.53104,6.52914,6.52716,6.52714,6.5268,6.5267,6.5234,6.52336,6.5219000000000005,6.52151,6.51958,6.51936,6.51812,6.51597,6.51493,6.51269,6.51117,6.51022,6.50994,6.5086200000000005,6.5085,6.50671,6.5060400000000005,6.50447,6.50423,6.50405,6.5033,6.50213,6.50099,6.50091,6.50057,6.50024,6.49968,6.49955,6.4986,6.49777,6.49727,6.49667,6.49604,6.4889600000000005,6.48744,6.48665,6.48568,6.48556,6.48446,6.48335,6.48309,6.48173,6.48029,6.47866,6.47756,6.47651,6.47561,6.47308,6.47306,6.47255,6.47237,6.47077,6.47016,6.46753,6.46732,6.46723,6.46515,6.46496,6.46375,6.4636,6.46253,6.46083,6.46022,6.45976,6.45915,6.45894,6.45793,6.45714,6.4552700000000005,6.44973,6.44837,6.44759,6.44565,6.44356,6.44299,6.44294,6.44269,6.44144,6.43944,6.43875,6.43815,6.43693,6.43308,6.43259,6.43207,6.43102,6.43064,6.43057,6.42839,6.42756,6.42727,6.42688,6.42614,6.42561,6.4253,6.4252,6.4242,6.42329,6.42151,6.42076,6.42025,6.41981,6.41632,6.41574,6.41523,6.41454,6.41393,6.40914,6.40807,6.40752,6.40381,6.40311,6.40161,6.40145,6.40133,6.40111,6.39996,6.39924,6.39883,6.39862,6.39766,6.39748,6.39705,6.39699,6.39662,6.39634,6.39526,6.39511,6.39281,6.39209,6.39186,6.39121,6.38834,6.3882,6.38818,6.38778,6.38783,6.38575,6.38427,6.38033,6.3796800000000005,6.37506,6.37446,6.37374,6.37277,6.37071,6.36942,6.36858,6.36856,6.36852,6.36624,6.36482,6.36448,6.36384,6.3632,6.36166,6.35903,6.35882,6.35874,6.35708,6.3563,6.35604,6.35557,6.35376,6.35206,6.35105,6.35102,6.35033,6.34709,6.34551,6.34551,6.34544,6.34543,6.34505,6.34313,6.34291,6.34281,6.34169,6.34168,6.34154,6.34062,6.33976,6.33809,6.33703,6.3366,6.33576,6.3357,6.3356,6.33537,6.33413,6.33391,6.33315,6.33184,6.33154,6.33073,6.33042,6.32932,6.32884,6.32713,6.32367,6.32119,6.32056,6.31923,6.31733,6.31647,6.31493,6.31364,6.31046,6.30898,6.30785,6.30726,6.30722,6.30713,6.30708,6.30439,6.30225,6.30215,6.30186,6.30094,6.29839,6.29801,6.29587,6.29561,6.29559,6.29553,6.29395,6.29352,6.29319,6.29288,6.29285,6.29285,6.29269,6.29259,6.29198,6.29133,6.29074,6.29035,6.28859,6.2885,6.28839,6.28827,6.28766,6.28764,6.28755,6.28744,6.28655,6.28564,6.28459,6.28284,6.28165,6.2814,6.28021,6.27972,6.27935,6.27831,6.27823,6.27817,6.27711,6.27708,6.27587,6.27577,6.27568,6.27519,6.27475,6.27411,6.27296,6.27172,6.27167,6.2715,6.27131,6.27072,6.27057,6.26947,6.26751,6.26654,6.26618,6.26507,6.26426,6.26414,6.26351,6.26232,6.26107,6.25986,6.25962,6.259,6.2586,6.25827,6.2568,6.25546,6.25535,6.25445,6.2539,6.25343,6.25228,6.25166,6.25144,6.25138,6.25113,6.2498000000000005,6.24977,6.24645,6.24639,6.24606,6.24578,6.24473,6.24437,6.24428,6.24371,6.2437,6.24196,6.24121,6.24086,6.24041,6.24012,6.23982,6.23962,6.23827,6.23774,6.23637,6.23605,6.2348,6.23423,6.23351,6.23348,6.23054,6.2313600000000005,6.23099,6.23029,6.23003,6.22942,6.22931,6.22916,6.22867,6.22856,6.229,6.22688,6.22629,6.22619,6.22582,6.22438,6.22329,6.22329,6.22313,6.22302,6.2228200000000005,6.22218,6.22206,6.22142,6.22021,6.21956,6.21933,6.21925,6.21923,6.21912,6.21649,6.2159,6.2148,6.21436,6.2143,6.21375,6.21356,6.21342,6.2134,6.21285,6.21272,6.21264,6.21157,6.21103,6.21096,6.2109,6.21012,6.20992,6.20806,6.20741,6.20619,6.20513,6.20399,6.20167,6.20078,6.20074,6.19962,6.19841,6.19805,6.19746,6.19606,6.19574,6.19565,6.19514,6.19468,6.19461,6.19439,6.19414,6.19343,6.19337,6.19293,6.19264,6.19183,6.19173,6.19135,6.19105,6.19092,6.18976,6.18893,6.18825,6.1879,6.18761,6.18718,6.18662,6.18607,6.18544,6.1848600000000005,6.18454,6.18431,6.18354,6.18327,6.18316,6.18304,6.1821,6.18204,6.18161,6.18151,6.18064,6.1805900000000005,6.18034,6.17956,6.17883,6.17735,6.17697,6.17685,6.17629,6.17547,6.1749,6.1743,6.17357,6.1735,6.17309,6.1721,6.16973,6.16952,6.16838,6.16837,6.16804,6.16755,6.16727,6.16686,6.16599,6.16515,6.16465,6.16414,6.16406,6.16364,6.16334,6.16001,6.1596,6.15926,6.15851,6.15835,6.15799,6.1579,6.15722,6.15719,6.15558,6.15556,6.15492,6.15446,6.15391,6.1536,6.15354,6.1528,6.15265,6.15249,6.15232,6.1518,6.15093,6.15076,6.1505,6.14887,6.14833,6.14763,6.14641,6.14585,6.14267,6.14139,6.14087,6.14046,6.14038,6.14038,6.13996,6.13926,6.13886,6.13853,6.13851,6.1379,6.1358,6.13564,6.1355,6.13493,6.13476,6.13391,6.13308,6.13282,6.13258,6.13111,6.13009,6.12967,6.12965,6.12937,6.12923,6.12866,6.12832,6.12811,6.12777,6.12754,6.12645,6.12603,6.12556,6.12539,6.12511,6.12507,6.12395,6.12246,6.12217,6.12081,6.12066,6.12036,6.11986,6.1197,6.11867,6.11824,6.11697,6.11673,6.11632,6.11513,6.11466,6.11415,6.11337,6.11332,6.11249,6.11103,6.11038,6.11035,6.10858,6.10847,6.10682,6.10596,6.10509,6.10439,6.10416,6.10229,6.10156,6.10142,6.1013,6.09978,6.09937,6.09898,6.09774,6.09751,6.09718,6.09696,6.09642,6.0962,6.09614,6.09545,6.09507,6.09424,6.09371,6.09364,6.09296,6.09095,6.08867,6.08787,6.08785,6.08778,6.08686,6.08659,6.08655,6.08639,6.08561,6.08557,6.08555,6.08473,6.08406,6.08353,6.08265,6.08244,6.0818,6.08177,6.08165,6.0814,6.08136,6.08064,6.07967,6.07929,6.079,6.07807,6.07769,6.07733,6.077,6.07699,6.07618,6.07608,6.07484,6.0744,6.07373,6.07346,6.07253,6.07112,6.06891,6.06889,6.06799,6.0675,6.06705,6.06679,6.06648,6.06635,6.06554,6.06469,6.06411,6.06392,6.06392,6.06356,6.06345,6.06333,6.06332,6.0626,6.06241,6.06151,6.06064,6.06046,6.05978,6.05947,6.05914,6.05863,6.05844,6.05797,6.05598,6.05572,6.05426,6.05372,6.05312,6.05259,6.05236,6.05215,6.05164,6.04956,6.04846,6.0476,6.04754,6.04747,6.04605,6.04588,6.04511,6.04484,6.04458,6.04448,6.04432,6.04424,6.04397,6.04371,6.04202,6.042,6.04172,6.04107,6.03997,6.03962,6.03954,6.03937,6.03928,6.039,6.03878,6.03842,6.03673,6.03668,6.03668,6.0357,6.03245,6.03213,6.03045,6.02935,6.02932,6.02928,6.02891,6.02891,6.02747,6.02582,6.02543,6.02542,6.02524,6.02406,6.02329,6.02248,6.02174,6.0217,6.0213,6.02127,6.02071,6.02063,6.01976,6.01956,6.01872,6.01834,6.01744,6.017,6.01677,6.01658,6.01653,6.01575,6.01562,6.01558,6.01513,6.01492,6.01395,6.01362,6.0136,6.01356,6.01349,6.01305,6.01256,6.00959,6.00906,6.00842,6.0082,6.00802,6.008,6.00763,6.00745,6.00734,6.00705,6.0067,6.00666,6.00595,6.00441,6.00417,6.00385,6.00214,6.00174,6.00172,6.00158,6.00089,6.00023,5.99942,5.99924,5.99922,5.99915,5.99848,5.99738,5.9973,5.9968,5.99673,5.99645,5.99623,5.99584,5.99576,5.99493,5.99479,5.99495,5.99472,5.9936300000000005,5.99339,5.99332,5.99331,5.9933,5.99308,5.99221,5.99208,5.99162,5.99088,5.99082,5.99069,5.99013,5.99027,5.9901,5.989,5.9889,5.98854,5.98803,5.98796,5.98772,5.98764,5.98732,5.98728,5.9874,5.9872700000000005,5.98722,5.987,5.98691,5.98665,5.98664,5.98536,5.98372,5.98377,5.98363,5.983,5.9811,5.98027,5.9810300000000005,5.97992,5.98016,5.97896,5.97896,5.9789,5.97847,5.97847,5.97841,5.97838,5.97801,5.97749,5.97612,5.97585,5.97542,5.9748,5.97452,5.9739,5.97308,5.97289,5.9728200000000005,5.97219,5.97121,5.97109,5.97101,5.97085,5.97073,5.97065,5.97016,5.96938,5.9688,5.96877,5.96824,5.96797,5.96759,5.96743,5.96671,5.9666500000000005,5.96648,5.96615,5.9656,5.96532,5.96519,5.96478,5.9646,5.96416,5.96327,5.9625900000000005,5.96213,5.96183,5.96176,5.96169,5.9612,5.96084,5.95938,5.95927,5.95875,5.95837,5.95763,5.95694,5.95694,5.95647,5.95646,5.95632,5.9563,5.9562,5.9561,5.95597,5.9554,5.9553,5.954940000000001,5.95428,5.95415,5.95374,5.95352,5.95338,5.95294,5.95265,5.9525500000000005,5.95239,5.95206,5.95074,5.95062,5.95028,5.9501,5.94994,5.94993,5.9499,5.94819,5.94777,5.94754,5.947,5.94676,5.94663,5.94655,5.94599,5.9458,5.94572,5.94545,5.94538,5.94473,5.94389,5.94325,5.94297,5.94261,5.94204,5.94107,5.9394100000000005,5.9392,5.93912,5.93841,5.93832,5.93788,5.93777,5.93749,5.93713,5.93747,5.93654,5.93619,5.93609,5.93597,5.93585,5.93423,5.93362,5.9336,5.93352,5.93266,5.93259,5.932,5.93189,5.9318,5.9318,5.93039,5.93021,5.92997,5.92963,5.92924,5.9290400000000005,5.92901,5.92901,5.92889,5.9285,5.92799,5.92794,5.92744,5.92724,5.9272,5.927,5.92655,5.92595,5.9259,5.9258,5.92488,5.92475,5.92455,5.92396,5.92387,5.92368,5.92364,5.92359,5.92337,5.92333,5.92304,5.92257,5.9225200000000005,5.92242,5.92082,5.9205000000000005,5.92044,5.92033,5.91997,5.9190000000000005,5.91845,5.91844,5.91831,5.9177800000000005,5.91757,5.91722,5.9171700000000005,5.9170300000000005,5.917,5.91632,5.91629,5.91569,5.91566,5.9149,5.91417,5.91383,5.91333,5.91303,5.91297,5.91213,5.91076,5.9105,5.91015,5.9101300000000005,5.90992,5.9098,5.90963,5.90911,5.90888,5.90817,5.90746,5.90707,5.90655,5.90601,5.90578,5.90504,5.90479,5.90456,5.90449,5.90425,5.90406,5.90396,5.90384,5.90196,5.90135,5.89979,5.89933,5.89913,5.89773,5.89727,5.89713,5.89674,5.89639,5.89634,5.89611,5.89579,5.89556,5.8951,5.89435,5.89432,5.89431,5.89259,5.89219,5.89117,5.891,5.89076,5.8906600000000005,5.8905,5.89006,5.88943,5.88779,5.8876,5.88745,5.88694,5.88692,5.88674,5.88668,5.88647,5.88603,5.88536,5.88529,5.88523,5.88497,5.88464,5.88457,5.88284,5.88236,5.88188,5.88172,5.88096,5.88084,5.88038,5.88014,5.87984,5.87836,5.87818,5.8777,5.87762,5.87673,5.87647,5.87646,5.87629,5.87627,5.87513,5.8751,5.87399,5.87397,5.87357,5.8735,5.87348,5.87314,5.87292,5.87265,5.87262,5.87233,5.87109,5.87083,5.87056,5.87047,5.87044,5.870340000000001,5.87027,5.87022,5.87002,5.86993,5.8699200000000005,5.86987,5.86963,5.86938,5.8689,5.86871,5.86868,5.86861,5.86836,5.868,5.86711,5.8668700000000005,5.86678,5.86661,5.86629,5.86535,5.86475,5.86459,5.86446,5.86417,5.8639,5.86388,5.86367,5.86362,5.86322,5.8628,5.86277,5.86266,5.8626000000000005,5.86246,5.86231,5.86167,5.86069,5.86032,5.85974,5.85946,5.85913,5.8581,5.85793,5.85755,5.85752,5.85749,5.85743,5.85735,5.85726,5.8572500000000005,5.85723,5.85713,5.85677,5.85643,5.85641,5.85623,5.85612,5.85551,5.85478,5.85473,5.8546700000000005,5.85466,5.85418,5.85354,5.85343,5.85292,5.85214,5.85192,5.85159,5.8510100000000005,5.84974,5.84955,5.84928,5.8491800000000005,5.8490400000000005,5.84892,5.84891,5.84856,5.84826,5.84821,5.84798,5.84766,5.84764,5.84701,5.84691,5.84671,5.84665,5.84661,5.84637,5.8463,5.8459900000000005,5.84527,5.84517,5.84489,5.84464,5.84453,5.84442,5.84345,5.84315,5.84314,5.84253,5.84249,5.84223,5.84156,5.84145,5.84116,5.84112,5.84049,5.84025,5.84023,5.84015,5.83862,5.83791,5.83689,5.83674,5.83667,5.83615,5.83613,5.83599,5.8357600000000005,5.83507,5.83478,5.83477,5.83471,5.83463,5.8345400000000005,5.83447,5.83359,5.83314,5.83309,5.8328,5.83264,5.83258,5.83244,5.8319,5.83179,5.83143,5.83039,5.83,5.82982,5.8296,5.82803,5.8277,5.82737,5.82726,5.8272200000000005,5.8270800000000005,5.82705,5.82583,5.82581,5.8253,5.8252500000000005,5.82519,5.82508,5.82493,5.82485,5.82475,5.82432,5.82423,5.8234200000000005,5.82273,5.82253,5.82231,5.82201,5.82201,5.822,5.82161,5.82107,5.82097,5.82034,5.82015,5.81997,5.81993,5.81983,5.81948,5.81936,5.81897,5.81748,5.81744,5.81703,5.81662,5.81652,5.8163,5.81623,5.81499,5.81496,5.81493,5.81476,5.81464,5.81458,5.81414,5.81332,5.81283,5.8125,5.81224,5.81215,5.81174,5.81167,5.81128,5.8104700000000005,5.8097900000000005,5.8097,5.80955,5.80949,5.80915,5.80833,5.80796,5.80771,5.80757,5.8072,5.80698,5.80654,5.80637,5.8059,5.80528,5.80509,5.80455,5.80436,5.80416,5.80373,5.80342,5.80325,5.80295,5.80277,5.80269,5.80247,5.80242,5.80232,5.80179,5.80177,5.80116,5.80043,5.79976,5.79973,5.79946,5.79918,5.79917,5.79874,5.79866,5.79848,5.79846,5.7982700000000005,5.79795,5.79753,5.79727,5.79682,5.79661,5.79655,5.79653,5.79632,5.79622,5.79602,5.79602,5.79594,5.79574,5.79555,5.79529,5.79486,5.79456,5.79426,5.79423,5.79408,5.79401,5.79398,5.79392,5.79379,5.7934,5.79298,5.79273,5.79244,5.79222,5.792,5.79164,5.79148,5.79143,5.7913,5.79126,5.79121,5.7912,5.79105,5.7907,5.79041,5.79006,5.78943,5.78846,5.78832,5.78827,5.78795,5.7879000000000005,5.78788,5.7877,5.78747,5.78701,5.787,5.78697,5.78691,5.78684,5.78674,5.78538,5.78528,5.78523,5.78519,5.78483,5.78483,5.78479,5.78462,5.78457,5.7836300000000005,5.78356,5.78342,5.78284,5.78282,5.7822700000000005,5.78193,5.78192,5.78192,5.78148,5.78145,5.78118,5.7811,5.78093,5.78046,5.77998,5.77979,5.77971,5.7796,5.7795000000000005,5.77919,5.77911,5.77885,5.77867,5.7786,5.77821,5.77756,5.77756,5.77887,5.77745,5.77691,5.77646,5.77623,5.77591,5.77587,5.77545,5.77521,5.77504,5.77467,5.77457,5.77449,5.77374,5.77321,5.77318,5.77317,5.77302,5.772930000000001,5.77292,5.77245,5.77229,5.7721800000000005,5.77169,5.77149,5.77128,5.77093,5.7708200000000005,5.77034,5.77094,5.76965,5.76965,5.76958,5.7695,5.76947,5.76947,5.7696000000000005,5.76923,5.76918,5.76918,5.76878,5.76821,5.76764,5.76743,5.76729,5.76712,5.76708,5.76685,5.76572,5.76636,5.76618,5.7661,5.76605,5.76588,5.76583,5.76573,5.76572,5.76537,5.76515,5.76475,5.76466,5.76453,5.76451,5.76424,5.76381,5.7635000000000005,5.76344,5.76343,5.76338,5.76334,5.763,5.7628,5.7628,5.76274,5.76273,5.76264,5.7625,5.76226,5.76216,5.76192,5.76184,5.76177,5.76146,5.76133,5.76129,5.76113,5.76084,5.76057,5.76053,5.76049,5.76015,5.75935,5.75932,5.75918,5.75913,5.75855,5.75791,5.75778,5.75746,5.75728,5.7571200000000005,5.75678,5.75636,5.75563,5.75542,5.75518,5.75486,5.75473,5.7544900000000005,5.75436,5.7543500000000005,5.7542100000000005,5.754,5.75366,5.75359,5.75347,5.75265,5.75255,5.75226,5.75213,5.75208,5.75195,5.75176,5.75137,5.75131,5.75127,5.75121,5.7511,5.75074,5.75029,5.74997,5.74995,5.74983,5.7498000000000005,5.74968,5.74954,5.74937,5.74936,5.74915,5.7487200000000005,5.7486,5.74859,5.74829,5.74806,5.74769,5.74763,5.74728,5.74696,5.7468900000000005,5.74681,5.74644,5.74634,5.74588,5.74561,5.74545,5.74498,5.74484,5.74482,5.74461,5.7446,5.74436,5.74408,5.74383,5.74382,5.74376,5.74359,5.74333,5.7432,5.74298,5.74293,5.74268,5.74247,5.74224,5.74221,5.74218,5.74205,5.74203,5.74181,5.74179,5.74176,5.7417,5.7414000000000005,5.74132,5.7412600000000005,5.74118,5.7406500000000005,5.74059,5.74051,5.74044,5.73969,5.73942,5.73933,5.73932,5.73898,5.73894,5.73832,5.73808,5.73801,5.7379,5.73777,5.73696,5.73764,5.73693,5.73757,5.73747,5.73649,5.73715,5.73612,5.73712,5.73701,5.73653,5.73694,5.73691,5.73668,5.73612,5.73575,5.73569,5.73546,5.73519,5.73518,5.73499,5.73492,5.73484,5.73463,5.73449,5.73427,5.73423,5.73418,5.73413,5.7341,5.7340800000000005,5.73402,5.73397,5.73397,5.73353,5.73342,5.73332,5.7331900000000005,5.73317,5.7331,5.73308,5.7329,5.73273,5.73271,5.73271,5.73241,5.73219,5.7321100000000005,5.73191,5.7315000000000005,5.73101,5.73093,5.7305,5.73047,5.7303,5.73019,5.73004,5.7299,5.72963,5.72923,5.72921,5.7290600000000005,5.72898,5.72881,5.72836,5.72773,5.72768,5.72765,5.72755,5.72742,5.72734,5.72678,5.72663,5.7266,5.72643,5.72626,5.72621,5.72603,5.72577,5.72561,5.72551,5.72537,5.72521,5.7251,5.72501,5.72495,5.72445,5.7242,5.72415,5.72366,5.72364,5.72322,5.72294,5.72283,5.72273,5.72257,5.72241,5.72215,5.72212,5.72205,5.72152,5.72092,5.72062,5.72013,5.71996,5.71978,5.71973,5.71946,5.71934,5.71902,5.71884,5.71867,5.71859,5.71852,5.71837,5.71806,5.71806,5.71801,5.71771,5.7173300000000005,5.71722,5.7172,5.71715,5.71705,5.71705,5.71704,5.71702,5.71699,5.71693,5.7168600000000005,5.71681,5.71661,5.71648,5.71635,5.71597,5.71593,5.7157,5.71546,5.715310000000001,5.71518,5.71505,5.71497,5.71475,5.71466,5.71455,5.71422,5.71419,5.7141,5.71404,5.71386,5.71355,5.71347,5.71325,5.71322,5.71321,5.71319,5.71314,5.71302,5.71278,5.7127,5.71248,5.71237,5.71203,5.71199,5.71157,5.71122,5.7112,5.7111,5.71093,5.71059,5.71055,5.71051,5.71035,5.71,5.70977,5.70973,5.70967,5.70961,5.7095400000000005,5.70935,5.70898,5.70887,5.70858,5.70851,5.70843,5.70838,5.70831,5.70807,5.70795,5.70781,5.70778,5.70734,5.70731,5.70722,5.70707,5.70702,5.707,5.70677,5.7066300000000005,5.7065,5.70642,5.70608,5.70605,5.7060200000000005,5.70583,5.70572,5.70571,5.70556,5.70535,5.70489,5.70481,5.7048,5.70475,5.70467,5.70465,5.70411,5.704,5.70376,5.70355,5.703,5.70292,5.70282,5.70246,5.7023600000000005,5.70217,5.70205,5.70192,5.70188,5.70186,5.7017500000000005,5.70136,5.70122,5.70097,5.70093,5.70061,5.70051,5.70035,5.70029,5.7001100000000005,5.69993,5.69981,5.69886,5.69977,5.69968,5.69962,5.69954,5.69953,5.69951,5.69938,5.69934,5.69916,5.69902,5.69897,5.69878,5.69846,5.69843,5.69829,5.69788,5.69786,5.69774,5.69772,5.69751,5.69735,5.69682,5.69672,5.69657,5.69619,5.69614,5.69606,5.696,5.69596,5.69594,5.69593,5.6956500000000005,5.69559,5.69484,5.69529,5.69528,5.69528,5.69514,5.69442,5.69439,5.69435,5.6942900000000005,5.69421,5.69376,5.6923200000000005,5.69229,5.69341,5.69341,5.69219,5.6934000000000005,5.69339,5.69184,5.69305,5.6929300000000005,5.69285,5.69281,5.6925,5.69193,5.69177,5.69156,5.69084,5.69078,5.69068,5.69062,5.69059,5.6904900000000005,5.69026,5.69013,5.69009,5.68966,5.68966,5.68942,5.68942,5.68932,5.68931,5.6892700000000005,5.68881,5.68871,5.68841,5.6882,5.68816,5.68813,5.68806,5.68798,5.68778,5.6877200000000006,5.6871100000000006,5.68709,5.68701,5.6864,5.6869,5.68686,5.6862,5.6862,5.68605,5.68601,5.68599,5.68596,5.6856,5.68533,5.68497,5.68476,5.68475,5.68472,5.68464,5.68448,5.6843900000000005,5.68408,5.68399,5.68373,5.68355,5.68347,5.6833,5.68291,5.68288,5.68261,5.6824200000000005,5.68241,5.68226,5.68211,5.68193,5.68123,5.68155,5.68147,5.68112,5.68129,5.68121,5.68071,5.68062,5.68056,5.68052,5.68048,5.68047,5.68044,5.68033,5.68032,5.68021,5.68003,5.68001,5.67971,5.67955,5.67949,5.67947,5.67934,5.67932,5.67929,5.6790400000000005,5.67893,5.6787,5.67854,5.67831,5.678,5.67797,5.67797,5.67795,5.67772,5.67769,5.67732,5.67722,5.67714,5.677,5.677,5.67699,5.67697,5.67678,5.67676,5.67664,5.67662,5.67659,5.67657,5.67635,5.67593,5.6758500000000005,5.6757,5.67564,5.67554,5.67548,5.6753800000000005,5.6751000000000005,5.6749,5.67473,5.6747,5.6746,5.67459,5.67454,5.67411,5.67398,5.67376,5.67375,5.6737,5.6736,5.6736,5.6735500000000005,5.67343,5.6732700000000005,5.67325,5.6729,5.67273,5.67272,5.67272,5.67251,5.67246,5.67241,5.67234,5.67224,5.67223,5.67223,5.67207,5.67206,5.67166,5.67155,5.67103,5.67091,5.67091,5.67063,5.67055,5.67041,5.67007,5.67006,5.66977,5.66974,5.66973,5.66972,5.66972,5.66971,5.6696100000000005,5.66953,5.66946,5.66938,5.6691,5.6691,5.66905,5.66901,5.66896,5.6689,5.6688600000000005,5.66879,5.66872,5.66863,5.66851,5.66847,5.66826,5.66818,5.66789,5.66779,5.66753,5.66749,5.66727,5.6668,5.66674,5.6665,5.66634,5.66632,5.66627,5.66611,5.6661,5.666,5.66599,5.66586,5.6658100000000005,5.66553,5.66544,5.66539,5.66469,5.66465,5.66455,5.66453,5.66422,5.66413,5.66408,5.66403,5.66401,5.6636500000000005,5.66382,5.66387,5.66386,5.6637,5.66315,5.66269,5.66267,5.66256,5.66251,5.6625,5.66248,5.66224,5.66221,5.66214,5.66206,5.66187,5.6618200000000005,5.6617,5.66164,5.66149,5.66128,5.66106,5.66094,5.66094,5.66092,5.66087,5.66079,5.66065,5.66049,5.66038,5.66029,5.66027,5.66024,5.66018,5.6601,5.66009,5.65998,5.65997,5.65981,5.65955,5.65963,5.65917,5.65915,5.65922,5.65894,5.65904,5.65895,5.6587,5.65871,5.6586300000000005,5.65844,5.65787,5.65786,5.6578,5.65774,5.65765,5.65746,5.65745,5.6574,5.65714,5.65712,5.65702,5.65677,5.65673,5.65671,5.65668,5.6566600000000005,5.65639,5.65618,5.65598,5.65535,5.65566,5.65522,5.65519,5.6555,5.65513,5.65539,5.65492,5.65536,5.65532,5.65527,5.65522,5.65464,5.65446,5.6542200000000005,5.65492,5.65409,5.65399,5.65449,5.65424,5.65418,5.65415,5.65409,5.65398,5.6538,5.65364,5.65365,5.65358,5.65348,5.65311,5.65309,5.65305,5.65281,5.65265,5.65257,5.65247,5.65246,5.65245,5.65243,5.65231,5.65222,5.65161,5.65124,5.65122,5.65106,5.651,5.65065,5.65077,5.65071,5.6505600000000005,5.64975,5.65055,5.64972,5.65041,5.6503,5.64969,5.65028,5.64955,5.64994,5.64951,5.64991,5.64985,5.6495,5.64946,5.64938,5.6493400000000005,5.64927,5.649,5.64896,5.64872,5.6487,5.64862,5.64856,5.64825,5.64822,5.64817,5.64814,5.64807,5.64802,5.648,5.64795,5.6477900000000005,5.64775,5.64775,5.64762,5.64747,5.64743,5.64719,5.64715,5.64707,5.64692,5.64691,5.64679,5.64675,5.64674,5.64666,5.64661,5.64642,5.6463,5.64622,5.64652,5.64628,5.64618,5.64601,5.646,5.6458,5.64571,5.64569,5.64536,5.64536,5.64531,5.64506,5.645,5.64487,5.64481,5.64481,5.64477,5.64438,5.64434,5.64433,5.64426,5.64424,5.64412,5.6441,5.64408,5.64408,5.64406,5.64382,5.64353,5.6435200000000005,5.64349,5.64343,5.64336,5.6433,5.64323,5.64323,5.64317,5.64308,5.6429100000000005,5.64284,5.64279,5.64279,5.64239,5.64236,5.64234,5.64233,5.6423,5.64184,5.64156,5.64183,5.64145,5.64172,5.64163,5.64135,5.64159,5.64125,5.64151,5.64146,5.64145,5.64136,5.6413,5.64113,5.64071,5.64029,5.64029,5.64024,5.64022,5.6401900000000005,5.63999,5.63988,5.63979,5.63971,5.6396,5.63945,5.63932,5.63926,5.63918,5.63914,5.639,5.63912,5.63902,5.63896,5.63862,5.63894,5.63881,5.63871,5.63871,5.63861,5.63855,5.63853,5.63847,5.63829,5.63826,5.63811,5.63784,5.63778,5.63749,5.63743,5.6374200000000005,5.63739,5.63738,5.6373,5.63711,5.6369,5.63689,5.63679,5.63668,5.63656,5.63631,5.63625,5.63618,5.63611,5.63608,5.63598,5.63596,5.63593,5.63569,5.63568,5.63567,5.63565,5.63565,5.63554,5.6352,5.63495,5.63494,5.63481,5.63463,5.63461,5.63415,5.63411,5.63436,5.6341,5.63408,5.63401,5.63426,5.63425,5.63424,5.63396,5.63393,5.63415,5.63412,5.63399,5.63396,5.63392,5.63378,5.63364,5.63346,5.63339,5.63322,5.6332,5.63309,5.63307,5.63286,5.63268,5.63268,5.63258,5.63243,5.63239,5.63237,5.6322600000000005,5.63213,5.63211,5.63195,5.6319300000000005,5.63185,5.63176,5.63171,5.63157,5.6315,5.6314,5.63137,5.63137,5.63125,5.63109,5.63108,5.63107,5.63106,5.63102,5.63087,5.63072,5.6306,5.63056,5.63053,5.63045,5.63038,5.63023,5.63016,5.63013,5.62994,5.6299,5.62989,5.62984,5.62981,5.62969,5.62965,5.62959,5.6295,5.6294900000000005,5.62934,5.62929,5.62913,5.62912,5.62891,5.62885,5.62875,5.6287400000000005,5.62871,5.62871,5.6286000000000005,5.62857,5.62853,5.62823,5.6281300000000005,5.62796,5.62789,5.6273800000000005,5.62768,5.62755,5.62745,5.62739,5.62713,5.6271,5.6271,5.62703,5.62703,5.62697,5.62695,5.62633,5.62668,5.62661,5.62654,5.62625,5.62612,5.62607,5.62604,5.62604,5.62603,5.62598,5.62597,5.62586,5.62581,5.62572,5.62553,5.62548,5.62544,5.6254,5.62534,5.62526,5.62515,5.62501,5.62495,5.62469,5.62469,5.62466,5.62466,5.62459,5.62451,5.62445,5.62444,5.62444,5.6243300000000005,5.62428,5.62427,5.62416,5.62415,5.62415,5.62395,5.62391,5.62388,5.62382,5.62374,5.62356,5.62344,5.62342,5.62342,5.62338,5.62329,5.62318,5.62314,5.62313,5.62313,5.62308,5.62307,5.62299,5.62288,5.62272,5.62263,5.62249,5.62246,5.6224,5.62204,5.62196,5.62196,5.62184,5.6218,5.62153,5.62151,5.6215,5.6214200000000005,5.6213,5.62125,5.62123,5.62118,5.62109,5.62096,5.62029,5.62046,5.62027,5.61974,5.62024,5.61972,5.62036,5.62012,5.61967,5.61993,5.61989,5.61961,5.62008,5.62005,5.62001,5.61994,5.61976,5.61956,5.61956,5.61954,5.6195,5.61949,5.61941,5.6193,5.61927,5.61927,5.61914,5.61908,5.6189,5.61888,5.61871,5.6184,5.6184,5.6183,5.61816,5.61797,5.61793,5.61783,5.61783,5.61777,5.61775,5.61768,5.61768,5.61768,5.61764,5.61764,5.61764,5.61756,5.61736,5.61727,5.61726,5.61704,5.6170100000000005,5.6170100000000005,5.617,5.61697,5.61689,5.61686,5.61677,5.61676,5.61667,5.61658,5.61649,5.61647,5.61635,5.61625,5.61619,5.61604,5.61594,5.61539,5.61536,5.61529,5.61516,5.61501,5.61499,5.61487,5.6148,5.61464,5.61462,5.6145700000000005,5.61451,5.61431,5.61398,5.6139600000000005,5.61394,5.61379,5.61363,5.61346,5.61318,5.61317,5.6129,5.61286,5.6127400000000005,5.61258,5.61252,5.61249,5.61249,5.61244,5.61231,5.61218,5.61212,5.61201,5.61192,5.61191,5.61181,5.61178,5.61168,5.61163,5.61154,5.6115200000000005,5.6115,5.61142,5.61134,5.61131,5.61119,5.61111,5.61109,5.611,5.611,5.61083,5.61062,5.61062,5.61062,5.61052,5.61052,5.61049,5.61029,5.61029,5.61019,5.60996,5.60996,5.60987,5.60979,5.6096900000000005,5.60963,5.60956,5.60949,5.60948,5.60932,5.60927,5.60919,5.60919,5.60912,5.60897,5.6089400000000005,5.60888,5.60887,5.6087,5.60867,5.60841,5.60836,5.60821,5.60809,5.60805,5.60804,5.60803,5.60801,5.60792,5.60789,5.60781,5.6078,5.60763,5.60756,5.60748,5.60736,5.6072500000000005,5.6072500000000005,5.60717,5.60716,5.60714,5.6071100000000005,5.6071,5.60699,5.60689,5.60688,5.60685,5.60684,5.60683,5.6068,5.60679,5.6067,5.60668,5.60667,5.60666,5.60659,5.60655,5.60652,5.60639,5.60635,5.60621,5.60611,5.60611,5.60609,5.60601,5.60597,5.60594,5.6059,5.60568,5.60567,5.60565,5.60547,5.60546,5.60543,5.60543,5.60539,5.60536,5.60532,5.6052800000000005,5.60525,5.60523,5.60516,5.60503,5.60496,5.60491,5.60489,5.60484,5.60483,5.6048100000000005,5.60479,5.6046,5.60459,5.60442,5.60433,5.60431,5.60411,5.60409,5.60407,5.60403,5.60403,5.60397,5.60381,5.60379,5.60378,5.60375,5.6037300000000005,5.6037,5.60368,5.60325,5.60311,5.60292,5.60291,5.60289,5.60285,5.60288,5.60268,5.6028,5.60258,5.60267,5.60259,5.60246,5.60243,5.60242,5.60233,5.60227,5.60202,5.60199,5.60195,5.60194,5.60187,5.60185,5.60179,5.60177,5.60177,5.6017600000000005,5.60165,5.60161,5.60161,5.60142,5.6014,5.60135,5.60133,5.60126,5.60126,5.60116,5.60116,5.6011500000000005,5.60106,5.60106,5.60104,5.60103,5.60099,5.60095,5.60089,5.60084,5.60078,5.60078,5.6006,5.60058,5.60049,5.60043,5.60032,5.60027,5.60025,5.60022,5.60016,5.59998,5.59997,5.59992,5.59989,5.59984,5.59958,5.59951,5.5995,5.5994,5.59936,5.59929,5.59926,5.59922,5.5991,5.5991,5.59905,5.59893,5.5989,5.5989,5.59876,5.59872,5.59866,5.59865,5.5986,5.59846,5.59846,5.59841,5.59839,5.59839,5.59831,5.59829,5.59817,5.5981000000000005,5.59809,5.59808,5.59795,5.59785,5.59781,5.5977,5.59768,5.59767,5.59767,5.59763,5.59759,5.59759,5.5974900000000005,5.5972100000000005,5.59717,5.59717,5.59706,5.59704,5.59703,5.59701,5.59698,5.59694,5.59682,5.59675,5.59672,5.59668,5.59667,5.59662,5.59662,5.59661,5.59653,5.59653,5.59652,5.59648,5.59646,5.59638,5.59628,5.59615,5.59598,5.59591,5.59588,5.59587,5.59579,5.59574,5.59574,5.59574,5.59574,5.5957,5.59567,5.59562,5.5956,5.59556,5.59555,5.5955,5.59549,5.59548,5.59544,5.5953800000000005,5.59534,5.59523,5.5952,5.59518,5.59516,5.59511,5.59509,5.59507,5.59501,5.595,5.59497,5.59494,5.59489,5.59487,5.5948,5.5948,5.59475,5.59471,5.59468,5.59466,5.59459,5.59453,5.59452,5.59442,5.59427,5.59423,5.59418,5.5939,5.59388,5.59387,5.59381,5.59376,5.59375,5.59371,5.5936900000000005,5.59368,5.59365,5.59364,5.59364,5.5935500000000005,5.5935500000000005,5.59353,5.59344,5.59341,5.5934,5.59331,5.59329,5.59326,5.59325,5.5932,5.59317,5.59316,5.59307,5.59306,5.59304,5.59301,5.59295,5.59289,5.59288,5.59252,5.59252,5.59232,5.59227,5.59213,5.59206,5.59196,5.59195,5.59193,5.59185,5.59182,5.59175,5.59174,5.5917200000000005,5.59167,5.59158,5.59133,5.59123,5.59113,5.5911,5.59108,5.59104,5.59103,5.591,5.59095,5.59088,5.59072,5.59068,5.59068,5.59053,5.59053,5.59039,5.59036,5.59036,5.59033,5.5903,5.59024,5.59016,5.59014,5.59011,5.58991,5.58971,5.58968,5.58967,5.58962,5.58954,5.58953,5.58952,5.58952,5.58952,5.58943,5.58943,5.58937,5.58934,5.58925,5.58908,5.58899,5.58891,5.58884,5.5888,5.58878,5.58877,5.58862,5.58861,5.5886,5.58854,5.58849,5.58848,5.58846,5.58829,5.58825,5.58817,5.58814,5.58814,5.58809,5.58807,5.58782,5.58779,5.58777,5.58775,5.58775,5.58771,5.58767,5.58767,5.58761,5.58757,5.58755,5.5875,5.58749,5.58743,5.58741,5.58739,5.58734,5.58734,5.58732,5.58729,5.58728,5.58711,5.58705,5.587,5.58697,5.58696,5.58696,5.58691,5.5869,5.58688,5.58687,5.58686,5.58681,5.58671,5.58669,5.58663,5.5865100000000005,5.58648,5.58647,5.58643,5.5864,5.58625,5.5862300000000005,5.58617,5.58616,5.58614,5.58608,5.58605,5.58604,5.58601,5.58581,5.58575,5.58574,5.58573,5.58565,5.58558,5.58553,5.58548,5.58547,5.58545,5.58544,5.58543,5.58541,5.58537,5.58533,5.58528,5.58517,5.58514,5.58502,5.58502,5.58499,5.58499,5.58499,5.58497,5.58495,5.58492,5.58485,5.58484,5.58477,5.58471,5.58462,5.58462,5.58451,5.58448,5.58446,5.58441,5.58426,5.58413,5.58403,5.58391,5.5839,5.58383,5.5838,5.58376,5.5837,5.58354,5.58353,5.5834600000000005,5.5834600000000005,5.58344,5.58342,5.58333,5.5833,5.58328,5.58327,5.58323,5.5832,5.58317,5.58311,5.58303,5.58299,5.58299,5.58283,5.58272,5.58268,5.58261,5.5826,5.58252,5.58251,5.58232,5.5822,5.58216,5.58215,5.58206,5.58203,5.58198,5.58189,5.58173,5.58172,5.58157,5.58154,5.58154,5.58146,5.58144,5.5813500000000005,5.58134,5.5813,5.58125,5.5812,5.5810200000000005,5.58085,5.58085,5.58072,5.5807,5.58069,5.58061,5.58054,5.58052,5.58049,5.58045,5.58044,5.58033,5.58031,5.58031,5.58025,5.58025,5.5802,5.5801300000000005,5.58007,5.58002,5.58001,5.57998,5.57996,5.5799,5.57986,5.57982,5.57972,5.57971,5.57967,5.57961,5.57954,5.5795,5.5793800000000005,5.57926,5.57926,5.57924,5.57922,5.57917,5.57913,5.57911,5.57907,5.57903,5.57901,5.57895,5.57884,5.57879,5.5787,5.57854,5.57852,5.5785,5.5785,5.57834,5.57826,5.57826,5.57823,5.57818,5.57819,5.5781600000000005,5.57813,5.57812,5.57805,5.578,5.57795,5.5779,5.57787,5.57784,5.57779,5.57776,5.57766,5.57765,5.57757,5.57756,5.57748,5.57742,5.57732,5.57731,5.57724,5.57716,5.57714,5.57713,5.57713,5.57702,5.577,5.57697,5.57693,5.57692,5.57686,5.57682,5.5768,5.57676,5.57662,5.57662,5.57657,5.57657,5.57652,5.5765,5.57649,5.5764,5.57636,5.57636,5.57632,5.5762,5.57619,5.5761,5.57608,5.57593,5.57593,5.57588,5.57585,5.57579,5.57577,5.57576,5.57564,5.57558,5.5755,5.57548,5.57546,5.5754,5.57534,5.57533,5.57533,5.57526,5.57521,5.5752,5.5752,5.57517,5.57517,5.57516,5.57515,5.57515,5.57512,5.5751100000000005,5.5751100000000005,5.57505,5.57502,5.575,5.5749200000000005,5.5749,5.5749,5.57487,5.57486,5.5748,5.57477,5.57465,5.57462,5.57462,5.57461,5.57458,5.57457,5.57452,5.57449,5.57447,5.57446,5.57443,5.57442,5.5744,5.57439,5.57415,5.57414,5.57413,5.57411,5.57398,5.57372,5.57396,5.57368,5.57388,5.57383,5.5738,5.57376,5.57366,5.57363,5.57363,5.57359,5.57349,5.57345,5.5734200000000005,5.57341,5.57338,5.57326,5.57325,5.57311,5.57311,5.5730900000000005,5.57307,5.57307,5.57305,5.57303,5.57279,5.57275,5.57271,5.57269,5.57245,5.57244,5.57242,5.57242,5.57241,5.57238,5.57238,5.57225,5.57225,5.5721,5.57201,5.57194,5.57186,5.5718,5.57176,5.57168,5.57165,5.57165,5.5715900000000005,5.57158,5.57158,5.57157,5.57156,5.57142,5.57137,5.57137,5.57137,5.57136,5.5713,5.5712600000000005,5.57125,5.57124,5.57119,5.57119,5.57114,5.57096,5.57095,5.57092,5.57091,5.5709,5.57079,5.57076,5.57075,5.57071,5.57069,5.57064,5.57063,5.57062,5.57061,5.57054,5.57053,5.57052,5.5705100000000005,5.57048,5.57046,5.57045,5.5704,5.57034,5.57033,5.57027,5.57025,5.57022,5.5701,5.57005,5.57005,5.56999,5.56999,5.56994,5.56988,5.56987,5.56986,5.56981,5.56978,5.5697,5.56969,5.56963,5.56947,5.56942,5.5694,5.56932,5.5693,5.56927,5.56921,5.5692,5.56916,5.56912,5.56909,5.56908,5.56904,5.56903,5.56882,5.56878,5.56878,5.5687,5.56865,5.56858,5.56857,5.56856,5.56849,5.56847,5.56844,5.56843,5.56839,5.56827,5.56814,5.56813,5.56809,5.56805,5.568,5.56797,5.56795,5.56792,5.56778,5.5678,5.5677900000000005,5.5677,5.56767,5.56766,5.56755,5.5675,5.56749,5.5674600000000005,5.56739,5.56735,5.56734,5.56734,5.56729,5.56722,5.5672,5.5671800000000005,5.56714,5.56711,5.56708,5.56705,5.56696,5.56696,5.56691,5.5669,5.56686,5.56682,5.56672,5.56668,5.56668,5.56665,5.56664,5.56663,5.56662,5.56651,5.56636,5.56632,5.5662400000000005,5.56623,5.56622,5.56601,5.56591,5.5659,5.56589,5.56588,5.56587,5.56584,5.56582,5.56566,5.56564,5.56557,5.56551,5.5654,5.56538,5.5653500000000005,5.56534,5.56526,5.56519,5.56519,5.56518,5.56516,5.56514,5.56512,5.56512,5.56503,5.565,5.56496,5.56494,5.5649,5.5649,5.56481,5.56478,5.56475,5.5646,5.56459,5.56458,5.56453,5.56452,5.56442,5.56437,5.56432,5.56432,5.56429,5.56421,5.56418,5.5641300000000005,5.56408,5.56406,5.56403,5.56399,5.56396,5.56395,5.56384,5.56383,5.56381,5.56378,5.56376,5.56374,5.56374,5.56374,5.56372,5.56371,5.56365,5.56363,5.56362,5.56355,5.56351,5.56348,5.56343,5.56338,5.56334,5.56331,5.56329,5.56328,5.56325,5.5632,5.56313,5.56307,5.56303,5.56299,5.56296,5.56294,5.56292,5.56288,5.56288,5.56284,5.5628,5.56274,5.5627,5.5627,5.56273,5.56267,5.56266,5.5626,5.56255,5.56253,5.56251,5.56235,5.56237,5.56233,5.56233,5.56229,5.56219,5.56228,5.56215,5.56209,5.56206,5.56208,5.56206,5.56205,5.56198,5.56198,5.5619700000000005,5.56192,5.5619,5.56186,5.56185,5.56182,5.5618,5.56179,5.56166,5.56166,5.56164,5.56161,5.56155,5.56153,5.56149,5.56145,5.56143,5.56139,5.56138,5.56134,5.56132,5.56127,5.56126,5.56126,5.56125,5.56123,5.5612,5.56118,5.56106,5.56104,5.56102,5.561,5.56098,5.56096,5.56091,5.56086,5.5608,5.56079,5.56077,5.56062,5.56057,5.56052,5.56046,5.5604,5.56039,5.56038,5.56038,5.56035,5.56033,5.5603,5.56029,5.56021,5.5601400000000005,5.56013,5.56012,5.56002,5.56002,5.55998,5.55997,5.55992,5.55989,5.55988,5.55987,5.5598600000000005,5.55985,5.55983,5.55979,5.55973,5.55971,5.5597,5.55967,5.55965,5.55963,5.55962,5.55959,5.55956,5.55955,5.5594,5.5593900000000005,5.5593900000000005,5.55931,5.55927,5.55934,5.55921,5.55921,5.55914,5.55914,5.55909,5.55903,5.55903,5.55894,5.5589200000000005,5.5588,5.55877,5.55868,5.55866,5.5586400000000005,5.55857,5.55856,5.55851,5.55846,5.55846,5.55845,5.55844,5.55843,5.55836,5.55829,5.55828,5.55827,5.55821,5.55816,5.55814,5.55813,5.55806,5.55805,5.55804,5.55802,5.55799,5.55794,5.5579,5.55772,5.55789,5.55786,5.55784,5.55782,5.55782,5.55776,5.55775,5.55775,5.55774,5.55758,5.55755,5.5575,5.55747,5.55746,5.55739,5.55738,5.55736,5.55731,5.55729,5.55715,5.55715,5.55715,5.55712,5.55711,5.55701,5.55701,5.55701,5.55698,5.55693,5.55685,5.55684,5.5568,5.55677,5.55677,5.55669,5.55653,5.5565,5.5564800000000005,5.55644,5.55629,5.55629,5.55629,5.55628,5.55622,5.5562000000000005,5.5562000000000005,5.55617,5.55617,5.55612,5.55609,5.55607,5.55605,5.55605,5.55598,5.5559,5.55589,5.55589,5.55583,5.55583,5.55578,5.55577,5.55577,5.55558,5.55568,5.55566,5.55565,5.55563,5.55561,5.55561,5.5555,5.55547,5.55544,5.5554,5.55537,5.55537,5.55535,5.55534,5.55525,5.55517,5.55517,5.55516,5.5551,5.55506,5.55505,5.55503,5.55501,5.55499,5.55496,5.55494,5.55494,5.55492,5.55484,5.55475,5.55474,5.55472,5.55466,5.5546500000000005,5.55464,5.55462,5.55462,5.55461,5.55458,5.55449,5.55447,5.55445,5.55444,5.55432,5.55429,5.55428,5.55425,5.55424,5.55424,5.55422,5.55421,5.55421,5.55414,5.55413,5.55413,5.5541,5.55408,5.55398,5.55394,5.55394,5.55391,5.55377,5.55372,5.55372,5.55364,5.55363,5.55362,5.55359,5.55359,5.55358,5.55355,5.55355,5.55353,5.55348,5.55345,5.5534,5.55327,5.55327,5.55325,5.55322,5.55317,5.55312,5.55312,5.5531,5.55308,5.55307,5.55307,5.55303,5.55301,5.55295,5.55291,5.5529,5.55289,5.55287,5.55285,5.55283,5.55283,5.55281,5.55278,5.55275,5.55275,5.55274,5.55273,5.55273,5.5526800000000005,5.5526800000000005,5.55267,5.55264,5.55264,5.55259,5.5525,5.5525,5.55249,5.55249,5.55247,5.55245,5.55244,5.5524,5.55238,5.55237,5.55236,5.5523,5.55226,5.55226,5.55225,5.55222,5.5522,5.55219,5.55218,5.55212,5.55212,5.55211,5.55205,5.55205,5.55197,5.55189,5.55186,5.55186,5.55184,5.55179,5.55176,5.55176,5.55174,5.55168,5.55161,5.55157,5.55151,5.55151,5.55149,5.55145,5.55144,5.55143,5.55141,5.55137,5.55136,5.55133,5.55128,5.55121,5.55119,5.55118,5.55117,5.55114,5.55107,5.55105,5.55104,5.551,5.55091,5.5509,5.5509,5.5508500000000005,5.55082,5.5508,5.55073,5.55073,5.55073,5.55072,5.55072,5.55066,5.55057,5.5505,5.55049,5.55048,5.55048,5.55046,5.55043,5.55037,5.5503,5.5503,5.55028,5.55025,5.55025,5.55022,5.55019,5.55019,5.55019,5.55018,5.55016,5.55016,5.55007,5.55007,5.55007,5.54999,5.54999,5.54996,5.54996,5.54994,5.54984,5.54984,5.54981,5.54981,5.5497700000000005,5.54975,5.54972,5.54971,5.54969,5.54961,5.54959,5.54959,5.54957,5.54952,5.54946,5.54943,5.54938,5.54937,5.54936,5.54934,5.54934,5.54932,5.54932,5.54921,5.54917,5.54919,5.54915,5.54914,5.54914,5.54914,5.54908,5.54906,5.5490200000000005,5.54899,5.54898,5.54889,5.5488800000000005,5.54887,5.54887,5.54874,5.54872,5.54863,5.54863,5.5486,5.54856,5.54854,5.54847,5.54847,5.54846,5.54846,5.54844,5.54843,5.54843,5.54839,5.54837,5.54833,5.54821,5.54815,5.54815,5.54814,5.54812,5.5481,5.54809,5.54809,5.54804,5.54804,5.548,5.54793,5.54792,5.54791,5.54791,5.54784,5.54783,5.54779,5.54776,5.54775,5.54775,5.54772,5.54771,5.5477,5.54769,5.54764,5.54757,5.54755,5.54753,5.54751,5.54747,5.54746,5.54745,5.54745,5.54744,5.54744,5.54743,5.54739,5.54738,5.54735,5.54729,5.54726,5.54723,5.54723,5.54722,5.5472,5.5472,5.5472,5.54717,5.54716,5.54714,5.54711,5.54704,5.5470500000000005,5.5470500000000005,5.54702,5.54701,5.54694,5.54689,5.54685,5.54679,5.54678,5.54678,5.54678,5.54677,5.54677,5.54676,5.54671,5.5467,5.54666,5.54665,5.54665,5.54663,5.54662,5.5466,5.5466,5.54657,5.54654,5.54652,5.54651,5.5465,5.54648,5.54647,5.54647,5.54643,5.54632,5.54628,5.54627,5.54625,5.54623,5.54622,5.54621,5.5462,5.54617,5.54614,5.54614,5.54609,5.54608,5.54604,5.54603,5.54601,5.546,5.54599,5.54593,5.54592,5.54591,5.5459,5.5459,5.54589,5.54587,5.54585,5.54579,5.54574,5.54573,5.54567,5.5456,5.54557,5.54551,5.54551,5.54543,5.54543,5.5454,5.54537,5.54533,5.54532,5.54528,5.54528,5.54525,5.54523,5.5452200000000005,5.5452,5.5452,5.54519,5.54518,5.54512,5.5451,5.54509,5.54509,5.54507,5.54506,5.54505,5.545,5.54498,5.54497,5.54496,5.54495,5.54494,5.5448900000000005,5.5449,5.5448900000000005,5.5448900000000005,5.54487,5.54485,5.54482,5.54477,5.54474,5.54471,5.5447,5.54469,5.54467,5.5446,5.5446,5.5446,5.54456,5.54451,5.54451,5.5445,5.54445,5.5442800000000005,5.54426,5.54418,5.54417,5.54411,5.5441,5.54409,5.54405,5.54403,5.5440000000000005,5.5440000000000005,5.54398,5.54397,5.54397,5.54396,5.54395,5.54395,5.54393,5.54391,5.54389,5.54383,5.54382,5.54381,5.54379,5.54375,5.54375,5.54373,5.54371,5.5437,5.5437,5.54368,5.5436700000000005,5.5436700000000005,5.54366,5.54366,5.54366,5.54365,5.54361,5.5436,5.54358,5.54358,5.54358,5.54358,5.54348,5.54345,5.54343,5.5434,5.54336,5.54335,5.54334,5.54333,5.54331,5.54323,5.54322,5.54321,5.54321,5.54319,5.54318,5.54317,5.54316,5.54312,5.54311,5.54308,5.54307,5.5430600000000005,5.54302,5.54301,5.54297,5.54296,5.54291,5.54287,5.54283,5.5428,5.54275,5.54275,5.54273,5.54269,5.54268,5.54268,5.54267,5.54265,5.54263,5.54263,5.54261,5.5426,5.54259,5.54257,5.54255,5.54254,5.54253,5.54252,5.5425,5.54249,5.54249,5.54248,5.54248,5.54247,5.54247,5.54241,5.54239,5.54239,5.54238,5.54237,5.54236,5.54235,5.54234,5.54234,5.54234,5.54233,5.5423100000000005,5.5423,5.54227,5.54214,5.54213,5.54209,5.54207,5.5420300000000005,5.54202,5.54198,5.54197,5.54195,5.54194,5.54194,5.5419,5.5419,5.54188,5.54187,5.5418400000000005,5.5418400000000005,5.54182,5.54174,5.54171,5.5417000000000005,5.54166,5.54165,5.54164,5.5416,5.54159,5.54157,5.54153,5.54153,5.54147,5.54144,5.54144,5.54141,5.54137,5.54135,5.54133,5.54133,5.54131,5.5413,5.5413,5.5412,5.54114,5.5410900000000005,5.54108,5.54108,5.54108,5.54107,5.54105,5.54104,5.54102,5.54101,5.541,5.5409500000000005,5.5408,5.54094,5.54079,5.54093,5.54089,5.54078,5.54078,5.54078,5.54076,5.54088,5.54087,5.54085,5.54079,5.54075,5.54073,5.54067,5.54058,5.54059,5.54053,5.54052,5.54044,5.54039,5.54038,5.54038,5.54041,5.54036,5.54039,5.54035,5.54035,5.5403400000000005,5.54033,5.54032,5.54031,5.54032,5.54029,5.54029,5.54028,5.54028,5.54026,5.54026,5.54026,5.54024,5.54024,5.54024,5.54024,5.54025,5.54022,5.54018,5.54015,5.54018,5.54018,5.54017,5.5401,5.54006,5.54013,5.54005,5.54015,5.54004,5.54013,5.54001,5.53997,5.53991,5.53988,5.5398700000000005,5.53986,5.53984,5.53978,5.53976,5.53975,5.5397300000000005,5.53972,5.5397,5.53969,5.53969,5.53966,5.53966,5.53964,5.53962,5.5395900000000005,5.53949,5.53948,5.53947,5.53945,5.53943,5.53942,5.5394,5.53939,5.53939,5.53936,5.53935,5.53934,5.53929,5.5392600000000005,5.5392,5.53917,5.53916,5.53915,5.53907,5.53904,5.53893,5.53892,5.53891,5.53889,5.53877,5.53864,5.53858,5.5386500000000005,5.53862,5.53848,5.53858,5.53847,5.53845,5.53853,5.53842,5.53849,5.53849,5.53844,5.53838,5.53843,5.53834,5.53832,5.5383,5.53829,5.5382,5.53819,5.53819,5.53818,5.53818,5.53815,5.53814,5.5381,5.5381,5.5381,5.53806,5.5380400000000005,5.53802,5.53798,5.53795,5.53795,5.53794,5.53794,5.53792,5.53789,5.53787,5.53783,5.53783,5.53782,5.53778,5.53778,5.5377600000000005,5.53773,5.5377,5.5377,5.5377,5.53766,5.53765,5.53758,5.53754,5.53754,5.53751,5.53751,5.5375,5.53748,5.5374300000000005,5.53742,5.53741,5.53741,5.53741,5.53735,5.53735,5.53735,5.53733,5.53733,5.53732,5.53731,5.53731,5.53731,5.5373,5.5373,5.5373,5.5372900000000005,5.5372900000000005,5.53722,5.53722,5.53721,5.53721,5.5372,5.53716,5.5371500000000005,5.5371500000000005,5.53714,5.53711,5.5371,5.53709,5.53709,5.53708,5.53703,5.53703,5.53701,5.53701,5.537,5.53693,5.53691,5.53691,5.53691,5.53688,5.53687,5.53684,5.53683,5.5368200000000005,5.53681,5.5368,5.5368,5.53677,5.53677,5.53677,5.5367,5.5367,5.53669,5.5366800000000005,5.53666,5.53665,5.53663,5.53663,5.53662,5.5366,5.53656,5.53655,5.53655,5.5365400000000005,5.5365400000000005,5.53652,5.53651,5.53651,5.53648,5.53648,5.53645,5.53644,5.53642,5.53642,5.53641,5.5364,5.53639,5.53635,5.53629,5.53626,5.53625,5.53625,5.53623,5.5362100000000005,5.5362,5.53617,5.53617,5.53616,5.53615,5.53612,5.53612,5.53612,5.53609,5.53608,5.53606,5.53606,5.53603,5.53601,5.53598,5.53598,5.53598,5.53597,5.53591,5.53587,5.53585,5.53583,5.53582,5.53578,5.53578,5.53577,5.53575,5.53574,5.53573,5.53572,5.5357,5.5357,5.53568,5.53566,5.53563,5.53558,5.53562,5.53554,5.53557,5.53552,5.53555,5.53551,5.53551,5.53551,5.53549,5.53547,5.5354600000000005,5.53543,5.53542,5.53538,5.53537,5.5353200000000005,5.5353,5.5353,5.53529,5.53523,5.53523,5.53523,5.53522,5.53519,5.53517,5.53516,5.53513,5.53507,5.53505,5.53504,5.535,5.5349900000000005,5.5349,5.53497,5.53494,5.53493,5.53491,5.53486,5.53483,5.53474,5.53473,5.53473,5.53467,5.53462,5.5346,5.5346,5.53457,5.53457,5.53456,5.53456,5.53455,5.53454,5.53454,5.53454,5.53453,5.53452,5.53452,5.53451,5.5345,5.53448,5.53446,5.53446,5.53445,5.53445,5.5344,5.53439,5.53437,5.53435,5.53433,5.53433,5.53433,5.53431,5.5343,5.5343,5.53429,5.53426,5.53423,5.53422,5.53421,5.53419,5.53417,5.53414,5.53414,5.53414,5.53413,5.53407,5.53407,5.53406,5.53405,5.53402,5.53397,5.53395,5.53393,5.53391,5.5339,5.5339,5.53389,5.53389,5.53389,5.53389,5.53385,5.53385,5.53383,5.5338,5.53379,5.53378,5.5337700000000005,5.53376,5.53374,5.53373,5.53372,5.53372,5.53368,5.53367,5.53364,5.53364,5.53362,5.53359,5.53359,5.53358,5.53357,5.53356,5.53351,5.5335,5.53346,5.53346,5.53346,5.53344,5.53343,5.5334,5.53339,5.53338,5.53338,5.53337,5.53336,5.53334,5.5333,5.53329,5.53329,5.53327,5.53323,5.53322,5.53315,5.53311,5.53311,5.53311,5.53308,5.53309,5.53307,5.53307,5.53306,5.53305,5.5330200000000005,5.53297,5.53297,5.53294,5.53293,5.53291,5.53286,5.53286,5.53282,5.53282,5.53281,5.5328,5.53279,5.53279,5.53279,5.53276,5.53275,5.53273,5.5327,5.5327,5.53266,5.53264,5.53264,5.53263,5.53256,5.5325,5.53249,5.53248,5.53243,5.53246,5.53238,5.53238,5.53237,5.53234,5.53234,5.53232,5.53233,5.53232,5.53226,5.53226,5.53223,5.53223,5.53219,5.53208,5.53217,5.53206,5.53204,5.5321,5.53208,5.53206,5.53203,5.53205,5.53202,5.53203,5.53203,5.53201,5.53202,5.532,5.532,5.53199,5.53197,5.53195,5.53196,5.53192,5.5319400000000005,5.5319,5.53186,5.53186,5.53184,5.53183,5.53182,5.53181,5.53181,5.53179,5.53177,5.53173,5.53172,5.53168,5.53172,5.5316600000000005,5.53163,5.53161,5.5316,5.5316,5.53159,5.53159,5.53157,5.53155,5.53154,5.53152,5.5315,5.53147,5.53144,5.53143,5.53142,5.53142,5.53141,5.53141,5.53136,5.53139,5.53135,5.5313300000000005,5.53132,5.53131,5.53129,5.53128,5.53127,5.53126,5.53125,5.53115,5.53114,5.53111,5.53109,5.53107,5.53106,5.53106,5.53102,5.53101,5.531,5.53098,5.53097,5.53096,5.53094,5.53094,5.53093,5.5309,5.5308,5.5308,5.5308,5.5308,5.53078,5.53077,5.53077,5.53069,5.53067,5.53066,5.53066,5.53065,5.5306,5.5306,5.53059,5.53056,5.53056,5.53053,5.53049,5.53046,5.53045,5.53045,5.53041,5.53037,5.53034,5.53034,5.53032,5.5303,5.53029,5.53026,5.53026,5.53024,5.53019,5.53018,5.53018,5.5301100000000005,5.5301,5.5301,5.53009,5.53008,5.53008,5.53004,5.53003,5.53001,5.52993,5.52988,5.52986,5.52986,5.52986,5.5298300000000005,5.52976,5.52975,5.52974,5.5297,5.52969,5.52968,5.52967,5.52962,5.52962,5.52959,5.52955,5.52954,5.52953,5.5295,5.52949,5.52947,5.52947,5.52946,5.52945,5.52942,5.52934,5.52932,5.52931,5.52931,5.52926,5.52923,5.52921,5.5292,5.52917,5.52917,5.52917,5.52916,5.52915,5.52913,5.5291,5.52906,5.52904,5.52904,5.52899,5.52897,5.52895,5.52893,5.52891,5.5289,5.5288900000000005,5.52888,5.52888,5.52887,5.52883,5.52882,5.52877,5.52877,5.52877,5.52874,5.52872,5.52866,5.52864,5.52863,5.52841,5.52856,5.52858,5.5286,5.52852,5.5285,5.5285,5.52849,5.52849,5.52845,5.52845,5.52843,5.52841,5.52835,5.52833,5.52833,5.5283,5.5283,5.5282800000000005,5.52827,5.52825,5.52824,5.52819,5.52817,5.52816,5.5281400000000005,5.52815,5.52813,5.52803,5.5280000000000005,5.5280000000000005,5.52798,5.52796,5.52795,5.52793,5.5279,5.5279,5.5279,5.52789,5.52789,5.52785,5.52785,5.52784,5.52784,5.52781,5.5278,5.5278,5.52777,5.52777,5.52776,5.52773,5.52772,5.52765,5.52762,5.52761,5.5276,5.5276,5.52759,5.52757,5.52757,5.52756,5.52756,5.52755,5.52752,5.52752,5.52752,5.52752,5.52751,5.52749,5.52746,5.52745,5.52744,5.52741,5.5273900000000005,5.5273900000000005,5.52738,5.52735,5.52731,5.52731,5.5273,5.5273,5.52728,5.52726,5.52724,5.52723,5.52722,5.52722,5.52719,5.52719,5.52713,5.52713,5.52711,5.52708,5.52708,5.5270600000000005,5.52705,5.52704,5.52704,5.52701,5.52701,5.527,5.527,5.52696,5.52695,5.52695,5.5269200000000005,5.5269200000000005,5.52691,5.52687,5.52686,5.52683,5.5268,5.52681,5.52679,5.52671,5.5267,5.52669,5.52666,5.52664,5.52663,5.52663,5.52663,5.52662,5.52662,5.52661,5.52661,5.52659,5.52657,5.52654,5.52653,5.52653,5.52653,5.52648,5.52647,5.52646,5.52644,5.52638,5.52644,5.52643,5.52642,5.52641,5.52641,5.5264,5.52639,5.52636,5.52633,5.5263100000000005,5.52625,5.52621,5.52618,5.52618,5.5261700000000005,5.52602,5.5261700000000005,5.52616,5.526,5.52611,5.52609,5.52606,5.52604,5.526,5.52598,5.52597,5.52591,5.52589,5.52588,5.52587,5.52585,5.5258400000000005,5.52582,5.52582,5.52582,5.52581,5.52579,5.52576,5.52575,5.52573,5.52568,5.52573,5.52572,5.52567,5.52567,5.52564,5.52563,5.52563,5.52548,5.52547,5.52562,5.5255600000000005,5.52538,5.5254,5.52532,5.52537,5.52536,5.52527,5.52532,5.5252300000000005,5.52529,5.52521,5.5252,5.52516,5.52516,5.52505,5.52505,5.52503,5.52503,5.52503,5.52512,5.52502,5.5251,5.52507,5.52498,5.52506,5.5249500000000005,5.525,5.52491,5.52492,5.52489,5.52497,5.52489,5.52494,5.52493,5.52485,5.52491,5.52483,5.5249,5.52481,5.52478,5.52477,5.52476,5.52471,5.52468,5.52468,5.52468,5.52467,5.52465,5.52465,5.52464,5.52463,5.52453,5.52453,5.52449,5.5244800000000005,5.52444,5.52444,5.52441,5.52441,5.5244,5.5244,5.5244,5.5243400000000005,5.52437,5.5243,5.5243,5.5243,5.52427,5.52425,5.52423,5.52422,5.52422,5.52418,5.52418,5.52417,5.52411,5.5241,5.52406,5.52407,5.52405,5.52403,5.52398,5.52396,5.52394,5.52393,5.52392,5.52392,5.5239,5.52386,5.52384,5.52379,5.52377,5.52374,5.52374,5.52374,5.5236,5.52372,5.52374,5.52369,5.52368,5.52368,5.52367,5.52366,5.52366,5.52366,5.52364,5.52363,5.52356,5.52356,5.52352,5.52349,5.52349,5.52347,5.52343,5.52338,5.52335,5.5233,5.52329,5.52327,5.52335,5.52325,5.52334,5.52325,5.52333,5.52333,5.52333,5.52323,5.52321,5.52314,5.52325,5.5231200000000005,5.52311,5.52311,5.52308,5.52305,5.52302,5.52298,5.52293,5.52291,5.52288,5.52285,5.52285,5.52283,5.5227900000000005,5.52276,5.52276,5.52275,5.52272,5.5227,5.52268,5.52267,5.5226500000000005,5.52266,5.52266,5.5226500000000005,5.52263,5.52263,5.52258,5.52257,5.52252,5.5225100000000005,5.52242,5.52247,5.52247,5.52247,5.52244,5.52242,5.52242,5.52236,5.52232,5.52231,5.5223,5.52229,5.52227,5.52225,5.52224,5.5222,5.5222,5.52214,5.52213,5.52208,5.52205,5.52201,5.52201,5.522,5.52199,5.52191,5.5219000000000005,5.52198,5.5219000000000005,5.52189,5.52197,5.52196,5.52194,5.52197,5.52186,5.52189,5.52183,5.52183,5.5218,5.52179,5.52178,5.52171,5.52166,5.52163,5.52163,5.52161,5.52162,5.52161,5.52159,5.52159,5.52158,5.52152,5.52152,5.52156,5.52148,5.52153,5.52147,5.52146,5.52144,5.5214300000000005,5.5214300000000005,5.52142,5.5214,5.52137,5.52137,5.52137,5.52135,5.52135,5.52133,5.52131,5.5212900000000005,5.5212900000000005,5.52128,5.52128,5.52128,5.52123,5.52122,5.52121,5.5212,5.52119,5.52118,5.52115,5.52111,5.52108,5.52098,5.52098,5.52107,5.52098,5.52101,5.52105,5.52098,5.52095,5.52094,5.52101,5.52093,5.52088,5.52087,5.52081,5.5208,5.52079,5.52079,5.52078,5.52077,5.52076,5.52076,5.52075,5.52073,5.52073,5.52072,5.52071,5.52069,5.52067,5.52072,5.52066,5.52065,5.52064,5.52063,5.52062,5.5206,5.52059,5.52058,5.52056,5.52053,5.52049,5.52041,5.52041,5.5204,5.5204,5.52039,5.52036,5.52036,5.52042,5.52041,5.52032,5.5203,5.52029,5.52028,5.52025,5.52024,5.52024,5.52023,5.52022,5.5202100000000005,5.5202100000000005,5.52019,5.52017,5.52014,5.52011,5.52009,5.52008,5.51994,5.52004,5.52004,5.51998,5.5199,5.51999,5.51987,5.51987,5.51999,5.51985,5.51997,5.51976,5.5197400000000005,5.51973,5.51972,5.51972,5.51969,5.51969,5.51969,5.51959,5.51959,5.51957,5.51953,5.51952,5.5195,5.51949,5.51949,5.51948,5.51948,5.5194600000000005,5.5194600000000005,5.51941,5.51926,5.51925,5.51931,5.5193,5.51928,5.51918,5.51928,5.51927,5.51927,5.51926,5.51916,5.51916,5.51916,5.51916,5.51914,5.51914,5.51912,5.5191,5.51908,5.51905,5.51901,5.519,5.51898,5.51897,5.51895,5.51892,5.51891,5.5189,5.51887,5.51887,5.51887,5.51886,5.51884,5.51882,5.51882,5.51878,5.51878,5.51876,5.51875,5.51874,5.51869,5.51873,5.51872,5.51872,5.51868,5.51871,5.51868,5.51868,5.51866,5.51866,5.51865,5.51861,5.51858,5.51856,5.51855,5.51854,5.51848,5.51848,5.51842,5.51841,5.51837,5.51836,5.51836,5.51835,5.51835,5.51833,5.51832,5.5183,5.5183,5.51819,5.51819,5.51818,5.51818,5.51817,5.51827,5.51823,5.51822,5.51799,5.51812,5.51812,5.51798,5.51809,5.51807,5.51805,5.51804,5.51804,5.51803,5.51803,5.51801,5.51799,5.51799,5.51798,5.51794,5.51793,5.51792,5.51792,5.51787,5.51785,5.51783,5.51782,5.5178,5.51775,5.51775,5.51775,5.51775,5.51774,5.51774,5.51772,5.51771,5.51769,5.51768,5.51768,5.51766,5.51765,5.5177,5.51764,5.5176300000000005,5.51761,5.51758,5.51758,5.51755,5.51749,5.51747,5.51737,5.51736,5.51731,5.51731,5.51731,5.5173,5.51721,5.51718,5.51714,5.51713,5.51713,5.51711,5.5171,5.51708,5.51707,5.51715,5.51705,5.51715,5.51703,5.5170200000000005,5.51711,5.5170200000000005,5.5171,5.51709,5.51699,5.51709,5.51706,5.51697,5.51694,5.51693,5.51691,5.5169,5.5168800000000005,5.51685,5.51684,5.51684,5.51684,5.51679,5.51679,5.51677,5.51673,5.5166900000000005,5.5166900000000005,5.51665,5.51661,5.51657,5.51656,5.51651,5.51649,5.51646,5.51646,5.5165,5.51657,5.51649,5.51644,5.51643,5.5164100000000005,5.5164,5.51638,5.51637,5.51636,5.5163,5.51629,5.51628,5.5162700000000005,5.51625,5.51625,5.51624,5.51622,5.51622,5.51621,5.5162,5.5162,5.5162,5.51618,5.51618,5.51612,5.51612,5.51617,5.51606,5.51605,5.51603,5.51602,5.51601,5.51593,5.51598,5.51602,5.51599,5.51596,5.51595,5.51588,5.51595,5.51592,5.51592,5.51598,5.51592,5.51597,5.51585,5.51584,5.51583,5.51581,5.51577,5.51575,5.5157,5.51572,5.51568,5.51567,5.5156600000000005,5.51562,5.5156,5.5156,5.51551,5.51551,5.51548,5.51548,5.5154700000000005,5.5154700000000005,5.51546,5.51542,5.51542,5.51539,5.51539,5.51539,5.51538,5.51545,5.51536,5.51544,5.51544,5.51535,5.51534,5.51531,5.5153,5.51528,5.51528,5.51527,5.51525,5.51525,5.51527,5.51524,5.5151900000000005,5.5151900000000005,5.51517,5.51515,5.51513,5.51509,5.51507,5.5150500000000005,5.5150500000000005,5.51503,5.51502,5.51498,5.51498,5.5149,5.51482,5.5148600000000005,5.51487,5.51477,5.51476,5.51471,5.51469,5.51465,5.5146,5.51459,5.51459,5.51459,5.5145800000000005,5.51456,5.51455,5.51454,5.51453,5.51452,5.51451,5.51447,5.51446,5.5144400000000005,5.51443,5.51442,5.51441,5.51441,5.5144,5.51439,5.51437,5.51434,5.51433,5.51432,5.51428,5.51424,5.51422,5.51421,5.51421,5.51421,5.51419,5.51419,5.51419,5.51417,5.51416,5.51415,5.51415,5.51413,5.5141100000000005,5.5141,5.51409,5.51405,5.51404,5.51404,5.51403,5.51403,5.5139700000000005,5.51396,5.51396,5.51387,5.51394,5.51393,5.51391,5.51391,5.51391,5.51386,5.51389,5.5138300000000005,5.51388,5.5138300000000005,5.51382,5.51377,5.51376,5.51374,5.51373,5.51368,5.51368,5.51368,5.51367,5.51367,5.51357,5.51357,5.51351,5.51351,5.51348,5.51347,5.51347,5.51345,5.51343,5.51343,5.51341,5.5134,5.51338,5.51338,5.51337,5.5133600000000005,5.5133600000000005,5.51335,5.51334,5.51333,5.51329,5.51329,5.51302,5.51325,5.5132200000000005,5.5132200000000005,5.5132,5.51317,5.51317,5.51315,5.51314,5.51313,5.51308,5.51306,5.51301,5.51299,5.51297,5.51295,5.51293,5.51293,5.5128900000000005,5.51287,5.51287,5.51286,5.51282,5.51282,5.5128,5.51277,5.51277,5.51273,5.51272,5.51272,5.5127,5.51269,5.51265,5.51268,5.51258,5.51258,5.51254,5.51251,5.51247,5.51233,5.51242,5.5123,5.5122800000000005,5.51237,5.51236,5.51235,5.51223,5.51221,5.51217,5.5121400000000005,5.5121400000000005,5.51213,5.51212,5.51212,5.51211,5.51211,5.51209,5.51208,5.51208,5.51206,5.51206,5.51205,5.51203,5.51199,5.51197,5.51196,5.51196,5.5120000000000005,5.51194,5.51193,5.51191,5.51191,5.51186,5.51184,5.51183,5.51182,5.51182,5.51181,5.51179,5.51179,5.51178,5.51177,5.51175,5.51169,5.51168,5.5116700000000005,5.51165,5.51148,5.51165,5.51148,5.51148,5.51163,5.51147,5.51162,5.51145,5.5116,5.51161,5.51158,5.51156,5.51154,5.5117,5.51143,5.5114,5.51138,5.51137,5.51145,5.51134,5.51134,5.5113,5.5114,5.5113,5.51128,5.51128,5.51125,5.51135,5.51124,5.51123,5.51134,5.51121,5.51133,5.51119,5.51118,5.51117,5.51115,5.51095,5.51109,5.51108,5.51095,5.51095,5.51105,5.51104,5.51103,5.51091,5.5109,5.51086,5.51086,5.51085,5.51085,5.51083,5.51083,5.51083,5.5108,5.51069,5.51067,5.51066,5.5106,5.51056,5.51054,5.5105,5.51047,5.51046,5.51046,5.5104500000000005,5.51043,5.51043,5.51034,5.51032,5.5103,5.51029,5.51027,5.51027,5.51026,5.51026,5.51024,5.51024,5.51023,5.51022,5.51019,5.5101700000000005,5.5101700000000005,5.51015,5.51013,5.5101700000000005,5.51012,5.51012,5.50995,5.50993,5.50989,5.51001,5.51,5.50999,5.50997,5.50995,5.50998,5.50987,5.50987,5.50986,5.50977,5.50985,5.50985,5.5098,5.50977,5.50973,5.50971,5.50966,5.50964,5.50964,5.50963,5.50963,5.50962,5.50962,5.50958,5.50948,5.50948,5.50947,5.50944,5.50944,5.50943,5.50941,5.50937,5.50929,5.5092300000000005,5.50922,5.50921,5.50917,5.50916,5.50915,5.50903,5.50902,5.509,5.509,5.50899,5.50898,5.50897,5.50897,5.50896,5.50896,5.50884,5.5089500000000005,5.5089500000000005,5.50878,5.50891,5.50889,5.50889,5.50888,5.50886,5.50886,5.50886,5.50886,5.50886,5.50884,5.5088,5.50875,5.50872,5.5087,5.50872,5.50865,5.50863,5.50859,5.50879,5.50878,5.50876,5.50856,5.50873,5.50853,5.50851,5.5084,5.5084,5.5084,5.50837,5.5082,5.50828,5.50827,5.50826,5.50823,5.50823,5.50816,5.50812,5.50809,5.50809,5.50808,5.50805,5.50805,5.50804,5.50804,5.50802,5.50798,5.50798,5.50797,5.50796,5.50795,5.50791,5.5079,5.50788,5.5078700000000005,5.50782,5.50781,5.5078,5.5078,5.50779,5.50779,5.50778,5.50776,5.50774,5.50774,5.50769,5.50767,5.50764,5.50763,5.50763,5.50762,5.5076,5.5076,5.50756,5.50756,5.50753,5.50752,5.50748,5.50747,5.50747,5.50745,5.50759,5.50745,5.5074000000000005,5.50739,5.50739,5.50737,5.50737,5.50736,5.50732,5.50729,5.50721,5.50716,5.50715,5.50714,5.50713,5.5071200000000005,5.50709,5.50709,5.50708,5.50708,5.50705,5.50704,5.50703,5.50703,5.50702,5.50698,5.50697,5.50694,5.50693,5.50689,5.50689,5.50689,5.50688,5.50681,5.5068,5.50685,5.50678,5.50678,5.50673,5.50667,5.50664,5.50657,5.50655,5.50655,5.50655,5.50653,5.50653,5.50652,5.5065,5.50649,5.50648,5.50647,5.50645,5.50645,5.5064,5.5064,5.50635,5.50633,5.50633,5.50628,5.50624,5.50624,5.50623,5.50621,5.5062,5.50615,5.50614,5.50614,5.5061,5.50603,5.50602,5.50601,5.50599,5.50595,5.50591,5.50589,5.50589,5.50587,5.50579,5.50578,5.50571,5.50579,5.50569,5.50563,5.50559,5.50559,5.50556,5.50555,5.50553,5.50553,5.5055,5.50548,5.50546,5.50541,5.50535,5.50532,5.50532,5.50531,5.50528,5.50527,5.50525,5.50513,5.50513,5.5051,5.50515,5.5051,5.50511,5.50506,5.5048200000000005,5.50503,5.50505,5.505,5.505,5.50498,5.5049600000000005,5.50495,5.50489,5.50487,5.50487,5.50485,5.50476,5.50475,5.50473,5.50469,5.50467,5.50466,5.50466,5.50448,5.50465,5.50462,5.50453,5.50451,5.5045,5.50448,5.50453,5.50458,5.50452,5.50446,5.50443,5.50443,5.50436,5.50436,5.5043500000000005,5.50432,5.50431,5.50427,5.50424,5.50418,5.50414,5.5041,5.5040700000000005,5.5040700000000005,5.50401,5.50398,5.50398,5.50397,5.50394,5.5039,5.50397,5.50394,5.50397,5.50373,5.50394,5.50367,5.50384,5.50383,5.50381,5.5038,5.50379,5.50381,5.50377,5.50375,5.5037400000000005,5.50369,5.50363,5.50361,5.5036000000000005,5.50358,5.50358,5.50351,5.50348,5.50343,5.50342,5.5034,5.50335,5.5033,5.50351,5.50351,5.50301,5.50319,5.50318,5.50318,5.5031300000000005,5.50314,5.50312,5.5031,5.50306,5.50305,5.50301,5.50298,5.50296,5.5031300000000005,5.50295,5.50294,5.50276,5.50291,5.50291,5.50274,5.50274,5.50277,5.50266,5.50266,5.50251,5.50265,5.50265,5.50248,5.50264,5.50262,5.50265,5.50259,5.50257,5.50251,5.50249,5.50243,5.50254,5.50242,5.50241,5.50237,5.50236,5.50234,5.5022400000000005,5.5022400000000005,5.50218,5.50217,5.50226,5.50226,5.50225,5.50211,5.50207,5.50207,5.50206,5.50203,5.502,5.50197,5.50192,5.50192,5.5017700000000005,5.50189,5.50185,5.5017700000000005,5.5017700000000005,5.5017700000000005,5.50171,5.50176,5.50175,5.50172,5.50169,5.50165,5.50162,5.50159,5.50155,5.50148,5.50148,5.50148,5.50147,5.50147,5.50137,5.50133,5.50142,5.5014,5.50119,5.50123,5.50118,5.50113,5.50117,5.50095,5.5010200000000005,5.50091,5.50099,5.50099,5.50097,5.50097,5.50092,5.50092,5.50081,5.50088,5.50088,5.50088,5.50088,5.50082,5.50072,5.50076,5.50076,5.50074,5.5007,5.50063,5.50061,5.50059,5.50059,5.5005500000000005,5.50053,5.50047,5.50051,5.50047,5.5003,5.50032,5.50035,5.50031,5.5003,5.50029,5.50024,5.50015,5.50009,5.50004,5.49982,5.49988,5.49984,5.49982,5.49982,5.4998000000000005,5.49977,5.49977,5.49971,5.49971,5.49969,5.49953,5.49963,5.49962,5.49942,5.49941,5.49941,5.49935,5.49935,5.49935,5.49935,5.49925,5.49931,5.49924,5.49918,5.49911,5.49904,5.49901,5.49895,5.4989,5.49886,5.49884,5.49883,5.49882,5.4987200000000005,5.49876,5.49876,5.4987,5.4987,5.49869,5.49864,5.49862,5.49854,5.49854,5.49853,5.49847,5.49839,5.49838,5.49838,5.49837,5.49835,5.49833,5.49831,5.49825,5.49824,5.49824,5.49824,5.49823,5.49823,5.49819,5.49819,5.49818,5.49812,5.4981100000000005,5.4981100000000005,5.49806,5.49806,5.49805,5.49801,5.49799,5.49796,5.49794,5.49793,5.49784,5.49781,5.4978,5.49771,5.49765,5.49764,5.49762,5.49751,5.4975,5.49741,5.49748,5.49747,5.4974,5.49733,5.49734,5.49727,5.49723,5.49722,5.49722,5.49716,5.4972,5.49706,5.49708,5.49705,5.49698,5.49698,5.49697,5.49688,5.49685,5.4968,5.49679,5.49646,5.49674,5.4966800000000005,5.49672,5.4967,5.49669,5.49647,5.4966,5.49655,5.49654,5.49653,5.49652,5.49641,5.49637,5.49637,5.49631,5.49629,5.49626,5.49589,5.49618,5.49609,5.49616,5.49616,5.49615,5.49615,5.49582,5.49603,5.49612,5.49612,5.49608,5.49604,5.49597,5.49594,5.49592,5.49591,5.49587,5.49599,5.49583,5.4958,5.4958,5.49566,5.49574,5.49568,5.49557,5.49537,5.49556,5.4955300000000005,5.49551,5.4950600000000005,5.4955,5.49536,5.49534,5.49534,5.49522,5.49512,5.49521,5.49517,5.4950600000000005,5.49505,5.49497,5.49497,5.4949200000000005,5.49489,5.49487,5.4948500000000005,5.49484,5.49481,5.49467,5.49477,5.49472,5.49435,5.49463,5.49459,5.49458,5.49455,5.49449,5.49444,5.49443,5.49439,5.49433,5.49437,5.49436,5.49436,5.49433,5.49404,5.49397,5.49391,5.49379,5.49382,5.49381,5.49378,5.49369,5.49369,5.49364,5.49351,5.49351,5.49337,5.49337,5.49336,5.49324,5.49333,5.49332,5.49326,5.49325,5.4932300000000005,5.4932300000000005,5.49314,5.49314,5.49318,5.49314,5.49308,5.4930900000000005,5.4930900000000005,5.49308,5.49301,5.4928,5.49283,5.4928,5.49276,5.49275,5.49269,5.49263,5.4926200000000005,5.49259,5.49257,5.49249,5.49247,5.49247,5.49244,5.49237,5.49237,5.49232,5.49229,5.49222,5.49216,5.492,5.49198,5.49189,5.49189,5.49188,5.49188,5.4918,5.49179,5.49176,5.4917,5.49174,5.49173,5.49162,5.49168,5.49152,5.49145,5.49145,5.49144,5.49132,5.49128,5.49117,5.49117,5.49111,5.49107,5.49102,5.49096,5.49086,5.49078,5.4907,5.49068,5.49066,5.49062,5.49058,5.49055,5.49042,5.49042,5.49041,5.49033,5.49025,5.4902,5.49019,5.49014,5.49011,5.49006,5.48998,5.48994,5.48995,5.48987,5.48986,5.48976,5.48973,5.48973,5.48966,5.48967,5.48949,5.48961,5.48961,5.48959,5.4894300000000005,5.48941,5.48937,5.48936,5.48934,5.48929,5.48923,5.48923,5.48923,5.48912,5.4891,5.48898,5.48888,5.48876,5.48879,5.48874,5.48874,5.48872,5.48861,5.4886,5.4885,5.48856,5.48856,5.48851,5.48851,5.48847,5.48845,5.48842,5.48833,5.48825,5.48815,5.48819,5.48818,5.48817,5.48808,5.48796,5.48793,5.48783,5.4878,5.48776,5.4873,5.48727,5.48723,5.48722,5.48719,5.48701,5.48677,5.48671,5.48659,5.48664,5.4866,5.48657,5.48655,5.48654,5.48635,5.48639,5.48637,5.48624,5.48606,5.48602,5.486,5.48596,5.48594,5.48579,5.48557,5.48569,5.48564,5.48552,5.48551,5.48547,5.48534,5.48525,5.48513,5.48512,5.48511,5.48506,5.48504,5.485,5.48499,5.48495,5.48487,5.48485,5.48475,5.4846900000000005,5.48466,5.48462,5.48457,5.48439,5.48418,5.48427,5.48418,5.48418,5.48431,5.48417,5.48417,5.484,5.48407,5.48386,5.48386,5.48379,5.48364,5.48361,5.48357,5.48346,5.48315,5.48338,5.48335,5.48329,5.48324,5.48323,5.48298,5.4829,5.48285,5.48283,5.48282,5.48276,5.48275,5.4827200000000005,5.48267,5.48255,5.48254,5.48242,5.48226,5.48222,5.48221,5.48217,5.48202,5.482,5.48195,5.48191,5.48174,5.4815000000000005,5.48141,5.4813600000000005,5.48135,5.48133,5.48121,5.48093,5.48093,5.48091,5.48091,5.4809,5.48103,5.48084,5.4807500000000005,5.48074,5.48074,5.48067,5.48049,5.4804,5.48018,5.48013,5.48005,5.48003,5.47996,5.47995,5.47992,5.47985,5.47958,5.47972,5.47969,5.47962,5.47951,5.47931,5.47913,5.47966,5.47909,5.47945,5.47891,5.47857,5.47834,5.47847,5.47844,5.47833,5.47824,5.47823,5.47816,5.47812,5.47812,5.47775,5.47792,5.47785,5.47755,5.47731,5.4773,5.47715,5.47704,5.47755,5.47695,5.47688,5.4768,5.4767,5.47657,5.47655,5.47647,5.47646,5.47634,5.47631,5.47622,5.47621,5.47602,5.47572,5.47567,5.47543,5.47538,5.47522,5.47515,5.47512,5.47505,5.475,5.47497,5.47464,5.4746,5.47433,5.47408,5.47393,5.47389,5.47358,5.47305,5.47334,5.47328,5.47314,5.47292,5.47291,5.4724,5.47234,5.47247,5.47218,5.47189,5.47187,5.47177,5.4717400000000005,5.47168,5.47155,5.47138,5.4713,5.47102,5.4708,5.47136,5.47071,5.47082,5.47055,5.47062,5.47048,5.47013,5.47042,5.47013,5.47004,5.46988,5.46981,5.46981,5.46955,5.46934,5.46929,5.46912,5.46886,5.46886,5.46847,5.46844,5.46836,5.46789,5.4676,5.46739,5.46731,5.46721,5.46719,5.46714,5.46681,5.46693,5.46678,5.46662,5.46655,5.46639,5.46628,5.46586,5.46582,5.46609,5.46609,5.46494,5.46507,5.46484,5.46482,5.46482,5.46457,5.46472,5.464,5.4642,5.46395,5.46412,5.46379,5.46378,5.46361,5.46317,5.4634,5.46324,5.46293,5.46426,5.46254,5.46248,5.46238,5.46156,5.46139,5.46134,5.46095,5.461,5.46016,5.46013,5.45958,5.4594000000000005,5.45849,5.45897,5.45824,5.45862,5.45817,5.45787,5.45686,5.45708,5.45689,5.45662,5.45641,5.45634,5.45578,5.45521,5.45511,5.455,5.45442,5.45428,5.4541,5.45398,5.45376,5.45392,5.45346,5.4534,5.45308,5.45287,5.45276,5.4522,5.45217,5.45173,5.45135,5.45117,5.4503,5.4507200000000005,5.4502500000000005,5.4501,5.44874,5.44849,5.44803,5.44751,5.44768,5.44732,5.44518,5.44481,5.44432,5.44431,5.44414,5.44381,5.44358,5.4434000000000005,5.44338,5.44278,5.4421800000000005,5.44206,5.44193,5.4414,5.4405,5.44033,5.44366,5.43899,5.43821,5.43798,5.4352,5.43568,5.43538,5.43309,5.4331,5.43112,5.42933,5.42789,5.42737,5.42595,5.42434,5.42408,5.42399,5.42335,5.4214,5.42,5.41815,5.41833,5.41812,5.41676,5.41733,5.41714,5.41597,5.41586,5.41333,5.41343,5.4127600000000005,5.41222,5.41227,5.41033,5.40667,5.40537,5.4017800000000005,5.39928,5.39831,5.39703,5.39168,5.40231,5.40229,5.38684,5.38534,5.38492,5.38301,5.37807,5.3761,5.36958,5.38205,5.36072,5.3563,5.35339,5.35548,5.33395,5.32925,5.32026,5.31129,5.30695,5.3037,5.33602,5.27694,5.26231,5.2609200000000005,5.2462,5.1668,5.2082,4.66069],\"type\":\"violin\",\"meanline\":{\"visible\":true}},{\"legendgroup\":\"KS\",\"line\":{\"color\":\"green\"},\"name\":\"KS\",\"scalegroup\":\"KS\",\"side\":\"positive\",\"x\":[2017,2018,2017,2016,2018,2018,2018,2015,2017,2019,2019,2017,2017,2015,2020,2017,2015,2017,2019,2016,2018,2019,2021,2015,2018,2019,2020,2017,2015,2019,2019,2018,2014,2021,2019,2014,2012,2018,2020,2017,2019,2017,2017,2020,2017,2020,2018,2015,2016,2016,2016,2014,2014,2016,2013,2020,2019,2021,2018,2016,2018,2018,2010,2015,2017,2015,2015,2015,2016,2015,2021,2018,2016,2018,2017,2017,2019,2015,2012,2016,2021,2011,2020,2018,2019,2013,2013,2014,2021,2016,2013,2021,2019,2012,2020,2015,2013,2019,2019,2014,2021,2014,2014,2014,2016,2016,2013,2016,2021,2012,2012,2018,2016,2019,2019,2015,2019,2018,2018,2014,2020,2012,2017,2018,2019,2015,2016,2020,2019,2011,2015,2017,2015,2013,2018,2013,2019,2018,2016,2012,2017,2014,2018,2020,2015,2017,2016,2014,2013,2018,2020,2017,2015,2017,2019,2015,2017,2018,2017,2018,2016,2015,2020,2014,2017,2019,2017,2018,2018,2015,2019,2019,2018,2017,2018,2021,2020,2019,2015,2019,2017,2016,2019,2017,2016,2018,2016,2013,2018,2010,2019,2021,2019,2017,2019,2019,2020,2013,2017,2018,2013,2016,2020,2015,2013,2017,2017,2020,2018,2021,2020,2017,2019,2017,2015,2020,2012,2021,2018,2018,2016,2019,2017,2015,2017,2019,2018,2015,2015,2014,2016,2017,2021,2015,2014,2016,2019,2018,2021,2018,2019,2017,2019,2014,2017,2020,2015,2021,2020,2017,2021,2018,2017,2019,2021,2019,2014,2018,2020,2021,2020,2021,2019,2016,2016,2012,2013,2012,2019,2020,2017,2011,2014,2014,2017,2020,2012,2011,2021,2018,2019,2017,2016,2014,2018,2017,2015,2018,2013,2019,2014,2014,2014,2014,2016,2018,2013,2016,2021,2019,2020,2020,2015,2017,2016,2020,2020,2012,2021,2021,2019,2017,2014,2020,2012,2019,2012,2017,2021,2012,2016,2019,2021,2018,2020,2017,2018,2017,2019,2018,2021,2018,2020,2016,2013,2015,2021,2016,2019,2018,2019,2017,2017,2017,2019,2019,2021,2019,2012,2016,2015,2014,2010,2019,2019,2013,2011,2021,2015,2014,2017,2019,2016,2018,2014,2019,2018,2021,2015,2021,2015,2020,2020,2021,2012,2019,2018,2021,2019,2012,2020,2021,2018,2018,2013,2019,2018,2019,2018,2016,2021,2020,2018,2016,2019,2014,2014,2017,2019,2019,2020,2018,2015,2020,2021,2018,2017,2014,2018,2016,2017,2021,2018,2018,2014,2019,2021,2018,2015,2016,2019,2014,2018,2018,2013,2021,2020,2018,2019,2017,2017,2021,2017,2013,2013,2014,2014,2015,2017,2018,2015,2015,2011,2015,2019,2018,2013,2017,2019,2012,2017,2021,2018,2016,2021,2020,2016,2016,2020,2015,2017,2015,2020,2015,2015,2019,2020,2021,2020,2016,2015,2012,2021,2018,2012,2019,2021,2014,2020,2013,2015,2020,2015,2016,2021,2015,2014,2012,2021,2015,2015,2014,2021,2018,2016,2019,2012,2021,2018,2017,2015,2021,2016,2014,2019,2019,2013,2019,2018,2013,2017,2019,2016,2021,2019,2016,2018,2012,2013,2018,2017,2020,2021,2018,2019,2012,2021,2015,2013,2019,2014,2020,2011,2015,2018,2017,2015,2020,2020,2021,2015,2018,2016,2010,2013,2015,2014,2016,2019,2019,2010,2013,2021,2017,2019,2021,2014,2015,2015,2018,2021,2013,2021,2021,2018,2020,2015,2019,2011,2016,2014,2019,2014,2015,2019,2013,2016,2021,2015,2021,2018,2021,2018,2020,2020,2014,2019,2011,2018,2016,2015,2019,2012,2015,2019,2014,2021,2021,2021,2021,2018,2017,2021,2021,2020,2015,2020,2016,2021,2013,2018,2019,2020,2014,2013,2020,2013,2020,2014,2016,2016,2021,2019,2015,2019,2019,2015,2013,2019,2020,2016,2018,2014,2012,2019,2020,2019,2016,2016,2018,2017,2013,2021,2016,2019,2018,2016,2014,2017,2021,2021,2015,2015,2018,2020,2016,2018,2015,2020,2016,2015,2015,2016,2020,2017,2019,2019,2014,2013,2017,2018,2019,2014,2021,2015,2018,2017,2020,2011,2020,2019,2020,2018,2012,2018,2018,2014,2018,2017,2020,2021,2015,2020,2019,2016,2014,2014,2012,2014,2019,2020,2019,2017,2021,2020,2016,2017,2018,2012,2014,2018,2021,2021,2021,2016,2021,2020,2013,2010,2021,2020,2020,2019,2013,2019,2021,2012,2014,2015,2018,2014,2017,2019,2013,2010,2013,2019,2016,2019,2020,2014,2016,2019,2019,2014,2011,2019,2015,2019,2015,2015,2021,2020,2016,2020,2019,2015,2013,2015,2018,2020,2018,2021,2019,2014,2015,2021,2018,2013,2015,2015,2018,2018,2021,2019,2013,2019,2019,2021,2014,2016,2016,2016,2015,2017,2013,2015,2017,2021,2011,2018,2014,2016,2020,2014,2021,2013,2019,2021,2021,2011,2017,2021,2019,2019,2018,2020,2019,2017,2015,2015,2009,2017,2012,2019,2021,2016,2019,2021,2018,2019,2019,2021,2016,2011,2014,2020,2020,2019,2019,2015,2019,2021,2013,2021,2021,2014,2016,2018,2017,2020,2014,2020,2013,2021,2021,2021,2016,2021,2016,2019,2014,2016,2020,2009,2017,2012,2021,2013,2020,2017,2015,2017,2020,2011,2013,2021,2017,2019,2020,2018,2021,2019,2013,2018,2018,2021,2017,2016,2021,2021,2016,2013,2018,2021,2013,2015,2017,2018,2018,2016,2016,2013,2014,2017,2017,2018,2016,2021,2021,2021,2017,2015,2021,2018,2020,2018,2019,2018,2018,2017,2014,2015,2013,2018,2016,2016,2019,2016,2015,2016,2021,2017,2014,2015,2019,2014,2013,2017,2015,2016,2018,2015,2020,2016,2015,2020,2018,2013,2019,2021,2018,2013,2021,2017,2011,2015,2014,2018,2019,2021,2017,2013,2018,2021,2021,2017,2015,2018,2018,2019,2018,2014,2014,2016,2020,2018,2018,2015,2019,2017,2017,2015,2015,2015,2018,2020,2017,2020,2020,2020,2021,2020,2019,2018,2018,2020,2021,2017,2018,2018,2015,2018,2021,2019,2016,2013,2014,2012,2010,2017,2019,2016,2019,2021,2017,2020,2017,2013,2013,2017,2013,2014,2020,2019,2015,2017,2021,2017,2020,2016,2020,2015,2015,2018,2021,2021,2014,2020,2018,2015,2012,2018,2014,2014,2021,2018,2017,2017,2019,2020,2019,2014,2016,2017,2014,2014,2016,2018,2016,2021,2021,2021,2018,2009,2019,2015,2021,2012,2014,2019,2019,2018,2017,2015,2012,2015,2018,2012,2018,2019,2015,2015,2021,2015,2015,2021,2018,2019,2017,2020,2016,2016,2021,2018,2016,2020,2014,2017,2012,2014,2020,2021,2015,2021,2021,2012,2017,2016,2015,2015,2014,2021,2021,2013,2019,2013,2019,2015,2014,2018,2018,2015,2009,2020,2015,2019,2019,2015,2020,2021,2017,2013,2019,2017,2015,2018,2013,2017,2016,2018,2016,2019,2020,2016,2021,2016,2020,2020,2016,2021,2017,2014,2017,2015,2019,2019,2012,2019,2021,2017,2017,2018,2012,2021,2019,2015,2018,2016,2020,2011,2018,2018,2019,2019,2010,2014,2021,2018,2013,2016,2016,2016,2021,2020,2014,2013,2015,2018,2018,2019,2015,2017,2015,2014,2014,2016,2021,2016,2017,2020,2015,2016,2020,2014,2013,2021,2019,2017,2019,2016,2017,2019,2020,2015,2019,2019,2013,2012,2020,2020,2018,2014,2013,2017,2014,2020,2019,2018,2021,2019,2013,2016,2019,2013,2015,2014,2015,2015,2011,2016,2012,2016,2016,2020,2015,2017,2015,2015,2021,2021,2020,2020,2016,2013,2013,2012,2021,2020,2016,2021,2019,2021,2020,2019,2017,2014,2014,2019,2016,2017,2016,2020,2018,2014,2015,2019,2013,2015,2014,2020,2019,2020,2020,2016,2014,2012,2013,2020,2019,2020,2016,2016,2013,2020,2018,2013,2017,2017,2015,2015,2012,2017,2015,2019,2020,2019,2021,2012,2021,2018,2014,2021,2020,2017,2019,2014,2020,2019,2020,2021,2019,2017,2018,2018,2020,2019,2013,2014,2016,2016,2016,2021,2017,2013,2020,2019,2013,2019,2015,2014,2020,2021,2018,2020,2019,2018,2018,2013,2019,2021,2018,2020,2015,2018,2017,2020,2016,2015,2017,2018,2019,2019,2013,2015,2016,2017,2013,2015,2014,2020,2015,2016,2015,2021,2012,2021,2019,2019,2015,2016,2018,2013,2018,2018,2021,2015,2020,2014,2014,2016,2018,2013,2020,2018,2012,2021,2017,2018,2016,2020,2016,2015,2016,2019,2019,2020,2016,2015,2014,2017,2018,2014,2021,2018,2015,2012,2016,2017,2015,2014,2021,2021,2019,2020,2015,2021,2013,2018,2016,2019,2013,2021,2019,2017,2015,2016,2017,2011,2020,2021,2016,2016,2021,2016,2021,2019,2021,2018,2017,2021,2020,2015,2021,2015,2017,2019,2020,2017,2017,2016,2019,2019,2016,2019,2017,2021,2018,2020,2014,2020,2020,2015,2021,2018,2013,2017,2018,2015,2013,2019,2016,2020,2014,2021,2018,2018,2015,2019,2013,2015,2021,2017,2017,2021,2015,2020,2014,2018,2013,2015,2020,2014,2017,2015,2015,2017,2016,2016,2012,2017,2019,2017,2011,2021,2013,2016,2019,2016,2019,2016,2017,2019,2014,2016,2015,2017,2015,2017,2013,2016,2019,2016,2014,2016,2016,2017,2017,2018,2019,2017,2018,2015,2015,2018,2013,2020,2015,2018,2016,2018,2018,2016,2019,2018,2014,2018,2018,2021,2014,2018,2015,2019,2016,2020,2016,2020,2021,2013,2014,2021,2021,2020,2021,2014,2015,2018,2014,2019,2019,2021,2020,2016,2020,2014,2020,2016,2016,2015,2020,2017,2018,2015,2016,2017,2014,2020,2020,2017,2017,2014,2013,2017,2015,2017,2014,2017,2015,2020,2021,2018,2017,2018,2014,2017,2020,2018,2013,2021,2014,2017,2012,2016,2014,2020,2018,2020,2016,2020,2015,2020,2020,2015,2021,2013,2016,2017,2020,2013,2016,2016,2018,2021,2018,2019,2018,2021,2017,2015,2014,2018,2021,2018,2021,2016,2020,2016,2015,2014,2019,2015,2016,2015,2018,2016,2019,2017,2016,2019,2012,2021,2016,2019,2018,2019,2018,2015,2021,2016,2021,2014,2021,2012,2012,2016,2012,2020,2016,2016,2015,2016,2015,2013,2019,2014,2019,2018,2017,2019,2014,2021,2015,2017,2017,2020,2021,2018,2017,2015,2013,2019,2017,2016,2015,2016,2016,2017,2020,2017,2015,2017,2020,2018,2020,2015,2013,2020,2018,2021,2019,2010,2016,2021,2016,2013,2016,2021,2021,2013,2015,2018,2016,2015,2017,2020,2017,2019,2021,2021,2016,2015,2019,2018,2018,2018,2018,2015,2020,2014,2014,2015,2021,2015,2016,2016,2013,2019,2020,2020,2018,2012,2019,2011,2013,2016,2018,2015,2020,2011,2012,2019,2018,2013,2019,2018,2013,2019,2014,2016,2019,2021,2012,2014,2019,2018,2020,2013,2021,2018,2019,2019,2016,2020,2014,2018,2017,2021,2020,2020,2020,2017,2019,2021,2018,2020,2016,2018,2018,2020,2013,2019,2014,2020,2013,2016,2021,2015,2013,2012,2013,2015,2019,2017,2019,2013,2018,2020,2016,2019,2018,2017,2016,2015,2014,2019,2020,2021,2015,2018,2019,2017,2021,2020,2020,2021,2017,2012,2017,2018,2018,2019,2018,2021,2016,2017,2013,2018,2018,2019,2014,2012,2019,2021,2010,2018,2011,2018,2014,2016,2015,2015,2016,2018,2019,2016,2020,2017,2018,2017,2018,2018,2021,2018,2018,2020,2018,2018,2020,2021,2019,2021,2014,2017,2009,2019,2018,2019,2016,2019,2014,2020,2015,2017,2014,2019,2015,2016,2019,2014,2016,2018,2020,2018,2014,2018,2019,2019,2016,2021,2018,2017,2012,2019,2012,2017,2016,2019,2017,2020,2021,2012,2013,2013,2017,2018,2021,2021,2016,2015,2017,2014,2018,2018,2018,2019,2012,2019,2015,2017,2019,2018,2013,2019,2016,2014,2019,2021,2014,2021,2015,2015,2019,2018,2019,2016,2016,2019,2013,2017,2018,2021,2020,2017,2012,2019,2019,2018,2014,2017,2020,2015,2016,2015,2020,2020,2019,2015,2020,2020,2021,2016,2016,2019,2020,2020,2014,2019,2014,2021,2012,2019,2019,2019,2017,2020,2021,2019,2012,2014,2017,2019,2021,2021,2015,2019,2019,2020,2019,2013,2019,2021,2019,2015,2021,2021,2013,2017,2014,2018,2020,2021,2018,2018,2021,2019,2018,2012,2019,2018,2018,2016,2017,2015,2017,2015,2015,2019,2016,2020,2017,2014,2015,2015,2016,2018,2015,2019,2017,2020,2018,2013,2019,2020,2017,2015,2011,2021,2010,2015,2018,2016,2014,2019,2019,2021,2016,2020,2016,2020,2013,2014,2017,2018,2018,2020,2019,2017,2015,2015,2017,2016,2020,2016,2018,2016,2016,2020,2019,2016,2019,2021,2016,2020,2021,2013,2021,2018,2017,2019,2015,2016,2016,2018,2015,2020,2014,2018,2021,2020,2017,2021,2015,2019,2019,2018,2019,2020,2019,2021,2015,2014,2020,2017,2020,2020,2018,2016,2020,2014,2014,2015,2015,2020,2015,2019,2015,2014,2016,2021,2021,2017,2018,2015,2017,2016,2013,2017,2018,2017,2014,2019,2019,2013,2018,2011,2018,2018,2016,2018,2016,2017,2020,2019,2020,2021,2017,2021,2020,2018,2014,2019,2015,2014,2016,2014,2014,2017,2018,2021,2014,2019,2014,2017,2021,2020,2017,2016,2016,2013,2019,2017,2017,2021,2013,2018,2015,2016,2017,2018,2021,2019,2020,2015,2019,2019,2016,2016,2021,2019,2017,2017,2013,2014,2016,2019,2016,2015,2015,2017,2015,2019,2017,2015,2016,2020,2014,2021,2013,2019,2019,2009,2018,2018,2015,2019,2019,2011,2015,2019,2019,2019,2014,2021,2020,2018,2018,2016,2016,2016,2016,2017,2017,2016,2014,2016,2019,2017,2017,2021,2015,2016,2016,2017,2021,2017,2016,2021,2020,2011,2016,2019,2016,2016,2018,2012,2016,2014,2016,2018,2018,2019,2014,2014,2019,2020,2013,2013,2018,2015,2018,2014,2009,2014,2018,2015,2019,2018,2020,2017,2017,2015,2018,2017,2012,2021,2012,2013,2020,2016,2017,2019,2019,2016,2015,2017,2021,2018,2016,2014,2018,2017,2020,2016,2015,2018,2015,2017,2014,2019,2016,2016,2019,2016,2016,2016,2014,2014,2019,2015,2017,2015,2021,2013,2016,2017,2021,2014,2014,2020,2021,2016,2017,2018,2014,2014,2018,2019,2013,2015,2017,2014,2019,2014,2014,2018,2018,2015,2020,2015,2014,2019,2018,2015,2013,2020,2014,2014,2019,2014,2019,2016,2018,2019,2012,2020,2015,2018,2015,2018,2017,2018,2017,2020,2012,2017,2016,2017,2017,2013,2016,2016,2017,2012,2014,2011,2015,2019,2016,2013,2019,2020,2018,2014,2019,2014,2018,2021,2011,2021,2018,2013,2021,2016,2018,2019,2018,2018,2016,2016,2016,2015,2016,2015,2014,2014,2016,2017,2017,2013,2016,2015,2013,2013,2014,2013,2021,2014,2014,2021,2013,2015,2013,2018,2018,2014,2019,2014,2019,2018,2013,2018,2017,2013,2019,2015,2016,2019,2014,2017,2016,2014,2014,2021,2013,2016,2011,2014,2016,2017,2012,2015,2013,2019,2016,2020,2016,2016,2015,2017,2019,2011,2021,2017,2021,2021,2012,2015,2021,2017,2012,2016,2019,2014,2015,2015,2017,2016,2015,2014,2014,2012,2015,2021,2016,2015,2015,2016,2015,2014,2017,2014,2013,2014,2014,2018,2017,2016,2021,2019,2021,2016,2016,2012,2013,2017,2014,2015,2015,2016,2016,2017,2017,2020,2017,2020,2016,2020,2021,2015,2014,2016,2021,2014,2012,2014,2017,2012,2017,2015,2016,2021,2016,2014,2017,2016,2021,2015,2020,2012,2015,2017,2020,2014,2018,2019,2019,2014,2013,2014,2016,2014,2014,2017,2015,2016,2018,2016,2014,2015,2017,2016,2015,2013,2014,2015,2014,2014,2013,2014,2013,2017,2015,2013,2016,2010,2018,2020,2015,2016,2016,2012,2015,2021,2013,2016,2015,2016,2017,2014,2015,2012,2015,2018,2014,2014,2016,2018,2018,2014,2017,2014,2016,2013,2015,2014,2020,2014,2018,2016,2015,2012,2017,2011,2016,2014,2015,2016,2013,2016,2014,2014,2017,2013,2014,2015,2017,2013,2012,2016,2015,2016,2013,2021,2015,2013,2015,2016,2016,2020,2011,2015,2016,2013,2018,2015,2014,2015,2014,2013,2012,2016,2016,2013,2016,2016,2021,2013,2014,2014,2015,2016,2016,2014,2013,2018,2015,2012,2017,2012,2016,2013,2020,2016,2014,2017,2015,2017,2014,2015,2016,2014,2017,2014,2014,2015,2016,2018,2014,2017,2014,2012,2016,2016,2014,2012,2014,2014,2012,2013,2016,2011,2014,2015,2018,2021,2014,2014,2015,2019,2012,2016,2020,2015,2015,2020,2016,2017,2015,2012,2015,2018,2013,2011,2020,2017,2013,2017,2014,2018,2016,2015,2015,2015,2013,2019,2014,2017,2014,2016,2016,2017,2019,2013,2014,2013,2013,2019,2014,2014,2013,2012,2020,2012,2012,2015,2012,2013,2013,2018,2015,2018,2017,2013,2016,2014,2015,2017,2015,2013,2014,2015,2014,2012,2014,2013,2015,2015,2014,2013,2016,2020,2014,2016,2020,2017,2015,2013,2013,2014,2017,2012,2013,2015,2016],\"y\":[8.49672,8.42267,8.14423,8.05873,7.98717,7.89104,7.88485,7.81102,7.804790000000001,7.79945,7.77395,7.75348,7.72,7.71921,7.71731,7.69886,7.68516,7.68424,7.66863,7.66589,7.58451,7.58394,7.55489,7.54607,7.52625,7.52604,7.51823,7.4863,7.47185,7.46931,7.46893,7.4429,7.4391,7.43259,7.43257,7.39681,7.37794,7.37676,7.36814,7.36759,7.36313,7.36127,7.36046,7.35461,7.34377,7.33979,7.31812,7.29378,7.28919,7.28851,7.28311,7.28186,7.26515,7.26007,7.25682,7.25653,7.24371,7.22405,7.20245,7.19927,7.19191,7.18272,7.17694,7.16561,7.16554,7.16454,7.14725,7.14237,7.11366,7.11287,7.1083,7.10663,7.1065,7.0887,7.07407,7.06936,7.06838,7.05116,7.04265,7.03609,7.03266,7.03246,7.03091,7.01928,7.00479,7.00057,6.98765,6.98087,6.97899,6.97265,6.95948,6.95849,6.95766,6.95634,6.94897,6.94865,6.94711,6.93878,6.93765,6.93559,6.91322,6.90754,6.89491,6.89243,6.88746,6.88689,6.88532,6.88482,6.87669,6.87376,6.86589,6.86464,6.86314,6.85871,6.84571,6.84435,6.83429,6.83267,6.829,6.82764,6.82646,6.81464,6.80337,6.80188,6.80061,6.79656,6.7920300000000005,6.78685,6.78268,6.77638,6.77447,6.77088,6.76951,6.76766,6.764,6.76073,6.75907,6.75686,6.74719,6.74024,6.7349,6.72839,6.7264800000000005,6.72303,6.72257,6.72206,6.71815,6.7121,6.69794,6.69793,6.69779,6.69624,6.69488,6.694,6.6933,6.69263,6.6837,6.67485,6.6736,6.67293,6.66598,6.66425,6.66424,6.66343,6.65208,6.64472,6.64327,6.64257,6.63641,6.63584,6.63136,6.63113,6.6306,6.63044,6.63013,6.62994,6.62825,6.61794,6.61363,6.61219,6.61141,6.60869,6.60792,6.60431,6.59994,6.59626,6.59545,6.59164,6.58677,6.5852900000000005,6.582,6.582,6.57866,6.57725,6.57649,6.56956,6.56173,6.56141,6.55912,6.55581,6.55424,6.54861,6.54743,6.54526,6.5444,6.53965,6.53955,6.53877,6.53826,6.53428,6.52826,6.52465,6.52348,6.521,6.51351,6.51002,6.50999,6.50886,6.5065100000000005,6.50201,6.49949,6.49893,6.49853,6.49761,6.48734,6.4863,6.48409,6.47781,6.47585,6.4714,6.46923,6.46609,6.46321,6.45777,6.45609,6.45314,6.45307,6.45188,6.44881,6.44779,6.44649,6.4453700000000005,6.44491,6.4429,6.44197,6.43365,6.43275,6.42395,6.42166,6.41645,6.4164,6.41421,6.41156,6.40994,6.4046,6.40262,6.40216,6.40035,6.39326,6.3919,6.39162,6.38805,6.38774,6.38766,6.38739,6.3854,6.38563,6.38052,6.37693,6.37526,6.37467,6.37398,6.36819,6.36707,6.36623,6.36552,6.36425,6.36165,6.35843,6.35825,6.3517,6.34917,6.34838,6.33292,6.33289,6.32532,6.32453,6.3154,6.31445,6.31416,6.31375,6.31353,6.3068100000000005,6.3064,6.30202,6.30177,6.29984,6.2932,6.29284,6.29164,6.28933,6.28931,6.28922,6.28859,6.28843,6.28708,6.28453,6.28111,6.28082,6.27895,6.27858,6.27328,6.27318,6.27232,6.26648,6.26539,6.26394,6.26384,6.26109,6.26065,6.25585,6.25135,6.24993,6.2455,6.24536,6.24358,6.24297,6.24278,6.24029,6.23897,6.23493,6.23444,6.23358,6.2313,6.2272,6.22635,6.22512,6.21914,6.21736,6.21615,6.2156,6.2155,6.21443,6.21369,6.21295,6.21045,6.20885,6.20924,6.2073,6.20649,6.20599,6.20082,6.19898,6.19682,6.19667,6.19644,6.19542,6.19509,6.19489,6.19183,6.18719,6.186,6.18536,6.18261,6.18104,6.18052,6.18022,6.17878,6.17832,6.17614,6.17486,6.16924,6.16697,6.16607,6.16585,6.16444,6.16119,6.16114,6.15983,6.15828,6.15764,6.15757,6.15714,6.15658,6.15639,6.15313,6.15165,6.15035,6.15009,6.14956,6.14819,6.14663,6.14607,6.1425,6.14231,6.14194,6.14118,6.14013,6.14001,6.13658,6.13647,6.13174,6.1307,6.13057,6.12855,6.12718,6.12649,6.12572,6.12258,6.12094,6.12092,6.1187,6.1185,6.11847,6.11586,6.11489,6.11399,6.11377,6.1127,6.11103,6.11031,6.10956,6.10734,6.10711,6.10011,6.09892,6.09763,6.09742,6.09679,6.09512,6.09437,6.09308,6.09272,6.09111,6.09031,6.08929,6.0856,6.08477,6.08381,6.08253,6.08215,6.08158,6.08148,6.08077,6.07881,6.07456,6.07409,6.07344,6.06928,6.06525,6.06517,6.06134,6.06096,6.0599,6.05977,6.05877,6.05736,6.05668,6.05537,6.05337,6.05206,6.05183,6.05125,6.05024,6.04896,6.0471,6.04601,6.04427,6.04116,6.04068,6.03925,6.03876,6.03781,6.03758,6.0336,6.03295,6.03269,6.03256,6.03251,6.03188,6.03165,6.03101,6.03095,6.02893,6.02785,6.02638,6.02626,6.02554,6.02477,6.02378,6.02181,6.02064,6.02058,6.01987,6.01979,6.01969,6.01883,6.01846,6.0144,6.01134,6.01127,6.01006,6.00971,6.0078,6.00757,6.00685,6.0065,6.00519,6.00488,6.00335,6.00144,6.00098,6.00034,5.99965,5.99728,5.99685,5.99475,5.99391,5.99334,5.99245,5.99204,5.9902,5.98983,5.98903,5.98803,5.98735,5.98609,5.9862,5.98551,5.98511,5.98315,5.98036,5.97993,5.97895,5.97607,5.975820000000001,5.97394,5.97382,5.97054,5.96925,5.96923,5.96737,5.96719,5.96568,5.96392,5.96323,5.96314,5.96205,5.96161,5.9613,5.95865,5.95666,5.95478,5.95363,5.95264,5.95256,5.95099,5.95031,5.95001,5.94933,5.94864,5.94663,5.94644,5.9398800000000005,5.93846,5.93844,5.93782,5.9371,5.93663,5.93412,5.93069,5.93043,5.92969,5.92961,5.92954,5.92911,5.92883,5.92838,5.92791,5.92714,5.92651,5.92399,5.92362,5.92318,5.92258,5.92181,5.92076,5.9188600000000005,5.91859,5.91859,5.91794,5.9166,5.91658,5.91651,5.91636,5.91621,5.91602,5.91555,5.91429,5.91405,5.91348,5.91289,5.91232,5.91189,5.91138,5.91022,5.90892,5.9087,5.90779,5.90776,5.90767,5.90765,5.9073,5.90616,5.90571,5.90435,5.9027,5.90234,5.90199,5.90187,5.90036,5.9000900000000005,5.89979,5.89831,5.89799,5.89707,5.89669,5.89623,5.89276,5.88987,5.88979,5.88964,5.88945,5.88934,5.8889,5.8870000000000005,5.88632,5.88602,5.88602,5.88567,5.88356,5.88324,5.8813200000000005,5.8809000000000005,5.88011,5.87967,5.87967,5.87955,5.87909,5.8787,5.87853,5.87797,5.87467,5.87441,5.87144,5.87122,5.87088,5.86999,5.86971,5.86936,5.869120000000001,5.86843,5.86798,5.86694,5.8657900000000005,5.86533,5.86516,5.86476,5.86379,5.86278,5.86248,5.86234,5.86189,5.86156,5.86153,5.86047,5.85988,5.85803,5.85783,5.85699,5.85624,5.85616,5.85602,5.85569,5.8555600000000005,5.85549,5.85537,5.85475,5.85232,5.85217,5.85214,5.85188,5.85126,5.8511,5.85019,5.84723,5.847,5.84607,5.84598,5.84522,5.8451,5.84406,5.844,5.84379,5.84365,5.84271,5.84266,5.84145,5.84067,5.839,5.83788,5.83772,5.83662,5.83596,5.83398,5.8339300000000005,5.83378,5.83351,5.83343,5.8328500000000005,5.83253,5.83191,5.83182,5.82992,5.82894,5.82837,5.82791,5.8279,5.82669,5.8261,5.82604,5.82589,5.82516,5.8251100000000005,5.82501,5.82414,5.8235,5.82223,5.82129,5.82106,5.82043,5.82041,5.82007,5.81925,5.81875,5.81827,5.81626,5.81515,5.81484,5.81481,5.8148,5.81446,5.81406,5.81264,5.8116,5.81129,5.81096,5.80989,5.80948,5.80941,5.80927,5.80921,5.8088,5.80749,5.80714,5.80701,5.80615,5.80607,5.80603,5.80504,5.80485,5.80481,5.80467,5.80381,5.80378,5.80371,5.80284,5.80033,5.79992,5.79872,5.79869,5.79861,5.7985,5.79738,5.79718,5.79679,5.7953,5.79476,5.79472,5.79237,5.79054,5.78918,5.7887900000000005,5.78874,5.78873,5.78835,5.78796,5.78771,5.78854,5.78664,5.78487,5.78482,5.78313,5.7828800000000005,5.78199,5.78053,5.78034,5.778420000000001,5.77752,5.77749,5.77735,5.7761700000000005,5.77557,5.77489,5.77485,5.77596,5.773540000000001,5.77297,5.77295,5.77269,5.77268,5.77235,5.7725100000000005,5.77194,5.77049,5.77043,5.77044,5.77014,5.76938,5.7694,5.76898,5.76931,5.76854,5.76855,5.76795,5.7677700000000005,5.7677700000000005,5.76726,5.76722,5.7672,5.76703,5.76646,5.76622,5.76617,5.76578,5.76522,5.76516,5.76502,5.76419,5.76332,5.76309,5.76298,5.7618,5.76079,5.7592300000000005,5.75881,5.75851,5.75723,5.75703,5.75687,5.7567,5.7564,5.75582,5.75539,5.75442,5.75141,5.75127,5.75119,5.75111,5.75072,5.75006,5.74974,5.74926,5.74924,5.74903,5.749,5.74851,5.7485,5.7481,5.74758,5.74756,5.74679,5.74665,5.74644,5.74606,5.74504,5.74388,5.74467,5.744,5.74347,5.74308,5.7421500000000005,5.74185,5.74042,5.73956,5.73858,5.73824,5.73796,5.73668,5.73714,5.7369900000000005,5.73636,5.73553,5.735,5.73466,5.73327,5.73317,5.73236,5.73233,5.73184,5.73139,5.73084,5.73082,5.73081,5.73078,5.73066,5.73059,5.72931,5.7290600000000005,5.72726,5.72711,5.72655,5.72527,5.72473,5.72447,5.7244600000000005,5.7243200000000005,5.72409,5.7228200000000005,5.72253,5.72245,5.72219,5.72163,5.72135,5.72108,5.72082,5.72074,5.72043,5.72008,5.71941,5.71837,5.71782,5.71755,5.71696,5.71675,5.71666,5.71599,5.715920000000001,5.71523,5.71488,5.71324,5.71251,5.71235,5.71185,5.71131,5.71104,5.71061,5.71031,5.71018,5.70955,5.7095400000000005,5.70788,5.70738,5.70702,5.70682,5.70628,5.70496,5.70462,5.70454,5.70435,5.70401,5.7037700000000005,5.7037,5.70348,5.70318,5.70299,5.7028300000000005,5.70276,5.702,5.70182,5.70156,5.70111,5.70004,5.6996,5.69957,5.69954,5.69918,5.6982800000000005,5.6980900000000005,5.69758,5.6974800000000005,5.69728,5.69674,5.69641,5.6947600000000005,5.69463,5.6939,5.69353,5.69348,5.69346,5.69227,5.69289,5.69174,5.69106,5.69086,5.68984,5.68916,5.6891,5.68881,5.6888000000000005,5.6887,5.6879,5.68743,5.68735,5.68704,5.68691,5.68687,5.68637,5.68552,5.68542,5.68492,5.68449,5.68389,5.68349,5.68342,5.68335,5.68269,5.68215,5.68188,5.68167,5.68161,5.6816,5.68129,5.68115,5.68075,5.68068,5.68053,5.67953,5.6795,5.67943,5.67941,5.67935,5.67934,5.6791,5.67836,5.67835,5.67832,5.67802,5.67745,5.67723,5.67657,5.6765,5.67582,5.67528,5.67513,5.67444,5.67394,5.67389,5.6737,5.67336,5.67317,5.67305,5.67229,5.67198,5.67167,5.6712,5.6693,5.66918,5.66777,5.6677,5.66769,5.6675,5.66737,5.66714,5.66687,5.66678,5.6660900000000005,5.66584,5.66583,5.66563,5.664,5.66387,5.66332,5.66299,5.6628,5.66271,5.66226,5.66139,5.66124,5.66099,5.66081,5.66019,5.66001,5.6599900000000005,5.65972,5.65916,5.6592,5.65894,5.65859,5.65796,5.65787,5.65785,5.65784,5.65749,5.65736,5.65723,5.65648,5.65634,5.65522,5.65408,5.65462,5.65396,5.6546,5.65453,5.65443,5.65429,5.6538,5.65403,5.6536100000000005,5.65354,5.65337,5.65332,5.6531,5.65255,5.65229,5.65225,5.65212,5.6517,5.65119,5.65102,5.65079,5.65072,5.64984,5.64955,5.6494,5.64904,5.64879,5.64823,5.64821,5.6476500000000005,5.6474,5.64725,5.6472,5.64692,5.64676,5.6465700000000005,5.64638,5.64652,5.64648,5.64542,5.64523,5.64506,5.64462,5.64442,5.64433,5.64431,5.64421,5.64406,5.6437,5.64351,5.6433800000000005,5.64336,5.64332,5.64306,5.64245,5.64244,5.64189,5.64189,5.64181,5.64184,5.6414,5.64133,5.64154,5.64138,5.64079,5.6406,5.64028,5.63976,5.63973,5.6395800000000005,5.6395,5.63914,5.63906,5.63895,5.63879,5.6386400000000005,5.63838,5.63816,5.63783,5.6376100000000005,5.63724,5.63711,5.63685,5.63671,5.63663,5.63661,5.63652,5.6363,5.63597,5.63586,5.63558,5.63553,5.63532,5.63511,5.63449,5.63424,5.63411,5.63405,5.63403,5.634,5.6336200000000005,5.63359,5.63304,5.63299,5.63278,5.6327,5.63164,5.63015,5.62993,5.62976,5.62958,5.62955,5.62953,5.62913,5.6287,5.62841,5.62818,5.62809,5.62793,5.62783,5.62774,5.62722,5.62683,5.62681,5.6268,5.6268,5.62673,5.62668,5.62611,5.62598,5.62593,5.62582,5.62572,5.62561,5.62558,5.62509,5.62509,5.62495,5.6249400000000005,5.62488,5.62483,5.62482,5.62477,5.6247,5.62465,5.62438,5.62413,5.62411,5.62356,5.62237,5.62226,5.62217,5.62202,5.62165,5.6215,5.62145,5.62138,5.62073,5.6206,5.62046,5.61968,5.61989,5.6200600000000005,5.61963,5.62002,5.61957,5.61934,5.61955,5.61888,5.61816,5.61833,5.61813,5.61803,5.6178,5.6177,5.61746,5.61727,5.61721,5.61706,5.61696,5.61681,5.61672,5.61669,5.61659,5.61647,5.61639,5.61628,5.61622,5.61599,5.61585,5.61576,5.61569,5.61566,5.61558,5.61555,5.61545,5.61522,5.6151800000000005,5.61512,5.61493,5.61485,5.61467,5.61462,5.61411,5.61407,5.61398,5.61397,5.61397,5.61392,5.61383,5.61301,5.61285,5.61261,5.61201,5.6116600000000005,5.6115200000000005,5.61151,5.61141,5.61124,5.61112,5.611,5.61099,5.6107,5.61065,5.61062,5.61042,5.61041,5.61032,5.61013,5.6098,5.60889,5.60884,5.60876,5.60875,5.6085,5.60839,5.60837,5.60813,5.60803,5.60803,5.60784,5.60783,5.60781,5.6077,5.60765,5.60762,5.6073900000000005,5.60723,5.60717,5.60716,5.60709,5.60644,5.60638,5.60619,5.60618,5.60602,5.60553,5.60529,5.60482,5.60479,5.60429,5.60425,5.6042000000000005,5.60384,5.60374,5.60351,5.60337,5.60296,5.60281,5.60259,5.60217,5.6019,5.60147,5.60107,5.60107,5.60106,5.60095,5.60081,5.60073,5.6005400000000005,5.60042,5.60039,5.60029,5.60017,5.59999,5.59998,5.59994,5.59981,5.59976,5.59956,5.59945,5.59927,5.59901,5.59867,5.59722,5.59706,5.59696,5.59677,5.59662,5.59655,5.59636,5.59579,5.59558,5.59557,5.59554,5.59541,5.59486,5.5947700000000005,5.5947,5.59468,5.5941,5.59409,5.59407,5.59388,5.5938300000000005,5.5937,5.5937,5.5935,5.5932,5.5932,5.59297,5.59238,5.59216,5.59203,5.59193,5.59175,5.59158,5.59155,5.59148,5.59144,5.5913900000000005,5.59127,5.59115,5.59108,5.59107,5.59107,5.59082,5.59057,5.59031,5.59016,5.59002,5.58987,5.58981,5.58943,5.58929,5.58918,5.58897,5.58877,5.58875,5.58874,5.58873,5.58846,5.58837,5.58823,5.58817,5.58802,5.58786,5.58767,5.58765,5.58754,5.5875,5.58738,5.58731,5.58695,5.58695,5.58692,5.58675,5.58662,5.58661,5.58658,5.58643,5.58633,5.58632,5.58617,5.58616,5.58593,5.58591,5.58591,5.58583,5.58583,5.58566,5.58539,5.58558,5.58551,5.58517,5.58509,5.58466,5.58458,5.58457,5.58453,5.58401,5.58386,5.5837,5.58368,5.58352,5.5835,5.58347,5.58342,5.58334,5.5833200000000005,5.58325,5.5832,5.58307,5.583,5.58296,5.58284,5.58253,5.58247,5.58243,5.5822400000000005,5.58219,5.58217,5.58189,5.58181,5.58153,5.58124,5.58122,5.5812,5.58119,5.581,5.58078,5.5807400000000005,5.58069,5.5806,5.58029,5.5802,5.58006,5.57988,5.57979,5.57971,5.57955,5.57934,5.5792,5.57912,5.57892,5.5789100000000005,5.57882,5.57874,5.57864,5.57839,5.57811,5.57798,5.57764,5.5774,5.57738,5.57731,5.57705,5.57703,5.577,5.5769,5.57677,5.5764700000000005,5.57623,5.57619,5.57615,5.57605,5.57601,5.57587,5.57577,5.57566,5.57563,5.5756,5.57556,5.57549,5.57548,5.57519,5.57512,5.57457,5.57452,5.5743,5.5741,5.57404,5.5740300000000005,5.57387,5.57399,5.57365,5.57372,5.57368,5.57357,5.57348,5.57333,5.57321,5.57311,5.57287,5.57279,5.57255,5.5724800000000005,5.57224,5.57223,5.57209,5.57203,5.57189,5.57169,5.57163,5.57157,5.57155,5.57137,5.5712,5.57119,5.57101,5.57097,5.57071,5.57069,5.57062,5.57061,5.5706,5.57049,5.57031,5.57013,5.57011,5.57005,5.56992,5.56982,5.56972,5.56967,5.5696,5.56957,5.56943,5.56926,5.56907,5.56896,5.56883,5.5688,5.56877,5.56865,5.56859,5.56819,5.56803,5.568,5.56753,5.5673,5.56711,5.56688,5.56677,5.56651,5.5664,5.56638,5.56625,5.56625,5.56618,5.56609,5.566,5.56598,5.56584,5.56565,5.5655,5.5654900000000005,5.56526,5.56522,5.5652,5.56472,5.56465,5.56458,5.56457,5.56454,5.56435,5.56434,5.56424,5.56419,5.56418,5.56415,5.56401,5.56393,5.56388,5.56385,5.56379,5.56357,5.5635,5.5634,5.56338,5.56322,5.56322,5.56312,5.56297,5.56292,5.56285,5.56266,5.56242,5.56212,5.56205,5.56185,5.56185,5.56173,5.56166,5.56153,5.56143,5.56127,5.5612200000000005,5.56101,5.56088,5.56086,5.56084,5.56077,5.56073,5.56067,5.5605,5.56046,5.56033,5.56033,5.56006,5.55988,5.55987,5.55972,5.55957,5.55956,5.55945,5.55944,5.55915,5.55913,5.55888,5.55879,5.55871,5.55869,5.55853,5.55848,5.55816,5.5580300000000005,5.55789,5.55761,5.55758,5.55755,5.5575,5.55748,5.55744,5.55741,5.55732,5.55706,5.55692,5.55686,5.5567,5.55669,5.55669,5.55661,5.55649,5.55644,5.5564,5.55631,5.5563,5.5563,5.55624,5.55606,5.55592,5.55589,5.5558700000000005,5.55568,5.55562,5.55556,5.55548,5.55541,5.55531,5.55531,5.55525,5.55522,5.55519,5.55506,5.55489,5.55471,5.5547,5.55469,5.55468,5.55461,5.55456,5.5545100000000005,5.55449,5.55445,5.5543700000000005,5.55407,5.55401,5.55396,5.5539000000000005,5.5537600000000005,5.55319,5.55305,5.55299,5.55292,5.55275,5.55261,5.55248,5.55247,5.55233,5.55191,5.55186,5.55179,5.55178,5.55163,5.55156,5.55135,5.55131,5.55131,5.55127,5.55116,5.55115,5.55105,5.55097,5.55053,5.55045,5.55016,5.55011,5.55005,5.54984,5.54981,5.54967,5.54942,5.54915,5.54911,5.54903,5.5490200000000005,5.54893,5.54892,5.5488800000000005,5.54884,5.54863,5.54866,5.54859,5.54851,5.54837,5.5482700000000005,5.54824,5.54814,5.54812,5.54806,5.54803,5.54782,5.54767,5.54763,5.5475200000000005,5.5475200000000005,5.54751,5.54746,5.54708,5.547,5.54698,5.54697,5.54694,5.54688,5.54677,5.54669,5.54657,5.54642,5.54637,5.54629,5.54612,5.54598,5.54574,5.54559,5.54556,5.54553,5.54547,5.54539,5.54521,5.54521,5.5451,5.54509,5.54507,5.54502,5.54493,5.54473,5.54457,5.54452,5.54449,5.54446,5.54443,5.54422,5.54416,5.54411,5.54396,5.54382,5.54371,5.5436700000000005,5.54362,5.54349,5.54342,5.54341,5.54333,5.54326,5.54323,5.54321,5.54308,5.54303,5.543,5.54287,5.54283,5.5427800000000005,5.54275,5.54272,5.54261,5.54258,5.5425,5.54242,5.54239,5.54238,5.54237,5.54219,5.54196,5.54181,5.54177,5.54153,5.54151,5.54106,5.54096,5.54089,5.54077,5.54088,5.54072,5.54065,5.54045,5.54042,5.54025,5.54021,5.54014,5.54002,5.54001,5.54001,5.53972,5.5397,5.53967,5.5396,5.53947,5.53945,5.53943,5.53942,5.53939,5.53923,5.53918,5.53893,5.53882,5.53879,5.53872,5.53872,5.5387,5.5386,5.53864,5.53854,5.53848,5.53843,5.5385,5.5383700000000005,5.53841,5.53827,5.53824,5.53815,5.5380400000000005,5.53796,5.53794,5.53785,5.53766,5.53756,5.53753,5.53744,5.53744,5.5374,5.5372,5.53712,5.53708,5.53707,5.53698,5.53694,5.53691,5.5368200000000005,5.5368200000000005,5.53674,5.53665,5.53665,5.5365400000000005,5.53651,5.5365,5.53649,5.53639,5.53636,5.53619,5.53603,5.53599,5.53599,5.53597,5.53589,5.53575,5.53571,5.53562,5.53554,5.53561,5.53557,5.53552,5.5354600000000005,5.53541,5.5354,5.53526,5.53515,5.53515,5.53512,5.53509,5.53508,5.53507,5.53506,5.53505,5.53494,5.5348500000000005,5.53481,5.53475,5.53473,5.5347,5.53465,5.53461,5.53456,5.53451,5.53443,5.5344,5.5344,5.53427,5.53425,5.53417,5.53409,5.53394,5.53391,5.53366,5.53382,5.53379,5.53374,5.53372,5.53362,5.53358,5.53353,5.53357,5.53354,5.5335,5.53336,5.53315,5.53313,5.53306,5.53303,5.533,5.53296,5.53289,5.5328,5.53272,5.53246,5.53231,5.53223,5.53217,5.53208,5.53205,5.532,5.532,5.53198,5.53196,5.5319400000000005,5.53193,5.53168,5.53161,5.53157,5.53154,5.53132,5.53131,5.53131,5.5313,5.5313,5.5313,5.53123,5.53118,5.53113,5.53112,5.53111,5.53111,5.53102,5.53095,5.53093,5.53088,5.53082,5.53078,5.53074,5.5307200000000005,5.53068,5.53067,5.53062,5.53054,5.53053,5.53046,5.5304400000000005,5.53042,5.53042,5.53022,5.53006,5.53005,5.53003,5.53,5.52995,5.52994,5.52989,5.52988,5.52988,5.52988,5.52973,5.52963,5.52958,5.52951,5.52935,5.52933,5.52921,5.5292,5.5292,5.52916,5.52914,5.52909,5.52895,5.52887,5.52887,5.52883,5.5288,5.52876,5.52869,5.52862,5.52855,5.52843,5.52833,5.52833,5.5283,5.52827,5.5282,5.5281,5.52807,5.52798,5.52789,5.52788,5.5278,5.52774,5.52769,5.52769,5.52738,5.52737,5.52736,5.52725,5.52715,5.52703,5.52703,5.52677,5.52675,5.5267,5.52669,5.52668,5.52667,5.52659,5.52658,5.52654,5.52654,5.52653,5.52643,5.52638,5.5263100000000005,5.5263,5.5263,5.52626,5.52625,5.52622,5.52622,5.5262,5.52601,5.52611,5.52593,5.52587,5.5258400000000005,5.52573,5.5257000000000005,5.52567,5.52551,5.52563,5.5256,5.52555,5.52554,5.52544,5.52543,5.52539,5.52531,5.52538,5.52535,5.52529,5.52528,5.5251,5.52507,5.52502,5.52499,5.52505,5.52493,5.52494,5.52485,5.52493,5.5248,5.52478,5.52476,5.52475,5.52465,5.52445,5.52444,5.52438,5.52441,5.52436,5.52428,5.52428,5.52427,5.52427,5.52426,5.52426,5.52425,5.52408,5.52403,5.52403,5.524,5.52394,5.52388,5.5238700000000005,5.52377,5.52367,5.52361,5.52353,5.52353,5.52343,5.52334,5.52334,5.52327,5.5232600000000005,5.52329,5.52329,5.52328,5.5231200000000005,5.52297,5.52311,5.52308,5.52308,5.52296,5.52288,5.5227,5.52266,5.52264,5.52262,5.52257,5.52256,5.52254,5.5225,5.52241,5.52224,5.52209,5.52207,5.52205,5.5220400000000005,5.52194,5.52185,5.52179,5.52161,5.52158,5.52156,5.5215700000000005,5.52153,5.52148,5.52146,5.52144,5.5212900000000005,5.52121,5.5212,5.52113,5.5211,5.52098,5.52097,5.5209600000000005,5.52102,5.52085,5.52084,5.52072,5.52071,5.52062,5.52055,5.52039,5.52029,5.52026,5.52031,5.52024,5.5199,5.51984,5.51982,5.51964,5.51964,5.51963,5.5194600000000005,5.51933,5.51915,5.51906,5.51905,5.51893,5.5189,5.51888,5.5187,5.51874,5.51863,5.5186,5.51857,5.51854,5.51812,5.51799,5.51798,5.51786,5.51794,5.51792,5.51781,5.51767,5.51771,5.51743,5.51764,5.51759,5.51754,5.51754,5.51747,5.51744,5.51738,5.51737,5.51736,5.51729,5.51711,5.51704,5.5170200000000005,5.517,5.5171,5.51696,5.51694,5.51693,5.51692,5.51686,5.51682,5.51681,5.51678,5.5166900000000005,5.51658,5.51657,5.5165500000000005,5.51649,5.5165500000000005,5.51634,5.5162,5.5159400000000005,5.51587,5.5159400000000005,5.51583,5.51581,5.5158000000000005,5.51579,5.51573,5.5157,5.51559,5.51552,5.51551,5.5155,5.51549,5.51544,5.51538,5.51536,5.51534,5.5153300000000005,5.51529,5.51521,5.51511,5.51507,5.51504,5.51499,5.51497,5.51496,5.51495,5.51494,5.51492,5.51475,5.51474,5.51474,5.51474,5.51463,5.51456,5.51451,5.51446,5.51442,5.51438,5.51435,5.51433,5.51424,5.51413,5.51412,5.5141100000000005,5.5141,5.51409,5.51408,5.51405,5.51399,5.51395,5.51393,5.51386,5.51382,5.51382,5.51368,5.51365,5.51363,5.51363,5.51362,5.51361,5.5136,5.5136,5.51358,5.5135000000000005,5.51348,5.51347,5.51341,5.51341,5.5133600000000005,5.51329,5.51329,5.5132200000000005,5.51321,5.51317,5.51316,5.513,5.513,5.51299,5.513,5.51292,5.51287,5.51281,5.51271,5.51262,5.51262,5.51259,5.5125,5.51247,5.51246,5.51231,5.5123,5.51224,5.51236,5.51219,5.51215,5.51206,5.51195,5.51194,5.51191,5.51189,5.51187,5.51187,5.51183,5.51181,5.5118,5.51168,5.51161,5.51158,5.5115300000000005,5.51151,5.51131,5.51129,5.51134,5.51117,5.51086,5.51085,5.51084,5.51083,5.51077,5.51076,5.51071,5.51066,5.51061,5.51043,5.51028,5.5102,5.51011,5.51004,5.50983,5.50982,5.50979,5.50975,5.50975,5.50968,5.50967,5.50962,5.5096,5.50953,5.50951,5.50947,5.50944,5.50939,5.50934,5.5092300000000005,5.5092,5.50919,5.50897,5.50897,5.50881,5.50886,5.50873,5.50866,5.50857,5.50879,5.50855,5.50847,5.5083400000000005,5.50832,5.50829,5.50812,5.50785,5.50782,5.5078,5.50774,5.50764,5.50764,5.50762,5.50761,5.50753,5.50746,5.5074000000000005,5.50736,5.50732,5.50729,5.50725,5.50722,5.50722,5.507,5.50698,5.50697,5.50697,5.50682,5.50675,5.50666,5.5066500000000005,5.50664,5.50664,5.50659,5.50649,5.50641,5.50631,5.5063,5.50602,5.50596,5.50596,5.50596,5.50592,5.50586,5.50575,5.50575,5.50558,5.50549,5.50545,5.50538,5.5052900000000005,5.50528,5.50527,5.50527,5.50479,5.50471,5.5047,5.50463,5.50461,5.50461,5.5045,5.50457,5.50444,5.50419,5.50418,5.50405,5.50386,5.50385,5.50384,5.50383,5.50368,5.50352,5.50331,5.50327,5.50295,5.50297,5.5027,5.50269,5.50268,5.50267,5.50267,5.50263,5.50246,5.50239,5.50237,5.50236,5.50229,5.5022400000000005,5.5022,5.50225,5.50209,5.50205,5.50186,5.5017700000000005,5.5017700000000005,5.5017700000000005,5.50168,5.50172,5.50164,5.50154,5.50152,5.5015,5.50143,5.5013000000000005,5.50129,5.50089,5.50053,5.50035,5.50031,5.50035,5.50012,5.50009,5.5,5.4999400000000005,5.49982,5.49971,5.49965,5.49965,5.49956,5.49953,5.49935,5.49921,5.4991200000000005,5.49911,5.49905,5.499,5.49897,5.49863,5.49844,5.49845,5.49841,5.49825,5.49822,5.49806,5.49789,5.49778,5.49777,5.49776,5.49773,5.49763,5.49734,5.49732,5.49731,5.49724,5.49716,5.4972,5.49718,5.49698,5.49687,5.49685,5.49655,5.49664,5.4966,5.49648,5.49635,5.4959,5.49621,5.49586,5.49581,5.49579,5.49574,5.4956,5.49533,5.49505,5.49501,5.49481,5.49476,5.49473,5.49471,5.49448,5.49451,5.49439,5.49436,5.49434,5.49413,5.49358,5.49352,5.49351,5.4934,5.49328,5.49316,5.49283,5.49226,5.49178,5.49108,5.49085,5.4908,5.49068,5.49048,5.49012,5.4901,5.4901,5.48988,5.48985,5.48948,5.48944,5.48936,5.48924,5.48922,5.48827,5.48824,5.48798,5.48754,5.48751,5.4875,5.48728,5.48709,5.48697,5.48688,5.48671,5.48662,5.48667,5.4863800000000005,5.48622,5.48611,5.48611,5.48606,5.48592,5.4859,5.4857700000000005,5.48576,5.48554,5.48538,5.48531,5.48532,5.48527,5.48495,5.48472,5.4846900000000005,5.48447,5.48406,5.48377,5.4839,5.48382,5.48361,5.48351,5.48346,5.4834,5.48292,5.48252,5.48228,5.48179,5.48193,5.48189,5.4815000000000005,5.48134,5.48115,5.48077,5.48055,5.48037,5.48025,5.48016,5.48007,5.48002,5.47994,5.47963,5.47867,5.47805,5.47789,5.47727,5.4775,5.47747,5.47742,5.47686,5.47663,5.47631,5.47618,5.47591,5.47594,5.47571,5.4757,5.47476,5.47306,5.47302,5.47243,5.471,5.47054,5.47046,5.47022,5.46998,5.46856,5.46743,5.46738,5.46692,5.46563,5.46526,5.46451,5.4636,5.46256,5.46262,5.46144,5.46131,5.46116,5.46101,5.46098,5.45922,5.45866,5.45573,5.45509,5.45474,5.45386,5.45191,5.44918,5.44759,5.44448,5.44427,5.44368,5.43823,5.44051,5.44,5.4378400000000005,5.43697,5.43468,5.43387,5.43094,5.42435,5.42396,5.42243,5.42248,5.4191,5.40797,5.40588,5.40587,5.40449,5.3963,5.39515,5.38866,5.40012,5.3839500000000005,5.38642,5.34994,5.31737,5.28276,5.26793],\"type\":\"violin\",\"meanline\":{\"visible\":true}}],                        {\"template\":{\"data\":{\"bar\":[{\"error_x\":{\"color\":\"#2a3f5f\"},\"error_y\":{\"color\":\"#2a3f5f\"},\"marker\":{\"line\":{\"color\":\"#E5ECF6\",\"width\":0.5},\"pattern\":{\"fillmode\":\"overlay\",\"size\":10,\"solidity\":0.2}},\"type\":\"bar\"}],\"barpolar\":[{\"marker\":{\"line\":{\"color\":\"#E5ECF6\",\"width\":0.5},\"pattern\":{\"fillmode\":\"overlay\",\"size\":10,\"solidity\":0.2}},\"type\":\"barpolar\"}],\"carpet\":[{\"aaxis\":{\"endlinecolor\":\"#2a3f5f\",\"gridcolor\":\"white\",\"linecolor\":\"white\",\"minorgridcolor\":\"white\",\"startlinecolor\":\"#2a3f5f\"},\"baxis\":{\"endlinecolor\":\"#2a3f5f\",\"gridcolor\":\"white\",\"linecolor\":\"white\",\"minorgridcolor\":\"white\",\"startlinecolor\":\"#2a3f5f\"},\"type\":\"carpet\"}],\"choropleth\":[{\"colorbar\":{\"outlinewidth\":0,\"ticks\":\"\"},\"type\":\"choropleth\"}],\"contour\":[{\"colorbar\":{\"outlinewidth\":0,\"ticks\":\"\"},\"colorscale\":[[0.0,\"#0d0887\"],[0.1111111111111111,\"#46039f\"],[0.2222222222222222,\"#7201a8\"],[0.3333333333333333,\"#9c179e\"],[0.4444444444444444,\"#bd3786\"],[0.5555555555555556,\"#d8576b\"],[0.6666666666666666,\"#ed7953\"],[0.7777777777777778,\"#fb9f3a\"],[0.8888888888888888,\"#fdca26\"],[1.0,\"#f0f921\"]],\"type\":\"contour\"}],\"contourcarpet\":[{\"colorbar\":{\"outlinewidth\":0,\"ticks\":\"\"},\"type\":\"contourcarpet\"}],\"heatmap\":[{\"colorbar\":{\"outlinewidth\":0,\"ticks\":\"\"},\"colorscale\":[[0.0,\"#0d0887\"],[0.1111111111111111,\"#46039f\"],[0.2222222222222222,\"#7201a8\"],[0.3333333333333333,\"#9c179e\"],[0.4444444444444444,\"#bd3786\"],[0.5555555555555556,\"#d8576b\"],[0.6666666666666666,\"#ed7953\"],[0.7777777777777778,\"#fb9f3a\"],[0.8888888888888888,\"#fdca26\"],[1.0,\"#f0f921\"]],\"type\":\"heatmap\"}],\"heatmapgl\":[{\"colorbar\":{\"outlinewidth\":0,\"ticks\":\"\"},\"colorscale\":[[0.0,\"#0d0887\"],[0.1111111111111111,\"#46039f\"],[0.2222222222222222,\"#7201a8\"],[0.3333333333333333,\"#9c179e\"],[0.4444444444444444,\"#bd3786\"],[0.5555555555555556,\"#d8576b\"],[0.6666666666666666,\"#ed7953\"],[0.7777777777777778,\"#fb9f3a\"],[0.8888888888888888,\"#fdca26\"],[1.0,\"#f0f921\"]],\"type\":\"heatmapgl\"}],\"histogram\":[{\"marker\":{\"pattern\":{\"fillmode\":\"overlay\",\"size\":10,\"solidity\":0.2}},\"type\":\"histogram\"}],\"histogram2d\":[{\"colorbar\":{\"outlinewidth\":0,\"ticks\":\"\"},\"colorscale\":[[0.0,\"#0d0887\"],[0.1111111111111111,\"#46039f\"],[0.2222222222222222,\"#7201a8\"],[0.3333333333333333,\"#9c179e\"],[0.4444444444444444,\"#bd3786\"],[0.5555555555555556,\"#d8576b\"],[0.6666666666666666,\"#ed7953\"],[0.7777777777777778,\"#fb9f3a\"],[0.8888888888888888,\"#fdca26\"],[1.0,\"#f0f921\"]],\"type\":\"histogram2d\"}],\"histogram2dcontour\":[{\"colorbar\":{\"outlinewidth\":0,\"ticks\":\"\"},\"colorscale\":[[0.0,\"#0d0887\"],[0.1111111111111111,\"#46039f\"],[0.2222222222222222,\"#7201a8\"],[0.3333333333333333,\"#9c179e\"],[0.4444444444444444,\"#bd3786\"],[0.5555555555555556,\"#d8576b\"],[0.6666666666666666,\"#ed7953\"],[0.7777777777777778,\"#fb9f3a\"],[0.8888888888888888,\"#fdca26\"],[1.0,\"#f0f921\"]],\"type\":\"histogram2dcontour\"}],\"mesh3d\":[{\"colorbar\":{\"outlinewidth\":0,\"ticks\":\"\"},\"type\":\"mesh3d\"}],\"parcoords\":[{\"line\":{\"colorbar\":{\"outlinewidth\":0,\"ticks\":\"\"}},\"type\":\"parcoords\"}],\"pie\":[{\"automargin\":true,\"type\":\"pie\"}],\"scatter\":[{\"marker\":{\"colorbar\":{\"outlinewidth\":0,\"ticks\":\"\"}},\"type\":\"scatter\"}],\"scatter3d\":[{\"line\":{\"colorbar\":{\"outlinewidth\":0,\"ticks\":\"\"}},\"marker\":{\"colorbar\":{\"outlinewidth\":0,\"ticks\":\"\"}},\"type\":\"scatter3d\"}],\"scattercarpet\":[{\"marker\":{\"colorbar\":{\"outlinewidth\":0,\"ticks\":\"\"}},\"type\":\"scattercarpet\"}],\"scattergeo\":[{\"marker\":{\"colorbar\":{\"outlinewidth\":0,\"ticks\":\"\"}},\"type\":\"scattergeo\"}],\"scattergl\":[{\"marker\":{\"colorbar\":{\"outlinewidth\":0,\"ticks\":\"\"}},\"type\":\"scattergl\"}],\"scattermapbox\":[{\"marker\":{\"colorbar\":{\"outlinewidth\":0,\"ticks\":\"\"}},\"type\":\"scattermapbox\"}],\"scatterpolar\":[{\"marker\":{\"colorbar\":{\"outlinewidth\":0,\"ticks\":\"\"}},\"type\":\"scatterpolar\"}],\"scatterpolargl\":[{\"marker\":{\"colorbar\":{\"outlinewidth\":0,\"ticks\":\"\"}},\"type\":\"scatterpolargl\"}],\"scatterternary\":[{\"marker\":{\"colorbar\":{\"outlinewidth\":0,\"ticks\":\"\"}},\"type\":\"scatterternary\"}],\"surface\":[{\"colorbar\":{\"outlinewidth\":0,\"ticks\":\"\"},\"colorscale\":[[0.0,\"#0d0887\"],[0.1111111111111111,\"#46039f\"],[0.2222222222222222,\"#7201a8\"],[0.3333333333333333,\"#9c179e\"],[0.4444444444444444,\"#bd3786\"],[0.5555555555555556,\"#d8576b\"],[0.6666666666666666,\"#ed7953\"],[0.7777777777777778,\"#fb9f3a\"],[0.8888888888888888,\"#fdca26\"],[1.0,\"#f0f921\"]],\"type\":\"surface\"}],\"table\":[{\"cells\":{\"fill\":{\"color\":\"#EBF0F8\"},\"line\":{\"color\":\"white\"}},\"header\":{\"fill\":{\"color\":\"#C8D4E3\"},\"line\":{\"color\":\"white\"}},\"type\":\"table\"}]},\"layout\":{\"annotationdefaults\":{\"arrowcolor\":\"#2a3f5f\",\"arrowhead\":0,\"arrowwidth\":1},\"autotypenumbers\":\"strict\",\"coloraxis\":{\"colorbar\":{\"outlinewidth\":0,\"ticks\":\"\"}},\"colorscale\":{\"diverging\":[[0,\"#8e0152\"],[0.1,\"#c51b7d\"],[0.2,\"#de77ae\"],[0.3,\"#f1b6da\"],[0.4,\"#fde0ef\"],[0.5,\"#f7f7f7\"],[0.6,\"#e6f5d0\"],[0.7,\"#b8e186\"],[0.8,\"#7fbc41\"],[0.9,\"#4d9221\"],[1,\"#276419\"]],\"sequential\":[[0.0,\"#0d0887\"],[0.1111111111111111,\"#46039f\"],[0.2222222222222222,\"#7201a8\"],[0.3333333333333333,\"#9c179e\"],[0.4444444444444444,\"#bd3786\"],[0.5555555555555556,\"#d8576b\"],[0.6666666666666666,\"#ed7953\"],[0.7777777777777778,\"#fb9f3a\"],[0.8888888888888888,\"#fdca26\"],[1.0,\"#f0f921\"]],\"sequentialminus\":[[0.0,\"#0d0887\"],[0.1111111111111111,\"#46039f\"],[0.2222222222222222,\"#7201a8\"],[0.3333333333333333,\"#9c179e\"],[0.4444444444444444,\"#bd3786\"],[0.5555555555555556,\"#d8576b\"],[0.6666666666666666,\"#ed7953\"],[0.7777777777777778,\"#fb9f3a\"],[0.8888888888888888,\"#fdca26\"],[1.0,\"#f0f921\"]]},\"colorway\":[\"#636efa\",\"#EF553B\",\"#00cc96\",\"#ab63fa\",\"#FFA15A\",\"#19d3f3\",\"#FF6692\",\"#B6E880\",\"#FF97FF\",\"#FECB52\"],\"font\":{\"color\":\"#2a3f5f\"},\"geo\":{\"bgcolor\":\"white\",\"lakecolor\":\"white\",\"landcolor\":\"#E5ECF6\",\"showlakes\":true,\"showland\":true,\"subunitcolor\":\"white\"},\"hoverlabel\":{\"align\":\"left\"},\"hovermode\":\"closest\",\"mapbox\":{\"style\":\"light\"},\"paper_bgcolor\":\"white\",\"plot_bgcolor\":\"#E5ECF6\",\"polar\":{\"angularaxis\":{\"gridcolor\":\"white\",\"linecolor\":\"white\",\"ticks\":\"\"},\"bgcolor\":\"#E5ECF6\",\"radialaxis\":{\"gridcolor\":\"white\",\"linecolor\":\"white\",\"ticks\":\"\"}},\"scene\":{\"xaxis\":{\"backgroundcolor\":\"#E5ECF6\",\"gridcolor\":\"white\",\"gridwidth\":2,\"linecolor\":\"white\",\"showbackground\":true,\"ticks\":\"\",\"zerolinecolor\":\"white\"},\"yaxis\":{\"backgroundcolor\":\"#E5ECF6\",\"gridcolor\":\"white\",\"gridwidth\":2,\"linecolor\":\"white\",\"showbackground\":true,\"ticks\":\"\",\"zerolinecolor\":\"white\"},\"zaxis\":{\"backgroundcolor\":\"#E5ECF6\",\"gridcolor\":\"white\",\"gridwidth\":2,\"linecolor\":\"white\",\"showbackground\":true,\"ticks\":\"\",\"zerolinecolor\":\"white\"}},\"shapedefaults\":{\"line\":{\"color\":\"#2a3f5f\"}},\"ternary\":{\"aaxis\":{\"gridcolor\":\"white\",\"linecolor\":\"white\",\"ticks\":\"\"},\"baxis\":{\"gridcolor\":\"white\",\"linecolor\":\"white\",\"ticks\":\"\"},\"bgcolor\":\"#E5ECF6\",\"caxis\":{\"gridcolor\":\"white\",\"linecolor\":\"white\",\"ticks\":\"\"}},\"title\":{\"x\":0.05},\"xaxis\":{\"automargin\":true,\"gridcolor\":\"white\",\"linecolor\":\"white\",\"ticks\":\"\",\"title\":{\"standoff\":15},\"zerolinecolor\":\"white\",\"zerolinewidth\":2},\"yaxis\":{\"automargin\":true,\"gridcolor\":\"white\",\"linecolor\":\"white\",\"ticks\":\"\",\"title\":{\"standoff\":15},\"zerolinecolor\":\"white\",\"zerolinewidth\":2}}},\"violingap\":0,\"violinmode\":\"overlay\"},                        {\"responsive\": true}                    ).then(function(){\n",
              "                            \n",
              "var gd = document.getElementById('abd2f9d3-e7d7-44a5-a173-41410bc442bd');\n",
              "var x = new MutationObserver(function (mutations, observer) {{\n",
              "        var display = window.getComputedStyle(gd).display;\n",
              "        if (!display || display === 'none') {{\n",
              "            console.log([gd, 'removed!']);\n",
              "            Plotly.purge(gd);\n",
              "            observer.disconnect();\n",
              "        }}\n",
              "}});\n",
              "\n",
              "// Listen for the removal of the full notebook cells\n",
              "var notebookContainer = gd.closest('#notebook-container');\n",
              "if (notebookContainer) {{\n",
              "    x.observe(notebookContainer, {childList: true});\n",
              "}}\n",
              "\n",
              "// Listen for the clearing of the current output cell\n",
              "var outputEl = gd.closest('.output');\n",
              "if (outputEl) {{\n",
              "    x.observe(outputEl, {childList: true});\n",
              "}}\n",
              "\n",
              "                        })                };                            </script>        </div>\n",
              "</body>\n",
              "</html>"
            ]
          },
          "metadata": {}
        }
      ],
      "source": [
        "fig = go.Figure()\n",
        "\n",
        "df = final_ranked[final_ranked['year'] > 2008]\n",
        "\n",
        "fig.add_trace(go.Violin(x=df[df['Crowdfunding: Kickstarter'] == 0]['year'],\n",
        "                        y=df[df['Crowdfunding: Kickstarter'] == 0]['bayes_rating'],\n",
        "                        legendgroup='Non-KS', scalegroup='Non-KS', name='Non-KS',\n",
        "                        side='negative',\n",
        "                        line_color='purple')\n",
        "             )\n",
        "fig.add_trace(go.Violin(x=df[df['Crowdfunding: Kickstarter'] == 1]['year'],\n",
        "                        y=df[df['Crowdfunding: Kickstarter'] == 1]['bayes_rating'],\n",
        "                        legendgroup='KS', scalegroup='KS', name='KS',\n",
        "                        side='positive',\n",
        "                        line_color='green')\n",
        "             )\n",
        "fig.update_traces(meanline_visible=True)\n",
        "fig.update_layout(violingap=0, violinmode='overlay')\n",
        "fig.show()"
      ]
    },
    {
      "cell_type": "code",
      "source": [
        "df[df['Crowdfunding: Kickstarter'] == 0]['bayes_rating'].mean()"
      ],
      "metadata": {
        "colab": {
          "base_uri": "https://localhost:8080/"
        },
        "id": "gaPX253dgPid",
        "outputId": "4e1d8323-edc3-4a3e-aa35-d5e7a305d664"
      },
      "execution_count": null,
      "outputs": [
        {
          "output_type": "execute_result",
          "data": {
            "text/plain": [
              "5.757787807606265"
            ]
          },
          "metadata": {},
          "execution_count": 6
        }
      ]
    },
    {
      "cell_type": "code",
      "source": [
        "df[df['Crowdfunding: Kickstarter'] == 1]['bayes_rating'].mean()"
      ],
      "metadata": {
        "colab": {
          "base_uri": "https://localhost:8080/"
        },
        "id": "YbUukb8GgZbD",
        "outputId": "dc0c7396-bd87-4b09-9732-d933d9676511"
      },
      "execution_count": null,
      "outputs": [
        {
          "output_type": "execute_result",
          "data": {
            "text/plain": [
              "5.777826104446014"
            ]
          },
          "metadata": {},
          "execution_count": 7
        }
      ]
    },
    {
      "cell_type": "code",
      "source": [
        "df[df['Crowdfunding: Kickstarter'] == 0]['bayes_rating'].std()"
      ],
      "metadata": {
        "colab": {
          "base_uri": "https://localhost:8080/"
        },
        "id": "O-aGSHOwpIsU",
        "outputId": "45787c08-bc2d-41c7-a82e-1631f68c69a8"
      },
      "execution_count": null,
      "outputs": [
        {
          "output_type": "execute_result",
          "data": {
            "text/plain": [
              "0.4239352329769771"
            ]
          },
          "metadata": {},
          "execution_count": 8
        }
      ]
    },
    {
      "cell_type": "code",
      "source": [
        "df[df['Crowdfunding: Kickstarter'] == 1]['bayes_rating'].std()"
      ],
      "metadata": {
        "id": "RdWdXEc7pRky",
        "outputId": "3cdd05d5-526f-4268-9ae2-3c6715073457",
        "colab": {
          "base_uri": "https://localhost:8080/"
        }
      },
      "execution_count": null,
      "outputs": [
        {
          "output_type": "execute_result",
          "data": {
            "text/plain": [
              "0.42741872644877593"
            ]
          },
          "metadata": {},
          "execution_count": 9
        }
      ]
    },
    {
      "cell_type": "code",
      "execution_count": null,
      "metadata": {
        "colab": {
          "base_uri": "https://localhost:8080/",
          "height": 542
        },
        "id": "MYfACL7cugb9",
        "outputId": "a2b4736e-2740-4970-ba96-9a4bc8b1b3a3"
      },
      "outputs": [
        {
          "data": {
            "text/html": [
              "<html>\n",
              "<head><meta charset=\"utf-8\" /></head>\n",
              "<body>\n",
              "    <div>            <script src=\"https://cdnjs.cloudflare.com/ajax/libs/mathjax/2.7.5/MathJax.js?config=TeX-AMS-MML_SVG\"></script><script type=\"text/javascript\">if (window.MathJax) {MathJax.Hub.Config({SVG: {font: \"STIX-Web\"}});}</script>                <script type=\"text/javascript\">window.PlotlyConfig = {MathJaxConfig: 'local'};</script>\n",
              "        <script src=\"https://cdn.plot.ly/plotly-2.8.3.min.js\"></script>                <div id=\"38463862-96c4-4b82-a70d-673ed54a4038\" class=\"plotly-graph-div\" style=\"height:525px; width:100%;\"></div>            <script type=\"text/javascript\">                                    window.PLOTLYENV=window.PLOTLYENV || {};                                    if (document.getElementById(\"38463862-96c4-4b82-a70d-673ed54a4038\")) {                    Plotly.newPlot(                        \"38463862-96c4-4b82-a70d-673ed54a4038\",                        [{\"alignmentgroup\":\"True\",\"boxpoints\":\"all\",\"fillcolor\":\"rgba(255,255,255,0)\",\"hoveron\":\"points\",\"hovertemplate\":\"Crowdfunding: Kickstarter=1.0<br>year=%{x}<br>bayes_rating=%{y}<extra></extra>\",\"legendgroup\":\"1.0\",\"line\":{\"color\":\"rgba(255,255,255,0)\"},\"marker\":{\"color\":\"#00cc96\"},\"name\":\"1.0\",\"offsetgroup\":\"1.0\",\"orientation\":\"v\",\"pointpos\":0,\"showlegend\":true,\"x\":[2017,2018,2017,2016,2018,2018,2018,2015,2017,2019,2019,2017,2017,2015,2020,2017,2015,2017,2019,2016,2018,2019,2021,2015,2018,2019,2020,2017,2015,2019,2019,2018,2014,2021,2019,2014,2012,2018,2020,2017,2019,2017,2017,2020,2017,2020,2018,2015,2016,2016,2016,2014,2014,2016,2013,2020,2019,2021,2018,2016,2018,2018,2010,2015,2017,2015,2015,2015,2016,2015,2021,2018,2016,2018,2017,2017,2019,2015,2012,2016,2021,2011,2020,2018,2019,2013,2013,2014,2021,2016,2013,2021,2019,2012,2020,2015,2013,2019,2019,2014,2021,2014,2014,2014,2016,2016,2013,2016,2021,2012,2012,2018,2016,2019,2019,2015,2019,2018,2018,2014,2020,2012,2017,2018,2019,2015,2016,2020,2019,2011,2015,2017,2015,2013,2018,2013,2019,2018,2016,2012,2017,2014,2018,2020,2015,2017,2016,2014,2013,2018,2020,2017,2015,2017,2019,2015,2017,2018,2017,2018,2016,2015,2020,2014,2017,2019,2017,2018,2018,2015,2019,2019,2018,2017,2018,2021,2020,2019,2015,2019,2017,2016,2019,2017,2016,2018,2016,2013,2018,2010,2019,2021,2019,2017,2019,2019,2020,2013,2017,2018,2013,2016,2020,2015,2013,2017,2017,2020,2018,2021,2020,2017,2019,2017,2015,2020,2012,2021,2018,2018,2016,2019,2017,2015,2017,2019,2018,2015,2015,2014,2016,2017,2021,2015,2014,2016,2019,2018,2021,2018,2019,2017,2019,2014,2017,2020,2015,2021,2020,2017,2021,2018,2017,2019,2021,2019,2014,2018,2020,2021,2020,2021,2019,2016,2016,2012,2013,2012,2019,2020,2017,2011,2014,2014,2017,2020,2012,2011,2021,2018,2019,2017,2016,2014,2018,2017,2015,2018,2013,2019,2014,2014,2014,2014,2016,2018,2013,2016,2021,2019,2020,2020,2015,2017,2016,2020,2020,2012,2021,2021,2019,2017,2014,2020,2012,2019,2012,2017,2021,2012,2016,2019,2021,2018,2020,2017,2018,2017,2019,2018,2021,2018,2020,2016,2013,2015,2021,2016,2019,2018,2019,2017,2017,2017,2019,2019,2021,2019,2012,2016,2015,2014,2010,2019,2019,2013,2011,2021,2015,2014,2017,2019,2016,2018,2014,2019,2018,2021,2015,2021,2015,2020,2020,2021,2012,2019,2018,2021,2019,2012,2020,2021,2018,2018,2013,2019,2018,2019,2018,2016,2021,2020,2018,2016,2019,2014,2014,2017,2019,2019,2020,2018,2015,2020,2021,2018,2017,2014,2018,2016,2017,2021,2018,2018,2014,2019,2021,2018,2015,2016,2019,2014,2018,2018,2013,2021,2020,2018,2019,2017,2017,2021,2017,2013,2013,2014,2014,2015,2017,2018,2015,2015,2011,2015,2019,2018,2013,2017,2019,2012,2017,2021,2018,2016,2021,2020,2016,2016,2020,2015,2017,2015,2020,2015,2015,2019,2020,2021,2020,2016,2015,2012,2021,2018,2012,2019,2021,2014,2020,2013,2015,2020,2015,2016,2021,2015,2014,2012,2021,2015,2015,2014,2021,2018,2016,2019,2012,2021,2018,2017,2015,2021,2016,2014,2019,2019,2013,2019,2018,2013,2017,2019,2016,2021,2019,2016,2018,2012,2013,2018,2017,2020,2021,2018,2019,2012,2021,2015,2013,2019,2014,2020,2011,2015,2018,2017,2015,2020,2020,2021,2015,2018,2016,2010,2013,2015,2014,2016,2019,2019,2010,2013,2021,2017,2019,2021,2014,2015,2015,2018,2021,2013,2021,2021,2018,2020,2015,2019,2011,2016,2014,2019,2014,2015,2019,2013,2016,2021,2015,2021,2018,2021,2018,2020,2020,2014,2019,2011,2018,2016,2015,2019,2012,2015,2019,2014,2021,2021,2021,2021,2018,2017,2021,2021,2020,2015,2020,2016,2021,2013,2018,2019,2020,2014,2013,2020,2013,2020,2014,2016,2016,2021,2019,2015,2019,2019,2015,2013,2019,2020,2016,2018,2014,2012,2019,2020,2019,2016,2016,2018,2017,2013,2021,2016,2019,2018,2016,2014,2017,2021,2021,2015,2015,2018,2020,2016,2018,2015,2020,2016,2015,2015,2016,2020,2017,2019,2019,2014,2013,2017,2018,2019,2014,2021,2018,2017,2020,2011,2020,2019,2020,2018,2012,2018,2018,2014,2018,2017,2020,2021,2015,2020,2019,2016,2014,2014,2012,2014,2019,2020,2019,2017,2021,2020,2016,2017,2018,2012,2014,2018,2021,2021,2021,2016,2021,2020,2013,2010,2021,2020,2020,2019,2013,2019,2021,2012,2014,2015,2018,2014,2017,2019,2013,2010,2013,2019,2016,2019,2020,2014,2016,2019,2019,2014,2011,2019,2015,2019,2015,2015,2021,2020,2016,2020,2019,2015,2013,2015,2018,2020,2018,2021,2019,2014,2015,2021,2018,2013,2015,2015,2018,2018,2021,2019,2013,2019,2019,2021,2014,2016,2016,2016,2015,2017,2013,2015,2017,2021,2011,2018,2014,2016,2020,2014,2021,2013,2019,2021,2021,2011,2017,2021,2019,2019,2018,2020,2019,2017,2015,2015,2009,2017,2012,2019,2021,2016,2019,2021,2018,2019,2019,2021,2016,2011,2014,2020,2020,2019,2019,2015,2019,2021,2013,2021,2021,2014,2016,2018,2017,2020,2014,2020,2013,2021,2021,2021,2016,2021,2016,2019,2014,2016,2020,2009,2017,2012,2021,2013,2020,2017,2015,2017,2020,2011,2013,2021,2017,2019,2020,2018,2021,2019,2013,2018,2018,2021,2017,2016,2021,2021,2016,2013,2018,2021,2013,2015,2017,2018,2018,2016,2016,2013,2014,2017,2017,2018,2016,2021,2021,2021,2017,2015,2021,2018,2020,2018,2019,2018,2018,2017,2014,2015,2013,2018,2016,2016,2019,2016,2015,2016,2021,2017,2014,2015,2019,2014,2013,2017,2015,2016,2018,2015,2020,2016,2015,2020,2018,2013,2019,2021,2018,2013,2021,2017,2011,2015,2014,2018,2019,2021,2017,2013,2018,2021,2021,2017,2015,2018,2018,2019,2018,2014,2014,2016,2020,2018,2018,2015,2019,2017,2017,2015,2015,2015,2018,2020,2017,2020,2020,2020,2021,2020,2019,2018,2018,2020,2021,2017,2018,2018,2015,2018,2021,2019,2016,2013,2014,2012,2010,2017,2019,2016,2019,2021,2017,2020,2017,2013,2013,2017,2013,2014,2020,2019,2015,2017,2021,2017,2020,2016,2020,2015,2015,2018,2021,2021,2014,2020,2018,2015,2012,2018,2014,2014,2021,2018,2017,2017,2019,2020,2019,2014,2016,2017,2014,2014,2016,2018,2016,2021,2021,2021,2018,2009,2019,2015,2021,2012,2014,2019,2019,2018,2017,2015,2012,2015,2018,2012,2018,2019,2015,2015,2021,2015,2015,2021,2018,2019,2017,2020,2016,2016,2021,2018,2016,2020,2014,2017,2012,2014,2020,2021,2015,2021,2021,2012,2017,2016,2015,2015,2014,2021,2021,2013,2019,2013,2019,2015,2014,2018,2018,2015,2009,2020,2015,2019,2019,2015,2020,2021,2017,2013,2019,2017,2015,2018,2013,2017,2016,2018,2016,2019,2020,2016,2021,2016,2020,2020,2016,2021,2017,2014,2017,2015,2019,2019,2012,2019,2021,2017,2017,2018,2012,2021,2019,2015,2018,2016,2020,2011,2018,2018,2019,2019,2010,2014,2021,2018,2013,2016,2016,2016,2021,2020,2014,2013,2015,2018,2018,2019,2015,2017,2015,2014,2014,2016,2021,2016,2017,2020,2015,2016,2020,2014,2013,2021,2019,2017,2019,2016,2017,2019,2020,2015,2019,2019,2013,2012,2020,2020,2018,2014,2013,2017,2014,2020,2019,2018,2021,2019,2013,2016,2019,2013,2015,2014,2015,2015,2011,2016,2012,2016,2016,2020,2015,2017,2015,2015,2021,2021,2020,2020,2016,2013,2013,2012,2021,2020,2016,2021,2019,2021,2020,2019,2017,2014,2014,2019,2016,2017,2016,2020,2018,2014,2015,2019,2013,2015,2014,2020,2019,2020,2020,2016,2014,2012,2013,2020,2019,2020,2016,2016,2013,2020,2018,2013,2017,2017,2015,2015,2012,2017,2015,2019,2020,2019,2021,2012,2021,2018,2014,2021,2020,2017,2019,2014,2020,2019,2020,2021,2019,2017,2018,2018,2020,2019,2013,2014,2016,2016,2016,2021,2017,2013,2020,2019,2013,2019,2015,2014,2020,2021,2018,2020,2019,2018,2018,2013,2019,2021,2018,2020,2015,2018,2017,2020,2016,2015,2017,2018,2019,2019,2013,2015,2016,2017,2013,2015,2014,2020,2015,2016,2015,2021,2012,2021,2019,2019,2015,2016,2018,2013,2018,2018,2021,2015,2020,2014,2014,2016,2018,2013,2020,2018,2012,2021,2017,2018,2016,2020,2016,2015,2016,2019,2019,2020,2016,2015,2014,2017,2018,2014,2021,2018,2015,2012,2016,2017,2015,2014,2021,2021,2019,2020,2015,2021,2013,2018,2016,2019,2013,2021,2019,2017,2015,2016,2017,2011,2020,2021,2016,2016,2021,2016,2021,2019,2021,2018,2017,2021,2020,2015,2021,2015,2017,2019,2020,2017,2017,2016,2019,2019,2016,2019,2017,2021,2018,2020,2014,2020,2020,2015,2021,2018,2013,2017,2018,2015,2013,2019,2016,2020,2014,2021,2018,2018,2015,2019,2013,2015,2021,2017,2017,2021,2015,2020,2014,2018,2013,2015,2020,2014,2017,2015,2015,2017,2016,2016,2012,2017,2019,2017,2011,2021,2013,2016,2019,2016,2019,2016,2017,2019,2014,2016,2015,2017,2015,2017,2013,2016,2019,2016,2014,2016,2016,2017,2017,2018,2019,2017,2018,2015,2015,2018,2013,2020,2015,2018,2016,2018,2018,2016,2019,2018,2014,2018,2018,2021,2014,2018,2015,2019,2016,2020,2016,2020,2021,2013,2014,2021,2021,2020,2021,2014,2015,2018,2014,2019,2019,2021,2020,2016,2020,2014,2020,2016,2016,2015,2020,2017,2018,2015,2016,2017,2014,2020,2020,2017,2017,2014,2013,2017,2015,2017,2014,2017,2015,2020,2021,2018,2017,2018,2014,2017,2020,2018,2013,2021,2014,2017,2012,2016,2014,2020,2018,2020,2016,2020,2015,2020,2020,2015,2021,2013,2016,2017,2020,2013,2016,2016,2018,2021,2018,2019,2018,2021,2017,2015,2014,2018,2021,2018,2021,2016,2020,2016,2015,2014,2019,2015,2016,2015,2018,2016,2019,2017,2016,2019,2012,2021,2016,2019,2018,2019,2018,2015,2021,2016,2021,2014,2021,2012,2012,2016,2012,2020,2016,2016,2015,2016,2015,2013,2019,2014,2019,2018,2017,2019,2014,2021,2015,2017,2017,2020,2021,2018,2017,2015,2013,2019,2017,2016,2015,2016,2016,2017,2020,2017,2015,2017,2020,2018,2020,2015,2013,2020,2018,2021,2019,2010,2016,2021,2016,2013,2016,2021,2021,2013,2015,2018,2016,2015,2017,2020,2017,2019,2021,2021,2016,2015,2019,2018,2018,2018,2018,2015,2020,2014,2014,2015,2021,2015,2016,2016,2013,2019,2020,2020,2018,2012,2019,2011,2013,2016,2018,2015,2020,2011,2012,2019,2018,2013,2019,2018,2013,2019,2014,2016,2019,2021,2012,2014,2019,2018,2020,2013,2021,2018,2019,2019,2016,2020,2014,2018,2017,2021,2020,2020,2020,2017,2019,2021,2018,2020,2016,2018,2018,2020,2013,2019,2014,2020,2013,2016,2021,2015,2013,2012,2013,2015,2019,2017,2019,2013,2018,2020,2016,2019,2018,2017,2016,2015,2014,2019,2020,2021,2015,2018,2019,2017,2021,2020,2020,2021,2017,2012,2017,2018,2018,2019,2018,2021,2016,2017,2013,2018,2018,2019,2014,2012,2019,2021,2010,2018,2011,2018,2014,2016,2015,2015,2016,2018,2019,2016,2020,2017,2018,2017,2018,2018,2021,2018,2018,2020,2018,2018,2020,2021,2019,2021,2014,2017,2009,2019,2018,2019,2016,2019,2014,2020,2015,2017,2014,2019,2015,2016,2019,2014,2016,2018,2020,2018,2014,2018,2019,2019,2016,2021,2018,2017,2012,2019,2012,2017,2016,2019,2017,2020,2021,2012,2013,2013,2017,2018,2021,2021,2016,2015,2017,2014,2018,2018,2018,2019,2012,2019,2015,2017,2019,2018,2013,2019,2016,2014,2019,2021,2014,2021,2015,2015,2019,2018,2019,2016,2016,2019,2013,2017,2018,2021,2020,2017,2012,2019,2019,2018,2014,2017,2020,2015,2016,2015,2020,2020,2019,2015,2020,2020,2021,2016,2016,2019,2020,2020,2014,2019,2014,2021,2012,2019,2019,2019,2017,2020,2021,2019,2012,2014,2017,2019,2021,2021,2015,2019,2019,2020,2019,2013,2019,2021,2019,2015,2021,2021,2013,2017,2014,2018,2020,2021,2018,2018,2021,2019,2018,2012,2019,2018,2018,2016,2017,2015,2017,2015,2015,2019,2016,2020,2017,2014,2015,2015,2016,2018,2015,2019,2017,2020,2018,2013,2019,2020,2017,2015,2011,2021,2010,2015,2018,2016,2014,2019,2019,2021,2016,2020,2016,2020,2013,2014,2017,2018,2018,2020,2019,2017,2015,2015,2017,2016,2020,2016,2018,2016,2016,2020,2019,2016,2019,2021,2016,2020,2021,2013,2021,2018,2017,2019,2015,2016,2016,2018,2015,2020,2014,2018,2021,2020,2017,2021,2015,2019,2019,2018,2019,2020,2019,2021,2015,2014,2020,2017,2020,2020,2018,2016,2020,2014,2014,2015,2015,2020,2015,2019,2015,2014,2016,2021,2021,2017,2018,2015,2017,2016,2013,2017,2018,2017,2014,2019,2019,2013,2018,2011,2018,2018,2016,2018,2016,2017,2020,2019,2020,2021,2017,2021,2020,2018,2014,2019,2015,2014,2016,2014,2014,2017,2018,2021,2014,2019,2014,2017,2021,2020,2017,2016,2016,2013,2019,2017,2017,2021,2013,2018,2015,2016,2017,2018,2021,2019,2020,2015,2019,2019,2016,2016,2021,2019,2017,2017,2013,2014,2016,2019,2016,2015,2015,2017,2015,2019,2017,2015,2016,2020,2014,2021,2013,2019,2019,2009,2018,2018,2015,2019,2019,2011,2015,2019,2019,2019,2014,2021,2020,2018,2018,2016,2016,2016,2016,2017,2017,2016,2014,2016,2019,2017,2017,2021,2015,2016,2016,2017,2021,2017,2016,2021,2020,2011,2016,2019,2016,2016,2018,2012,2016,2014,2016,2018,2018,2019,2014,2014,2019,2020,2013,2013,2018,2015,2018,2014,2009,2014,2018,2015,2019,2018,2020,2017,2017,2015,2018,2017,2012,2021,2012,2013,2020,2016,2017,2019,2019,2016,2015,2017,2021,2018,2016,2014,2018,2017,2020,2016,2015,2018,2015,2017,2014,2019,2016,2016,2019,2016,2016,2016,2014,2014,2019,2015,2017,2015,2021,2013,2016,2017,2021,2014,2014,2020,2021,2016,2017,2018,2014,2014,2018,2019,2013,2015,2017,2014,2019,2014,2014,2018,2018,2015,2020,2015,2014,2019,2018,2015,2013,2020,2014,2014,2019,2014,2019,2016,2018,2019,2012,2020,2015,2018,2015,2018,2017,2018,2017,2020,2012,2017,2016,2017,2017,2013,2016,2016,2017,2012,2014,2011,2015,2019,2016,2013,2019,2020,2018,2014,2019,2014,2018,2021,2011,2021,2018,2013,2021,2016,2018,2019,2018,2018,2016,2016,2016,2015,2016,2015,2014,2014,2016,2017,2017,2013,2016,2015,2013,2013,2014,2013,2021,2014,2014,2021,2013,2015,2013,2018,2018,2014,2019,2014,2019,2018,2013,2018,2017,2013,2019,2015,2016,2019,2014,2017,2016,2014,2014,2021,2013,2016,2011,2014,2016,2017,2012,2015,2013,2019,2016,2020,2016,2016,2015,2017,2019,2011,2021,2017,2021,2021,2012,2015,2021,2017,2012,2016,2019,2014,2015,2015,2017,2016,2015,2014,2014,2012,2015,2021,2016,2015,2015,2016,2015,2014,2017,2014,2013,2014,2014,2018,2017,2016,2021,2019,2021,2016,2016,2012,2013,2017,2014,2015,2015,2016,2016,2017,2017,2020,2017,2020,2016,2020,2021,2015,2014,2016,2021,2014,2012,2014,2017,2012,2017,2015,2016,2021,2016,2014,2017,2016,2021,2015,2020,2012,2015,2017,2020,2014,2018,2019,2019,2014,2013,2014,2016,2014,2014,2017,2015,2016,2018,2016,2014,2015,2017,2016,2015,2013,2014,2015,2014,2014,2013,2014,2013,2017,2015,2013,2016,2010,2018,2020,2015,2016,2016,2012,2015,2021,2013,2016,2015,2016,2017,2014,2015,2012,2015,2018,2014,2014,2016,2018,2018,2014,2017,2014,2016,2013,2015,2014,2020,2014,2018,2016,2015,2012,2017,2011,2016,2014,2015,2016,2013,2016,2014,2014,2017,2013,2014,2015,2017,2013,2012,2016,2015,2016,2013,2021,2015,2013,2015,2016,2016,2020,2011,2015,2016,2013,2018,2015,2014,2015,2014,2013,2012,2016,2016,2013,2016,2016,2021,2013,2014,2014,2015,2016,2016,2014,2013,2018,2015,2012,2017,2012,2016,2013,2020,2016,2014,2017,2015,2017,2014,2015,2016,2014,2017,2014,2014,2015,2016,2018,2014,2017,2014,2012,2016,2016,2014,2012,2014,2014,2012,2013,2016,2011,2014,2015,2018,2021,2014,2014,2015,2019,2012,2016,2020,2015,2015,2020,2016,2017,2015,2012,2015,2018,2013,2011,2020,2017,2013,2017,2014,2018,2016,2015,2015,2015,2013,2019,2014,2017,2014,2016,2016,2017,2019,2013,2014,2013,2013,2019,2014,2014,2013,2012,2020,2012,2012,2015,2012,2013,2013,2018,2015,2018,2017,2013,2016,2014,2015,2017,2015,2013,2014,2015,2014,2012,2014,2013,2015,2015,2014,2013,2016,2020,2014,2016,2020,2017,2015,2013,2013,2014,2017,2012,2013,2015,2016],\"x0\":\" \",\"xaxis\":\"x\",\"y\":[8.49672,8.42267,8.14423,8.05873,7.98717,7.89104,7.88485,7.81102,7.804790000000001,7.79945,7.77395,7.75348,7.72,7.71921,7.71731,7.69886,7.68516,7.68424,7.66863,7.66589,7.58451,7.58394,7.55489,7.54607,7.52625,7.52604,7.51823,7.4863,7.47185,7.46931,7.46893,7.4429,7.4391,7.43259,7.43257,7.39681,7.37794,7.37676,7.36814,7.36759,7.36313,7.36127,7.36046,7.35461,7.34377,7.33979,7.31812,7.29378,7.28919,7.28851,7.28311,7.28186,7.26515,7.26007,7.25682,7.25653,7.24371,7.22405,7.20245,7.19927,7.19191,7.18272,7.17694,7.16561,7.16554,7.16454,7.14725,7.14237,7.11366,7.11287,7.1083,7.10663,7.1065,7.0887,7.07407,7.06936,7.06838,7.05116,7.04265,7.03609,7.03266,7.03246,7.03091,7.01928,7.00479,7.00057,6.98765,6.98087,6.97899,6.97265,6.95948,6.95849,6.95766,6.95634,6.94897,6.94865,6.94711,6.93878,6.93765,6.93559,6.91322,6.90754,6.89491,6.89243,6.88746,6.88689,6.88532,6.88482,6.87669,6.87376,6.86589,6.86464,6.86314,6.85871,6.84571,6.84435,6.83429,6.83267,6.829,6.82764,6.82646,6.81464,6.80337,6.80188,6.80061,6.79656,6.7920300000000005,6.78685,6.78268,6.77638,6.77447,6.77088,6.76951,6.76766,6.764,6.76073,6.75907,6.75686,6.74719,6.74024,6.7349,6.72839,6.7264800000000005,6.72303,6.72257,6.72206,6.71815,6.7121,6.69794,6.69793,6.69779,6.69624,6.69488,6.694,6.6933,6.69263,6.6837,6.67485,6.6736,6.67293,6.66598,6.66425,6.66424,6.66343,6.65208,6.64472,6.64327,6.64257,6.63641,6.63584,6.63136,6.63113,6.6306,6.63044,6.63013,6.62994,6.62825,6.61794,6.61363,6.61219,6.61141,6.60869,6.60792,6.60431,6.59994,6.59626,6.59545,6.59164,6.58677,6.5852900000000005,6.582,6.582,6.57866,6.57725,6.57649,6.56956,6.56173,6.56141,6.55912,6.55581,6.55424,6.54861,6.54743,6.54526,6.5444,6.53965,6.53955,6.53877,6.53826,6.53428,6.52826,6.52465,6.52348,6.521,6.51351,6.51002,6.50999,6.50886,6.5065100000000005,6.50201,6.49949,6.49893,6.49853,6.49761,6.48734,6.4863,6.48409,6.47781,6.47585,6.4714,6.46923,6.46609,6.46321,6.45777,6.45609,6.45314,6.45307,6.45188,6.44881,6.44779,6.44649,6.4453700000000005,6.44491,6.4429,6.44197,6.43365,6.43275,6.42395,6.42166,6.41645,6.4164,6.41421,6.41156,6.40994,6.4046,6.40262,6.40216,6.40035,6.39326,6.3919,6.39162,6.38805,6.38774,6.38766,6.38739,6.3854,6.38563,6.38052,6.37693,6.37526,6.37467,6.37398,6.36819,6.36707,6.36623,6.36552,6.36425,6.36165,6.35843,6.35825,6.3517,6.34917,6.34838,6.33292,6.33289,6.32532,6.32453,6.3154,6.31445,6.31416,6.31375,6.31353,6.3068100000000005,6.3064,6.30202,6.30177,6.29984,6.2932,6.29284,6.29164,6.28933,6.28931,6.28922,6.28859,6.28843,6.28708,6.28453,6.28111,6.28082,6.27895,6.27858,6.27328,6.27318,6.27232,6.26648,6.26539,6.26394,6.26384,6.26109,6.26065,6.25585,6.25135,6.24993,6.2455,6.24536,6.24358,6.24297,6.24278,6.24029,6.23897,6.23493,6.23444,6.23358,6.2313,6.2272,6.22635,6.22512,6.21914,6.21736,6.21615,6.2156,6.2155,6.21443,6.21369,6.21295,6.21045,6.20885,6.20924,6.2073,6.20649,6.20599,6.20082,6.19898,6.19682,6.19667,6.19644,6.19542,6.19509,6.19489,6.19183,6.18719,6.186,6.18536,6.18261,6.18104,6.18052,6.18022,6.17878,6.17832,6.17614,6.17486,6.16924,6.16697,6.16607,6.16585,6.16444,6.16119,6.16114,6.15983,6.15828,6.15764,6.15757,6.15714,6.15658,6.15639,6.15313,6.15165,6.15035,6.15009,6.14956,6.14819,6.14663,6.14607,6.1425,6.14231,6.14194,6.14118,6.14013,6.14001,6.13658,6.13647,6.13174,6.1307,6.13057,6.12855,6.12718,6.12649,6.12572,6.12258,6.12094,6.12092,6.1187,6.1185,6.11847,6.11586,6.11489,6.11399,6.11377,6.1127,6.11103,6.11031,6.10956,6.10734,6.10711,6.10011,6.09892,6.09763,6.09742,6.09679,6.09512,6.09437,6.09308,6.09272,6.09111,6.09031,6.08929,6.0856,6.08477,6.08381,6.08253,6.08215,6.08158,6.08148,6.08077,6.07881,6.07456,6.07409,6.07344,6.06928,6.06525,6.06517,6.06134,6.06096,6.0599,6.05977,6.05877,6.05736,6.05668,6.05537,6.05337,6.05206,6.05183,6.05125,6.05024,6.04896,6.0471,6.04601,6.04427,6.04116,6.04068,6.03925,6.03876,6.03781,6.03758,6.0336,6.03295,6.03269,6.03256,6.03251,6.03188,6.03165,6.03101,6.03095,6.02893,6.02785,6.02638,6.02626,6.02554,6.02477,6.02378,6.02181,6.02064,6.02058,6.01987,6.01979,6.01969,6.01883,6.01846,6.0144,6.01134,6.01127,6.01006,6.00971,6.0078,6.00757,6.00685,6.0065,6.00519,6.00488,6.00335,6.00144,6.00098,6.00034,5.99965,5.99728,5.99685,5.99475,5.99391,5.99334,5.99245,5.99204,5.9902,5.98983,5.98903,5.98803,5.98735,5.98609,5.9862,5.98551,5.98511,5.98315,5.98036,5.97993,5.97895,5.97607,5.975820000000001,5.97394,5.97382,5.97054,5.96925,5.96923,5.96737,5.96719,5.96568,5.96392,5.96323,5.96314,5.96205,5.96161,5.9613,5.95865,5.95666,5.95478,5.95363,5.95264,5.95256,5.95099,5.95031,5.95001,5.94933,5.94864,5.94663,5.94644,5.9398800000000005,5.93846,5.93844,5.93782,5.9371,5.93663,5.93412,5.93069,5.93043,5.92969,5.92961,5.92954,5.92911,5.92883,5.92838,5.92791,5.92714,5.92651,5.92399,5.92362,5.92318,5.92258,5.92181,5.92076,5.9188600000000005,5.91859,5.91859,5.91794,5.9166,5.91658,5.91651,5.91636,5.91621,5.91602,5.91555,5.91429,5.91405,5.91348,5.91289,5.91232,5.91189,5.91138,5.91022,5.90892,5.9087,5.90779,5.90776,5.90767,5.90765,5.9073,5.90616,5.90571,5.90435,5.9027,5.90234,5.90199,5.90187,5.90036,5.9000900000000005,5.89979,5.89831,5.89799,5.89707,5.89669,5.89623,5.89276,5.88987,5.88979,5.88964,5.88945,5.88934,5.8889,5.8870000000000005,5.88632,5.88602,5.88602,5.88567,5.88356,5.88324,5.8813200000000005,5.8809000000000005,5.88011,5.87967,5.87967,5.87955,5.87909,5.8787,5.87853,5.87797,5.87467,5.87441,5.87144,5.87122,5.87088,5.86999,5.86971,5.86936,5.869120000000001,5.86843,5.86798,5.86694,5.8657900000000005,5.86533,5.86516,5.86476,5.86379,5.86278,5.86248,5.86234,5.86189,5.86156,5.86047,5.85988,5.85803,5.85783,5.85699,5.85624,5.85616,5.85602,5.85569,5.8555600000000005,5.85549,5.85537,5.85475,5.85232,5.85217,5.85214,5.85188,5.85126,5.8511,5.85019,5.84723,5.847,5.84607,5.84598,5.84522,5.8451,5.84406,5.844,5.84379,5.84365,5.84271,5.84266,5.84145,5.84067,5.839,5.83788,5.83772,5.83662,5.83596,5.83398,5.8339300000000005,5.83378,5.83351,5.83343,5.8328500000000005,5.83253,5.83191,5.83182,5.82992,5.82894,5.82837,5.82791,5.8279,5.82669,5.8261,5.82604,5.82589,5.82516,5.8251100000000005,5.82501,5.82414,5.8235,5.82223,5.82129,5.82106,5.82043,5.82041,5.82007,5.81925,5.81875,5.81827,5.81626,5.81515,5.81484,5.81481,5.8148,5.81446,5.81406,5.81264,5.8116,5.81129,5.81096,5.80989,5.80948,5.80941,5.80927,5.80921,5.8088,5.80749,5.80714,5.80701,5.80615,5.80607,5.80603,5.80504,5.80485,5.80481,5.80467,5.80381,5.80378,5.80371,5.80284,5.80033,5.79992,5.79872,5.79869,5.79861,5.7985,5.79738,5.79718,5.79679,5.7953,5.79476,5.79472,5.79237,5.79054,5.78918,5.7887900000000005,5.78874,5.78873,5.78835,5.78796,5.78771,5.78854,5.78664,5.78487,5.78482,5.78313,5.7828800000000005,5.78199,5.78053,5.78034,5.778420000000001,5.77752,5.77749,5.77735,5.7761700000000005,5.77557,5.77489,5.77485,5.77596,5.773540000000001,5.77297,5.77295,5.77269,5.77268,5.77235,5.7725100000000005,5.77194,5.77049,5.77043,5.77044,5.77014,5.76938,5.7694,5.76898,5.76931,5.76854,5.76855,5.76795,5.7677700000000005,5.7677700000000005,5.76726,5.76722,5.7672,5.76703,5.76646,5.76622,5.76617,5.76578,5.76522,5.76516,5.76502,5.76419,5.76332,5.76309,5.76298,5.7618,5.76079,5.7592300000000005,5.75881,5.75851,5.75723,5.75703,5.75687,5.7567,5.7564,5.75582,5.75539,5.75442,5.75141,5.75127,5.75119,5.75111,5.75072,5.75006,5.74974,5.74926,5.74924,5.74903,5.749,5.74851,5.7485,5.7481,5.74758,5.74756,5.74679,5.74665,5.74644,5.74606,5.74504,5.74388,5.74467,5.744,5.74347,5.74308,5.7421500000000005,5.74185,5.74042,5.73956,5.73858,5.73824,5.73796,5.73668,5.73714,5.7369900000000005,5.73636,5.73553,5.735,5.73466,5.73327,5.73317,5.73236,5.73233,5.73184,5.73139,5.73084,5.73082,5.73081,5.73078,5.73066,5.73059,5.72931,5.7290600000000005,5.72726,5.72711,5.72655,5.72527,5.72473,5.72447,5.7244600000000005,5.7243200000000005,5.72409,5.7228200000000005,5.72253,5.72245,5.72219,5.72163,5.72135,5.72108,5.72082,5.72074,5.72043,5.72008,5.71941,5.71837,5.71782,5.71755,5.71696,5.71675,5.71666,5.71599,5.715920000000001,5.71523,5.71488,5.71324,5.71251,5.71235,5.71185,5.71131,5.71104,5.71061,5.71031,5.71018,5.70955,5.7095400000000005,5.70788,5.70738,5.70702,5.70682,5.70628,5.70496,5.70462,5.70454,5.70435,5.70401,5.7037700000000005,5.7037,5.70348,5.70318,5.70299,5.7028300000000005,5.70276,5.702,5.70182,5.70156,5.70111,5.70004,5.6996,5.69957,5.69954,5.69918,5.6982800000000005,5.6980900000000005,5.69758,5.6974800000000005,5.69728,5.69674,5.69641,5.6947600000000005,5.69463,5.6939,5.69353,5.69348,5.69346,5.69227,5.69289,5.69174,5.69106,5.69086,5.68984,5.68916,5.6891,5.68881,5.6888000000000005,5.6887,5.6879,5.68743,5.68735,5.68704,5.68691,5.68687,5.68637,5.68552,5.68542,5.68492,5.68449,5.68389,5.68349,5.68342,5.68335,5.68269,5.68215,5.68188,5.68167,5.68161,5.6816,5.68129,5.68115,5.68075,5.68068,5.68053,5.67953,5.6795,5.67943,5.67941,5.67935,5.67934,5.6791,5.67836,5.67835,5.67832,5.67802,5.67745,5.67723,5.67657,5.6765,5.67582,5.67528,5.67513,5.67444,5.67394,5.67389,5.6737,5.67336,5.67317,5.67305,5.67229,5.67198,5.67167,5.6712,5.6693,5.66918,5.66777,5.6677,5.66769,5.6675,5.66737,5.66714,5.66687,5.66678,5.6660900000000005,5.66584,5.66583,5.66563,5.664,5.66387,5.66332,5.66299,5.6628,5.66271,5.66226,5.66139,5.66124,5.66099,5.66081,5.66019,5.66001,5.6599900000000005,5.65972,5.65916,5.6592,5.65894,5.65859,5.65796,5.65787,5.65785,5.65784,5.65749,5.65736,5.65723,5.65648,5.65634,5.65522,5.65408,5.65462,5.65396,5.6546,5.65453,5.65443,5.65429,5.6538,5.65403,5.6536100000000005,5.65354,5.65337,5.65332,5.6531,5.65255,5.65229,5.65225,5.65212,5.6517,5.65119,5.65102,5.65079,5.65072,5.64984,5.64955,5.6494,5.64904,5.64879,5.64823,5.64821,5.6476500000000005,5.6474,5.64725,5.6472,5.64692,5.64676,5.6465700000000005,5.64638,5.64652,5.64648,5.64542,5.64523,5.64506,5.64462,5.64442,5.64433,5.64431,5.64421,5.64406,5.6437,5.64351,5.6433800000000005,5.64336,5.64332,5.64306,5.64245,5.64244,5.64189,5.64189,5.64181,5.64184,5.6414,5.64133,5.64154,5.64138,5.64079,5.6406,5.64028,5.63976,5.63973,5.6395800000000005,5.6395,5.63914,5.63906,5.63895,5.63879,5.6386400000000005,5.63838,5.63816,5.63783,5.6376100000000005,5.63724,5.63711,5.63685,5.63671,5.63663,5.63661,5.63652,5.6363,5.63597,5.63586,5.63558,5.63553,5.63532,5.63511,5.63449,5.63424,5.63411,5.63405,5.63403,5.634,5.6336200000000005,5.63359,5.63304,5.63299,5.63278,5.6327,5.63164,5.63015,5.62993,5.62976,5.62958,5.62955,5.62953,5.62913,5.6287,5.62841,5.62818,5.62809,5.62793,5.62783,5.62774,5.62722,5.62683,5.62681,5.6268,5.6268,5.62673,5.62668,5.62611,5.62598,5.62593,5.62582,5.62572,5.62561,5.62558,5.62509,5.62509,5.62495,5.6249400000000005,5.62488,5.62483,5.62482,5.62477,5.6247,5.62465,5.62438,5.62413,5.62411,5.62356,5.62237,5.62226,5.62217,5.62202,5.62165,5.6215,5.62145,5.62138,5.62073,5.6206,5.62046,5.61968,5.61989,5.6200600000000005,5.61963,5.62002,5.61957,5.61934,5.61955,5.61888,5.61816,5.61833,5.61813,5.61803,5.6178,5.6177,5.61746,5.61727,5.61721,5.61706,5.61696,5.61681,5.61672,5.61669,5.61659,5.61647,5.61639,5.61628,5.61622,5.61599,5.61585,5.61576,5.61569,5.61566,5.61558,5.61555,5.61545,5.61522,5.6151800000000005,5.61512,5.61493,5.61485,5.61467,5.61462,5.61411,5.61407,5.61398,5.61397,5.61397,5.61392,5.61383,5.61301,5.61285,5.61261,5.61201,5.6116600000000005,5.6115200000000005,5.61151,5.61141,5.61124,5.61112,5.611,5.61099,5.6107,5.61065,5.61062,5.61042,5.61041,5.61032,5.61013,5.6098,5.60889,5.60884,5.60876,5.60875,5.6085,5.60839,5.60837,5.60813,5.60803,5.60803,5.60784,5.60783,5.60781,5.6077,5.60765,5.60762,5.6073900000000005,5.60723,5.60717,5.60716,5.60709,5.60644,5.60638,5.60619,5.60618,5.60602,5.60553,5.60529,5.60482,5.60479,5.60429,5.60425,5.6042000000000005,5.60384,5.60374,5.60351,5.60337,5.60296,5.60281,5.60259,5.60217,5.6019,5.60147,5.60107,5.60107,5.60106,5.60095,5.60081,5.60073,5.6005400000000005,5.60042,5.60039,5.60029,5.60017,5.59999,5.59998,5.59994,5.59981,5.59976,5.59956,5.59945,5.59927,5.59901,5.59867,5.59722,5.59706,5.59696,5.59677,5.59662,5.59655,5.59636,5.59579,5.59558,5.59557,5.59554,5.59541,5.59486,5.5947700000000005,5.5947,5.59468,5.5941,5.59409,5.59407,5.59388,5.5938300000000005,5.5937,5.5937,5.5935,5.5932,5.5932,5.59297,5.59238,5.59216,5.59203,5.59193,5.59175,5.59158,5.59155,5.59148,5.59144,5.5913900000000005,5.59127,5.59115,5.59108,5.59107,5.59107,5.59082,5.59057,5.59031,5.59016,5.59002,5.58987,5.58981,5.58943,5.58929,5.58918,5.58897,5.58877,5.58875,5.58874,5.58873,5.58846,5.58837,5.58823,5.58817,5.58802,5.58786,5.58767,5.58765,5.58754,5.5875,5.58738,5.58731,5.58695,5.58695,5.58692,5.58675,5.58662,5.58661,5.58658,5.58643,5.58633,5.58632,5.58617,5.58616,5.58593,5.58591,5.58591,5.58583,5.58583,5.58566,5.58539,5.58558,5.58551,5.58517,5.58509,5.58466,5.58458,5.58457,5.58453,5.58401,5.58386,5.5837,5.58368,5.58352,5.5835,5.58347,5.58342,5.58334,5.5833200000000005,5.58325,5.5832,5.58307,5.583,5.58296,5.58284,5.58253,5.58247,5.58243,5.5822400000000005,5.58219,5.58217,5.58189,5.58181,5.58153,5.58124,5.58122,5.5812,5.58119,5.581,5.58078,5.5807400000000005,5.58069,5.5806,5.58029,5.5802,5.58006,5.57988,5.57979,5.57971,5.57955,5.57934,5.5792,5.57912,5.57892,5.5789100000000005,5.57882,5.57874,5.57864,5.57839,5.57811,5.57798,5.57764,5.5774,5.57738,5.57731,5.57705,5.57703,5.577,5.5769,5.57677,5.5764700000000005,5.57623,5.57619,5.57615,5.57605,5.57601,5.57587,5.57577,5.57566,5.57563,5.5756,5.57556,5.57549,5.57548,5.57519,5.57512,5.57457,5.57452,5.5743,5.5741,5.57404,5.5740300000000005,5.57387,5.57399,5.57365,5.57372,5.57368,5.57357,5.57348,5.57333,5.57321,5.57311,5.57287,5.57279,5.57255,5.5724800000000005,5.57224,5.57223,5.57209,5.57203,5.57189,5.57169,5.57163,5.57157,5.57155,5.57137,5.5712,5.57119,5.57101,5.57097,5.57071,5.57069,5.57062,5.57061,5.5706,5.57049,5.57031,5.57013,5.57011,5.57005,5.56992,5.56982,5.56972,5.56967,5.5696,5.56957,5.56943,5.56926,5.56907,5.56896,5.56883,5.5688,5.56877,5.56865,5.56859,5.56819,5.56803,5.568,5.56753,5.5673,5.56711,5.56688,5.56677,5.56651,5.5664,5.56638,5.56625,5.56625,5.56618,5.56609,5.566,5.56598,5.56584,5.56565,5.5655,5.5654900000000005,5.56526,5.56522,5.5652,5.56472,5.56465,5.56458,5.56457,5.56454,5.56435,5.56434,5.56424,5.56419,5.56418,5.56415,5.56401,5.56393,5.56388,5.56385,5.56379,5.56357,5.5635,5.5634,5.56338,5.56322,5.56322,5.56312,5.56297,5.56292,5.56285,5.56266,5.56242,5.56212,5.56205,5.56185,5.56185,5.56173,5.56166,5.56153,5.56143,5.56127,5.5612200000000005,5.56101,5.56088,5.56086,5.56084,5.56077,5.56073,5.56067,5.5605,5.56046,5.56033,5.56033,5.56006,5.55988,5.55987,5.55972,5.55957,5.55956,5.55945,5.55944,5.55915,5.55913,5.55888,5.55879,5.55871,5.55869,5.55853,5.55848,5.55816,5.5580300000000005,5.55789,5.55761,5.55758,5.55755,5.5575,5.55748,5.55744,5.55741,5.55732,5.55706,5.55692,5.55686,5.5567,5.55669,5.55669,5.55661,5.55649,5.55644,5.5564,5.55631,5.5563,5.5563,5.55624,5.55606,5.55592,5.55589,5.5558700000000005,5.55568,5.55562,5.55556,5.55548,5.55541,5.55531,5.55531,5.55525,5.55522,5.55519,5.55506,5.55489,5.55471,5.5547,5.55469,5.55468,5.55461,5.55456,5.5545100000000005,5.55449,5.55445,5.5543700000000005,5.55407,5.55401,5.55396,5.5539000000000005,5.5537600000000005,5.55319,5.55305,5.55299,5.55292,5.55275,5.55261,5.55248,5.55247,5.55233,5.55191,5.55186,5.55179,5.55178,5.55163,5.55156,5.55135,5.55131,5.55131,5.55127,5.55116,5.55115,5.55105,5.55097,5.55053,5.55045,5.55016,5.55011,5.55005,5.54984,5.54981,5.54967,5.54942,5.54915,5.54911,5.54903,5.5490200000000005,5.54893,5.54892,5.5488800000000005,5.54884,5.54863,5.54866,5.54859,5.54851,5.54837,5.5482700000000005,5.54824,5.54814,5.54812,5.54806,5.54803,5.54782,5.54767,5.54763,5.5475200000000005,5.5475200000000005,5.54751,5.54746,5.54708,5.547,5.54698,5.54697,5.54694,5.54688,5.54677,5.54669,5.54657,5.54642,5.54637,5.54629,5.54612,5.54598,5.54574,5.54559,5.54556,5.54553,5.54547,5.54539,5.54521,5.54521,5.5451,5.54509,5.54507,5.54502,5.54493,5.54473,5.54457,5.54452,5.54449,5.54446,5.54443,5.54422,5.54416,5.54411,5.54396,5.54382,5.54371,5.5436700000000005,5.54362,5.54349,5.54342,5.54341,5.54333,5.54326,5.54323,5.54321,5.54308,5.54303,5.543,5.54287,5.54283,5.5427800000000005,5.54275,5.54272,5.54261,5.54258,5.5425,5.54242,5.54239,5.54238,5.54237,5.54219,5.54196,5.54181,5.54177,5.54153,5.54151,5.54106,5.54096,5.54089,5.54077,5.54088,5.54072,5.54065,5.54045,5.54042,5.54025,5.54021,5.54014,5.54002,5.54001,5.54001,5.53972,5.5397,5.53967,5.5396,5.53947,5.53945,5.53943,5.53942,5.53939,5.53923,5.53918,5.53893,5.53882,5.53879,5.53872,5.53872,5.5387,5.5386,5.53864,5.53854,5.53848,5.53843,5.5385,5.5383700000000005,5.53841,5.53827,5.53824,5.53815,5.5380400000000005,5.53796,5.53794,5.53785,5.53766,5.53756,5.53753,5.53744,5.53744,5.5374,5.5372,5.53712,5.53708,5.53707,5.53698,5.53694,5.53691,5.5368200000000005,5.5368200000000005,5.53674,5.53665,5.53665,5.5365400000000005,5.53651,5.5365,5.53649,5.53639,5.53636,5.53619,5.53603,5.53599,5.53599,5.53597,5.53589,5.53575,5.53571,5.53562,5.53554,5.53561,5.53557,5.53552,5.5354600000000005,5.53541,5.5354,5.53526,5.53515,5.53515,5.53512,5.53509,5.53508,5.53507,5.53506,5.53505,5.53494,5.5348500000000005,5.53481,5.53475,5.53473,5.5347,5.53465,5.53461,5.53456,5.53451,5.53443,5.5344,5.5344,5.53427,5.53425,5.53417,5.53409,5.53394,5.53391,5.53366,5.53382,5.53379,5.53374,5.53372,5.53362,5.53358,5.53353,5.53357,5.53354,5.5335,5.53336,5.53315,5.53313,5.53306,5.53303,5.533,5.53296,5.53289,5.5328,5.53272,5.53246,5.53231,5.53223,5.53217,5.53208,5.53205,5.532,5.532,5.53198,5.53196,5.5319400000000005,5.53193,5.53168,5.53161,5.53157,5.53154,5.53132,5.53131,5.53131,5.5313,5.5313,5.5313,5.53123,5.53118,5.53113,5.53112,5.53111,5.53111,5.53102,5.53095,5.53093,5.53088,5.53082,5.53078,5.53074,5.5307200000000005,5.53068,5.53067,5.53062,5.53054,5.53053,5.53046,5.5304400000000005,5.53042,5.53042,5.53022,5.53006,5.53005,5.53003,5.53,5.52995,5.52994,5.52989,5.52988,5.52988,5.52988,5.52973,5.52963,5.52958,5.52951,5.52935,5.52933,5.52921,5.5292,5.5292,5.52916,5.52914,5.52909,5.52895,5.52887,5.52887,5.52883,5.5288,5.52876,5.52869,5.52862,5.52855,5.52843,5.52833,5.52833,5.5283,5.52827,5.5282,5.5281,5.52807,5.52798,5.52789,5.52788,5.5278,5.52774,5.52769,5.52769,5.52738,5.52737,5.52736,5.52725,5.52715,5.52703,5.52703,5.52677,5.52675,5.5267,5.52669,5.52668,5.52667,5.52659,5.52658,5.52654,5.52654,5.52653,5.52643,5.52638,5.5263100000000005,5.5263,5.5263,5.52626,5.52625,5.52622,5.52622,5.5262,5.52601,5.52611,5.52593,5.52587,5.5258400000000005,5.52573,5.5257000000000005,5.52567,5.52551,5.52563,5.5256,5.52555,5.52554,5.52544,5.52543,5.52539,5.52531,5.52538,5.52535,5.52529,5.52528,5.5251,5.52507,5.52502,5.52499,5.52505,5.52493,5.52494,5.52485,5.52493,5.5248,5.52478,5.52476,5.52475,5.52465,5.52445,5.52444,5.52438,5.52441,5.52436,5.52428,5.52428,5.52427,5.52427,5.52426,5.52426,5.52425,5.52408,5.52403,5.52403,5.524,5.52394,5.52388,5.5238700000000005,5.52377,5.52367,5.52361,5.52353,5.52353,5.52343,5.52334,5.52334,5.52327,5.5232600000000005,5.52329,5.52329,5.52328,5.5231200000000005,5.52297,5.52311,5.52308,5.52308,5.52296,5.52288,5.5227,5.52266,5.52264,5.52262,5.52257,5.52256,5.52254,5.5225,5.52241,5.52224,5.52209,5.52207,5.52205,5.5220400000000005,5.52194,5.52185,5.52179,5.52161,5.52158,5.52156,5.5215700000000005,5.52153,5.52148,5.52146,5.52144,5.5212900000000005,5.52121,5.5212,5.52113,5.5211,5.52098,5.52097,5.5209600000000005,5.52102,5.52085,5.52084,5.52072,5.52071,5.52062,5.52055,5.52039,5.52029,5.52026,5.52031,5.52024,5.5199,5.51984,5.51982,5.51964,5.51964,5.51963,5.5194600000000005,5.51933,5.51915,5.51906,5.51905,5.51893,5.5189,5.51888,5.5187,5.51874,5.51863,5.5186,5.51857,5.51854,5.51812,5.51799,5.51798,5.51786,5.51794,5.51792,5.51781,5.51767,5.51771,5.51743,5.51764,5.51759,5.51754,5.51754,5.51747,5.51744,5.51738,5.51737,5.51736,5.51729,5.51711,5.51704,5.5170200000000005,5.517,5.5171,5.51696,5.51694,5.51693,5.51692,5.51686,5.51682,5.51681,5.51678,5.5166900000000005,5.51658,5.51657,5.5165500000000005,5.51649,5.5165500000000005,5.51634,5.5162,5.5159400000000005,5.51587,5.5159400000000005,5.51583,5.51581,5.5158000000000005,5.51579,5.51573,5.5157,5.51559,5.51552,5.51551,5.5155,5.51549,5.51544,5.51538,5.51536,5.51534,5.5153300000000005,5.51529,5.51521,5.51511,5.51507,5.51504,5.51499,5.51497,5.51496,5.51495,5.51494,5.51492,5.51475,5.51474,5.51474,5.51474,5.51463,5.51456,5.51451,5.51446,5.51442,5.51438,5.51435,5.51433,5.51424,5.51413,5.51412,5.5141100000000005,5.5141,5.51409,5.51408,5.51405,5.51399,5.51395,5.51393,5.51386,5.51382,5.51382,5.51368,5.51365,5.51363,5.51363,5.51362,5.51361,5.5136,5.5136,5.51358,5.5135000000000005,5.51348,5.51347,5.51341,5.51341,5.5133600000000005,5.51329,5.51329,5.5132200000000005,5.51321,5.51317,5.51316,5.513,5.513,5.51299,5.513,5.51292,5.51287,5.51281,5.51271,5.51262,5.51262,5.51259,5.5125,5.51247,5.51246,5.51231,5.5123,5.51224,5.51236,5.51219,5.51215,5.51206,5.51195,5.51194,5.51191,5.51189,5.51187,5.51187,5.51183,5.51181,5.5118,5.51168,5.51161,5.51158,5.5115300000000005,5.51151,5.51131,5.51129,5.51134,5.51117,5.51086,5.51085,5.51084,5.51083,5.51077,5.51076,5.51071,5.51066,5.51061,5.51043,5.51028,5.5102,5.51011,5.51004,5.50983,5.50982,5.50979,5.50975,5.50975,5.50968,5.50967,5.50962,5.5096,5.50953,5.50951,5.50947,5.50944,5.50939,5.50934,5.5092300000000005,5.5092,5.50919,5.50897,5.50897,5.50881,5.50886,5.50873,5.50866,5.50857,5.50879,5.50855,5.50847,5.5083400000000005,5.50832,5.50829,5.50812,5.50785,5.50782,5.5078,5.50774,5.50764,5.50764,5.50762,5.50761,5.50753,5.50746,5.5074000000000005,5.50736,5.50732,5.50729,5.50725,5.50722,5.50722,5.507,5.50698,5.50697,5.50697,5.50682,5.50675,5.50666,5.5066500000000005,5.50664,5.50664,5.50659,5.50649,5.50641,5.50631,5.5063,5.50602,5.50596,5.50596,5.50596,5.50592,5.50586,5.50575,5.50575,5.50558,5.50549,5.50545,5.50538,5.5052900000000005,5.50528,5.50527,5.50527,5.50479,5.50471,5.5047,5.50463,5.50461,5.50461,5.5045,5.50457,5.50444,5.50419,5.50418,5.50405,5.50386,5.50385,5.50384,5.50383,5.50368,5.50352,5.50331,5.50327,5.50295,5.50297,5.5027,5.50269,5.50268,5.50267,5.50267,5.50263,5.50246,5.50239,5.50237,5.50236,5.50229,5.5022400000000005,5.5022,5.50225,5.50209,5.50205,5.50186,5.5017700000000005,5.5017700000000005,5.5017700000000005,5.50168,5.50172,5.50164,5.50154,5.50152,5.5015,5.50143,5.5013000000000005,5.50129,5.50089,5.50053,5.50035,5.50031,5.50035,5.50012,5.50009,5.5,5.4999400000000005,5.49982,5.49971,5.49965,5.49965,5.49956,5.49953,5.49935,5.49921,5.4991200000000005,5.49911,5.49905,5.499,5.49897,5.49863,5.49844,5.49845,5.49841,5.49825,5.49822,5.49806,5.49789,5.49778,5.49777,5.49776,5.49773,5.49763,5.49734,5.49732,5.49731,5.49724,5.49716,5.4972,5.49718,5.49698,5.49687,5.49685,5.49655,5.49664,5.4966,5.49648,5.49635,5.4959,5.49621,5.49586,5.49581,5.49579,5.49574,5.4956,5.49533,5.49505,5.49501,5.49481,5.49476,5.49473,5.49471,5.49448,5.49451,5.49439,5.49436,5.49434,5.49413,5.49358,5.49352,5.49351,5.4934,5.49328,5.49316,5.49283,5.49226,5.49178,5.49108,5.49085,5.4908,5.49068,5.49048,5.49012,5.4901,5.4901,5.48988,5.48985,5.48948,5.48944,5.48936,5.48924,5.48922,5.48827,5.48824,5.48798,5.48754,5.48751,5.4875,5.48728,5.48709,5.48697,5.48688,5.48671,5.48662,5.48667,5.4863800000000005,5.48622,5.48611,5.48611,5.48606,5.48592,5.4859,5.4857700000000005,5.48576,5.48554,5.48538,5.48531,5.48532,5.48527,5.48495,5.48472,5.4846900000000005,5.48447,5.48406,5.48377,5.4839,5.48382,5.48361,5.48351,5.48346,5.4834,5.48292,5.48252,5.48228,5.48179,5.48193,5.48189,5.4815000000000005,5.48134,5.48115,5.48077,5.48055,5.48037,5.48025,5.48016,5.48007,5.48002,5.47994,5.47963,5.47867,5.47805,5.47789,5.47727,5.4775,5.47747,5.47742,5.47686,5.47663,5.47631,5.47618,5.47591,5.47594,5.47571,5.4757,5.47476,5.47306,5.47302,5.47243,5.471,5.47054,5.47046,5.47022,5.46998,5.46856,5.46743,5.46738,5.46692,5.46563,5.46526,5.46451,5.4636,5.46256,5.46262,5.46144,5.46131,5.46116,5.46101,5.46098,5.45922,5.45866,5.45573,5.45509,5.45474,5.45386,5.45191,5.44918,5.44759,5.44448,5.44427,5.44368,5.43823,5.44051,5.44,5.4378400000000005,5.43697,5.43468,5.43387,5.43094,5.42435,5.42396,5.42243,5.42248,5.4191,5.40797,5.40588,5.40587,5.40449,5.3963,5.39515,5.38866,5.40012,5.3839500000000005,5.38642,5.34994,5.31737,5.28276,5.26793],\"y0\":\" \",\"yaxis\":\"y\",\"type\":\"box\"},{\"alignmentgroup\":\"True\",\"boxpoints\":\"all\",\"fillcolor\":\"rgba(255,255,255,0)\",\"hoveron\":\"points\",\"hovertemplate\":\"Crowdfunding: Kickstarter=0.0<br>year=%{x}<br>bayes_rating=%{y}<extra></extra>\",\"legendgroup\":\"0.0\",\"line\":{\"color\":\"rgba(255,255,255,0)\"},\"marker\":{\"color\":\"#ab63fa\"},\"name\":\"0.0\",\"offsetgroup\":\"0.0\",\"orientation\":\"v\",\"pointpos\":0,\"showlegend\":true,\"x\":[2015,2020,2016,2017,2017,2016,2011,2015,2016,2020,2011,2015,2013,2012,2016,2019,2016,2015,2014,2019,2011,2020,2020,2015,2013,2019,2019,2018,2021,2017,2016,2019,2012,2014,2016,2018,2017,2011,2012,2020,2016,2014,2012,2018,2014,2015,2010,2016,2012,2010,2015,2021,2012,2010,2009,2019,2015,2013,2016,2014,2013,2018,2011,2016,2015,2014,2016,2017,2019,2015,2016,2015,2012,2016,2019,2014,2020,2014,2012,2019,2012,2009,2018,2014,2011,2018,2012,2019,2009,2018,2017,2017,2009,2019,2018,2014,2019,2014,2011,2020,2011,2011,2012,2016,2011,2016,2013,2018,2015,2018,2018,2017,2014,2019,2018,2014,2016,2015,2009,2020,2012,2014,2019,2017,2016,2020,2013,2016,2015,2009,2020,2013,2017,2013,2019,2016,2012,2014,2011,2019,2011,2013,2020,2019,2019,2014,2015,2014,2010,2017,2017,2011,2016,2016,2014,2010,2020,2009,2018,2013,2009,2017,2020,2020,2013,2017,2013,2015,2020,2020,2009,2018,2012,2009,2018,2010,2015,2011,2012,2010,2015,2017,2009,2011,2012,2015,2017,2016,2017,2016,2020,2009,2017,2018,2011,2009,2013,2018,2019,2016,2018,2010,2011,2012,2018,2020,2014,2017,2015,2018,2014,2009,2016,2017,2009,2012,2012,2017,2009,2017,2019,2012,2010,2009,2017,2013,2012,2021,2019,2017,2019,2011,2019,2021,2010,2011,2016,2011,2016,2011,2014,2021,2010,2014,2016,2020,2018,2011,2013,2017,2015,2014,2019,2018,2014,2010,2010,2019,2016,2013,2010,2011,2020,2018,2014,2013,2012,2010,2016,2012,2016,2016,2011,2015,2020,2017,2015,2018,2011,2020,2012,2019,2018,2009,2015,2011,2014,2017,2020,2013,2010,2009,2015,2011,2019,2018,2013,2012,2016,2015,2017,2011,2015,2016,2011,2018,2021,2014,2015,2020,2009,2019,2019,2009,2015,2016,2009,2018,2012,2016,2015,2011,2019,2013,2019,2012,2015,2010,2014,2019,2012,2016,2017,2019,2021,2016,2009,2013,2011,2015,2020,2012,2016,2011,2010,2012,2013,2015,2012,2011,2015,2018,2015,2010,2012,2017,2014,2015,2009,2014,2013,2015,2017,2011,2016,2013,2010,2017,2014,2014,2019,2018,2018,2015,2019,2018,2010,2017,2018,2010,2017,2020,2009,2019,2009,2015,2010,2012,2013,2015,2018,2018,2017,2017,2009,2009,2021,2016,2015,2014,2012,2021,2016,2019,2019,2011,2014,2014,2018,2020,2010,2014,2014,2009,2019,2011,2015,2017,2020,2018,2014,2009,2012,2019,2016,2016,2015,2017,2018,2018,2014,2014,2016,2018,2019,2014,2013,2017,2012,2013,2015,2017,2015,2014,2017,2014,2009,2019,2015,2020,2012,2012,2018,2012,2009,2010,2012,2014,2011,2009,2014,2017,2011,2021,2014,2019,2011,2009,2012,2011,2017,2018,2017,2010,2011,2016,2011,2013,2021,2011,2019,2016,2010,2019,2013,2018,2018,2016,2017,2015,2017,2017,2012,2020,2015,2021,2017,2018,2011,2015,2015,2015,2020,2012,2016,2014,2020,2010,2019,2010,2016,2014,2018,2015,2012,2014,2016,2012,2014,2010,2017,2021,2017,2012,2010,2014,2018,2012,2014,2011,2017,2016,2017,2019,2013,2014,2020,2019,2016,2015,2018,2017,2016,2009,2015,2011,2016,2019,2009,2017,2013,2009,2014,2016,2014,2021,2012,2019,2016,2019,2014,2011,2014,2014,2013,2019,2018,2010,2021,2015,2011,2016,2021,2014,2012,2021,2014,2011,2017,2021,2019,2019,2010,2014,2017,2012,2015,2015,2017,2010,2011,2015,2015,2017,2013,2009,2013,2011,2013,2018,2019,2017,2016,2014,2018,2016,2014,2013,2012,2014,2015,2016,2020,2017,2018,2020,2011,2016,2013,2019,2009,2020,2010,2018,2011,2020,2017,2015,2021,2012,2015,2015,2013,2014,2011,2014,2011,2019,2009,2016,2016,2013,2021,2021,2012,2017,2012,2009,2010,2018,2018,2016,2017,2013,2014,2009,2012,2015,2011,2009,2018,2010,2017,2017,2019,2010,2020,2020,2019,2019,2016,2015,2015,2020,2017,2020,2010,2012,2020,2011,2020,2013,2020,2016,2017,2013,2017,2010,2013,2017,2020,2015,2017,2009,2014,2014,2013,2017,2015,2010,2017,2020,2018,2013,2018,2018,2021,2015,2016,2015,2011,2018,2020,2015,2017,2018,2018,2019,2011,2014,2017,2011,2021,2018,2013,2015,2019,2019,2010,2021,2012,2014,2017,2017,2015,2018,2009,2020,2019,2015,2010,2016,2014,2015,2016,2014,2016,2012,2020,2013,2016,2019,2013,2017,2010,2015,2019,2016,2019,2018,2011,2018,2012,2013,2009,2019,2014,2017,2018,2016,2012,2013,2015,2011,2010,2017,2020,2019,2020,2016,2019,2019,2017,2014,2017,2011,2018,2016,2012,2009,2013,2018,2011,2009,2018,2016,2021,2009,2018,2020,2018,2019,2016,2017,2019,2015,2012,2017,2011,2016,2010,2014,2017,2010,2011,2018,2017,2019,2017,2020,2021,2017,2010,2015,2015,2019,2017,2011,2014,2017,2013,2013,2015,2019,2015,2017,2018,2011,2016,2013,2019,2018,2018,2016,2013,2013,2015,2009,2012,2013,2012,2019,2015,2015,2020,2015,2020,2019,2016,2012,2015,2016,2017,2017,2020,2019,2019,2017,2011,2010,2015,2019,2015,2018,2009,2009,2020,2015,2010,2009,2017,2010,2021,2019,2018,2018,2013,2019,2010,2021,2015,2020,2017,2019,2014,2019,2017,2018,2013,2019,2010,2016,2009,2010,2011,2018,2013,2010,2020,2010,2015,2021,2016,2016,2013,2019,2020,2018,2017,2010,2018,2019,2012,2011,2015,2018,2014,2019,2016,2019,2013,2016,2015,2010,2020,2016,2021,2020,2019,2015,2019,2018,2018,2010,2017,2021,2019,2016,2013,2016,2010,2011,2015,2012,2017,2017,2017,2019,2014,2013,2012,2013,2018,2019,2010,2020,2021,2011,2015,2021,2009,2010,2016,2012,2015,2009,2017,2009,2014,2017,2014,2016,2015,2015,2017,2012,2021,2021,2015,2009,2011,2017,2010,2016,2009,2018,2020,2010,2018,2013,2009,2016,2011,2015,2013,2017,2010,2010,2017,2019,2020,2012,2012,2009,2017,2020,2015,2017,2012,2021,2013,2017,2016,2019,2010,2016,2020,2016,2010,2013,2012,2010,2012,2020,2011,2013,2017,2019,2011,2017,2010,2011,2014,2009,2017,2015,2016,2010,2015,2018,2011,2017,2011,2017,2014,2010,2019,2014,2021,2009,2019,2014,2016,2014,2010,2021,2021,2011,2019,2017,2009,2014,2014,2016,2012,2019,2016,2017,2010,2015,2017,2013,2009,2019,2009,2017,2020,2010,2014,2014,2014,2016,2016,2013,2009,2016,2019,2016,2009,2018,2016,2017,2020,2021,2011,2019,2016,2020,2013,2010,2015,2010,2019,2018,2013,2021,2016,2015,2016,2019,2021,2016,2017,2013,2013,2019,2017,2016,2015,2012,2010,2021,2018,2013,2017,2021,2019,2009,2013,2017,2017,2017,2016,2017,2016,2020,2015,2018,2010,2021,2014,2012,2017,2021,2011,2018,2018,2018,2020,2010,2016,2010,2018,2016,2012,2012,2016,2010,2018,2013,2018,2017,2020,2009,2018,2019,2010,2019,2010,2018,2013,2009,2018,2021,2016,2014,2019,2010,2011,2017,2012,2012,2011,2018,2019,2019,2020,2019,2017,2012,2018,2018,2019,2013,2010,2018,2020,2019,2013,2014,2011,2020,2014,2020,2019,2015,2018,2018,2017,2015,2011,2011,2018,2017,2017,2016,2014,2009,2010,2017,2020,2016,2012,2021,2015,2019,2015,2019,2013,2017,2021,2019,2012,2019,2017,2019,2020,2009,2019,2012,2020,2011,2012,2009,2013,2019,2017,2018,2020,2014,2015,2020,2016,2012,2019,2018,2017,2009,2017,2020,2012,2011,2020,2018,2020,2016,2017,2014,2011,2012,2021,2016,2020,2013,2021,2013,2015,2016,2009,2018,2009,2019,2021,2011,2019,2016,2016,2015,2014,2020,2009,2018,2021,2013,2017,2012,2016,2019,2011,2020,2015,2015,2017,2016,2018,2017,2019,2011,2021,2018,2016,2019,2012,2016,2017,2019,2017,2013,2010,2015,2017,2011,2019,2015,2010,2018,2009,2017,2017,2013,2018,2017,2012,2017,2018,2010,2017,2018,2015,2014,2016,2017,2016,2012,2010,2019,2018,2014,2017,2020,2018,2015,2020,2017,2018,2010,2016,2013,2011,2019,2009,2019,2020,2021,2010,2009,2016,2017,2012,2020,2021,2021,2011,2012,2012,2016,2017,2019,2012,2020,2019,2009,2016,2019,2021,2013,2021,2015,2011,2017,2017,2009,2010,2015,2013,2020,2018,2012,2020,2016,2017,2020,2015,2020,2020,2020,2013,2017,2015,2016,2016,2017,2016,2016,2017,2015,2019,2019,2009,2017,2019,2009,2013,2017,2018,2018,2015,2013,2018,2010,2021,2017,2013,2016,2020,2018,2021,2013,2013,2012,2016,2018,2020,2016,2015,2017,2019,2020,2018,2021,2016,2016,2019,2018,2019,2010,2018,2014,2013,2009,2015,2017,2010,2015,2013,2012,2018,2020,2013,2016,2012,2016,2020,2014,2019,2020,2015,2015,2021,2018,2021,2013,2013,2013,2020,2017,2017,2009,2015,2020,2017,2020,2013,2013,2009,2011,2019,2009,2018,2015,2018,2013,2016,2016,2014,2011,2018,2019,2018,2009,2019,2012,2015,2019,2011,2011,2014,2021,2015,2017,2010,2011,2010,2019,2012,2014,2018,2011,2017,2009,2016,2011,2009,2014,2018,2016,2014,2018,2013,2016,2020,2011,2014,2019,2020,2019,2020,2020,2010,2011,2018,2014,2018,2012,2018,2014,2010,2019,2009,2016,2021,2011,2012,2018,2017,2019,2015,2019,2015,2014,2017,2017,2019,2016,2012,2015,2012,2010,2010,2014,2010,2016,2016,2019,2019,2011,2018,2010,2009,2016,2011,2020,2016,2018,2015,2019,2012,2012,2016,2017,2019,2019,2010,2011,2015,2020,2009,2015,2016,2017,2011,2017,2018,2018,2010,2012,2018,2015,2010,2021,2009,2013,2015,2018,2018,2016,2020,2019,2019,2019,2018,2009,2021,2020,2019,2009,2016,2014,2014,2018,2010,2015,2019,2020,2016,2012,2012,2014,2019,2016,2021,2011,2018,2017,2018,2018,2015,2021,2019,2019,2019,2019,2018,2015,2010,2016,2016,2021,2016,2017,2010,2015,2016,2018,2018,2017,2014,2020,2009,2021,2010,2012,2019,2017,2019,2019,2020,2019,2009,2018,2016,2014,2016,2013,2009,2020,2020,2019,2012,2019,2011,2018,2010,2017,2020,2014,2018,2016,2020,2010,2011,2021,2018,2019,2011,2019,2017,2009,2016,2014,2012,2009,2011,2016,2015,2011,2011,2019,2018,2011,2019,2012,2016,2017,2017,2021,2017,2020,2010,2012,2015,2018,2011,2018,2017,2012,2013,2021,2014,2020,2017,2009,2019,2019,2018,2011,2010,2019,2016,2018,2019,2011,2020,2015,2011,2012,2010,2012,2016,2010,2020,2021,2016,2011,2010,2010,2013,2020,2014,2014,2017,2015,2017,2016,2012,2017,2010,2021,2012,2017,2013,2020,2017,2010,2020,2018,2013,2012,2017,2021,2016,2013,2019,2016,2011,2012,2017,2016,2017,2019,2012,2018,2013,2017,2021,2020,2021,2012,2009,2011,2015,2015,2017,2019,2015,2018,2009,2010,2019,2021,2009,2018,2009,2012,2019,2016,2016,2018,2014,2018,2009,2018,2020,2018,2019,2017,2018,2018,2016,2018,2018,2019,2011,2017,2015,2019,2016,2018,2010,2019,2021,2019,2010,2014,2009,2012,2017,2019,2015,2018,2017,2016,2020,2018,2014,2015,2009,2009,2010,2019,2020,2020,2019,2012,2018,2014,2013,2021,2012,2017,2018,2019,2014,2015,2009,2011,2012,2015,2014,2019,2011,2009,2020,2017,2016,2020,2013,2019,2016,2020,2014,2018,2018,2019,2020,2014,2014,2019,2011,2020,2019,2020,2014,2009,2018,2014,2019,2019,2017,2014,2014,2020,2020,2016,2016,2013,2012,2018,2017,2011,2010,2018,2009,2018,2018,2015,2014,2015,2017,2015,2015,2020,2019,2010,2015,2013,2016,2011,2018,2018,2019,2012,2013,2012,2018,2021,2017,2017,2011,2021,2017,2017,2017,2014,2009,2017,2010,2009,2014,2017,2017,2018,2009,2015,2019,2020,2009,2009,2012,2016,2017,2013,2014,2012,2009,2017,2011,2020,2013,2021,2021,2018,2015,2015,2016,2018,2021,2016,2012,2012,2010,2010,2015,2021,2009,2014,2021,2011,2009,2009,2021,2019,2017,2012,2017,2011,2011,2017,2020,2014,2017,2012,2017,2014,2017,2019,2019,2019,2013,2015,2011,2017,2019,2015,2010,2011,2019,2019,2016,2021,2018,2018,2019,2018,2009,2021,2011,2014,2016,2017,2012,2020,2020,2017,2013,2013,2017,2014,2012,2017,2016,2017,2012,2016,2019,2020,2018,2018,2014,2019,2020,2018,2020,2009,2009,2020,2014,2016,2016,2012,2016,2018,2020,2012,2010,2013,2015,2010,2013,2021,2010,2019,2010,2010,2010,2018,2018,2013,2021,2019,2013,2019,2019,2018,2017,2018,2015,2015,2019,2013,2014,2009,2009,2010,2018,2017,2016,2019,2019,2017,2021,2009,2021,2009,2015,2013,2016,2010,2017,2011,2019,2016,2012,2013,2018,2011,2009,2020,2015,2011,2011,2021,2021,2012,2011,2017,2021,2012,2017,2016,2009,2014,2020,2009,2014,2018,2017,2017,2012,2014,2012,2013,2020,2010,2019,2018,2012,2016,2009,2018,2018,2019,2016,2010,2019,2019,2012,2018,2016,2009,2017,2017,2021,2011,2018,2010,2015,2019,2011,2011,2011,2020,2009,2016,2017,2016,2012,2016,2017,2020,2016,2019,2013,2018,2009,2019,2019,2018,2015,2014,2009,2015,2021,2020,2012,2018,2019,2015,2016,2010,2016,2010,2018,2016,2019,2017,2020,2017,2015,2020,2019,2011,2018,2017,2020,2019,2012,2020,2016,2013,2014,2018,2019,2014,2017,2016,2020,2013,2014,2012,2015,2016,2015,2017,2014,2020,2018,2012,2014,2012,2017,2010,2019,2012,2018,2012,2014,2019,2018,2012,2014,2018,2019,2009,2013,2019,2015,2013,2020,2015,2019,2012,2011,2013,2012,2018,2011,2019,2015,2014,2018,2012,2012,2019,2010,2010,2012,2015,2017,2015,2013,2015,2013,2016,2017,2020,2018,2019,2013,2021,2020,2020,2014,2018,2010,2021,2013,2019,2017,2012,2016,2018,2019,2015,2017,2013,2014,2016,2009,2018,2015,2013,2012,2019,2016,2021,2015,2017,2016,2020,2015,2016,2021,2016,2015,2015,2011,2020,2020,2011,2012,2020,2021,2021,2017,2017,2019,2012,2017,2010,2016,2012,2015,2019,2009,2010,2015,2012,2014,2014,2010,2020,2019,2011,2016,2017,2011,2011,2012,2017,2018,2020,2012,2016,2017,2019,2012,2016,2019,2015,2020,2012,2011,2016,2009,2018,2015,2016,2015,2018,2011,2014,2018,2021,2020,2012,2016,2019,2017,2021,2019,2016,2016,2009,2020,2017,2017,2015,2010,2019,2018,2018,2021,2012,2017,2014,2012,2017,2018,2018,2010,2019,2011,2017,2020,2021,2019,2018,2009,2020,2019,2012,2013,2013,2021,2020,2020,2017,2020,2010,2018,2015,2010,2009,2012,2010,2017,2011,2020,2020,2019,2014,2017,2017,2016,2018,2019,2020,2012,2021,2009,2014,2016,2010,2013,2015,2014,2017,2019,2018,2013,2009,2012,2018,2019,2013,2017,2019,2018,2011,2014,2015,2012,2017,2011,2010,2017,2019,2018,2019,2019,2019,2009,2010,2012,2014,2015,2017,2018,2015,2012,2020,2020,2009,2015,2010,2018,2014,2017,2014,2016,2015,2021,2011,2009,2021,2010,2016,2013,2021,2017,2014,2016,2015,2017,2014,2020,2014,2017,2012,2015,2021,2016,2016,2018,2015,2015,2009,2015,2011,2021,2020,2014,2015,2016,2010,2018,2021,2012,2018,2011,2020,2017,2015,2014,2014,2015,2014,2014,2011,2017,2009,2020,2018,2016,2015,2012,2012,2020,2019,2021,2010,2012,2014,2010,2011,2021,2016,2021,2016,2012,2019,2015,2012,2021,2018,2016,2010,2015,2017,2019,2016,2017,2018,2013,2014,2017,2010,2021,2015,2009,2019,2019,2016,2014,2015,2019,2016,2010,2013,2017,2018,2014,2017,2011,2020,2018,2019,2010,2018,2019,2019,2020,2017,2012,2015,2012,2013,2019,2014,2019,2018,2017,2009,2019,2017,2021,2014,2009,2013,2017,2018,2021,2019,2014,2012,2010,2011,2012,2019,2017,2009,2009,2015,2017,2017,2018,2013,2016,2020,2017,2018,2013,2011,2011,2009,2019,2011,2015,2009,2016,2019,2011,2010,2018,2018,2018,2018,2015,2019,2010,2012,2013,2019,2015,2012,2014,2013,2018,2019,2011,2015,2017,2014,2015,2012,2020,2016,2019,2020,2017,2016,2018,2016,2019,2013,2020,2021,2020,2016,2009,2013,2013,2009,2019,2019,2021,2010,2014,2011,2014,2010,2019,2014,2020,2019,2015,2021,2021,2013,2014,2017,2013,2015,2019,2013,2010,2018,2021,2016,2016,2013,2020,2017,2009,2011,2013,2019,2020,2018,2017,2016,2014,2011,2014,2018,2010,2014,2012,2013,2018,2015,2009,2018,2021,2012,2016,2010,2009,2021,2017,2010,2018,2018,2010,2021,2019,2020,2009,2015,2012,2021,2019,2020,2012,2016,2014,2016,2012,2021,2016,2017,2009,2016,2018,2021,2017,2018,2019,2012,2009,2019,2013,2020,2010,2013,2018,2010,2015,2009,2011,2014,2015,2013,2016,2016,2016,2018,2018,2010,2017,2018,2018,2017,2016,2016,2021,2011,2019,2017,2020,2009,2018,2016,2019,2015,2017,2018,2011,2011,2018,2018,2015,2014,2021,2011,2013,2019,2015,2017,2017,2015,2009,2018,2019,2015,2010,2016,2015,2014,2018,2018,2009,2018,2017,2012,2017,2020,2016,2014,2009,2020,2010,2016,2018,2010,2019,2017,2021,2017,2018,2020,2018,2009,2021,2014,2009,2013,2014,2019,2009,2019,2013,2012,2013,2017,2013,2014,2020,2017,2011,2016,2020,2014,2018,2009,2014,2010,2014,2013,2020,2014,2016,2013,2012,2010,2012,2019,2019,2012,2016,2017,2017,2017,2016,2011,2010,2020,2020,2011,2017,2016,2016,2020,2012,2019,2020,2019,2019,2016,2021,2018,2009,2015,2014,2017,2019,2010,2020,2014,2013,2015,2013,2015,2021,2012,2011,2020,2016,2021,2017,2013,2013,2017,2019,2018,2013,2021,2018,2018,2015,2016,2013,2013,2020,2012,2015,2018,2016,2014,2018,2015,2017,2017,2016,2011,2011,2010,2015,2009,2012,2020,2019,2020,2013,2018,2012,2018,2017,2013,2014,2010,2014,2012,2020,2017,2020,2012,2012,2012,2017,2019,2010,2020,2017,2020,2014,2014,2010,2019,2021,2019,2017,2009,2013,2009,2009,2019,2015,2019,2020,2016,2013,2009,2018,2019,2014,2015,2014,2016,2015,2021,2019,2012,2015,2011,2009,2011,2014,2018,2021,2015,2009,2015,2020,2012,2015,2011,2012,2017,2017,2014,2020,2019,2019,2009,2011,2010,2010,2014,2021,2015,2018,2015,2015,2012,2020,2014,2017,2009,2018,2010,2021,2017,2016,2009,2017,2011,2012,2011,2010,2014,2017,2015,2020,2018,2014,2017,2020,2010,2012,2017,2015,2021,2009,2021,2019,2020,2017,2021,2011,2019,2018,2010,2019,2020,2021,2017,2021,2011,2018,2017,2018,2015,2018,2018,2018,2014,2015,2021,2020,2020,2014,2013,2014,2020,2017,2010,2017,2011,2020,2017,2013,2013,2018,2019,2017,2015,2019,2021,2013,2015,2018,2019,2020,2017,2015,2013,2015,2018,2015,2014,2018,2015,2013,2009,2010,2009,2013,2016,2009,2013,2021,2013,2012,2010,2018,2018,2016,2015,2013,2019,2018,2021,2013,2019,2011,2019,2020,2012,2018,2019,2016,2018,2017,2014,2018,2020,2020,2016,2015,2018,2013,2018,2012,2015,2017,2015,2017,2013,2011,2017,2012,2013,2010,2018,2018,2010,2019,2012,2014,2018,2012,2021,2021,2015,2011,2018,2013,2011,2010,2021,2020,2012,2016,2017,2019,2010,2019,2021,2019,2011,2017,2016,2015,2021,2020,2012,2010,2014,2011,2017,2015,2017,2019,2015,2010,2012,2015,2021,2015,2011,2019,2020,2016,2014,2011,2011,2017,2013,2016,2011,2010,2019,2021,2009,2017,2017,2020,2020,2017,2013,2021,2010,2021,2014,2016,2016,2017,2009,2021,2013,2019,2016,2020,2010,2010,2013,2011,2020,2014,2013,2019,2018,2013,2021,2016,2018,2014,2018,2009,2021,2013,2021,2014,2010,2010,2016,2016,2020,2018,2010,2015,2020,2017,2021,2010,2017,2018,2019,2013,2016,2015,2009,2016,2019,2014,2009,2014,2015,2014,2014,2017,2014,2015,2019,2017,2009,2018,2017,2016,2018,2017,2011,2021,2020,2016,2018,2018,2019,2018,2009,2011,2011,2020,2019,2014,2018,2011,2020,2020,2019,2016,2020,2018,2018,2019,2020,2021,2015,2018,2021,2018,2014,2013,2017,2015,2014,2020,2009,2010,2013,2019,2020,2015,2019,2012,2014,2020,2019,2017,2013,2017,2011,2021,2013,2021,2010,2010,2017,2014,2020,2017,2010,2010,2019,2015,2018,2017,2014,2015,2016,2019,2011,2009,2020,2009,2019,2013,2016,2015,2019,2010,2013,2016,2014,2010,2021,2010,2020,2014,2010,2016,2012,2012,2013,2009,2017,2018,2014,2010,2015,2010,2017,2013,2018,2009,2011,2020,2019,2021,2011,2011,2014,2020,2011,2018,2015,2016,2015,2016,2019,2020,2010,2019,2016,2018,2016,2013,2014,2018,2010,2019,2015,2015,2012,2016,2017,2018,2009,2021,2015,2013,2018,2010,2017,2014,2009,2013,2012,2020,2019,2019,2015,2015,2016,2011,2017,2018,2016,2015,2018,2018,2021,2020,2013,2013,2012,2019,2019,2017,2015,2015,2011,2012,2014,2016,2012,2013,2017,2017,2016,2019,2021,2017,2019,2012,2016,2013,2012,2014,2013,2016,2019,2017,2014,2009,2017,2014,2009,2020,2015,2012,2010,2010,2020,2020,2014,2017,2018,2015,2011,2015,2017,2011,2018,2013,2009,2015,2018,2015,2011,2016,2011,2017,2019,2009,2015,2017,2017,2019,2009,2020,2016,2013,2020,2016,2015,2020,2020,2016,2012,2016,2021,2020,2019,2011,2020,2017,2019,2019,2020,2017,2009,2019,2016,2016,2011,2016,2014,2010,2016,2021,2012,2021,2018,2017,2009,2017,2013,2019,2010,2010,2019,2012,2015,2020,2019,2019,2019,2011,2017,2019,2010,2009,2011,2017,2020,2010,2021,2014,2018,2014,2020,2018,2015,2018,2020,2018,2009,2017,2018,2009,2016,2018,2019,2021,2016,2019,2021,2012,2018,2019,2013,2009,2011,2010,2016,2011,2013,2018,2009,2019,2014,2015,2017,2014,2014,2017,2015,2013,2021,2015,2017,2009,2012,2020,2015,2010,2017,2021,2015,2017,2020,2017,2015,2015,2018,2015,2019,2013,2014,2020,2012,2010,2015,2019,2016,2013,2021,2017,2014,2018,2019,2012,2020,2020,2019,2011,2017,2009,2016,2010,2010,2009,2019,2010,2021,2009,2014,2013,2018,2012,2017,2011,2009,2014,2017,2016,2020,2019,2017,2019,2021,2015,2010,2009,2014,2013,2011,2021,2011,2015,2018,2017,2016,2010,2017,2016,2009,2018,2013,2019,2017,2017,2018,2020,2017,2017,2020,2021,2012,2019,2014,2018,2011,2009,2020,2020,2012,2019,2017,2015,2015,2020,2012,2011,2014,2015,2017,2009,2015,2017,2018,2012,2015,2017,2017,2015,2019,2016,2020,2018,2019,2012,2020,2018,2010,2017,2015,2017,2021,2021,2011,2009,2016,2015,2017,2019,2013,2013,2014,2019,2016,2009,2020,2020,2015,2018,2012,2016,2012,2017,2020,2011,2012,2021,2018,2020,2019,2014,2018,2019,2009,2021,2017,2010,2015,2011,2017,2016,2017,2020,2017,2018,2016,2019,2017,2009,2016,2017,2016,2010,2017,2021,2015,2015,2019,2020,2017,2013,2014,2013,2015,2014,2020,2018,2010,2020,2018,2017,2016,2013,2019,2017,2021,2017,2021,2017,2013,2011,2012,2021,2014,2016,2015,2021,2013,2018,2019,2020,2015,2016,2011,2018,2020,2021,2015,2017,2015,2020,2018,2017,2012,2010,2016,2013,2021,2015,2019,2019,2015,2015,2016,2011,2021,2012,2016,2015,2016,2013,2016,2020,2011,2011,2021,2010,2018,2017,2013,2014,2012,2012,2019,2014,2019,2015,2012,2020,2010,2017,2009,2018,2015,2018,2019,2017,2014,2014,2020,2014,2012,2014,2010,2012,2019,2018,2018,2020,2015,2019,2015,2018,2016,2009,2014,2018,2018,2010,2016,2021,2016,2019,2016,2016,2016,2015,2011,2017,2017,2020,2011,2021,2017,2019,2011,2015,2016,2017,2017,2011,2017,2019,2019,2014,2016,2019,2021,2013,2014,2018,2019,2015,2017,2015,2017,2014,2011,2015,2016,2010,2016,2018,2021,2019,2018,2011,2011,2012,2018,2020,2021,2021,2020,2021,2010,2017,2015,2012,2021,2019,2015,2010,2019,2017,2016,2019,2015,2020,2021,2020,2020,2017,2010,2013,2013,2009,2019,2013,2014,2019,2016,2014,2018,2016,2016,2016,2014,2010,2016,2012,2020,2017,2017,2019,2017,2021,2015,2021,2019,2019,2014,2015,2015,2009,2009,2014,2009,2021,2015,2011,2012,2020,2017,2011,2015,2018,2009,2010,2019,2012,2017,2017,2018,2014,2016,2021,2012,2017,2019,2012,2010,2018,2011,2021,2019,2014,2020,2011,2019,2018,2016,2017,2015,2012,2020,2012,2019,2021,2014,2017,2021,2013,2019,2013,2013,2019,2021,2018,2017,2016,2009,2020,2019,2020,2020,2020,2021,2021,2016,2009,2012,2021,2021,2010,2011,2019,2012,2018,2019,2017,2018,2020,2015,2020,2014,2010,2015,2020,2012,2018,2014,2017,2017,2018,2016,2018,2013,2018,2011,2018,2018,2013,2014,2019,2009,2018,2014,2021,2016,2015,2010,2020,2020,2021,2017,2016,2014,2020,2020,2020,2010,2020,2010,2016,2014,2018,2020,2021,2011,2021,2010,2010,2014,2011,2010,2011,2016,2013,2014,2010,2013,2019,2015,2014,2010,2019,2012,2015,2011,2017,2009,2012,2013,2018,2019,2013,2020,2009,2011,2012,2009,2018,2017,2015,2012,2018,2017,2018,2016,2014,2015,2020,2019,2010,2018,2016,2019,2012,2014,2010,2021,2021,2017,2019,2020,2015,2016,2010,2015,2020,2017,2010,2013,2018,2019,2015,2019,2014,2020,2016,2021,2016,2020,2016,2021,2009,2014,2017,2013,2019,2020,2011,2012,2020,2019,2015,2021,2010,2012,2010,2011,2015,2016,2010,2016,2013,2016,2017,2020,2012,2012,2019,2009,2011,2009,2017,2017,2018,2013,2020,2015,2015,2021,2020,2015,2018,2010,2013,2009,2012,2015,2009,2017,2013,2015,2016,2016,2020,2010,2016,2012,2016,2016,2013,2009,2018,2019,2019,2013,2016,2020,2011,2016,2012,2019,2018,2016,2010,2014,2016,2014,2011,2019,2011,2015,2020,2014,2010,2018,2014,2019,2021,2009,2009,2016,2019,2019,2010,2019,2021,2012,2021,2018,2018,2018,2020,2011,2013,2018,2013,2009,2017,2015,2010,2015,2015,2016,2021,2015,2020,2015,2019,2015,2010,2019,2010,2015,2010,2020,2015,2013,2012,2010,2017,2017,2017,2017,2009,2009,2020,2009,2012,2018,2016,2012,2017,2020,2017,2017,2016,2017,2016,2016,2016,2009,2010,2020,2019,2016,2014,2019,2020,2016,2012,2021,2016,2018,2021,2013,2014,2017,2021,2016,2020,2019,2021,2020,2020,2011,2013,2020,2018,2009,2012,2020,2021,2009,2021,2018,2011,2013,2013,2015,2012,2010,2016,2018,2010,2018,2012,2013,2011,2009,2010,2020,2015,2019,2020,2017,2012,2016,2017,2020,2021,2010,2011,2013,2020,2017,2017,2019,2014,2019,2015,2019,2009,2019,2012,2020,2019,2020,2012,2019,2018,2017,2019,2018,2017,2019,2017,2015,2019,2011,2020,2017,2017,2011,2011,2020,2019,2012,2016,2021,2021,2011,2019,2011,2016,2013,2014,2014,2009,2016,2011,2011,2012,2020,2016,2010,2012,2015,2010,2016,2021,2013,2012,2017,2016,2021,2016,2015,2014,2017,2009,2018,2012,2017,2009,2019,2018,2019,2021,2017,2020,2014,2011,2019,2015,2021,2021,2015,2012,2018,2010,2018,2018,2016,2009,2011,2018,2011,2017,2013,2018,2017,2012,2015,2021,2020,2020,2012,2019,2013,2011,2020,2013,2011,2015,2019,2020,2019,2009,2012,2014,2019,2012,2021,2016,2011,2013,2018,2009,2017,2013,2018,2017,2021,2015,2016,2015,2015,2019,2019,2020,2009,2019,2019,2014,2013,2014,2016,2014,2021,2011,2019,2018,2018,2018,2018,2013,2017,2020,2011,2014,2020,2019,2013,2013,2019,2013,2014,2010,2015,2012,2014,2017,2013,2012,2011,2018,2011,2017,2011,2016,2015,2021,2014,2020,2009,2021,2010,2009,2009,2017,2016,2016,2020,2016,2009,2021,2017,2011,2010,2021,2009,2009,2016,2012,2016,2016,2013,2017,2018,2014,2017,2012,2017,2014,2021,2017,2020,2011,2014,2017,2019,2020,2014,2019,2010,2012,2013,2019,2018,2012,2021,2019,2013,2014,2016,2011,2020,2020,2018,2014,2010,2010,2019,2013,2021,2010,2017,2017,2011,2018,2018,2018,2012,2019,2016,2018,2011,2011,2021,2014,2012,2014,2012,2014,2010,2014,2016,2018,2016,2017,2017,2012,2012,2021,2015,2012,2020,2016,2014,2016,2009,2015,2017,2021,2015,2021,2019,2014,2009,2017,2016,2012,2018,2010,2014,2016,2016,2018,2015,2014,2018,2020,2011,2021,2013,2014,2012,2020,2020,2016,2019,2017,2017,2021,2020,2016,2012,2018,2018,2009,2020,2017,2015,2018,2010,2009,2015,2011,2016,2013,2011,2021,2017,2010,2016,2019,2011,2018,2015,2011,2009,2010,2017,2014,2020,2017,2013,2014,2014,2015,2020,2020,2019,2009,2012,2016,2015,2021,2015,2010,2018,2011,2016,2017,2010,2009,2021,2016,2017,2019,2011,2009,2017,2013,2020,2016,2010,2012,2013,2010,2017,2021,2009,2014,2010,2014,2018,2019,2020,2016,2010,2014,2019,2016,2018,2019,2012,2015,2021,2016,2018,2015,2018,2020,2018,2019,2021,2021,2010,2016,2015,2021,2010,2010,2020,2015,2011,2019,2019,2020,2018,2011,2018,2010,2011,2020,2021,2009,2020,2019,2020,2014,2020,2014,2017,2018,2009,2011,2009,2017,2020,2015,2016,2019,2021,2013,2018,2009,2016,2017,2014,2009,2016,2015,2015,2019,2012,2013,2018,2015,2018,2011,2014,2018,2021,2016,2012,2017,2019,2018,2020,2013,2015,2017,2019,2017,2021,2020,2021,2016,2014,2020,2010,2014,2010,2012,2016,2011,2017,2010,2015,2011,2011,2021,2013,2018,2017,2019,2019,2011,2021,2011,2014,2015,2010,2018,2018,2012,2017,2020,2016,2014,2011,2015,2021,2021,2019,2019,2017,2013,2019,2017,2017,2019,2018,2017,2010,2015,2011,2011,2017,2018,2013,2020,2014,2017,2018,2018,2014,2017,2018,2011,2018,2018,2009,2020,2011,2019,2012,2014,2015,2018,2016,2021,2019,2016,2010,2021,2019,2015,2014,2021,2020,2014,2012,2009,2018,2019,2021,2018,2018,2016,2013,2016,2019,2020,2014,2018,2016,2020,2018,2016,2020,2018,2011,2014,2012,2013,2017,2011,2012,2017,2010,2018,2015,2017,2018,2012,2016,2009,2011,2019,2018,2021,2016,2015,2020,2019,2017,2015,2009,2015,2017,2010,2016,2009,2011,2010,2016,2015,2017,2016,2017,2012,2015,2009,2017,2019,2013,2021,2018,2010,2019,2020,2017,2021,2010,2017,2021,2018,2010,2021,2014,2009,2011,2019,2018,2018,2012,2009,2013,2017,2017,2019,2017,2017,2020,2014,2012,2017,2016,2021,2014,2010,2013,2019,2009,2013,2009,2016,2011,2016,2021,2020,2018,2010,2009,2012,2019,2020,2019,2009,2009,2021,2011,2015,2019,2018,2012,2020,2012,2010,2016,2017,2019,2012,2015,2014,2016,2021,2017,2013,2012,2017,2021,2014,2010,2018,2015,2020,2018,2021,2014,2019,2018,2016,2018,2013,2017,2015,2012,2018,2020,2018,2019,2016,2020,2012,2018,2012,2021,2019,2015,2021,2017,2014,2009,2017,2018,2018,2020,2010,2020,2016,2019,2018,2012,2014,2011,2009,2015,2012,2014,2019,2020,2019,2011,2020,2011,2020,2020,2011,2019,2015,2018,2021,2013,2014,2019,2011,2017,2018,2017,2019,2017,2015,2013,2017,2017,2010,2014,2012,2015,2015,2016,2011,2020,2016,2011,2021,2018,2015,2010,2012,2021,2015,2009,2015,2021,2020,2020,2013,2012,2016,2011,2011,2016,2021,2018,2016,2014,2016,2019,2019,2020,2019,2013,2020,2012,2018,2016,2019,2012,2016,2013,2014,2016,2020,2012,2010,2011,2016,2020,2010,2017,2017,2011,2015,2020,2020,2018,2016,2018,2010,2020,2020,2016,2014,2011,2011,2012,2019,2009,2016,2019,2015,2016,2017,2015,2013,2013,2017,2012,2011,2010,2019,2018,2011,2013,2015,2018,2014,2017,2016,2012,2016,2016,2015,2009,2010,2016,2020,2020,2012,2016,2009,2018,2021,2018,2015,2011,2016,2021,2020,2012,2018,2011,2016,2009,2016,2020,2011,2021,2015,2014,2010,2009,2018,2011,2017,2020,2019,2018,2013,2012,2013,2012,2021,2021,2017,2013,2009,2015,2019,2020,2009,2020,2020,2016,2021,2020,2021,2016,2012,2018,2015,2012,2017,2016,2009,2021,2018,2018,2019,2014,2017,2012,2013,2020,2021,2018,2014,2015,2015,2013,2015,2013,2011,2021,2012,2012,2013,2011,2009,2020,2020,2021,2015,2016,2013,2015,2020,2017,2012,2011,2013,2016,2016,2009,2021,2019,2018,2015,2012,2013,2012,2014,2015,2016,2011,2020,2011,2020,2020,2011,2020,2014,2015,2020,2017,2021,2011,2020,2010,2010,2010,2015,2016,2013,2019,2009,2013,2014,2019,2017,2015,2018,2019,2016,2013,2014,2016,2020,2020,2016,2020,2013,2016,2018,2014,2018,2010,2010,2014,2017,2019,2020,2019,2019,2015,2009,2012,2013,2011,2021,2014,2019,2020,2021,2013,2019,2012,2017,2012,2017,2011,2010,2021,2016,2014,2019,2017,2018,2019,2020,2018,2018,2010,2013,2012,2018,2019,2017,2013,2019,2021,2018,2019,2020,2013,2014,2019,2012,2017,2018,2011,2010,2012,2011,2015,2017,2017,2018,2011,2017,2019,2018,2020,2017,2012,2014,2020,2012,2019,2020,2011,2020,2017,2014,2015,2017,2018,2017,2019,2010,2009,2009,2018,2011,2011,2009,2016,2021,2009,2013,2012,2009,2014,2016,2021,2016,2011,2021,2016,2020,2009,2012,2021,2021,2018,2019,2016,2011,2016,2011,2018,2017,2012,2019,2011,2011,2018,2010,2019,2011,2009,2016,2011,2010,2017,2016,2016,2010,2014,2021,2017,2015,2020,2016,2020,2014,2015,2021,2021,2016,2015,2018,2017,2017,2018,2015,2013,2014,2017,2012,2011,2012,2016,2010,2016,2014,2020,2016,2019,2012,2017,2009,2019,2021,2015,2010,2021,2012,2011,2015,2016,2017,2020,2010,2010,2011,2018,2021,2010,2021,2011,2018,2009,2019,2018,2016,2009,2009,2020,2020,2021,2017,2010,2019,2014,2019,2019,2009,2012,2011,2015,2018,2012,2017,2010,2017,2016,2019,2019,2010,2009,2020,2019,2012,2020,2015,2014,2018,2019,2020,2013,2020,2009,2021,2012,2019,2014,2010,2015,2018,2009,2014,2019,2016,2015,2011,2018,2011,2017,2014,2019,2020,2010,2011,2010,2011,2017,2021,2021,2018,2018,2019,2011,2015,2014,2010,2012,2013,2019,2014,2018,2015,2012,2010,2020,2019,2013,2018,2019,2014,2020,2018,2017,2009,2018,2020,2016,2011,2010,2018,2011,2017,2015,2011,2011,2013,2019,2018,2012,2020,2010,2017,2016,2017,2020,2020,2017,2016,2019,2020,2012,2018,2015,2012,2016,2018,2015,2012,2011,2009,2010,2018,2011,2012,2016,2018,2017,2019,2019,2015,2019,2015,2019,2019,2012,2016,2012,2020,2017,2017,2016,2012,2015,2015,2019,2016,2010,2019,2021,2021,2017,2019,2013,2018,2011,2020,2013,2011,2014,2015,2014,2009,2010,2017,2009,2015,2019,2021,2011,2018,2013,2015,2012,2014,2013,2011,2009,2017,2017,2010,2020,2016,2017,2012,2019,2010,2014,2017,2011,2019,2015,2020,2019,2009,2017,2019,2021,2013,2015,2009,2019,2016,2019,2016,2015,2012,2011,2020,2017,2017,2016,2011,2020,2013,2019,2010,2011,2013,2010,2021,2014,2011,2010,2020,2010,2015,2019,2013,2020,2017,2020,2011,2020,2018,2019,2010,2016,2018,2021,2019,2018,2017,2014,2014,2012,2013,2019,2012,2010,2020,2018,2015,2018,2015,2020,2017,2016,2019,2019,2009,2011,2015,2020,2011,2015,2017,2014,2019,2013,2009,2019,2020,2011,2021,2020,2020,2016,2012,2021,2019,2020,2009,2017,2014,2014,2017,2009,2019,2013,2018,2015,2012,2011,2014,2016,2012,2021,2021,2017,2015,2015,2009,2020,2018,2019,2018,2017,2020,2021,2018,2009,2015,2013,2018,2013,2016,2009,2011,2020,2016,2011,2015,2014,2010,2017,2011,2017,2016,2016,2018,2013,2009,2015,2012,2009,2009,2016,2016,2011,2018,2011,2010,2020,2017,2016,2020,2013,2010,2010,2017,2018,2020,2013,2011,2011,2012,2013,2010,2019,2011,2018,2017,2017,2010,2015,2017,2015,2018,2016,2012,2016,2020,2011,2011,2014,2015,2019,2016,2009,2014,2019,2013,2015,2013,2015,2010,2014,2012,2018,2011,2014,2011,2020,2020,2014,2014,2017,2016,2019,2016,2019,2019,2011,2014,2013,2017,2010,2018,2016,2009,2009,2016,2020,2019,2009,2018,2021,2014,2014,2011,2017,2019,2010,2011,2019,2010,2016,2012,2013,2019,2013,2020,2014,2012,2015,2013,2020,2019,2015,2019,2012,2009,2011,2009,2016,2011,2021,2019,2018,2010,2016,2014,2016,2014,2013,2020,2021,2013,2020,2019,2018,2018,2013,2012,2012,2012,2013,2019,2015,2013,2019,2017,2016,2017,2010,2011,2017,2014,2013,2015,2016,2014,2015,2017,2014,2017,2015,2015,2009,2017,2010,2020,2014,2012,2009,2021,2021,2016,2014,2020,2014,2021,2019,2011,2014,2011,2018,2015,2016,2020,2010,2019,2013,2013,2017,2014,2013,2012,2012,2009,2009,2011,2015,2018,2009,2018,2018,2019,2015,2018,2011,2015,2013,2019,2012,2011,2015,2020,2018,2019,2013,2017,2013,2010,2016,2011,2015,2016,2010,2010,2015,2011,2019,2015,2019,2021,2015,2010,2012,2021,2012,2011,2021,2019,2009,2014,2018,2014,2015,2020,2012,2020,2010,2016,2019,2016,2016,2019,2019,2019,2021,2014,2019,2015,2021,2012,2010,2017,2018,2012,2014,2009,2009,2015,2017,2014,2018,2018,2010,2021,2019,2013,2017,2019,2012,2021,2009,2014,2018,2012,2014,2019,2015,2018,2016,2014,2012,2017,2011,2009,2019,2010,2019,2012,2016,2010,2016,2009,2019,2019,2017,2009,2018,2014,2013,2020,2010,2010,2012,2021,2013,2014,2012,2009,2016,2018,2015,2015,2017,2019,2014,2020,2015,2016,2019,2012,2013,2015,2012,2013,2018,2020,2020,2016,2017,2018,2020,2011,2016,2014,2011,2014,2012,2021,2017,2015,2010,2013,2011,2018,2014,2017,2009,2015,2020,2019,2019,2017,2014,2020,2020,2019,2015,2020,2013,2011,2018,2019,2018,2010,2013,2020,2015,2019,2009,2018,2013,2011,2015,2011,2018,2017,2017,2018,2012,2018,2017,2013,2013,2021,2011,2014,2015,2016,2018,2016,2013,2011,2019,2014,2016,2009,2011,2019,2009,2014,2011,2015,2015,2013,2009,2011,2013,2015,2016,2014,2009,2019,2012,2010,2020,2018,2010,2018,2010,2014,2015,2011,2016,2017,2012,2012,2015,2015,2009,2015,2018,2017,2011,2012,2016,2015,2014,2019,2015,2010,2019,2014,2019,2011,2009,2012,2020,2021,2020,2015,2010,2011,2016,2011,2017,2011,2014,2018,2020,2014,2012,2015,2012,2013,2009,2019,2016,2017,2013,2012,2020,2019,2009,2017,2013,2020,2017,2009,2019,2017,2016,2012,2014,2011,2018,2013,2018,2021,2016,2019,2018,2014,2013,2018,2016,2010,2009,2013,2020,2020,2012,2009,2010,2015,2015,2015,2015,2009,2017,2011,2018,2013,2014,2015,2012,2021,2013,2015,2020,2012,2019,2021,2019,2016,2012,2013,2010,2014,2017,2011,2015,2019,2013,2017,2020,2017,2020,2019,2015,2017,2016,2014,2018,2013,2016,2009,2010,2010,2015,2009,2010,2014,2019,2009,2020,2013,2012,2011,2017,2017,2014,2012,2013,2014,2012,2017,2019,2016,2016,2014,2018,2010,2016,2021,2016,2011,2013,2014,2020,2018,2017,2013,2017,2016,2014,2016,2018,2012,2017,2021,2012,2009,2020,2012,2015,2019,2011,2015,2016,2016,2017,2016,2020,2009,2015,2011,2017,2011,2015,2012,2017,2018,2014,2014,2011,2009,2013,2019,2009,2017,2021,2012,2016,2010,2014,2017,2012,2016,2016,2013,2011,2021,2018,2011,2016,2010,2016,2015,2009,2013,2011,2015,2020,2018,2015,2010,2015,2016,2014,2010,2018,2017,2013,2018,2014,2010,2016,2010,2012,2012,2011,2018,2014,2016,2012,2009,2011,2017,2013,2018,2013,2010,2021,2019,2014,2015,2014,2016,2010,2014,2021,2016,2021,2016,2016,2011,2010,2020,2011,2021,2017,2014,2015,2010,2010,2015,2019,2018,2014,2009,2014,2014,2018,2019,2018,2018,2010,2011,2019,2010,2010,2010,2018,2018,2016,2015,2015,2016,2009,2019,2013,2010,2010,2014,2014,2011,2010,2020,2015,2011,2018,2019,2018,2016,2014,2013,2018,2019,2016,2016,2009,2017,2013,2019,2009,2010,2018,2016,2012,2020,2013,2013,2021,2014,2014,2019,2015,2018,2013,2016,2019,2011,2018,2013,2012,2019,2013,2015,2018,2012,2011,2014,2016,2011,2010,2014,2016,2020,2010,2019,2015,2019,2013,2017,2016,2013,2017,2014,2015,2017,2015,2013,2012,2010,2009,2010,2013,2012,2012,2011,2013,2011,2012,2015,2016,2017,2010,2020,2009,2009,2015,2011,2012,2009,2014,2013,2020,2017,2009,2012,2018,2020,2018,2010,2015,2012,2011,2018,2019,2012,2010,2018,2017,2020,2018,2009,2018,2010,2018,2010,2011,2009,2011,2019,2013,2018,2013,2014,2013,2009,2014,2014,2010,2012,2016,2020,2013,2015,2012,2021,2009,2010,2010,2012,2017,2021,2009,2009,2016,2011,2012,2009,2015,2014,2010,2018,2020,2019,2011,2013,2012,2015,2014,2017,2017,2018,2011,2009,2019,2014,2010,2014,2011,2010,2017,2014,2011,2013,2013,2009,2017,2016,2015,2014,2011,2015,2015,2011,2018,2019,2011,2010,2018,2018,2015,2018,2019,2014,2010,2015,2016,2016,2014,2019,2013,2009,2010,2015,2015,2013,2019,2014,2010,2014,2010,2016,2011,2012,2014,2018,2021,2018,2016,2018,2018,2012,2018,2017,2012,2011,2009,2009,2017,2010,2015,2010,2017,2011,2014,2010,2009,2015,2016,2014,2014,2015,2019,2016,2017,2014,2013,2017,2017,2018,2021,2012,2014,2015,2018,2020,2016,2010,2012,2018,2019,2012,2011,2012,2017,2009,2013,2010,2014,2011,2018,2016,2012,2011,2014,2009,2017,2012,2019,2011,2015,2012,2018,2015,2012,2012,2009,2020,2009,2013,2013,2009,2009,2013,2017,2009,2018,2011,2016,2009,2018,2017,2011,2017,2012,2017,2014,2015,2016,2012,2009,2021,2011,2020,2010,2014,2018,2012,2009,2012,2009,2013,2018,2012,2013,2011,2013,2015,2019,2014,2009,2010,2017,2011,2017,2013,2011,2016,2013,2017,2009,2009,2019,2017,2010,2014,2016,2017,2010,2015,2014,2020,2017,2020,2010,2015,2017,2013,2018,2016,2009,2018,2012,2010,2010,2010,2009,2012,2015,2013,2010,2012,2011,2014,2016,2015,2019,2013,2016,2013,2009,2012,2014,2021,2012,2016,2015,2011,2016,2018,2017,2009,2009,2013,2017,2019,2016,2015,2017,2010,2017,2014,2019,2019,2011,2011,2014,2016,2017,2015,2017,2009,2018,2016,2018,2016,2014,2016,2017,2009,2015,2014,2011,2010,2012,2010,2014,2010,2010,2013,2010,2012,2012,2013,2017,2014,2017,2012,2010,2013,2011,2018,2017,2014,2021,2014,2013,2011,2015,2015,2013,2011,2017,2019,2021,2019,2012,2010,2010,2015,2015,2018,2019,2013,2009,2019,2010,2009,2012,2011,2012,2019,2011,2019,2014,2017,2019,2014,2014,2016,2014,2015,2014,2016,2011,2012,2010,2014,2017,2014,2012,2020,2016,2015,2012,2012,2011,2019,2011,2018,2021,2015,2013,2016,2014,2018,2015,2009,2016,2016,2012,2016,2009,2016,2018,2010,2012,2013,2009,2016,2013,2013,2012,2014,2012,2014,2016,2018,2018,2015,2014,2018,2014,2012,2011,2014,2010,2015,2009,2012,2013,2015,2010,2013,2018,2014,2010,2014,2014,2009,2012,2011,2019,2010,2010,2011,2015,2009,2017,2010,2017,2014,2010,2013,2009,2019,2013,2014,2017,2012,2013,2009,2010,2016,2020,2017,2017,2020,2014,2015,2012,2010,2009,2015,2014,2017,2012,2016,2010,2017,2009,2020,2009,2018,2015,2015,2012,2014,2016,2019,2009,2017,2009,2018,2012,2017,2019,2018,2015,2019,2018,2012,2017,2014,2011,2015,2009,2012,2018,2013,2009,2020,2015,2013,2018,2019,2012,2017,2014,2016,2020,2012,2013,2016,2010,2015,2009,2012,2016,2017,2016,2010,2020,2010,2013,2010,2017,2013,2011,2019,2012,2011,2020,2010,2009,2012,2021,2017,2017,2019,2011,2016,2012,2015,2011,2013,2012,2016,2016,2011,2015,2019,2014,2009,2013,2017,2013,2012,2018,2010,2009,2016,2011,2012,2010,2013,2020,2015,2010,2012,2015,2012,2009,2016,2021,2013,2011,2020,2010,2015,2021,2019,2016,2013,2018,2016,2011,2009,2012,2016,2013,2009,2010,2012,2015,2010,2011,2014,2018,2015,2018,2019,2010,2017,2009,2010,2019,2011,2011,2013,2016,2014,2014,2014,2011,2010,2013,2016,2015,2014,2017,2009,2018,2015,2018,2012,2013,2018,2012,2013,2017,2011,2014,2011,2016,2010,2009,2014,2012,2010,2014,2014,2013,2011,2012,2009,2014,2010,2010,2010,2009,2019,2013,2018,2009,2010,2018,2010,2012,2016,2016,2014,2011,2013,2018,2009,2012,2017,2012,2016,2015,2015,2014,2013,2015,2011,2013,2012,2010,2012,2015,2015,2009,2020,2014,2019,2018,2016,2016,2014,2011,2014,2015,2019,2010,2016,2009,2009,2010,2013,2017,2011,2017,2018,2019,2021,2016,2013,2016,2009,2011,2011,2014,2013,2018,2021,2013,2015,2009,2021,2014,2014,2013,2012,2015,2013,2011,2013,2009,2009,2017,2010,2018,2011,2013,2021,2014,2011,2010,2014,2011,2010,2010,2011,2013,2015,2009,2013,2012,2009,2013,2019,2012,2013,2009,2015,2009,2009,2011,2018,2013,2018,2015,2009,2016,2012,2011,2015,2017,2010,2018,2012,2019,2009,2013,2010,2011,2014,2014,2009,2012,2011,2015,2013,2015,2013,2011,2019,2009,2009,2011,2013,2010,2009,2014,2009,2015,2010,2015,2010,2015,2016,2013,2013,2009,2012,2010,2010,2015,2009,2009,2010,2010,2011,2010,2009,2016,2011,2012,2017,2015,2011,2017,2016,2016,2018,2015,2019,2013,2011,2012,2018,2011,2011,2013,2009,2012,2017,2012,2011,2019,2012,2009,2015,2017,2010,2011,2016,2015,2009,2010,2017,2011,2014,2015,2011,2015,2010,2018,2012,2016,2009,2021,2014,2009,2018,2014,2015,2018,2012,2013,2016,2011,2013,2016,2011,2011,2011,2017,2016,2014,2009,2013,2010,2011,2013,2014,2012,2015,2019,2018,2009,2014,2009,2018,2012,2015,2016,2016,2013,2016,2020,2010,2009,2016,2011,2012,2010,2014,2020,2018,2013,2020,2015,2010,2019,2017,2019,2009,2009,2012,2010,2012,2009,2011,2021,2015,2017,2016,2017,2018,2009,2016,2014,2012,2016,2012,2009,2015,2011,2013,2009,2016,2009,2019,2009,2010,2011,2014,2010,2016,2018,2011,2014,2016,2012,2010,2009,2010,2015,2009,2010,2013,2009,2013,2012,2009,2017,2012,2015,2015,2014,2011,2009,2011,2018,2020,2013,2010,2012,2016,2009,2021,2017,2013,2021,2019,2009,2009,2011,2015,2016,2011,2009,2013,2017,2012,2009,2015,2012,2009,2013,2010,2011,2016,2016,2011,2010,2019,2021,2014,2009,2010,2013,2016,2009,2015,2009,2012,2013,2012,2010,2011,2011,2017,2012,2014,2015,2016,2021,2014,2012,2009,2014,2012,2009,2009,2009,2019,2010,2013,2009,2009,2014,2013,2020,2014,2018,2012,2013,2014,2016,2009,2013,2013,2012,2011,2018,2010,2012,2011,2014,2012,2009,2011,2018,2013,2017,2016,2016,2015,2013,2017,2015,2018,2010,2014,2011,2009,2011,2009,2013,2012,2014,2011,2016,2018,2009,2018,2019,2016,2013,2017,2014,2011,2009,2016,2016,2009,2012,2011,2017,2011,2015,2011,2016,2018,2011,2012,2009,2010,2015,2011,2019,2017,2016],\"x0\":\" \",\"xaxis\":\"x\",\"y\":[8.43552,8.27009,8.26887,8.25471,8.17351,8.169,8.14192,8.13873,8.11859,8.02626,8.00572,7.98399,7.96806,7.95652,7.95525,7.94451,7.92496,7.8901,7.88291,7.88044,7.8736,7.87036,7.86686,7.83409,7.81895,7.81297,7.78519,7.77768,7.77775,7.7764,7.77441,7.76651,7.73693,7.71236,7.71207,7.69147,7.67868,7.6738,7.66442,7.65785,7.6477,7.64362,7.63925,7.63642,7.63533,7.63305,7.62397,7.62057,7.61571,7.60985,7.6073,7.60284,7.579,7.54974,7.54802,7.54702,7.54441,7.5441,7.53023,7.52546,7.52367,7.52136,7.51097,7.50717,7.49803,7.4936,7.48264,7.49307,7.48275,7.48551,7.47732,7.4689,7.46787,7.46163,7.46063,7.44354,7.43705,7.43728,7.43628,7.43456,7.43418,7.42631,7.42254,7.41612,7.41059,7.4092,7.40809,7.40688,7.40328,7.39934,7.39843,7.39569,7.38729,7.38478,7.38313,7.38197,7.37418,7.37093,7.36713,7.36604,7.3654,7.34998,7.34681,7.3388,7.33866,7.33807,7.33001,7.32909,7.32869,7.32341,7.32294,7.31995,7.31973,7.31886,7.31101,7.30953,7.30646,7.30146,7.29579,7.29732,7.29605,7.29158,7.28221,7.2811,7.27603,7.27471,7.26698,7.26275,7.25816,7.255,7.25314,7.24358,7.23898,7.23526,7.23395,7.22532,7.22305,7.22232,7.22063,7.2111,7.20963,7.20895,7.20686,7.20623,7.20605,7.20331,7.2032,7.19871,7.19177,7.1909600000000005,7.18636,7.18424,7.18057,7.18001,7.17848,7.17693,7.17438,7.17088,7.16956,7.16521,7.16504,7.16421,7.15467,7.15293,7.15181,7.15087,7.1456,7.14555,7.14497,7.14355,7.14468,7.14322,7.14022,7.14018,7.13812,7.13734,7.13832,7.13768,7.13662,7.13365,7.13066,7.12913,7.12796,7.12648,7.12283,7.1211,7.11984,7.11552,7.11502,7.10558,7.09403,7.09256,7.08724,7.08586,7.08581,7.0839,7.07579,7.0753,7.07479,7.07428,7.07291,7.0722,7.06933,7.06785,7.06704,7.06697,7.06484,7.06434,7.06343,7.06338,7.06096,7.0605,7.06014,7.05958,7.05863,7.05824,7.05819,7.05552,7.05369,7.05323,7.04811,7.04784,7.04235,7.04225,7.03613,7.03567,7.03055,7.03429,7.03042,7.03035,7.02351,7.02337,7.02007,7.01908,7.01434,7.01885,7.01546,7.0131,7.01245,7.00572,7.00043,6.99972,6.9978,6.99469,6.98963,6.98907,6.98853,6.98405,6.98198,6.97966,6.9768,6.97427,6.97386,6.97115,6.97053,6.96955,6.96795,6.96574,6.9643,6.96209,6.96087,6.96005,6.95803,6.9577100000000005,6.9560200000000005,6.95534,6.95504,6.95469,6.95469,6.95449,6.95386,6.9525,6.94977,6.9481,6.94753,6.94562,6.9451,6.94435,6.94201,6.9407,6.9409,6.93818,6.93385,6.93221,6.93009,6.92983,6.92982,6.92868,6.92699,6.92424,6.92129,6.92105,6.9186700000000005,6.91862,6.91454,6.9144,6.91396,6.91381,6.9138,6.9142,6.91234,6.91208,6.91008,6.90736,6.90437,6.90414,6.9026,6.9026,6.8948,6.89107,6.889,6.88662,6.8865300000000005,6.88597,6.88269,6.88244,6.8804,6.87915,6.87788,6.87742,6.8757,6.87546,6.87153,6.8676,6.86711,6.85522,6.85271,6.85168,6.84853,6.84434,6.84301,6.84273,6.84241,6.84075,6.83833,6.83737,6.83718,6.83351,6.83185,6.8317,6.82874,6.82823,6.82156,6.82026,6.8195,6.8178,6.81663,6.81452,6.81233,6.81135,6.80954,6.80789,6.80637,6.80615,6.80485,6.80147,6.80147,6.80045,6.79532,6.79458,6.79421,6.7937,6.79216,6.79173,6.79026,6.78938,6.78936,6.78663,6.7859300000000005,6.78449,6.78354,6.78247,6.78202,6.78158,6.78111,6.78076,6.78061,6.78016,6.77946,6.7787500000000005,6.77827,6.77791,6.77717,6.7737,6.77352,6.77259,6.76999,6.76572,6.76448,6.76381,6.76251,6.76041,6.75839,6.75786,6.75728,6.75633,6.75603,6.7555,6.75511,6.75408,6.75215,6.74863,6.74842,6.74802,6.74739,6.745950000000001,6.74536,6.7445,6.74449,6.73891,6.73728,6.73655,6.73629,6.73556,6.73533,6.734,6.73097,6.73048,6.73047,6.72788,6.7272,6.72702,6.7257,6.72569,6.72423,6.7240400000000005,6.72027,6.71859,6.7185500000000005,6.71847,6.7148,6.71445,6.71429,6.71282,6.71251,6.71036,6.70805,6.70706,6.7056,6.70246,6.7003,6.69886,6.69845,6.6976700000000005,6.69578,6.69514,6.68995,6.68965,6.68827,6.68815,6.68712,6.68708,6.68639,6.68592,6.68534,6.68414,6.6835,6.68254,6.68124,6.68112,6.68102,6.67393,6.67147,6.67121,6.66801,6.66769,6.66751,6.66735,6.66706,6.6657,6.66498,6.66327,6.66281,6.66222,6.66195,6.6604,6.6568000000000005,6.65464,6.65438,6.65435,6.65346,6.65249,6.65126,6.65091,6.64914,6.64884,6.64557,6.64318,6.64213,6.64156,6.64027,6.63604,6.63536,6.63474,6.63032,6.63041,6.62897,6.6261600000000005,6.62459,6.62452,6.6239,6.62278,6.62251,6.62073,6.61916,6.6182,6.61707,6.61688,6.61685,6.61622,6.61556,6.6151,6.61295,6.61164,6.60935,6.60641,6.60548,6.6054,6.60483,6.60477,6.6046700000000005,6.60066,6.60037,6.59872,6.59727,6.59623,6.59527,6.59516,6.59443,6.59406,6.59276,6.5926100000000005,6.59237,6.59194,6.59065,6.59056,6.58838,6.58693,6.58632,6.58344,6.58342,6.58258,6.58178,6.5807400000000005,6.58049,6.58003,6.57971,6.57887,6.57422,6.5733,6.57216,6.57109,6.57085,6.56845,6.5673,6.56697,6.56567,6.56442,6.56308,6.56228,6.56186,6.5603,6.55968,6.55636,6.55539,6.55474,6.55255,6.55237,6.55179,6.55013,6.54851,6.54629,6.54552,6.54452,6.54439,6.54364,6.54363,6.54343,6.54213,6.54096,6.5409,6.54004,6.53945,6.53934,6.5368,6.5362100000000005,6.53594,6.53567,6.53555,6.53537,6.53495,6.53219,6.53208,6.53149,6.53104,6.52914,6.52716,6.52714,6.5268,6.5267,6.5234,6.52336,6.5219000000000005,6.52151,6.51958,6.51936,6.51812,6.51597,6.51493,6.51269,6.51117,6.51022,6.50994,6.5086200000000005,6.5085,6.50671,6.5060400000000005,6.50447,6.50423,6.50405,6.5033,6.50213,6.50099,6.50091,6.50057,6.50024,6.49968,6.49955,6.4986,6.49777,6.49727,6.49667,6.49604,6.4889600000000005,6.48744,6.48665,6.48568,6.48556,6.48446,6.48335,6.48309,6.48173,6.48029,6.47866,6.47756,6.47651,6.47561,6.47308,6.47306,6.47255,6.47237,6.47077,6.47016,6.46753,6.46732,6.46723,6.46515,6.46496,6.46375,6.4636,6.46253,6.46083,6.46022,6.45976,6.45915,6.45894,6.45793,6.45714,6.4552700000000005,6.44973,6.44837,6.44759,6.44565,6.44356,6.44299,6.44294,6.44269,6.44144,6.43944,6.43875,6.43815,6.43693,6.43308,6.43259,6.43207,6.43102,6.43064,6.43057,6.42839,6.42756,6.42727,6.42688,6.42614,6.42561,6.4253,6.4252,6.4242,6.42329,6.42151,6.42076,6.42025,6.41981,6.41632,6.41574,6.41523,6.41454,6.41393,6.40914,6.40807,6.40752,6.40381,6.40311,6.40161,6.40145,6.40133,6.40111,6.39996,6.39924,6.39883,6.39862,6.39766,6.39748,6.39705,6.39699,6.39662,6.39634,6.39526,6.39511,6.39281,6.39209,6.39186,6.39121,6.38834,6.3882,6.38818,6.38778,6.38783,6.38575,6.38427,6.38033,6.3796800000000005,6.37506,6.37446,6.37374,6.37277,6.37071,6.36942,6.36858,6.36856,6.36852,6.36624,6.36482,6.36448,6.36384,6.3632,6.36166,6.35903,6.35882,6.35874,6.35708,6.3563,6.35604,6.35557,6.35376,6.35206,6.35105,6.35102,6.35033,6.34709,6.34551,6.34551,6.34544,6.34543,6.34505,6.34313,6.34291,6.34281,6.34169,6.34168,6.34154,6.34062,6.33976,6.33809,6.33703,6.3366,6.33576,6.3357,6.3356,6.33537,6.33413,6.33391,6.33315,6.33184,6.33154,6.33073,6.33042,6.32932,6.32884,6.32713,6.32367,6.32119,6.32056,6.31923,6.31733,6.31647,6.31493,6.31364,6.31046,6.30898,6.30785,6.30726,6.30722,6.30713,6.30708,6.30439,6.30225,6.30215,6.30186,6.30094,6.29839,6.29801,6.29587,6.29561,6.29559,6.29553,6.29395,6.29352,6.29319,6.29288,6.29285,6.29285,6.29269,6.29259,6.29198,6.29133,6.29074,6.29035,6.28859,6.2885,6.28839,6.28827,6.28766,6.28764,6.28755,6.28744,6.28655,6.28564,6.28459,6.28284,6.28165,6.2814,6.28021,6.27972,6.27935,6.27831,6.27823,6.27817,6.27711,6.27708,6.27587,6.27577,6.27568,6.27519,6.27475,6.27411,6.27296,6.27172,6.27167,6.2715,6.27131,6.27072,6.27057,6.26947,6.26751,6.26654,6.26618,6.26507,6.26426,6.26414,6.26351,6.26232,6.26107,6.25986,6.25962,6.259,6.2586,6.25827,6.2568,6.25546,6.25535,6.25445,6.2539,6.25343,6.25228,6.25166,6.25144,6.25138,6.25113,6.2498000000000005,6.24977,6.24645,6.24639,6.24606,6.24578,6.24473,6.24437,6.24428,6.24371,6.2437,6.24196,6.24121,6.24086,6.24041,6.24012,6.23982,6.23962,6.23827,6.23774,6.23637,6.23605,6.2348,6.23423,6.23351,6.23348,6.23054,6.2313600000000005,6.23099,6.23029,6.23003,6.22942,6.22931,6.22916,6.22867,6.22856,6.229,6.22688,6.22629,6.22619,6.22582,6.22438,6.22329,6.22329,6.22313,6.22302,6.2228200000000005,6.22218,6.22206,6.22142,6.22021,6.21956,6.21933,6.21925,6.21923,6.21912,6.21649,6.2159,6.2148,6.21436,6.2143,6.21375,6.21356,6.21342,6.2134,6.21285,6.21272,6.21264,6.21157,6.21103,6.21096,6.2109,6.21012,6.20992,6.20806,6.20741,6.20619,6.20513,6.20399,6.20167,6.20078,6.20074,6.19962,6.19841,6.19805,6.19746,6.19606,6.19574,6.19565,6.19514,6.19468,6.19461,6.19439,6.19414,6.19343,6.19337,6.19293,6.19264,6.19183,6.19173,6.19135,6.19105,6.19092,6.18976,6.18893,6.18825,6.1879,6.18761,6.18718,6.18662,6.18607,6.18544,6.1848600000000005,6.18454,6.18431,6.18354,6.18327,6.18316,6.18304,6.1821,6.18204,6.18161,6.18151,6.18064,6.1805900000000005,6.18034,6.17956,6.17883,6.17735,6.17697,6.17685,6.17629,6.17547,6.1749,6.1743,6.17357,6.1735,6.17309,6.1721,6.16973,6.16952,6.16838,6.16837,6.16804,6.16755,6.16727,6.16686,6.16599,6.16515,6.16465,6.16414,6.16406,6.16364,6.16334,6.16001,6.1596,6.15926,6.15851,6.15835,6.15799,6.1579,6.15722,6.15719,6.15558,6.15556,6.15492,6.15446,6.15391,6.1536,6.15354,6.1528,6.15265,6.15249,6.15232,6.1518,6.15093,6.15076,6.1505,6.14887,6.14833,6.14763,6.14641,6.14585,6.14267,6.14139,6.14087,6.14046,6.14038,6.14038,6.13996,6.13926,6.13886,6.13853,6.13851,6.1379,6.1358,6.13564,6.1355,6.13493,6.13476,6.13391,6.13308,6.13282,6.13258,6.13111,6.13009,6.12967,6.12965,6.12937,6.12923,6.12866,6.12832,6.12811,6.12777,6.12754,6.12645,6.12603,6.12556,6.12539,6.12511,6.12507,6.12395,6.12246,6.12217,6.12081,6.12066,6.12036,6.11986,6.1197,6.11867,6.11824,6.11697,6.11673,6.11632,6.11513,6.11466,6.11415,6.11337,6.11332,6.11249,6.11103,6.11038,6.11035,6.10858,6.10847,6.10682,6.10596,6.10509,6.10439,6.10416,6.10229,6.10156,6.10142,6.1013,6.09978,6.09937,6.09898,6.09774,6.09751,6.09718,6.09696,6.09642,6.0962,6.09614,6.09545,6.09507,6.09424,6.09371,6.09364,6.09296,6.09095,6.08867,6.08787,6.08785,6.08778,6.08686,6.08659,6.08655,6.08639,6.08561,6.08557,6.08555,6.08473,6.08406,6.08353,6.08265,6.08244,6.0818,6.08177,6.08165,6.0814,6.08136,6.08064,6.07967,6.07929,6.079,6.07807,6.07769,6.07733,6.077,6.07699,6.07618,6.07608,6.07484,6.0744,6.07373,6.07346,6.07253,6.07112,6.06891,6.06889,6.06799,6.0675,6.06705,6.06679,6.06648,6.06635,6.06554,6.06469,6.06411,6.06392,6.06392,6.06356,6.06345,6.06333,6.06332,6.0626,6.06241,6.06151,6.06064,6.06046,6.05978,6.05947,6.05914,6.05863,6.05844,6.05797,6.05598,6.05572,6.05426,6.05372,6.05312,6.05259,6.05236,6.05215,6.05164,6.04956,6.04846,6.0476,6.04754,6.04747,6.04605,6.04588,6.04511,6.04484,6.04458,6.04448,6.04432,6.04424,6.04397,6.04371,6.04202,6.042,6.04172,6.04107,6.03997,6.03962,6.03954,6.03937,6.03928,6.039,6.03878,6.03842,6.03673,6.03668,6.03668,6.0357,6.03245,6.03213,6.03045,6.02935,6.02932,6.02928,6.02891,6.02891,6.02747,6.02582,6.02543,6.02542,6.02524,6.02406,6.02329,6.02248,6.02174,6.0217,6.0213,6.02127,6.02071,6.02063,6.01976,6.01956,6.01872,6.01834,6.01744,6.017,6.01677,6.01658,6.01653,6.01575,6.01562,6.01558,6.01513,6.01492,6.01395,6.01362,6.0136,6.01356,6.01349,6.01305,6.01256,6.00959,6.00906,6.00842,6.0082,6.00802,6.008,6.00763,6.00745,6.00734,6.00705,6.0067,6.00666,6.00595,6.00441,6.00417,6.00385,6.00214,6.00174,6.00172,6.00158,6.00089,6.00023,5.99942,5.99924,5.99922,5.99915,5.99848,5.99738,5.9973,5.9968,5.99673,5.99645,5.99623,5.99584,5.99576,5.99493,5.99479,5.99495,5.99472,5.9936300000000005,5.99339,5.99332,5.99331,5.9933,5.99308,5.99221,5.99208,5.99162,5.99088,5.99082,5.99069,5.99013,5.99027,5.9901,5.989,5.9889,5.98854,5.98803,5.98796,5.98772,5.98764,5.98732,5.98728,5.9874,5.9872700000000005,5.98722,5.987,5.98691,5.98665,5.98664,5.98536,5.98372,5.98377,5.98363,5.983,5.9811,5.98027,5.9810300000000005,5.97992,5.98016,5.97896,5.97896,5.9789,5.97847,5.97847,5.97841,5.97838,5.97801,5.97749,5.97612,5.97585,5.97542,5.9748,5.97452,5.9739,5.97308,5.97289,5.9728200000000005,5.97219,5.97121,5.97109,5.97101,5.97085,5.97073,5.97065,5.97016,5.96938,5.9688,5.96877,5.96824,5.96797,5.96759,5.96743,5.96671,5.9666500000000005,5.96648,5.96615,5.9656,5.96532,5.96519,5.96478,5.9646,5.96416,5.96327,5.9625900000000005,5.96213,5.96183,5.96176,5.96169,5.9612,5.96084,5.95938,5.95927,5.95875,5.95837,5.95763,5.95694,5.95694,5.95647,5.95646,5.95632,5.9563,5.9562,5.9561,5.95597,5.9554,5.9553,5.954940000000001,5.95428,5.95415,5.95374,5.95352,5.95338,5.95294,5.95265,5.9525500000000005,5.95239,5.95206,5.95074,5.95062,5.95028,5.9501,5.94994,5.94993,5.9499,5.94819,5.94777,5.94754,5.947,5.94676,5.94663,5.94655,5.94599,5.9458,5.94572,5.94545,5.94538,5.94473,5.94389,5.94325,5.94297,5.94261,5.94204,5.94107,5.9394100000000005,5.9392,5.93912,5.93841,5.93832,5.93788,5.93777,5.93749,5.93713,5.93747,5.93654,5.93619,5.93609,5.93597,5.93585,5.93423,5.93362,5.9336,5.93352,5.93266,5.93259,5.932,5.93189,5.9318,5.9318,5.93039,5.93021,5.92997,5.92963,5.92924,5.9290400000000005,5.92901,5.92901,5.92889,5.9285,5.92799,5.92794,5.92744,5.92724,5.9272,5.927,5.92655,5.92595,5.9259,5.9258,5.92488,5.92475,5.92455,5.92396,5.92387,5.92368,5.92364,5.92359,5.92337,5.92333,5.92304,5.92257,5.9225200000000005,5.92242,5.92082,5.9205000000000005,5.92044,5.92033,5.91997,5.9190000000000005,5.91845,5.91844,5.91831,5.9177800000000005,5.91757,5.91722,5.9171700000000005,5.9170300000000005,5.917,5.91632,5.91629,5.91569,5.91566,5.9149,5.91417,5.91383,5.91333,5.91303,5.91297,5.91213,5.91076,5.9105,5.91015,5.9101300000000005,5.90992,5.9098,5.90963,5.90911,5.90888,5.90817,5.90746,5.90707,5.90655,5.90601,5.90578,5.90504,5.90479,5.90456,5.90449,5.90425,5.90406,5.90396,5.90384,5.90196,5.90135,5.89979,5.89933,5.89913,5.89773,5.89727,5.89713,5.89674,5.89639,5.89634,5.89611,5.89579,5.89556,5.8951,5.89435,5.89432,5.89431,5.89259,5.89219,5.89117,5.891,5.89076,5.8906600000000005,5.8905,5.89006,5.88943,5.88779,5.8876,5.88745,5.88694,5.88692,5.88674,5.88668,5.88647,5.88603,5.88536,5.88529,5.88523,5.88497,5.88464,5.88457,5.88284,5.88236,5.88188,5.88172,5.88096,5.88084,5.88038,5.88014,5.87984,5.87836,5.87818,5.8777,5.87762,5.87673,5.87647,5.87646,5.87629,5.87627,5.87513,5.8751,5.87399,5.87397,5.87357,5.8735,5.87348,5.87314,5.87292,5.87265,5.87262,5.87233,5.87109,5.87083,5.87056,5.87047,5.87044,5.870340000000001,5.87027,5.87022,5.87002,5.86993,5.8699200000000005,5.86987,5.86963,5.86938,5.8689,5.86871,5.86868,5.86861,5.86836,5.868,5.86711,5.8668700000000005,5.86678,5.86661,5.86629,5.86535,5.86475,5.86459,5.86446,5.86417,5.8639,5.86388,5.86367,5.86362,5.86322,5.8628,5.86277,5.86266,5.8626000000000005,5.86246,5.86231,5.86167,5.86069,5.86032,5.85974,5.85946,5.85913,5.8581,5.85793,5.85755,5.85752,5.85749,5.85743,5.85735,5.85726,5.8572500000000005,5.85723,5.85713,5.85677,5.85643,5.85641,5.85623,5.85612,5.85551,5.85478,5.85473,5.8546700000000005,5.85466,5.85418,5.85354,5.85343,5.85292,5.85214,5.85192,5.85159,5.8510100000000005,5.84974,5.84955,5.84928,5.8491800000000005,5.8490400000000005,5.84892,5.84891,5.84856,5.84826,5.84821,5.84798,5.84766,5.84764,5.84701,5.84691,5.84671,5.84665,5.84661,5.84637,5.8463,5.8459900000000005,5.84527,5.84517,5.84489,5.84464,5.84453,5.84442,5.84345,5.84315,5.84314,5.84253,5.84249,5.84223,5.84156,5.84145,5.84116,5.84112,5.84049,5.84025,5.84023,5.84015,5.83862,5.83791,5.83689,5.83674,5.83667,5.83615,5.83613,5.83599,5.8357600000000005,5.83507,5.83478,5.83477,5.83471,5.83463,5.8345400000000005,5.83447,5.83359,5.83314,5.83309,5.8328,5.83264,5.83258,5.83244,5.8319,5.83179,5.83143,5.83039,5.83,5.82982,5.8296,5.82803,5.8277,5.82737,5.82726,5.8272200000000005,5.8270800000000005,5.82705,5.82583,5.82581,5.8253,5.8252500000000005,5.82519,5.82508,5.82493,5.82485,5.82475,5.82432,5.82423,5.8234200000000005,5.82273,5.82253,5.82231,5.82201,5.82201,5.822,5.82161,5.82107,5.82097,5.82034,5.82015,5.81997,5.81993,5.81983,5.81948,5.81936,5.81897,5.81748,5.81744,5.81703,5.81662,5.81652,5.8163,5.81623,5.81499,5.81496,5.81493,5.81476,5.81464,5.81458,5.81414,5.81332,5.81283,5.8125,5.81224,5.81215,5.81174,5.81167,5.81128,5.8104700000000005,5.8097900000000005,5.8097,5.80955,5.80949,5.80915,5.80833,5.80796,5.80771,5.80757,5.8072,5.80698,5.80654,5.80637,5.8059,5.80528,5.80509,5.80455,5.80436,5.80416,5.80373,5.80342,5.80325,5.80295,5.80277,5.80269,5.80247,5.80242,5.80232,5.80179,5.80177,5.80116,5.80043,5.79976,5.79973,5.79946,5.79918,5.79917,5.79874,5.79866,5.79848,5.79846,5.7982700000000005,5.79795,5.79753,5.79727,5.79682,5.79661,5.79655,5.79653,5.79632,5.79622,5.79602,5.79602,5.79594,5.79574,5.79555,5.79529,5.79486,5.79456,5.79426,5.79423,5.79408,5.79401,5.79398,5.79392,5.79379,5.7934,5.79298,5.79273,5.79244,5.79222,5.792,5.79164,5.79148,5.79143,5.7913,5.79126,5.79121,5.7912,5.79105,5.7907,5.79041,5.79006,5.78943,5.78846,5.78832,5.78827,5.78795,5.7879000000000005,5.78788,5.7877,5.78747,5.78701,5.787,5.78697,5.78691,5.78684,5.78674,5.78538,5.78528,5.78523,5.78519,5.78483,5.78483,5.78479,5.78462,5.78457,5.7836300000000005,5.78356,5.78342,5.78284,5.78282,5.7822700000000005,5.78193,5.78192,5.78192,5.78148,5.78145,5.78118,5.7811,5.78093,5.78046,5.77998,5.77979,5.77971,5.7796,5.7795000000000005,5.77919,5.77911,5.77885,5.77867,5.7786,5.77821,5.77756,5.77756,5.77887,5.77745,5.77691,5.77646,5.77623,5.77591,5.77587,5.77545,5.77521,5.77504,5.77467,5.77457,5.77449,5.77374,5.77321,5.77318,5.77317,5.77302,5.772930000000001,5.77292,5.77245,5.77229,5.7721800000000005,5.77169,5.77149,5.77128,5.77093,5.7708200000000005,5.77034,5.77094,5.76965,5.76965,5.76958,5.7695,5.76947,5.76947,5.7696000000000005,5.76923,5.76918,5.76918,5.76878,5.76821,5.76764,5.76743,5.76729,5.76712,5.76708,5.76685,5.76572,5.76636,5.76618,5.7661,5.76605,5.76588,5.76583,5.76573,5.76572,5.76537,5.76515,5.76475,5.76466,5.76453,5.76451,5.76424,5.76381,5.7635000000000005,5.76344,5.76343,5.76338,5.76334,5.763,5.7628,5.7628,5.76274,5.76273,5.76264,5.7625,5.76226,5.76216,5.76192,5.76184,5.76177,5.76146,5.76133,5.76129,5.76113,5.76084,5.76057,5.76053,5.76049,5.76015,5.75935,5.75932,5.75918,5.75913,5.75855,5.75791,5.75778,5.75746,5.75728,5.7571200000000005,5.75678,5.75636,5.75563,5.75542,5.75518,5.75486,5.75473,5.7544900000000005,5.75436,5.7543500000000005,5.7542100000000005,5.754,5.75366,5.75359,5.75347,5.75265,5.75255,5.75226,5.75213,5.75208,5.75195,5.75176,5.75137,5.75131,5.75127,5.75121,5.7511,5.75074,5.75029,5.74997,5.74995,5.74983,5.7498000000000005,5.74968,5.74954,5.74937,5.74936,5.74915,5.7487200000000005,5.7486,5.74859,5.74829,5.74806,5.74769,5.74763,5.74728,5.74696,5.7468900000000005,5.74681,5.74644,5.74634,5.74588,5.74561,5.74545,5.74498,5.74484,5.74482,5.74461,5.7446,5.74436,5.74408,5.74383,5.74382,5.74376,5.74359,5.74333,5.7432,5.74298,5.74293,5.74268,5.74247,5.74224,5.74221,5.74218,5.74205,5.74203,5.74181,5.74179,5.74176,5.7417,5.7414000000000005,5.74132,5.7412600000000005,5.74118,5.7406500000000005,5.74059,5.74051,5.74044,5.73969,5.73942,5.73933,5.73932,5.73898,5.73894,5.73832,5.73808,5.73801,5.7379,5.73777,5.73696,5.73764,5.73693,5.73757,5.73747,5.73649,5.73715,5.73612,5.73712,5.73701,5.73653,5.73694,5.73691,5.73668,5.73612,5.73575,5.73569,5.73546,5.73519,5.73518,5.73499,5.73492,5.73484,5.73463,5.73449,5.73427,5.73423,5.73418,5.73413,5.7341,5.7340800000000005,5.73402,5.73397,5.73397,5.73353,5.73342,5.73332,5.7331900000000005,5.73317,5.7331,5.73308,5.7329,5.73273,5.73271,5.73271,5.73241,5.73219,5.7321100000000005,5.73191,5.7315000000000005,5.73101,5.73093,5.7305,5.73047,5.7303,5.73019,5.73004,5.7299,5.72963,5.72923,5.72921,5.7290600000000005,5.72898,5.72881,5.72836,5.72773,5.72768,5.72765,5.72755,5.72742,5.72734,5.72678,5.72663,5.7266,5.72643,5.72626,5.72621,5.72603,5.72577,5.72561,5.72551,5.72537,5.72521,5.7251,5.72501,5.72495,5.72445,5.7242,5.72415,5.72366,5.72364,5.72322,5.72294,5.72283,5.72273,5.72257,5.72241,5.72215,5.72212,5.72205,5.72152,5.72092,5.72062,5.72013,5.71996,5.71978,5.71973,5.71946,5.71934,5.71902,5.71884,5.71867,5.71859,5.71852,5.71837,5.71806,5.71806,5.71801,5.71771,5.7173300000000005,5.71722,5.7172,5.71715,5.71705,5.71705,5.71704,5.71702,5.71699,5.71693,5.7168600000000005,5.71681,5.71661,5.71648,5.71635,5.71597,5.71593,5.7157,5.71546,5.715310000000001,5.71518,5.71505,5.71497,5.71475,5.71466,5.71455,5.71422,5.71419,5.7141,5.71404,5.71386,5.71355,5.71347,5.71325,5.71322,5.71321,5.71319,5.71314,5.71302,5.71278,5.7127,5.71248,5.71237,5.71203,5.71199,5.71157,5.71122,5.7112,5.7111,5.71093,5.71059,5.71055,5.71051,5.71035,5.71,5.70977,5.70973,5.70967,5.70961,5.7095400000000005,5.70935,5.70898,5.70887,5.70858,5.70851,5.70843,5.70838,5.70831,5.70807,5.70795,5.70781,5.70778,5.70734,5.70731,5.70722,5.70707,5.70702,5.707,5.70677,5.7066300000000005,5.7065,5.70642,5.70608,5.70605,5.7060200000000005,5.70583,5.70572,5.70571,5.70556,5.70535,5.70489,5.70481,5.7048,5.70475,5.70467,5.70465,5.70411,5.704,5.70376,5.70355,5.703,5.70292,5.70282,5.70246,5.7023600000000005,5.70217,5.70205,5.70192,5.70188,5.70186,5.7017500000000005,5.70136,5.70122,5.70097,5.70093,5.70061,5.70051,5.70035,5.70029,5.7001100000000005,5.69993,5.69981,5.69886,5.69977,5.69968,5.69962,5.69954,5.69953,5.69951,5.69938,5.69934,5.69916,5.69902,5.69897,5.69878,5.69846,5.69843,5.69829,5.69788,5.69786,5.69774,5.69772,5.69751,5.69735,5.69682,5.69672,5.69657,5.69619,5.69614,5.69606,5.696,5.69596,5.69594,5.69593,5.6956500000000005,5.69559,5.69484,5.69529,5.69528,5.69528,5.69514,5.69442,5.69439,5.69435,5.6942900000000005,5.69421,5.69376,5.6923200000000005,5.69229,5.69341,5.69341,5.69219,5.6934000000000005,5.69339,5.69184,5.69305,5.6929300000000005,5.69285,5.69281,5.6925,5.69193,5.69177,5.69156,5.69084,5.69078,5.69068,5.69062,5.69059,5.6904900000000005,5.69026,5.69013,5.69009,5.68966,5.68966,5.68942,5.68942,5.68932,5.68931,5.6892700000000005,5.68881,5.68871,5.68841,5.6882,5.68816,5.68813,5.68806,5.68798,5.68778,5.6877200000000006,5.6871100000000006,5.68709,5.68701,5.6864,5.6869,5.68686,5.6862,5.6862,5.68605,5.68601,5.68599,5.68596,5.6856,5.68533,5.68497,5.68476,5.68475,5.68472,5.68464,5.68448,5.6843900000000005,5.68408,5.68399,5.68373,5.68355,5.68347,5.6833,5.68291,5.68288,5.68261,5.6824200000000005,5.68241,5.68226,5.68211,5.68193,5.68123,5.68155,5.68147,5.68112,5.68129,5.68121,5.68071,5.68062,5.68056,5.68052,5.68048,5.68047,5.68044,5.68033,5.68032,5.68021,5.68003,5.68001,5.67971,5.67955,5.67949,5.67947,5.67934,5.67932,5.67929,5.6790400000000005,5.67893,5.6787,5.67854,5.67831,5.678,5.67797,5.67797,5.67795,5.67772,5.67769,5.67732,5.67722,5.67714,5.677,5.677,5.67699,5.67697,5.67678,5.67676,5.67664,5.67662,5.67659,5.67657,5.67635,5.67593,5.6758500000000005,5.6757,5.67564,5.67554,5.67548,5.6753800000000005,5.6751000000000005,5.6749,5.67473,5.6747,5.6746,5.67459,5.67454,5.67411,5.67398,5.67376,5.67375,5.6737,5.6736,5.6736,5.6735500000000005,5.67343,5.6732700000000005,5.67325,5.6729,5.67273,5.67272,5.67272,5.67251,5.67246,5.67241,5.67234,5.67224,5.67223,5.67223,5.67207,5.67206,5.67166,5.67155,5.67103,5.67091,5.67091,5.67063,5.67055,5.67041,5.67007,5.67006,5.66977,5.66974,5.66973,5.66972,5.66972,5.66971,5.6696100000000005,5.66953,5.66946,5.66938,5.6691,5.6691,5.66905,5.66901,5.66896,5.6689,5.6688600000000005,5.66879,5.66872,5.66863,5.66851,5.66847,5.66826,5.66818,5.66789,5.66779,5.66753,5.66749,5.66727,5.6668,5.66674,5.6665,5.66634,5.66632,5.66627,5.66611,5.6661,5.666,5.66599,5.66586,5.6658100000000005,5.66553,5.66544,5.66539,5.66469,5.66465,5.66455,5.66453,5.66422,5.66413,5.66408,5.66403,5.66401,5.6636500000000005,5.66382,5.66387,5.66386,5.6637,5.66315,5.66269,5.66267,5.66256,5.66251,5.6625,5.66248,5.66224,5.66221,5.66214,5.66206,5.66187,5.6618200000000005,5.6617,5.66164,5.66149,5.66128,5.66106,5.66094,5.66094,5.66092,5.66087,5.66079,5.66065,5.66049,5.66038,5.66029,5.66027,5.66024,5.66018,5.6601,5.66009,5.65998,5.65997,5.65981,5.65955,5.65963,5.65917,5.65915,5.65922,5.65894,5.65904,5.65895,5.6587,5.65871,5.6586300000000005,5.65844,5.65787,5.65786,5.6578,5.65774,5.65765,5.65746,5.65745,5.6574,5.65714,5.65712,5.65702,5.65677,5.65673,5.65671,5.65668,5.6566600000000005,5.65639,5.65618,5.65598,5.65535,5.65566,5.65522,5.65519,5.6555,5.65513,5.65539,5.65492,5.65536,5.65532,5.65527,5.65522,5.65464,5.65446,5.6542200000000005,5.65492,5.65409,5.65399,5.65449,5.65424,5.65418,5.65415,5.65409,5.65398,5.6538,5.65364,5.65365,5.65358,5.65348,5.65311,5.65309,5.65305,5.65281,5.65265,5.65257,5.65247,5.65246,5.65245,5.65243,5.65231,5.65222,5.65161,5.65124,5.65122,5.65106,5.651,5.65065,5.65077,5.65071,5.6505600000000005,5.64975,5.65055,5.64972,5.65041,5.6503,5.64969,5.65028,5.64955,5.64994,5.64951,5.64991,5.64985,5.6495,5.64946,5.64938,5.6493400000000005,5.64927,5.649,5.64896,5.64872,5.6487,5.64862,5.64856,5.64825,5.64822,5.64817,5.64814,5.64807,5.64802,5.648,5.64795,5.6477900000000005,5.64775,5.64775,5.64762,5.64747,5.64743,5.64719,5.64715,5.64707,5.64692,5.64691,5.64679,5.64675,5.64674,5.64666,5.64661,5.64642,5.6463,5.64622,5.64652,5.64628,5.64618,5.64601,5.646,5.6458,5.64571,5.64569,5.64536,5.64536,5.64531,5.64506,5.645,5.64487,5.64481,5.64481,5.64477,5.64438,5.64434,5.64433,5.64426,5.64424,5.64412,5.6441,5.64408,5.64408,5.64406,5.64382,5.64353,5.6435200000000005,5.64349,5.64343,5.64336,5.6433,5.64323,5.64323,5.64317,5.64308,5.6429100000000005,5.64284,5.64279,5.64279,5.64239,5.64236,5.64234,5.64233,5.6423,5.64184,5.64156,5.64183,5.64145,5.64172,5.64163,5.64135,5.64159,5.64125,5.64151,5.64146,5.64145,5.64136,5.6413,5.64113,5.64071,5.64029,5.64029,5.64024,5.64022,5.6401900000000005,5.63999,5.63988,5.63979,5.63971,5.6396,5.63945,5.63932,5.63926,5.63918,5.63914,5.639,5.63912,5.63902,5.63896,5.63862,5.63894,5.63881,5.63871,5.63871,5.63861,5.63855,5.63853,5.63847,5.63829,5.63826,5.63811,5.63784,5.63778,5.63749,5.63743,5.6374200000000005,5.63739,5.63738,5.6373,5.63711,5.6369,5.63689,5.63679,5.63668,5.63656,5.63631,5.63625,5.63618,5.63611,5.63608,5.63598,5.63596,5.63593,5.63569,5.63568,5.63567,5.63565,5.63565,5.63554,5.6352,5.63495,5.63494,5.63481,5.63463,5.63461,5.63415,5.63411,5.63436,5.6341,5.63408,5.63401,5.63426,5.63425,5.63424,5.63396,5.63393,5.63415,5.63412,5.63399,5.63396,5.63392,5.63378,5.63364,5.63346,5.63339,5.63322,5.6332,5.63309,5.63307,5.63286,5.63268,5.63268,5.63258,5.63243,5.63239,5.63237,5.6322600000000005,5.63213,5.63211,5.63195,5.6319300000000005,5.63185,5.63176,5.63171,5.63157,5.6315,5.6314,5.63137,5.63137,5.63125,5.63109,5.63108,5.63107,5.63106,5.63102,5.63087,5.63072,5.6306,5.63056,5.63053,5.63045,5.63038,5.63023,5.63016,5.63013,5.62994,5.6299,5.62989,5.62984,5.62981,5.62969,5.62965,5.62959,5.6295,5.6294900000000005,5.62934,5.62929,5.62913,5.62912,5.62891,5.62885,5.62875,5.6287400000000005,5.62871,5.62871,5.6286000000000005,5.62857,5.62853,5.62823,5.6281300000000005,5.62796,5.62789,5.6273800000000005,5.62768,5.62755,5.62745,5.62739,5.62713,5.6271,5.6271,5.62703,5.62703,5.62697,5.62695,5.62633,5.62668,5.62661,5.62654,5.62625,5.62612,5.62607,5.62604,5.62604,5.62603,5.62598,5.62597,5.62586,5.62581,5.62572,5.62553,5.62548,5.62544,5.6254,5.62534,5.62526,5.62515,5.62501,5.62495,5.62469,5.62469,5.62466,5.62466,5.62459,5.62451,5.62445,5.62444,5.62444,5.6243300000000005,5.62428,5.62427,5.62416,5.62415,5.62415,5.62395,5.62391,5.62388,5.62382,5.62374,5.62356,5.62344,5.62342,5.62342,5.62338,5.62329,5.62318,5.62314,5.62313,5.62313,5.62308,5.62307,5.62299,5.62288,5.62272,5.62263,5.62249,5.62246,5.6224,5.62204,5.62196,5.62196,5.62184,5.6218,5.62153,5.62151,5.6215,5.6214200000000005,5.6213,5.62125,5.62123,5.62118,5.62109,5.62096,5.62029,5.62046,5.62027,5.61974,5.62024,5.61972,5.62036,5.62012,5.61967,5.61993,5.61989,5.61961,5.62008,5.62005,5.62001,5.61994,5.61976,5.61956,5.61956,5.61954,5.6195,5.61949,5.61941,5.6193,5.61927,5.61927,5.61914,5.61908,5.6189,5.61888,5.61871,5.6184,5.6184,5.6183,5.61816,5.61797,5.61793,5.61783,5.61783,5.61777,5.61775,5.61768,5.61768,5.61768,5.61764,5.61764,5.61764,5.61756,5.61736,5.61727,5.61726,5.61704,5.6170100000000005,5.6170100000000005,5.617,5.61697,5.61689,5.61686,5.61677,5.61676,5.61667,5.61658,5.61649,5.61647,5.61635,5.61625,5.61619,5.61604,5.61594,5.61539,5.61536,5.61529,5.61516,5.61501,5.61499,5.61487,5.6148,5.61464,5.61462,5.6145700000000005,5.61451,5.61431,5.61398,5.6139600000000005,5.61394,5.61379,5.61363,5.61346,5.61318,5.61317,5.6129,5.61286,5.6127400000000005,5.61258,5.61252,5.61249,5.61249,5.61244,5.61231,5.61218,5.61212,5.61201,5.61192,5.61191,5.61181,5.61178,5.61168,5.61163,5.61154,5.6115200000000005,5.6115,5.61142,5.61134,5.61131,5.61119,5.61111,5.61109,5.611,5.611,5.61083,5.61062,5.61062,5.61062,5.61052,5.61052,5.61049,5.61029,5.61029,5.61019,5.60996,5.60996,5.60987,5.60979,5.6096900000000005,5.60963,5.60956,5.60949,5.60948,5.60932,5.60927,5.60919,5.60919,5.60912,5.60897,5.6089400000000005,5.60888,5.60887,5.6087,5.60867,5.60841,5.60836,5.60821,5.60809,5.60805,5.60804,5.60803,5.60801,5.60792,5.60789,5.60781,5.6078,5.60763,5.60756,5.60748,5.60736,5.6072500000000005,5.6072500000000005,5.60717,5.60716,5.60714,5.6071100000000005,5.6071,5.60699,5.60689,5.60688,5.60685,5.60684,5.60683,5.6068,5.60679,5.6067,5.60668,5.60667,5.60666,5.60659,5.60655,5.60652,5.60639,5.60635,5.60621,5.60611,5.60611,5.60609,5.60601,5.60597,5.60594,5.6059,5.60568,5.60567,5.60565,5.60547,5.60546,5.60543,5.60543,5.60539,5.60536,5.60532,5.6052800000000005,5.60525,5.60523,5.60516,5.60503,5.60496,5.60491,5.60489,5.60484,5.60483,5.6048100000000005,5.60479,5.6046,5.60459,5.60442,5.60433,5.60431,5.60411,5.60409,5.60407,5.60403,5.60403,5.60397,5.60381,5.60379,5.60378,5.60375,5.6037300000000005,5.6037,5.60368,5.60325,5.60311,5.60292,5.60291,5.60289,5.60285,5.60288,5.60268,5.6028,5.60258,5.60267,5.60259,5.60246,5.60243,5.60242,5.60233,5.60227,5.60202,5.60199,5.60195,5.60194,5.60187,5.60185,5.60179,5.60177,5.60177,5.6017600000000005,5.60165,5.60161,5.60161,5.60142,5.6014,5.60135,5.60133,5.60126,5.60126,5.60116,5.60116,5.6011500000000005,5.60106,5.60106,5.60104,5.60103,5.60099,5.60095,5.60089,5.60084,5.60078,5.60078,5.6006,5.60058,5.60049,5.60043,5.60032,5.60027,5.60025,5.60022,5.60016,5.59998,5.59997,5.59992,5.59989,5.59984,5.59958,5.59951,5.5995,5.5994,5.59936,5.59929,5.59926,5.59922,5.5991,5.5991,5.59905,5.59893,5.5989,5.5989,5.59876,5.59872,5.59866,5.59865,5.5986,5.59846,5.59846,5.59841,5.59839,5.59839,5.59831,5.59829,5.59817,5.5981000000000005,5.59809,5.59808,5.59795,5.59785,5.59781,5.5977,5.59768,5.59767,5.59767,5.59763,5.59759,5.59759,5.5974900000000005,5.5972100000000005,5.59717,5.59717,5.59706,5.59704,5.59703,5.59701,5.59698,5.59694,5.59682,5.59675,5.59672,5.59668,5.59667,5.59662,5.59662,5.59661,5.59653,5.59653,5.59652,5.59648,5.59646,5.59638,5.59628,5.59615,5.59598,5.59591,5.59588,5.59587,5.59579,5.59574,5.59574,5.59574,5.59574,5.5957,5.59567,5.59562,5.5956,5.59556,5.59555,5.5955,5.59549,5.59548,5.59544,5.5953800000000005,5.59534,5.59523,5.5952,5.59518,5.59516,5.59511,5.59509,5.59507,5.59501,5.595,5.59497,5.59494,5.59489,5.59487,5.5948,5.5948,5.59475,5.59471,5.59468,5.59466,5.59459,5.59453,5.59452,5.59442,5.59427,5.59423,5.59418,5.5939,5.59388,5.59387,5.59381,5.59376,5.59375,5.59371,5.5936900000000005,5.59368,5.59365,5.59364,5.59364,5.5935500000000005,5.5935500000000005,5.59353,5.59344,5.59341,5.5934,5.59331,5.59329,5.59326,5.59325,5.5932,5.59317,5.59316,5.59307,5.59306,5.59304,5.59301,5.59295,5.59289,5.59288,5.59252,5.59252,5.59232,5.59227,5.59213,5.59206,5.59196,5.59195,5.59193,5.59185,5.59182,5.59175,5.59174,5.5917200000000005,5.59167,5.59158,5.59133,5.59123,5.59113,5.5911,5.59108,5.59104,5.59103,5.591,5.59095,5.59088,5.59072,5.59068,5.59068,5.59053,5.59053,5.59039,5.59036,5.59036,5.59033,5.5903,5.59024,5.59016,5.59014,5.59011,5.58991,5.58971,5.58968,5.58967,5.58962,5.58954,5.58953,5.58952,5.58952,5.58952,5.58943,5.58943,5.58937,5.58934,5.58925,5.58908,5.58899,5.58891,5.58884,5.5888,5.58878,5.58877,5.58862,5.58861,5.5886,5.58854,5.58849,5.58848,5.58846,5.58829,5.58825,5.58817,5.58814,5.58814,5.58809,5.58807,5.58782,5.58779,5.58777,5.58775,5.58775,5.58771,5.58767,5.58767,5.58761,5.58757,5.58755,5.5875,5.58749,5.58743,5.58741,5.58739,5.58734,5.58734,5.58732,5.58729,5.58728,5.58711,5.58705,5.587,5.58697,5.58696,5.58696,5.58691,5.5869,5.58688,5.58687,5.58686,5.58681,5.58671,5.58669,5.58663,5.5865100000000005,5.58648,5.58647,5.58643,5.5864,5.58625,5.5862300000000005,5.58617,5.58616,5.58614,5.58608,5.58605,5.58604,5.58601,5.58581,5.58575,5.58574,5.58573,5.58565,5.58558,5.58553,5.58548,5.58547,5.58545,5.58544,5.58543,5.58541,5.58537,5.58533,5.58528,5.58517,5.58514,5.58502,5.58502,5.58499,5.58499,5.58499,5.58497,5.58495,5.58492,5.58485,5.58484,5.58477,5.58471,5.58462,5.58462,5.58451,5.58448,5.58446,5.58441,5.58426,5.58413,5.58403,5.58391,5.5839,5.58383,5.5838,5.58376,5.5837,5.58354,5.58353,5.5834600000000005,5.5834600000000005,5.58344,5.58342,5.58333,5.5833,5.58328,5.58327,5.58323,5.5832,5.58317,5.58311,5.58303,5.58299,5.58299,5.58283,5.58272,5.58268,5.58261,5.5826,5.58252,5.58251,5.58232,5.5822,5.58216,5.58215,5.58206,5.58203,5.58198,5.58189,5.58173,5.58172,5.58157,5.58154,5.58154,5.58146,5.58144,5.5813500000000005,5.58134,5.5813,5.58125,5.5812,5.5810200000000005,5.58085,5.58085,5.58072,5.5807,5.58069,5.58061,5.58054,5.58052,5.58049,5.58045,5.58044,5.58033,5.58031,5.58031,5.58025,5.58025,5.5802,5.5801300000000005,5.58007,5.58002,5.58001,5.57998,5.57996,5.5799,5.57986,5.57982,5.57972,5.57971,5.57967,5.57961,5.57954,5.5795,5.5793800000000005,5.57926,5.57926,5.57924,5.57922,5.57917,5.57913,5.57911,5.57907,5.57903,5.57901,5.57895,5.57884,5.57879,5.5787,5.57854,5.57852,5.5785,5.5785,5.57834,5.57826,5.57826,5.57823,5.57818,5.57819,5.5781600000000005,5.57813,5.57812,5.57805,5.578,5.57795,5.5779,5.57787,5.57784,5.57779,5.57776,5.57766,5.57765,5.57757,5.57756,5.57748,5.57742,5.57732,5.57731,5.57724,5.57716,5.57714,5.57713,5.57713,5.57702,5.577,5.57697,5.57693,5.57692,5.57686,5.57682,5.5768,5.57676,5.57662,5.57662,5.57657,5.57657,5.57652,5.5765,5.57649,5.5764,5.57636,5.57636,5.57632,5.5762,5.57619,5.5761,5.57608,5.57593,5.57593,5.57588,5.57585,5.57579,5.57577,5.57576,5.57564,5.57558,5.5755,5.57548,5.57546,5.5754,5.57534,5.57533,5.57533,5.57526,5.57521,5.5752,5.5752,5.57517,5.57517,5.57516,5.57515,5.57515,5.57512,5.5751100000000005,5.5751100000000005,5.57505,5.57502,5.575,5.5749200000000005,5.5749,5.5749,5.57487,5.57486,5.5748,5.57477,5.57465,5.57462,5.57462,5.57461,5.57458,5.57457,5.57452,5.57449,5.57447,5.57446,5.57443,5.57442,5.5744,5.57439,5.57415,5.57414,5.57413,5.57411,5.57398,5.57372,5.57396,5.57368,5.57388,5.57383,5.5738,5.57376,5.57366,5.57363,5.57363,5.57359,5.57349,5.57345,5.5734200000000005,5.57341,5.57338,5.57326,5.57325,5.57311,5.57311,5.5730900000000005,5.57307,5.57307,5.57305,5.57303,5.57279,5.57275,5.57271,5.57269,5.57245,5.57244,5.57242,5.57242,5.57241,5.57238,5.57238,5.57225,5.57225,5.5721,5.57201,5.57194,5.57186,5.5718,5.57176,5.57168,5.57165,5.57165,5.5715900000000005,5.57158,5.57158,5.57157,5.57156,5.57142,5.57137,5.57137,5.57137,5.57136,5.5713,5.5712600000000005,5.57125,5.57124,5.57119,5.57119,5.57114,5.57096,5.57095,5.57092,5.57091,5.5709,5.57079,5.57076,5.57075,5.57071,5.57069,5.57064,5.57063,5.57062,5.57061,5.57054,5.57053,5.57052,5.5705100000000005,5.57048,5.57046,5.57045,5.5704,5.57034,5.57033,5.57027,5.57025,5.57022,5.5701,5.57005,5.57005,5.56999,5.56999,5.56994,5.56988,5.56987,5.56986,5.56981,5.56978,5.5697,5.56969,5.56963,5.56947,5.56942,5.5694,5.56932,5.5693,5.56927,5.56921,5.5692,5.56916,5.56912,5.56909,5.56908,5.56904,5.56903,5.56882,5.56878,5.56878,5.5687,5.56865,5.56858,5.56857,5.56856,5.56849,5.56847,5.56844,5.56843,5.56839,5.56827,5.56814,5.56813,5.56809,5.56805,5.568,5.56797,5.56795,5.56792,5.56778,5.5678,5.5677900000000005,5.5677,5.56767,5.56766,5.56755,5.5675,5.56749,5.5674600000000005,5.56739,5.56735,5.56734,5.56734,5.56729,5.56722,5.5672,5.5671800000000005,5.56714,5.56711,5.56708,5.56705,5.56696,5.56696,5.56691,5.5669,5.56686,5.56682,5.56672,5.56668,5.56668,5.56665,5.56664,5.56663,5.56662,5.56651,5.56636,5.56632,5.5662400000000005,5.56623,5.56622,5.56601,5.56591,5.5659,5.56589,5.56588,5.56587,5.56584,5.56582,5.56566,5.56564,5.56557,5.56551,5.5654,5.56538,5.5653500000000005,5.56534,5.56526,5.56519,5.56519,5.56518,5.56516,5.56514,5.56512,5.56512,5.56503,5.565,5.56496,5.56494,5.5649,5.5649,5.56481,5.56478,5.56475,5.5646,5.56459,5.56458,5.56453,5.56452,5.56442,5.56437,5.56432,5.56432,5.56429,5.56421,5.56418,5.5641300000000005,5.56408,5.56406,5.56403,5.56399,5.56396,5.56395,5.56384,5.56383,5.56381,5.56378,5.56376,5.56374,5.56374,5.56374,5.56372,5.56371,5.56365,5.56363,5.56362,5.56355,5.56351,5.56348,5.56343,5.56338,5.56334,5.56331,5.56329,5.56328,5.56325,5.5632,5.56313,5.56307,5.56303,5.56299,5.56296,5.56294,5.56292,5.56288,5.56288,5.56284,5.5628,5.56274,5.5627,5.5627,5.56273,5.56267,5.56266,5.5626,5.56255,5.56253,5.56251,5.56235,5.56237,5.56233,5.56233,5.56229,5.56219,5.56228,5.56215,5.56209,5.56206,5.56208,5.56206,5.56205,5.56198,5.56198,5.5619700000000005,5.56192,5.5619,5.56186,5.56185,5.56182,5.5618,5.56179,5.56166,5.56166,5.56164,5.56161,5.56155,5.56153,5.56149,5.56145,5.56143,5.56139,5.56138,5.56134,5.56132,5.56127,5.56126,5.56126,5.56125,5.56123,5.5612,5.56118,5.56106,5.56104,5.56102,5.561,5.56098,5.56096,5.56091,5.56086,5.5608,5.56079,5.56077,5.56062,5.56057,5.56052,5.56046,5.5604,5.56039,5.56038,5.56038,5.56035,5.56033,5.5603,5.56029,5.56021,5.5601400000000005,5.56013,5.56012,5.56002,5.56002,5.55998,5.55997,5.55992,5.55989,5.55988,5.55987,5.5598600000000005,5.55985,5.55983,5.55979,5.55973,5.55971,5.5597,5.55967,5.55965,5.55963,5.55962,5.55959,5.55956,5.55955,5.5594,5.5593900000000005,5.5593900000000005,5.55931,5.55927,5.55934,5.55921,5.55921,5.55914,5.55914,5.55909,5.55903,5.55903,5.55894,5.5589200000000005,5.5588,5.55877,5.55868,5.55866,5.5586400000000005,5.55857,5.55856,5.55851,5.55846,5.55846,5.55845,5.55844,5.55843,5.55836,5.55829,5.55828,5.55827,5.55821,5.55816,5.55814,5.55813,5.55806,5.55805,5.55804,5.55802,5.55799,5.55794,5.5579,5.55772,5.55789,5.55786,5.55784,5.55782,5.55782,5.55776,5.55775,5.55775,5.55774,5.55758,5.55755,5.5575,5.55747,5.55746,5.55739,5.55738,5.55736,5.55731,5.55729,5.55715,5.55715,5.55715,5.55712,5.55711,5.55701,5.55701,5.55701,5.55698,5.55693,5.55685,5.55684,5.5568,5.55677,5.55677,5.55669,5.55653,5.5565,5.5564800000000005,5.55644,5.55629,5.55629,5.55629,5.55628,5.55622,5.5562000000000005,5.5562000000000005,5.55617,5.55617,5.55612,5.55609,5.55607,5.55605,5.55605,5.55598,5.5559,5.55589,5.55589,5.55583,5.55583,5.55578,5.55577,5.55577,5.55558,5.55568,5.55566,5.55565,5.55563,5.55561,5.55561,5.5555,5.55547,5.55544,5.5554,5.55537,5.55537,5.55535,5.55534,5.55525,5.55517,5.55517,5.55516,5.5551,5.55506,5.55505,5.55503,5.55501,5.55499,5.55496,5.55494,5.55494,5.55492,5.55484,5.55475,5.55474,5.55472,5.55466,5.5546500000000005,5.55464,5.55462,5.55462,5.55461,5.55458,5.55449,5.55447,5.55445,5.55444,5.55432,5.55429,5.55428,5.55425,5.55424,5.55424,5.55422,5.55421,5.55421,5.55414,5.55413,5.55413,5.5541,5.55408,5.55398,5.55394,5.55394,5.55391,5.55377,5.55372,5.55372,5.55364,5.55363,5.55362,5.55359,5.55359,5.55358,5.55355,5.55355,5.55353,5.55348,5.55345,5.5534,5.55327,5.55327,5.55325,5.55322,5.55317,5.55312,5.55312,5.5531,5.55308,5.55307,5.55307,5.55303,5.55301,5.55295,5.55291,5.5529,5.55289,5.55287,5.55285,5.55283,5.55283,5.55281,5.55278,5.55275,5.55275,5.55274,5.55273,5.55273,5.5526800000000005,5.5526800000000005,5.55267,5.55264,5.55264,5.55259,5.5525,5.5525,5.55249,5.55249,5.55247,5.55245,5.55244,5.5524,5.55238,5.55237,5.55236,5.5523,5.55226,5.55226,5.55225,5.55222,5.5522,5.55219,5.55218,5.55212,5.55212,5.55211,5.55205,5.55205,5.55197,5.55189,5.55186,5.55186,5.55184,5.55179,5.55176,5.55176,5.55174,5.55168,5.55161,5.55157,5.55151,5.55151,5.55149,5.55145,5.55144,5.55143,5.55141,5.55137,5.55136,5.55133,5.55128,5.55121,5.55119,5.55118,5.55117,5.55114,5.55107,5.55105,5.55104,5.551,5.55091,5.5509,5.5509,5.5508500000000005,5.55082,5.5508,5.55073,5.55073,5.55073,5.55072,5.55072,5.55066,5.55057,5.5505,5.55049,5.55048,5.55048,5.55046,5.55043,5.55037,5.5503,5.5503,5.55028,5.55025,5.55025,5.55022,5.55019,5.55019,5.55019,5.55018,5.55016,5.55016,5.55007,5.55007,5.55007,5.54999,5.54999,5.54996,5.54996,5.54994,5.54984,5.54984,5.54981,5.54981,5.5497700000000005,5.54975,5.54972,5.54971,5.54969,5.54961,5.54959,5.54959,5.54957,5.54952,5.54946,5.54943,5.54938,5.54937,5.54936,5.54934,5.54934,5.54932,5.54932,5.54921,5.54917,5.54919,5.54915,5.54914,5.54914,5.54914,5.54908,5.54906,5.5490200000000005,5.54899,5.54898,5.54889,5.5488800000000005,5.54887,5.54887,5.54874,5.54872,5.54863,5.54863,5.5486,5.54856,5.54854,5.54847,5.54847,5.54846,5.54846,5.54844,5.54843,5.54843,5.54839,5.54837,5.54833,5.54821,5.54815,5.54815,5.54814,5.54812,5.5481,5.54809,5.54809,5.54804,5.54804,5.548,5.54793,5.54792,5.54791,5.54791,5.54784,5.54783,5.54779,5.54776,5.54775,5.54775,5.54772,5.54771,5.5477,5.54769,5.54764,5.54757,5.54755,5.54753,5.54751,5.54747,5.54746,5.54745,5.54745,5.54744,5.54744,5.54743,5.54739,5.54738,5.54735,5.54729,5.54726,5.54723,5.54723,5.54722,5.5472,5.5472,5.5472,5.54717,5.54716,5.54714,5.54711,5.54704,5.5470500000000005,5.5470500000000005,5.54702,5.54701,5.54694,5.54689,5.54685,5.54679,5.54678,5.54678,5.54678,5.54677,5.54677,5.54676,5.54671,5.5467,5.54666,5.54665,5.54665,5.54663,5.54662,5.5466,5.5466,5.54657,5.54654,5.54652,5.54651,5.5465,5.54648,5.54647,5.54647,5.54643,5.54632,5.54628,5.54627,5.54625,5.54623,5.54622,5.54621,5.5462,5.54617,5.54614,5.54614,5.54609,5.54608,5.54604,5.54603,5.54601,5.546,5.54599,5.54593,5.54592,5.54591,5.5459,5.5459,5.54589,5.54587,5.54585,5.54579,5.54574,5.54573,5.54567,5.5456,5.54557,5.54551,5.54551,5.54543,5.54543,5.5454,5.54537,5.54533,5.54532,5.54528,5.54528,5.54525,5.54523,5.5452200000000005,5.5452,5.5452,5.54519,5.54518,5.54512,5.5451,5.54509,5.54509,5.54507,5.54506,5.54505,5.545,5.54498,5.54497,5.54496,5.54495,5.54494,5.5448900000000005,5.5449,5.5448900000000005,5.5448900000000005,5.54487,5.54485,5.54482,5.54477,5.54474,5.54471,5.5447,5.54469,5.54467,5.5446,5.5446,5.5446,5.54456,5.54451,5.54451,5.5445,5.54445,5.5442800000000005,5.54426,5.54418,5.54417,5.54411,5.5441,5.54409,5.54405,5.54403,5.5440000000000005,5.5440000000000005,5.54398,5.54397,5.54397,5.54396,5.54395,5.54395,5.54393,5.54391,5.54389,5.54383,5.54382,5.54381,5.54379,5.54375,5.54375,5.54373,5.54371,5.5437,5.5437,5.54368,5.5436700000000005,5.5436700000000005,5.54366,5.54366,5.54366,5.54365,5.54361,5.5436,5.54358,5.54358,5.54358,5.54358,5.54348,5.54345,5.54343,5.5434,5.54336,5.54335,5.54334,5.54333,5.54331,5.54323,5.54322,5.54321,5.54321,5.54319,5.54318,5.54317,5.54316,5.54312,5.54311,5.54308,5.54307,5.5430600000000005,5.54302,5.54301,5.54297,5.54296,5.54291,5.54287,5.54283,5.5428,5.54275,5.54275,5.54273,5.54269,5.54268,5.54268,5.54267,5.54265,5.54263,5.54263,5.54261,5.5426,5.54259,5.54257,5.54255,5.54254,5.54253,5.54252,5.5425,5.54249,5.54249,5.54248,5.54248,5.54247,5.54247,5.54241,5.54239,5.54239,5.54238,5.54237,5.54236,5.54235,5.54234,5.54234,5.54234,5.54233,5.5423100000000005,5.5423,5.54227,5.54214,5.54213,5.54209,5.54207,5.5420300000000005,5.54202,5.54198,5.54197,5.54195,5.54194,5.54194,5.5419,5.5419,5.54188,5.54187,5.5418400000000005,5.5418400000000005,5.54182,5.54174,5.54171,5.5417000000000005,5.54166,5.54165,5.54164,5.5416,5.54159,5.54157,5.54153,5.54153,5.54147,5.54144,5.54144,5.54141,5.54137,5.54135,5.54133,5.54133,5.54131,5.5413,5.5413,5.5412,5.54114,5.5410900000000005,5.54108,5.54108,5.54108,5.54107,5.54105,5.54104,5.54102,5.54101,5.541,5.5409500000000005,5.5408,5.54094,5.54079,5.54093,5.54089,5.54078,5.54078,5.54078,5.54076,5.54088,5.54087,5.54085,5.54079,5.54075,5.54073,5.54067,5.54058,5.54059,5.54053,5.54052,5.54044,5.54039,5.54038,5.54038,5.54041,5.54036,5.54039,5.54035,5.54035,5.5403400000000005,5.54033,5.54032,5.54031,5.54032,5.54029,5.54029,5.54028,5.54028,5.54026,5.54026,5.54026,5.54024,5.54024,5.54024,5.54024,5.54025,5.54022,5.54018,5.54015,5.54018,5.54018,5.54017,5.5401,5.54006,5.54013,5.54005,5.54015,5.54004,5.54013,5.54001,5.53997,5.53991,5.53988,5.5398700000000005,5.53986,5.53984,5.53978,5.53976,5.53975,5.5397300000000005,5.53972,5.5397,5.53969,5.53969,5.53966,5.53966,5.53964,5.53962,5.5395900000000005,5.53949,5.53948,5.53947,5.53945,5.53943,5.53942,5.5394,5.53939,5.53939,5.53936,5.53935,5.53934,5.53929,5.5392600000000005,5.5392,5.53917,5.53916,5.53915,5.53907,5.53904,5.53893,5.53892,5.53891,5.53889,5.53877,5.53864,5.53858,5.5386500000000005,5.53862,5.53848,5.53858,5.53847,5.53845,5.53853,5.53842,5.53849,5.53849,5.53844,5.53838,5.53843,5.53834,5.53832,5.5383,5.53829,5.5382,5.53819,5.53819,5.53818,5.53818,5.53815,5.53814,5.5381,5.5381,5.5381,5.53806,5.5380400000000005,5.53802,5.53798,5.53795,5.53795,5.53794,5.53794,5.53792,5.53789,5.53787,5.53783,5.53783,5.53782,5.53778,5.53778,5.5377600000000005,5.53773,5.5377,5.5377,5.5377,5.53766,5.53765,5.53758,5.53754,5.53754,5.53751,5.53751,5.5375,5.53748,5.5374300000000005,5.53742,5.53741,5.53741,5.53741,5.53735,5.53735,5.53735,5.53733,5.53733,5.53732,5.53731,5.53731,5.53731,5.5373,5.5373,5.5373,5.5372900000000005,5.5372900000000005,5.53722,5.53722,5.53721,5.53721,5.5372,5.53716,5.5371500000000005,5.5371500000000005,5.53714,5.53711,5.5371,5.53709,5.53709,5.53708,5.53703,5.53703,5.53701,5.53701,5.537,5.53693,5.53691,5.53691,5.53691,5.53688,5.53687,5.53684,5.53683,5.5368200000000005,5.53681,5.5368,5.5368,5.53677,5.53677,5.53677,5.5367,5.5367,5.53669,5.5366800000000005,5.53666,5.53665,5.53663,5.53663,5.53662,5.5366,5.53656,5.53655,5.53655,5.5365400000000005,5.5365400000000005,5.53652,5.53651,5.53651,5.53648,5.53648,5.53645,5.53644,5.53642,5.53642,5.53641,5.5364,5.53639,5.53635,5.53629,5.53626,5.53625,5.53625,5.53623,5.5362100000000005,5.5362,5.53617,5.53617,5.53616,5.53615,5.53612,5.53612,5.53612,5.53609,5.53608,5.53606,5.53606,5.53603,5.53601,5.53598,5.53598,5.53598,5.53597,5.53591,5.53587,5.53585,5.53583,5.53582,5.53578,5.53578,5.53577,5.53575,5.53574,5.53573,5.53572,5.5357,5.5357,5.53568,5.53566,5.53563,5.53558,5.53562,5.53554,5.53557,5.53552,5.53555,5.53551,5.53551,5.53551,5.53549,5.53547,5.5354600000000005,5.53543,5.53542,5.53538,5.53537,5.5353200000000005,5.5353,5.5353,5.53529,5.53523,5.53523,5.53523,5.53522,5.53519,5.53517,5.53516,5.53513,5.53507,5.53505,5.53504,5.535,5.5349900000000005,5.5349,5.53497,5.53494,5.53493,5.53491,5.53486,5.53483,5.53474,5.53473,5.53473,5.53467,5.53462,5.5346,5.5346,5.53457,5.53457,5.53456,5.53456,5.53455,5.53454,5.53454,5.53454,5.53453,5.53452,5.53452,5.53451,5.5345,5.53448,5.53446,5.53446,5.53445,5.53445,5.5344,5.53439,5.53437,5.53435,5.53433,5.53433,5.53433,5.53431,5.5343,5.5343,5.53429,5.53426,5.53423,5.53422,5.53421,5.53419,5.53417,5.53414,5.53414,5.53414,5.53413,5.53407,5.53407,5.53406,5.53405,5.53402,5.53397,5.53395,5.53393,5.53391,5.5339,5.5339,5.53389,5.53389,5.53389,5.53389,5.53385,5.53385,5.53383,5.5338,5.53379,5.53378,5.5337700000000005,5.53376,5.53374,5.53373,5.53372,5.53372,5.53368,5.53367,5.53364,5.53364,5.53362,5.53359,5.53359,5.53358,5.53357,5.53356,5.53351,5.5335,5.53346,5.53346,5.53346,5.53344,5.53343,5.5334,5.53339,5.53338,5.53338,5.53337,5.53336,5.53334,5.5333,5.53329,5.53329,5.53327,5.53323,5.53322,5.53315,5.53311,5.53311,5.53311,5.53308,5.53309,5.53307,5.53307,5.53306,5.53305,5.5330200000000005,5.53297,5.53297,5.53294,5.53293,5.53291,5.53286,5.53286,5.53282,5.53282,5.53281,5.5328,5.53279,5.53279,5.53279,5.53276,5.53275,5.53273,5.5327,5.5327,5.53266,5.53264,5.53264,5.53263,5.53256,5.5325,5.53249,5.53248,5.53243,5.53246,5.53238,5.53238,5.53237,5.53234,5.53234,5.53232,5.53233,5.53232,5.53226,5.53226,5.53223,5.53223,5.53219,5.53208,5.53217,5.53206,5.53204,5.5321,5.53208,5.53206,5.53203,5.53205,5.53202,5.53203,5.53203,5.53201,5.53202,5.532,5.532,5.53199,5.53197,5.53195,5.53196,5.53192,5.5319400000000005,5.5319,5.53186,5.53186,5.53184,5.53183,5.53182,5.53181,5.53181,5.53179,5.53177,5.53173,5.53172,5.53168,5.53172,5.5316600000000005,5.53163,5.53161,5.5316,5.5316,5.53159,5.53159,5.53157,5.53155,5.53154,5.53152,5.5315,5.53147,5.53144,5.53143,5.53142,5.53142,5.53141,5.53141,5.53136,5.53139,5.53135,5.5313300000000005,5.53132,5.53131,5.53129,5.53128,5.53127,5.53126,5.53125,5.53115,5.53114,5.53111,5.53109,5.53107,5.53106,5.53106,5.53102,5.53101,5.531,5.53098,5.53097,5.53096,5.53094,5.53094,5.53093,5.5309,5.5308,5.5308,5.5308,5.5308,5.53078,5.53077,5.53077,5.53069,5.53067,5.53066,5.53066,5.53065,5.5306,5.5306,5.53059,5.53056,5.53056,5.53053,5.53049,5.53046,5.53045,5.53045,5.53041,5.53037,5.53034,5.53034,5.53032,5.5303,5.53029,5.53026,5.53026,5.53024,5.53019,5.53018,5.53018,5.5301100000000005,5.5301,5.5301,5.53009,5.53008,5.53008,5.53004,5.53003,5.53001,5.52993,5.52988,5.52986,5.52986,5.52986,5.5298300000000005,5.52976,5.52975,5.52974,5.5297,5.52969,5.52968,5.52967,5.52962,5.52962,5.52959,5.52955,5.52954,5.52953,5.5295,5.52949,5.52947,5.52947,5.52946,5.52945,5.52942,5.52934,5.52932,5.52931,5.52931,5.52926,5.52923,5.52921,5.5292,5.52917,5.52917,5.52917,5.52916,5.52915,5.52913,5.5291,5.52906,5.52904,5.52904,5.52899,5.52897,5.52895,5.52893,5.52891,5.5289,5.5288900000000005,5.52888,5.52888,5.52887,5.52883,5.52882,5.52877,5.52877,5.52877,5.52874,5.52872,5.52866,5.52864,5.52863,5.52841,5.52856,5.52858,5.5286,5.52852,5.5285,5.5285,5.52849,5.52849,5.52845,5.52845,5.52843,5.52841,5.52835,5.52833,5.52833,5.5283,5.5283,5.5282800000000005,5.52827,5.52825,5.52824,5.52819,5.52817,5.52816,5.5281400000000005,5.52815,5.52813,5.52803,5.5280000000000005,5.5280000000000005,5.52798,5.52796,5.52795,5.52793,5.5279,5.5279,5.5279,5.52789,5.52789,5.52785,5.52785,5.52784,5.52784,5.52781,5.5278,5.5278,5.52777,5.52777,5.52776,5.52773,5.52772,5.52765,5.52762,5.52761,5.5276,5.5276,5.52759,5.52757,5.52757,5.52756,5.52756,5.52755,5.52752,5.52752,5.52752,5.52752,5.52751,5.52749,5.52746,5.52745,5.52744,5.52741,5.5273900000000005,5.5273900000000005,5.52738,5.52735,5.52731,5.52731,5.5273,5.5273,5.52728,5.52726,5.52724,5.52723,5.52722,5.52722,5.52719,5.52719,5.52713,5.52713,5.52711,5.52708,5.52708,5.5270600000000005,5.52705,5.52704,5.52704,5.52701,5.52701,5.527,5.527,5.52696,5.52695,5.52695,5.5269200000000005,5.5269200000000005,5.52691,5.52687,5.52686,5.52683,5.5268,5.52681,5.52679,5.52671,5.5267,5.52669,5.52666,5.52664,5.52663,5.52663,5.52663,5.52662,5.52662,5.52661,5.52661,5.52659,5.52657,5.52654,5.52653,5.52653,5.52653,5.52648,5.52647,5.52646,5.52644,5.52638,5.52644,5.52643,5.52642,5.52641,5.52641,5.5264,5.52639,5.52636,5.52633,5.5263100000000005,5.52625,5.52621,5.52618,5.52618,5.5261700000000005,5.52602,5.5261700000000005,5.52616,5.526,5.52611,5.52609,5.52606,5.52604,5.526,5.52598,5.52597,5.52591,5.52589,5.52588,5.52587,5.52585,5.5258400000000005,5.52582,5.52582,5.52582,5.52581,5.52579,5.52576,5.52575,5.52573,5.52568,5.52573,5.52572,5.52567,5.52567,5.52564,5.52563,5.52563,5.52548,5.52547,5.52562,5.5255600000000005,5.52538,5.5254,5.52532,5.52537,5.52536,5.52527,5.52532,5.5252300000000005,5.52529,5.52521,5.5252,5.52516,5.52516,5.52505,5.52505,5.52503,5.52503,5.52503,5.52512,5.52502,5.5251,5.52507,5.52498,5.52506,5.5249500000000005,5.525,5.52491,5.52492,5.52489,5.52497,5.52489,5.52494,5.52493,5.52485,5.52491,5.52483,5.5249,5.52481,5.52478,5.52477,5.52476,5.52471,5.52468,5.52468,5.52468,5.52467,5.52465,5.52465,5.52464,5.52463,5.52453,5.52453,5.52449,5.5244800000000005,5.52444,5.52444,5.52441,5.52441,5.5244,5.5244,5.5244,5.5243400000000005,5.52437,5.5243,5.5243,5.5243,5.52427,5.52425,5.52423,5.52422,5.52422,5.52418,5.52418,5.52417,5.52411,5.5241,5.52406,5.52407,5.52405,5.52403,5.52398,5.52396,5.52394,5.52393,5.52392,5.52392,5.5239,5.52386,5.52384,5.52379,5.52377,5.52374,5.52374,5.52374,5.5236,5.52372,5.52374,5.52369,5.52368,5.52368,5.52367,5.52366,5.52366,5.52366,5.52364,5.52363,5.52356,5.52356,5.52352,5.52349,5.52349,5.52347,5.52343,5.52338,5.52335,5.5233,5.52329,5.52327,5.52335,5.52325,5.52334,5.52325,5.52333,5.52333,5.52333,5.52323,5.52321,5.52314,5.52325,5.5231200000000005,5.52311,5.52311,5.52308,5.52305,5.52302,5.52298,5.52293,5.52291,5.52288,5.52285,5.52285,5.52283,5.5227900000000005,5.52276,5.52276,5.52275,5.52272,5.5227,5.52268,5.52267,5.5226500000000005,5.52266,5.52266,5.5226500000000005,5.52263,5.52263,5.52258,5.52257,5.52252,5.5225100000000005,5.52242,5.52247,5.52247,5.52247,5.52244,5.52242,5.52242,5.52236,5.52232,5.52231,5.5223,5.52229,5.52227,5.52225,5.52224,5.5222,5.5222,5.52214,5.52213,5.52208,5.52205,5.52201,5.52201,5.522,5.52199,5.52191,5.5219000000000005,5.52198,5.5219000000000005,5.52189,5.52197,5.52196,5.52194,5.52197,5.52186,5.52189,5.52183,5.52183,5.5218,5.52179,5.52178,5.52171,5.52166,5.52163,5.52163,5.52161,5.52162,5.52161,5.52159,5.52159,5.52158,5.52152,5.52152,5.52156,5.52148,5.52153,5.52147,5.52146,5.52144,5.5214300000000005,5.5214300000000005,5.52142,5.5214,5.52137,5.52137,5.52137,5.52135,5.52135,5.52133,5.52131,5.5212900000000005,5.5212900000000005,5.52128,5.52128,5.52128,5.52123,5.52122,5.52121,5.5212,5.52119,5.52118,5.52115,5.52111,5.52108,5.52098,5.52098,5.52107,5.52098,5.52101,5.52105,5.52098,5.52095,5.52094,5.52101,5.52093,5.52088,5.52087,5.52081,5.5208,5.52079,5.52079,5.52078,5.52077,5.52076,5.52076,5.52075,5.52073,5.52073,5.52072,5.52071,5.52069,5.52067,5.52072,5.52066,5.52065,5.52064,5.52063,5.52062,5.5206,5.52059,5.52058,5.52056,5.52053,5.52049,5.52041,5.52041,5.5204,5.5204,5.52039,5.52036,5.52036,5.52042,5.52041,5.52032,5.5203,5.52029,5.52028,5.52025,5.52024,5.52024,5.52023,5.52022,5.5202100000000005,5.5202100000000005,5.52019,5.52017,5.52014,5.52011,5.52009,5.52008,5.51994,5.52004,5.52004,5.51998,5.5199,5.51999,5.51987,5.51987,5.51999,5.51985,5.51997,5.51976,5.5197400000000005,5.51973,5.51972,5.51972,5.51969,5.51969,5.51969,5.51959,5.51959,5.51957,5.51953,5.51952,5.5195,5.51949,5.51949,5.51948,5.51948,5.5194600000000005,5.5194600000000005,5.51941,5.51926,5.51925,5.51931,5.5193,5.51928,5.51918,5.51928,5.51927,5.51927,5.51926,5.51916,5.51916,5.51916,5.51916,5.51914,5.51914,5.51912,5.5191,5.51908,5.51905,5.51901,5.519,5.51898,5.51897,5.51895,5.51892,5.51891,5.5189,5.51887,5.51887,5.51887,5.51886,5.51884,5.51882,5.51882,5.51878,5.51878,5.51876,5.51875,5.51874,5.51869,5.51873,5.51872,5.51872,5.51868,5.51871,5.51868,5.51868,5.51866,5.51866,5.51865,5.51861,5.51858,5.51856,5.51855,5.51854,5.51848,5.51848,5.51842,5.51841,5.51837,5.51836,5.51836,5.51835,5.51835,5.51833,5.51832,5.5183,5.5183,5.51819,5.51819,5.51818,5.51818,5.51817,5.51827,5.51823,5.51822,5.51799,5.51812,5.51812,5.51798,5.51809,5.51807,5.51805,5.51804,5.51804,5.51803,5.51803,5.51801,5.51799,5.51799,5.51798,5.51794,5.51793,5.51792,5.51792,5.51787,5.51785,5.51783,5.51782,5.5178,5.51775,5.51775,5.51775,5.51775,5.51774,5.51774,5.51772,5.51771,5.51769,5.51768,5.51768,5.51766,5.51765,5.5177,5.51764,5.5176300000000005,5.51761,5.51758,5.51758,5.51755,5.51749,5.51747,5.51737,5.51736,5.51731,5.51731,5.51731,5.5173,5.51721,5.51718,5.51714,5.51713,5.51713,5.51711,5.5171,5.51708,5.51707,5.51715,5.51705,5.51715,5.51703,5.5170200000000005,5.51711,5.5170200000000005,5.5171,5.51709,5.51699,5.51709,5.51706,5.51697,5.51694,5.51693,5.51691,5.5169,5.5168800000000005,5.51685,5.51684,5.51684,5.51684,5.51679,5.51679,5.51677,5.51673,5.5166900000000005,5.5166900000000005,5.51665,5.51661,5.51657,5.51656,5.51651,5.51649,5.51646,5.51646,5.5165,5.51657,5.51649,5.51644,5.51643,5.5164100000000005,5.5164,5.51638,5.51637,5.51636,5.5163,5.51629,5.51628,5.5162700000000005,5.51625,5.51625,5.51624,5.51622,5.51622,5.51621,5.5162,5.5162,5.5162,5.51618,5.51618,5.51612,5.51612,5.51617,5.51606,5.51605,5.51603,5.51602,5.51601,5.51593,5.51598,5.51602,5.51599,5.51596,5.51595,5.51588,5.51595,5.51592,5.51592,5.51598,5.51592,5.51597,5.51585,5.51584,5.51583,5.51581,5.51577,5.51575,5.5157,5.51572,5.51568,5.51567,5.5156600000000005,5.51562,5.5156,5.5156,5.51551,5.51551,5.51548,5.51548,5.5154700000000005,5.5154700000000005,5.51546,5.51542,5.51542,5.51539,5.51539,5.51539,5.51538,5.51545,5.51536,5.51544,5.51544,5.51535,5.51534,5.51531,5.5153,5.51528,5.51528,5.51527,5.51525,5.51525,5.51527,5.51524,5.5151900000000005,5.5151900000000005,5.51517,5.51515,5.51513,5.51509,5.51507,5.5150500000000005,5.5150500000000005,5.51503,5.51502,5.51498,5.51498,5.5149,5.51482,5.5148600000000005,5.51487,5.51477,5.51476,5.51471,5.51469,5.51465,5.5146,5.51459,5.51459,5.51459,5.5145800000000005,5.51456,5.51455,5.51454,5.51453,5.51452,5.51451,5.51447,5.51446,5.5144400000000005,5.51443,5.51442,5.51441,5.51441,5.5144,5.51439,5.51437,5.51434,5.51433,5.51432,5.51428,5.51424,5.51422,5.51421,5.51421,5.51421,5.51419,5.51419,5.51419,5.51417,5.51416,5.51415,5.51415,5.51413,5.5141100000000005,5.5141,5.51409,5.51405,5.51404,5.51404,5.51403,5.51403,5.5139700000000005,5.51396,5.51396,5.51387,5.51394,5.51393,5.51391,5.51391,5.51391,5.51386,5.51389,5.5138300000000005,5.51388,5.5138300000000005,5.51382,5.51377,5.51376,5.51374,5.51373,5.51368,5.51368,5.51368,5.51367,5.51367,5.51357,5.51357,5.51351,5.51351,5.51348,5.51347,5.51347,5.51345,5.51343,5.51343,5.51341,5.5134,5.51338,5.51338,5.51337,5.5133600000000005,5.5133600000000005,5.51335,5.51334,5.51333,5.51329,5.51329,5.51302,5.51325,5.5132200000000005,5.5132200000000005,5.5132,5.51317,5.51317,5.51315,5.51314,5.51313,5.51308,5.51306,5.51301,5.51299,5.51297,5.51295,5.51293,5.51293,5.5128900000000005,5.51287,5.51287,5.51286,5.51282,5.51282,5.5128,5.51277,5.51277,5.51273,5.51272,5.51272,5.5127,5.51269,5.51265,5.51268,5.51258,5.51258,5.51254,5.51251,5.51247,5.51233,5.51242,5.5123,5.5122800000000005,5.51237,5.51236,5.51235,5.51223,5.51221,5.51217,5.5121400000000005,5.5121400000000005,5.51213,5.51212,5.51212,5.51211,5.51211,5.51209,5.51208,5.51208,5.51206,5.51206,5.51205,5.51203,5.51199,5.51197,5.51196,5.51196,5.5120000000000005,5.51194,5.51193,5.51191,5.51191,5.51186,5.51184,5.51183,5.51182,5.51182,5.51181,5.51179,5.51179,5.51178,5.51177,5.51175,5.51169,5.51168,5.5116700000000005,5.51165,5.51148,5.51165,5.51148,5.51148,5.51163,5.51147,5.51162,5.51145,5.5116,5.51161,5.51158,5.51156,5.51154,5.5117,5.51143,5.5114,5.51138,5.51137,5.51145,5.51134,5.51134,5.5113,5.5114,5.5113,5.51128,5.51128,5.51125,5.51135,5.51124,5.51123,5.51134,5.51121,5.51133,5.51119,5.51118,5.51117,5.51115,5.51095,5.51109,5.51108,5.51095,5.51095,5.51105,5.51104,5.51103,5.51091,5.5109,5.51086,5.51086,5.51085,5.51085,5.51083,5.51083,5.51083,5.5108,5.51069,5.51067,5.51066,5.5106,5.51056,5.51054,5.5105,5.51047,5.51046,5.51046,5.5104500000000005,5.51043,5.51043,5.51034,5.51032,5.5103,5.51029,5.51027,5.51027,5.51026,5.51026,5.51024,5.51024,5.51023,5.51022,5.51019,5.5101700000000005,5.5101700000000005,5.51015,5.51013,5.5101700000000005,5.51012,5.51012,5.50995,5.50993,5.50989,5.51001,5.51,5.50999,5.50997,5.50995,5.50998,5.50987,5.50987,5.50986,5.50977,5.50985,5.50985,5.5098,5.50977,5.50973,5.50971,5.50966,5.50964,5.50964,5.50963,5.50963,5.50962,5.50962,5.50958,5.50948,5.50948,5.50947,5.50944,5.50944,5.50943,5.50941,5.50937,5.50929,5.5092300000000005,5.50922,5.50921,5.50917,5.50916,5.50915,5.50903,5.50902,5.509,5.509,5.50899,5.50898,5.50897,5.50897,5.50896,5.50896,5.50884,5.5089500000000005,5.5089500000000005,5.50878,5.50891,5.50889,5.50889,5.50888,5.50886,5.50886,5.50886,5.50886,5.50886,5.50884,5.5088,5.50875,5.50872,5.5087,5.50872,5.50865,5.50863,5.50859,5.50879,5.50878,5.50876,5.50856,5.50873,5.50853,5.50851,5.5084,5.5084,5.5084,5.50837,5.5082,5.50828,5.50827,5.50826,5.50823,5.50823,5.50816,5.50812,5.50809,5.50809,5.50808,5.50805,5.50805,5.50804,5.50804,5.50802,5.50798,5.50798,5.50797,5.50796,5.50795,5.50791,5.5079,5.50788,5.5078700000000005,5.50782,5.50781,5.5078,5.5078,5.50779,5.50779,5.50778,5.50776,5.50774,5.50774,5.50769,5.50767,5.50764,5.50763,5.50763,5.50762,5.5076,5.5076,5.50756,5.50756,5.50753,5.50752,5.50748,5.50747,5.50747,5.50745,5.50759,5.50745,5.5074000000000005,5.50739,5.50739,5.50737,5.50737,5.50736,5.50732,5.50729,5.50721,5.50716,5.50715,5.50714,5.50713,5.5071200000000005,5.50709,5.50709,5.50708,5.50708,5.50705,5.50704,5.50703,5.50703,5.50702,5.50698,5.50697,5.50694,5.50693,5.50689,5.50689,5.50689,5.50688,5.50681,5.5068,5.50685,5.50678,5.50678,5.50673,5.50667,5.50664,5.50657,5.50655,5.50655,5.50655,5.50653,5.50653,5.50652,5.5065,5.50649,5.50648,5.50647,5.50645,5.50645,5.5064,5.5064,5.50635,5.50633,5.50633,5.50628,5.50624,5.50624,5.50623,5.50621,5.5062,5.50615,5.50614,5.50614,5.5061,5.50603,5.50602,5.50601,5.50599,5.50595,5.50591,5.50589,5.50589,5.50587,5.50579,5.50578,5.50571,5.50579,5.50569,5.50563,5.50559,5.50559,5.50556,5.50555,5.50553,5.50553,5.5055,5.50548,5.50546,5.50541,5.50535,5.50532,5.50532,5.50531,5.50528,5.50527,5.50525,5.50513,5.50513,5.5051,5.50515,5.5051,5.50511,5.50506,5.5048200000000005,5.50503,5.50505,5.505,5.505,5.50498,5.5049600000000005,5.50495,5.50489,5.50487,5.50487,5.50485,5.50476,5.50475,5.50473,5.50469,5.50467,5.50466,5.50466,5.50448,5.50465,5.50462,5.50453,5.50451,5.5045,5.50448,5.50453,5.50458,5.50452,5.50446,5.50443,5.50443,5.50436,5.50436,5.5043500000000005,5.50432,5.50431,5.50427,5.50424,5.50418,5.50414,5.5041,5.5040700000000005,5.5040700000000005,5.50401,5.50398,5.50398,5.50397,5.50394,5.5039,5.50397,5.50394,5.50397,5.50373,5.50394,5.50367,5.50384,5.50383,5.50381,5.5038,5.50379,5.50381,5.50377,5.50375,5.5037400000000005,5.50369,5.50363,5.50361,5.5036000000000005,5.50358,5.50358,5.50351,5.50348,5.50343,5.50342,5.5034,5.50335,5.5033,5.50351,5.50351,5.50301,5.50319,5.50318,5.50318,5.5031300000000005,5.50314,5.50312,5.5031,5.50306,5.50305,5.50301,5.50298,5.50296,5.5031300000000005,5.50295,5.50294,5.50276,5.50291,5.50291,5.50274,5.50274,5.50277,5.50266,5.50266,5.50251,5.50265,5.50265,5.50248,5.50264,5.50262,5.50265,5.50259,5.50257,5.50251,5.50249,5.50243,5.50254,5.50242,5.50241,5.50237,5.50236,5.50234,5.5022400000000005,5.5022400000000005,5.50218,5.50217,5.50226,5.50226,5.50225,5.50211,5.50207,5.50207,5.50206,5.50203,5.502,5.50197,5.50192,5.50192,5.5017700000000005,5.50189,5.50185,5.5017700000000005,5.5017700000000005,5.5017700000000005,5.50171,5.50176,5.50175,5.50172,5.50169,5.50165,5.50162,5.50159,5.50155,5.50148,5.50148,5.50148,5.50147,5.50147,5.50137,5.50133,5.50142,5.5014,5.50119,5.50123,5.50118,5.50113,5.50117,5.50095,5.5010200000000005,5.50091,5.50099,5.50099,5.50097,5.50097,5.50092,5.50092,5.50081,5.50088,5.50088,5.50088,5.50088,5.50082,5.50072,5.50076,5.50076,5.50074,5.5007,5.50063,5.50061,5.50059,5.50059,5.5005500000000005,5.50053,5.50047,5.50051,5.50047,5.5003,5.50032,5.50035,5.50031,5.5003,5.50029,5.50024,5.50015,5.50009,5.50004,5.49982,5.49988,5.49984,5.49982,5.49982,5.4998000000000005,5.49977,5.49977,5.49971,5.49971,5.49969,5.49953,5.49963,5.49962,5.49942,5.49941,5.49941,5.49935,5.49935,5.49935,5.49935,5.49925,5.49931,5.49924,5.49918,5.49911,5.49904,5.49901,5.49895,5.4989,5.49886,5.49884,5.49883,5.49882,5.4987200000000005,5.49876,5.49876,5.4987,5.4987,5.49869,5.49864,5.49862,5.49854,5.49854,5.49853,5.49847,5.49839,5.49838,5.49838,5.49837,5.49835,5.49833,5.49831,5.49825,5.49824,5.49824,5.49824,5.49823,5.49823,5.49819,5.49819,5.49818,5.49812,5.4981100000000005,5.4981100000000005,5.49806,5.49806,5.49805,5.49801,5.49799,5.49796,5.49794,5.49793,5.49784,5.49781,5.4978,5.49771,5.49765,5.49764,5.49762,5.49751,5.4975,5.49741,5.49748,5.49747,5.4974,5.49733,5.49734,5.49727,5.49723,5.49722,5.49722,5.49716,5.4972,5.49706,5.49708,5.49705,5.49698,5.49698,5.49697,5.49688,5.49685,5.4968,5.49679,5.49646,5.49674,5.4966800000000005,5.49672,5.4967,5.49669,5.49647,5.4966,5.49655,5.49654,5.49653,5.49652,5.49641,5.49637,5.49637,5.49631,5.49629,5.49626,5.49589,5.49618,5.49609,5.49616,5.49616,5.49615,5.49615,5.49582,5.49603,5.49612,5.49612,5.49608,5.49604,5.49597,5.49594,5.49592,5.49591,5.49587,5.49599,5.49583,5.4958,5.4958,5.49566,5.49574,5.49568,5.49557,5.49537,5.49556,5.4955300000000005,5.49551,5.4950600000000005,5.4955,5.49536,5.49534,5.49534,5.49522,5.49512,5.49521,5.49517,5.4950600000000005,5.49505,5.49497,5.49497,5.4949200000000005,5.49489,5.49487,5.4948500000000005,5.49484,5.49481,5.49467,5.49477,5.49472,5.49435,5.49463,5.49459,5.49458,5.49455,5.49449,5.49444,5.49443,5.49439,5.49433,5.49437,5.49436,5.49436,5.49433,5.49404,5.49397,5.49391,5.49379,5.49382,5.49381,5.49378,5.49369,5.49369,5.49364,5.49351,5.49351,5.49337,5.49337,5.49336,5.49324,5.49333,5.49332,5.49326,5.49325,5.4932300000000005,5.4932300000000005,5.49314,5.49314,5.49318,5.49314,5.49308,5.4930900000000005,5.4930900000000005,5.49308,5.49301,5.4928,5.49283,5.4928,5.49276,5.49275,5.49269,5.49263,5.4926200000000005,5.49259,5.49257,5.49249,5.49247,5.49247,5.49244,5.49237,5.49237,5.49232,5.49229,5.49222,5.49216,5.492,5.49198,5.49189,5.49189,5.49188,5.49188,5.4918,5.49179,5.49176,5.4917,5.49174,5.49173,5.49162,5.49168,5.49152,5.49145,5.49145,5.49144,5.49132,5.49128,5.49117,5.49117,5.49111,5.49107,5.49102,5.49096,5.49086,5.49078,5.4907,5.49068,5.49066,5.49062,5.49058,5.49055,5.49042,5.49042,5.49041,5.49033,5.49025,5.4902,5.49019,5.49014,5.49011,5.49006,5.48998,5.48994,5.48995,5.48987,5.48986,5.48976,5.48973,5.48973,5.48966,5.48967,5.48949,5.48961,5.48961,5.48959,5.4894300000000005,5.48941,5.48937,5.48936,5.48934,5.48929,5.48923,5.48923,5.48923,5.48912,5.4891,5.48898,5.48888,5.48876,5.48879,5.48874,5.48874,5.48872,5.48861,5.4886,5.4885,5.48856,5.48856,5.48851,5.48851,5.48847,5.48845,5.48842,5.48833,5.48825,5.48815,5.48819,5.48818,5.48817,5.48808,5.48796,5.48793,5.48783,5.4878,5.48776,5.4873,5.48727,5.48723,5.48722,5.48719,5.48701,5.48677,5.48671,5.48659,5.48664,5.4866,5.48657,5.48655,5.48654,5.48635,5.48639,5.48637,5.48624,5.48606,5.48602,5.486,5.48596,5.48594,5.48579,5.48557,5.48569,5.48564,5.48552,5.48551,5.48547,5.48534,5.48525,5.48513,5.48512,5.48511,5.48506,5.48504,5.485,5.48499,5.48495,5.48487,5.48485,5.48475,5.4846900000000005,5.48466,5.48462,5.48457,5.48439,5.48418,5.48427,5.48418,5.48418,5.48431,5.48417,5.48417,5.484,5.48407,5.48386,5.48386,5.48379,5.48364,5.48361,5.48357,5.48346,5.48315,5.48338,5.48335,5.48329,5.48324,5.48323,5.48298,5.4829,5.48285,5.48283,5.48282,5.48276,5.48275,5.4827200000000005,5.48267,5.48255,5.48254,5.48242,5.48226,5.48222,5.48221,5.48217,5.48202,5.482,5.48195,5.48191,5.48174,5.4815000000000005,5.48141,5.4813600000000005,5.48135,5.48133,5.48121,5.48093,5.48093,5.48091,5.48091,5.4809,5.48103,5.48084,5.4807500000000005,5.48074,5.48074,5.48067,5.48049,5.4804,5.48018,5.48013,5.48005,5.48003,5.47996,5.47995,5.47992,5.47985,5.47958,5.47972,5.47969,5.47962,5.47951,5.47931,5.47913,5.47966,5.47909,5.47945,5.47891,5.47857,5.47834,5.47847,5.47844,5.47833,5.47824,5.47823,5.47816,5.47812,5.47812,5.47775,5.47792,5.47785,5.47755,5.47731,5.4773,5.47715,5.47704,5.47755,5.47695,5.47688,5.4768,5.4767,5.47657,5.47655,5.47647,5.47646,5.47634,5.47631,5.47622,5.47621,5.47602,5.47572,5.47567,5.47543,5.47538,5.47522,5.47515,5.47512,5.47505,5.475,5.47497,5.47464,5.4746,5.47433,5.47408,5.47393,5.47389,5.47358,5.47305,5.47334,5.47328,5.47314,5.47292,5.47291,5.4724,5.47234,5.47247,5.47218,5.47189,5.47187,5.47177,5.4717400000000005,5.47168,5.47155,5.47138,5.4713,5.47102,5.4708,5.47136,5.47071,5.47082,5.47055,5.47062,5.47048,5.47013,5.47042,5.47013,5.47004,5.46988,5.46981,5.46981,5.46955,5.46934,5.46929,5.46912,5.46886,5.46886,5.46847,5.46844,5.46836,5.46789,5.4676,5.46739,5.46731,5.46721,5.46719,5.46714,5.46681,5.46693,5.46678,5.46662,5.46655,5.46639,5.46628,5.46586,5.46582,5.46609,5.46609,5.46494,5.46507,5.46484,5.46482,5.46482,5.46457,5.46472,5.464,5.4642,5.46395,5.46412,5.46379,5.46378,5.46361,5.46317,5.4634,5.46324,5.46293,5.46426,5.46254,5.46248,5.46238,5.46156,5.46139,5.46134,5.46095,5.461,5.46016,5.46013,5.45958,5.4594000000000005,5.45849,5.45897,5.45824,5.45862,5.45817,5.45787,5.45686,5.45708,5.45689,5.45662,5.45641,5.45634,5.45578,5.45521,5.45511,5.455,5.45442,5.45428,5.4541,5.45398,5.45376,5.45392,5.45346,5.4534,5.45308,5.45287,5.45276,5.4522,5.45217,5.45173,5.45135,5.45117,5.4503,5.4507200000000005,5.4502500000000005,5.4501,5.44874,5.44849,5.44803,5.44751,5.44768,5.44732,5.44518,5.44481,5.44432,5.44431,5.44414,5.44381,5.44358,5.4434000000000005,5.44338,5.44278,5.4421800000000005,5.44206,5.44193,5.4414,5.4405,5.44033,5.44366,5.43899,5.43821,5.43798,5.4352,5.43568,5.43538,5.43309,5.4331,5.43112,5.42933,5.42789,5.42737,5.42595,5.42434,5.42408,5.42399,5.42335,5.4214,5.42,5.41815,5.41833,5.41812,5.41676,5.41733,5.41714,5.41597,5.41586,5.41333,5.41343,5.4127600000000005,5.41222,5.41227,5.41033,5.40667,5.40537,5.4017800000000005,5.39928,5.39831,5.39703,5.39168,5.40231,5.40229,5.38684,5.38534,5.38492,5.38301,5.37807,5.3761,5.36958,5.38205,5.36072,5.3563,5.35339,5.35548,5.33395,5.32925,5.32026,5.31129,5.30695,5.3037,5.33602,5.27694,5.26231,5.2609200000000005,5.2462,5.1668,5.2082,4.66069],\"y0\":\" \",\"yaxis\":\"y\",\"type\":\"box\"}],                        {\"template\":{\"data\":{\"bar\":[{\"error_x\":{\"color\":\"#2a3f5f\"},\"error_y\":{\"color\":\"#2a3f5f\"},\"marker\":{\"line\":{\"color\":\"#E5ECF6\",\"width\":0.5},\"pattern\":{\"fillmode\":\"overlay\",\"size\":10,\"solidity\":0.2}},\"type\":\"bar\"}],\"barpolar\":[{\"marker\":{\"line\":{\"color\":\"#E5ECF6\",\"width\":0.5},\"pattern\":{\"fillmode\":\"overlay\",\"size\":10,\"solidity\":0.2}},\"type\":\"barpolar\"}],\"carpet\":[{\"aaxis\":{\"endlinecolor\":\"#2a3f5f\",\"gridcolor\":\"white\",\"linecolor\":\"white\",\"minorgridcolor\":\"white\",\"startlinecolor\":\"#2a3f5f\"},\"baxis\":{\"endlinecolor\":\"#2a3f5f\",\"gridcolor\":\"white\",\"linecolor\":\"white\",\"minorgridcolor\":\"white\",\"startlinecolor\":\"#2a3f5f\"},\"type\":\"carpet\"}],\"choropleth\":[{\"colorbar\":{\"outlinewidth\":0,\"ticks\":\"\"},\"type\":\"choropleth\"}],\"contour\":[{\"colorbar\":{\"outlinewidth\":0,\"ticks\":\"\"},\"colorscale\":[[0.0,\"#0d0887\"],[0.1111111111111111,\"#46039f\"],[0.2222222222222222,\"#7201a8\"],[0.3333333333333333,\"#9c179e\"],[0.4444444444444444,\"#bd3786\"],[0.5555555555555556,\"#d8576b\"],[0.6666666666666666,\"#ed7953\"],[0.7777777777777778,\"#fb9f3a\"],[0.8888888888888888,\"#fdca26\"],[1.0,\"#f0f921\"]],\"type\":\"contour\"}],\"contourcarpet\":[{\"colorbar\":{\"outlinewidth\":0,\"ticks\":\"\"},\"type\":\"contourcarpet\"}],\"heatmap\":[{\"colorbar\":{\"outlinewidth\":0,\"ticks\":\"\"},\"colorscale\":[[0.0,\"#0d0887\"],[0.1111111111111111,\"#46039f\"],[0.2222222222222222,\"#7201a8\"],[0.3333333333333333,\"#9c179e\"],[0.4444444444444444,\"#bd3786\"],[0.5555555555555556,\"#d8576b\"],[0.6666666666666666,\"#ed7953\"],[0.7777777777777778,\"#fb9f3a\"],[0.8888888888888888,\"#fdca26\"],[1.0,\"#f0f921\"]],\"type\":\"heatmap\"}],\"heatmapgl\":[{\"colorbar\":{\"outlinewidth\":0,\"ticks\":\"\"},\"colorscale\":[[0.0,\"#0d0887\"],[0.1111111111111111,\"#46039f\"],[0.2222222222222222,\"#7201a8\"],[0.3333333333333333,\"#9c179e\"],[0.4444444444444444,\"#bd3786\"],[0.5555555555555556,\"#d8576b\"],[0.6666666666666666,\"#ed7953\"],[0.7777777777777778,\"#fb9f3a\"],[0.8888888888888888,\"#fdca26\"],[1.0,\"#f0f921\"]],\"type\":\"heatmapgl\"}],\"histogram\":[{\"marker\":{\"pattern\":{\"fillmode\":\"overlay\",\"size\":10,\"solidity\":0.2}},\"type\":\"histogram\"}],\"histogram2d\":[{\"colorbar\":{\"outlinewidth\":0,\"ticks\":\"\"},\"colorscale\":[[0.0,\"#0d0887\"],[0.1111111111111111,\"#46039f\"],[0.2222222222222222,\"#7201a8\"],[0.3333333333333333,\"#9c179e\"],[0.4444444444444444,\"#bd3786\"],[0.5555555555555556,\"#d8576b\"],[0.6666666666666666,\"#ed7953\"],[0.7777777777777778,\"#fb9f3a\"],[0.8888888888888888,\"#fdca26\"],[1.0,\"#f0f921\"]],\"type\":\"histogram2d\"}],\"histogram2dcontour\":[{\"colorbar\":{\"outlinewidth\":0,\"ticks\":\"\"},\"colorscale\":[[0.0,\"#0d0887\"],[0.1111111111111111,\"#46039f\"],[0.2222222222222222,\"#7201a8\"],[0.3333333333333333,\"#9c179e\"],[0.4444444444444444,\"#bd3786\"],[0.5555555555555556,\"#d8576b\"],[0.6666666666666666,\"#ed7953\"],[0.7777777777777778,\"#fb9f3a\"],[0.8888888888888888,\"#fdca26\"],[1.0,\"#f0f921\"]],\"type\":\"histogram2dcontour\"}],\"mesh3d\":[{\"colorbar\":{\"outlinewidth\":0,\"ticks\":\"\"},\"type\":\"mesh3d\"}],\"parcoords\":[{\"line\":{\"colorbar\":{\"outlinewidth\":0,\"ticks\":\"\"}},\"type\":\"parcoords\"}],\"pie\":[{\"automargin\":true,\"type\":\"pie\"}],\"scatter\":[{\"marker\":{\"colorbar\":{\"outlinewidth\":0,\"ticks\":\"\"}},\"type\":\"scatter\"}],\"scatter3d\":[{\"line\":{\"colorbar\":{\"outlinewidth\":0,\"ticks\":\"\"}},\"marker\":{\"colorbar\":{\"outlinewidth\":0,\"ticks\":\"\"}},\"type\":\"scatter3d\"}],\"scattercarpet\":[{\"marker\":{\"colorbar\":{\"outlinewidth\":0,\"ticks\":\"\"}},\"type\":\"scattercarpet\"}],\"scattergeo\":[{\"marker\":{\"colorbar\":{\"outlinewidth\":0,\"ticks\":\"\"}},\"type\":\"scattergeo\"}],\"scattergl\":[{\"marker\":{\"colorbar\":{\"outlinewidth\":0,\"ticks\":\"\"}},\"type\":\"scattergl\"}],\"scattermapbox\":[{\"marker\":{\"colorbar\":{\"outlinewidth\":0,\"ticks\":\"\"}},\"type\":\"scattermapbox\"}],\"scatterpolar\":[{\"marker\":{\"colorbar\":{\"outlinewidth\":0,\"ticks\":\"\"}},\"type\":\"scatterpolar\"}],\"scatterpolargl\":[{\"marker\":{\"colorbar\":{\"outlinewidth\":0,\"ticks\":\"\"}},\"type\":\"scatterpolargl\"}],\"scatterternary\":[{\"marker\":{\"colorbar\":{\"outlinewidth\":0,\"ticks\":\"\"}},\"type\":\"scatterternary\"}],\"surface\":[{\"colorbar\":{\"outlinewidth\":0,\"ticks\":\"\"},\"colorscale\":[[0.0,\"#0d0887\"],[0.1111111111111111,\"#46039f\"],[0.2222222222222222,\"#7201a8\"],[0.3333333333333333,\"#9c179e\"],[0.4444444444444444,\"#bd3786\"],[0.5555555555555556,\"#d8576b\"],[0.6666666666666666,\"#ed7953\"],[0.7777777777777778,\"#fb9f3a\"],[0.8888888888888888,\"#fdca26\"],[1.0,\"#f0f921\"]],\"type\":\"surface\"}],\"table\":[{\"cells\":{\"fill\":{\"color\":\"#EBF0F8\"},\"line\":{\"color\":\"white\"}},\"header\":{\"fill\":{\"color\":\"#C8D4E3\"},\"line\":{\"color\":\"white\"}},\"type\":\"table\"}]},\"layout\":{\"annotationdefaults\":{\"arrowcolor\":\"#2a3f5f\",\"arrowhead\":0,\"arrowwidth\":1},\"autotypenumbers\":\"strict\",\"coloraxis\":{\"colorbar\":{\"outlinewidth\":0,\"ticks\":\"\"}},\"colorscale\":{\"diverging\":[[0,\"#8e0152\"],[0.1,\"#c51b7d\"],[0.2,\"#de77ae\"],[0.3,\"#f1b6da\"],[0.4,\"#fde0ef\"],[0.5,\"#f7f7f7\"],[0.6,\"#e6f5d0\"],[0.7,\"#b8e186\"],[0.8,\"#7fbc41\"],[0.9,\"#4d9221\"],[1,\"#276419\"]],\"sequential\":[[0.0,\"#0d0887\"],[0.1111111111111111,\"#46039f\"],[0.2222222222222222,\"#7201a8\"],[0.3333333333333333,\"#9c179e\"],[0.4444444444444444,\"#bd3786\"],[0.5555555555555556,\"#d8576b\"],[0.6666666666666666,\"#ed7953\"],[0.7777777777777778,\"#fb9f3a\"],[0.8888888888888888,\"#fdca26\"],[1.0,\"#f0f921\"]],\"sequentialminus\":[[0.0,\"#0d0887\"],[0.1111111111111111,\"#46039f\"],[0.2222222222222222,\"#7201a8\"],[0.3333333333333333,\"#9c179e\"],[0.4444444444444444,\"#bd3786\"],[0.5555555555555556,\"#d8576b\"],[0.6666666666666666,\"#ed7953\"],[0.7777777777777778,\"#fb9f3a\"],[0.8888888888888888,\"#fdca26\"],[1.0,\"#f0f921\"]]},\"colorway\":[\"#636efa\",\"#EF553B\",\"#00cc96\",\"#ab63fa\",\"#FFA15A\",\"#19d3f3\",\"#FF6692\",\"#B6E880\",\"#FF97FF\",\"#FECB52\"],\"font\":{\"color\":\"#2a3f5f\"},\"geo\":{\"bgcolor\":\"white\",\"lakecolor\":\"white\",\"landcolor\":\"#E5ECF6\",\"showlakes\":true,\"showland\":true,\"subunitcolor\":\"white\"},\"hoverlabel\":{\"align\":\"left\"},\"hovermode\":\"closest\",\"mapbox\":{\"style\":\"light\"},\"paper_bgcolor\":\"white\",\"plot_bgcolor\":\"#E5ECF6\",\"polar\":{\"angularaxis\":{\"gridcolor\":\"white\",\"linecolor\":\"white\",\"ticks\":\"\"},\"bgcolor\":\"#E5ECF6\",\"radialaxis\":{\"gridcolor\":\"white\",\"linecolor\":\"white\",\"ticks\":\"\"}},\"scene\":{\"xaxis\":{\"backgroundcolor\":\"#E5ECF6\",\"gridcolor\":\"white\",\"gridwidth\":2,\"linecolor\":\"white\",\"showbackground\":true,\"ticks\":\"\",\"zerolinecolor\":\"white\"},\"yaxis\":{\"backgroundcolor\":\"#E5ECF6\",\"gridcolor\":\"white\",\"gridwidth\":2,\"linecolor\":\"white\",\"showbackground\":true,\"ticks\":\"\",\"zerolinecolor\":\"white\"},\"zaxis\":{\"backgroundcolor\":\"#E5ECF6\",\"gridcolor\":\"white\",\"gridwidth\":2,\"linecolor\":\"white\",\"showbackground\":true,\"ticks\":\"\",\"zerolinecolor\":\"white\"}},\"shapedefaults\":{\"line\":{\"color\":\"#2a3f5f\"}},\"ternary\":{\"aaxis\":{\"gridcolor\":\"white\",\"linecolor\":\"white\",\"ticks\":\"\"},\"baxis\":{\"gridcolor\":\"white\",\"linecolor\":\"white\",\"ticks\":\"\"},\"bgcolor\":\"#E5ECF6\",\"caxis\":{\"gridcolor\":\"white\",\"linecolor\":\"white\",\"ticks\":\"\"}},\"title\":{\"x\":0.05},\"xaxis\":{\"automargin\":true,\"gridcolor\":\"white\",\"linecolor\":\"white\",\"ticks\":\"\",\"title\":{\"standoff\":15},\"zerolinecolor\":\"white\",\"zerolinewidth\":2},\"yaxis\":{\"automargin\":true,\"gridcolor\":\"white\",\"linecolor\":\"white\",\"ticks\":\"\",\"title\":{\"standoff\":15},\"zerolinecolor\":\"white\",\"zerolinewidth\":2}}},\"xaxis\":{\"anchor\":\"y\",\"domain\":[0.0,1.0],\"title\":{\"text\":\"year\"}},\"yaxis\":{\"anchor\":\"x\",\"domain\":[0.0,1.0],\"title\":{\"text\":\"bayes_rating\"}},\"legend\":{\"title\":{\"text\":\"Crowdfunding: Kickstarter\"},\"tracegroupgap\":0},\"margin\":{\"t\":60},\"boxmode\":\"group\"},                        {\"responsive\": true}                    ).then(function(){\n",
              "                            \n",
              "var gd = document.getElementById('38463862-96c4-4b82-a70d-673ed54a4038');\n",
              "var x = new MutationObserver(function (mutations, observer) {{\n",
              "        var display = window.getComputedStyle(gd).display;\n",
              "        if (!display || display === 'none') {{\n",
              "            console.log([gd, 'removed!']);\n",
              "            Plotly.purge(gd);\n",
              "            observer.disconnect();\n",
              "        }}\n",
              "}});\n",
              "\n",
              "// Listen for the removal of the full notebook cells\n",
              "var notebookContainer = gd.closest('#notebook-container');\n",
              "if (notebookContainer) {{\n",
              "    x.observe(notebookContainer, {childList: true});\n",
              "}}\n",
              "\n",
              "// Listen for the clearing of the current output cell\n",
              "var outputEl = gd.closest('.output');\n",
              "if (outputEl) {{\n",
              "    x.observe(outputEl, {childList: true});\n",
              "}}\n",
              "\n",
              "                        })                };                            </script>        </div>\n",
              "</body>\n",
              "</html>"
            ]
          },
          "metadata": {},
          "output_type": "display_data"
        }
      ],
      "source": [
        "fig = px.strip(df, x=\"year\", y=\"bayes_rating\", color=\"Crowdfunding: Kickstarter\",\n",
        "               color_discrete_map={\n",
        "                  'KS': 'green',\n",
        "                  'Non-KS': 'purple'\n",
        "               })\n",
        "fig.show()"
      ]
    },
    {
      "cell_type": "code",
      "execution_count": null,
      "metadata": {
        "colab": {
          "base_uri": "https://localhost:8080/",
          "height": 542
        },
        "id": "rxDJmwi-un8N",
        "outputId": "0441233f-dbaf-45f0-8ec1-7308ee1123f2"
      },
      "outputs": [
        {
          "output_type": "display_data",
          "data": {
            "text/html": [
              "<html>\n",
              "<head><meta charset=\"utf-8\" /></head>\n",
              "<body>\n",
              "    <div>            <script src=\"https://cdnjs.cloudflare.com/ajax/libs/mathjax/2.7.5/MathJax.js?config=TeX-AMS-MML_SVG\"></script><script type=\"text/javascript\">if (window.MathJax) {MathJax.Hub.Config({SVG: {font: \"STIX-Web\"}});}</script>                <script type=\"text/javascript\">window.PlotlyConfig = {MathJaxConfig: 'local'};</script>\n",
              "        <script src=\"https://cdn.plot.ly/plotly-2.8.3.min.js\"></script>                <div id=\"7261388e-fc1b-4ba1-910a-2552a42b8d3c\" class=\"plotly-graph-div\" style=\"height:525px; width:100%;\"></div>            <script type=\"text/javascript\">                                    window.PLOTLYENV=window.PLOTLYENV || {};                                    if (document.getElementById(\"7261388e-fc1b-4ba1-910a-2552a42b8d3c\")) {                    Plotly.newPlot(                        \"7261388e-fc1b-4ba1-910a-2552a42b8d3c\",                        [{\"alignmentgroup\":\"True\",\"hovertemplate\":\"variable=Non-KS<br>Year=%{x}<br>Games Published w/Top 10% BGG Bayes Rating=%{y}<extra></extra>\",\"legendgroup\":\"Non-KS\",\"marker\":{\"color\":\"#3f3a5f\",\"pattern\":{\"shape\":\"\"}},\"name\":\"Non-KS\",\"offsetgroup\":\"Non-KS\",\"orientation\":\"v\",\"showlegend\":true,\"textposition\":\"auto\",\"x\":[2008,2009,2010,2011,2012,2013,2014,2015,2016,2017,2018,2019,2020,2021],\"xaxis\":\"x\",\"y\":[51.0,61.0,66.0,75.0,73.0,68.0,82.0,103.0,96.0,109.0,89.0,97.0,66.0,36.0],\"yaxis\":\"y\",\"type\":\"bar\"},{\"alignmentgroup\":\"True\",\"hovertemplate\":\"variable=KS<br>Year=%{x}<br>Games Published w/Top 10% BGG Bayes Rating=%{y}<extra></extra>\",\"legendgroup\":\"KS\",\"marker\":{\"color\":\"#08ce78\",\"pattern\":{\"shape\":\"\"}},\"name\":\"KS\",\"offsetgroup\":\"KS\",\"orientation\":\"v\",\"showlegend\":true,\"textposition\":\"auto\",\"x\":[2008,2009,2010,2011,2012,2013,2014,2015,2016,2017,2018,2019,2020,2021],\"xaxis\":\"x\",\"y\":[null,null,3.0,5.0,16.0,18.0,27.0,35.0,37.0,54.0,50.0,57.0,32.0,30.0],\"yaxis\":\"y\",\"type\":\"bar\"}],                        {\"template\":{\"data\":{\"barpolar\":[{\"marker\":{\"line\":{\"color\":\"white\",\"width\":0.5},\"pattern\":{\"fillmode\":\"overlay\",\"size\":10,\"solidity\":0.2}},\"type\":\"barpolar\"}],\"bar\":[{\"error_x\":{\"color\":\"#2a3f5f\"},\"error_y\":{\"color\":\"#2a3f5f\"},\"marker\":{\"line\":{\"color\":\"white\",\"width\":0.5},\"pattern\":{\"fillmode\":\"overlay\",\"size\":10,\"solidity\":0.2}},\"type\":\"bar\"}],\"carpet\":[{\"aaxis\":{\"endlinecolor\":\"#2a3f5f\",\"gridcolor\":\"#C8D4E3\",\"linecolor\":\"#C8D4E3\",\"minorgridcolor\":\"#C8D4E3\",\"startlinecolor\":\"#2a3f5f\"},\"baxis\":{\"endlinecolor\":\"#2a3f5f\",\"gridcolor\":\"#C8D4E3\",\"linecolor\":\"#C8D4E3\",\"minorgridcolor\":\"#C8D4E3\",\"startlinecolor\":\"#2a3f5f\"},\"type\":\"carpet\"}],\"choropleth\":[{\"colorbar\":{\"outlinewidth\":0,\"ticks\":\"\"},\"type\":\"choropleth\"}],\"contourcarpet\":[{\"colorbar\":{\"outlinewidth\":0,\"ticks\":\"\"},\"type\":\"contourcarpet\"}],\"contour\":[{\"colorbar\":{\"outlinewidth\":0,\"ticks\":\"\"},\"colorscale\":[[0.0,\"#0d0887\"],[0.1111111111111111,\"#46039f\"],[0.2222222222222222,\"#7201a8\"],[0.3333333333333333,\"#9c179e\"],[0.4444444444444444,\"#bd3786\"],[0.5555555555555556,\"#d8576b\"],[0.6666666666666666,\"#ed7953\"],[0.7777777777777778,\"#fb9f3a\"],[0.8888888888888888,\"#fdca26\"],[1.0,\"#f0f921\"]],\"type\":\"contour\"}],\"heatmapgl\":[{\"colorbar\":{\"outlinewidth\":0,\"ticks\":\"\"},\"colorscale\":[[0.0,\"#0d0887\"],[0.1111111111111111,\"#46039f\"],[0.2222222222222222,\"#7201a8\"],[0.3333333333333333,\"#9c179e\"],[0.4444444444444444,\"#bd3786\"],[0.5555555555555556,\"#d8576b\"],[0.6666666666666666,\"#ed7953\"],[0.7777777777777778,\"#fb9f3a\"],[0.8888888888888888,\"#fdca26\"],[1.0,\"#f0f921\"]],\"type\":\"heatmapgl\"}],\"heatmap\":[{\"colorbar\":{\"outlinewidth\":0,\"ticks\":\"\"},\"colorscale\":[[0.0,\"#0d0887\"],[0.1111111111111111,\"#46039f\"],[0.2222222222222222,\"#7201a8\"],[0.3333333333333333,\"#9c179e\"],[0.4444444444444444,\"#bd3786\"],[0.5555555555555556,\"#d8576b\"],[0.6666666666666666,\"#ed7953\"],[0.7777777777777778,\"#fb9f3a\"],[0.8888888888888888,\"#fdca26\"],[1.0,\"#f0f921\"]],\"type\":\"heatmap\"}],\"histogram2dcontour\":[{\"colorbar\":{\"outlinewidth\":0,\"ticks\":\"\"},\"colorscale\":[[0.0,\"#0d0887\"],[0.1111111111111111,\"#46039f\"],[0.2222222222222222,\"#7201a8\"],[0.3333333333333333,\"#9c179e\"],[0.4444444444444444,\"#bd3786\"],[0.5555555555555556,\"#d8576b\"],[0.6666666666666666,\"#ed7953\"],[0.7777777777777778,\"#fb9f3a\"],[0.8888888888888888,\"#fdca26\"],[1.0,\"#f0f921\"]],\"type\":\"histogram2dcontour\"}],\"histogram2d\":[{\"colorbar\":{\"outlinewidth\":0,\"ticks\":\"\"},\"colorscale\":[[0.0,\"#0d0887\"],[0.1111111111111111,\"#46039f\"],[0.2222222222222222,\"#7201a8\"],[0.3333333333333333,\"#9c179e\"],[0.4444444444444444,\"#bd3786\"],[0.5555555555555556,\"#d8576b\"],[0.6666666666666666,\"#ed7953\"],[0.7777777777777778,\"#fb9f3a\"],[0.8888888888888888,\"#fdca26\"],[1.0,\"#f0f921\"]],\"type\":\"histogram2d\"}],\"histogram\":[{\"marker\":{\"pattern\":{\"fillmode\":\"overlay\",\"size\":10,\"solidity\":0.2}},\"type\":\"histogram\"}],\"mesh3d\":[{\"colorbar\":{\"outlinewidth\":0,\"ticks\":\"\"},\"type\":\"mesh3d\"}],\"parcoords\":[{\"line\":{\"colorbar\":{\"outlinewidth\":0,\"ticks\":\"\"}},\"type\":\"parcoords\"}],\"pie\":[{\"automargin\":true,\"type\":\"pie\"}],\"scatter3d\":[{\"line\":{\"colorbar\":{\"outlinewidth\":0,\"ticks\":\"\"}},\"marker\":{\"colorbar\":{\"outlinewidth\":0,\"ticks\":\"\"}},\"type\":\"scatter3d\"}],\"scattercarpet\":[{\"marker\":{\"colorbar\":{\"outlinewidth\":0,\"ticks\":\"\"}},\"type\":\"scattercarpet\"}],\"scattergeo\":[{\"marker\":{\"colorbar\":{\"outlinewidth\":0,\"ticks\":\"\"}},\"type\":\"scattergeo\"}],\"scattergl\":[{\"marker\":{\"colorbar\":{\"outlinewidth\":0,\"ticks\":\"\"}},\"type\":\"scattergl\"}],\"scattermapbox\":[{\"marker\":{\"colorbar\":{\"outlinewidth\":0,\"ticks\":\"\"}},\"type\":\"scattermapbox\"}],\"scatterpolargl\":[{\"marker\":{\"colorbar\":{\"outlinewidth\":0,\"ticks\":\"\"}},\"type\":\"scatterpolargl\"}],\"scatterpolar\":[{\"marker\":{\"colorbar\":{\"outlinewidth\":0,\"ticks\":\"\"}},\"type\":\"scatterpolar\"}],\"scatter\":[{\"marker\":{\"colorbar\":{\"outlinewidth\":0,\"ticks\":\"\"}},\"type\":\"scatter\"}],\"scatterternary\":[{\"marker\":{\"colorbar\":{\"outlinewidth\":0,\"ticks\":\"\"}},\"type\":\"scatterternary\"}],\"surface\":[{\"colorbar\":{\"outlinewidth\":0,\"ticks\":\"\"},\"colorscale\":[[0.0,\"#0d0887\"],[0.1111111111111111,\"#46039f\"],[0.2222222222222222,\"#7201a8\"],[0.3333333333333333,\"#9c179e\"],[0.4444444444444444,\"#bd3786\"],[0.5555555555555556,\"#d8576b\"],[0.6666666666666666,\"#ed7953\"],[0.7777777777777778,\"#fb9f3a\"],[0.8888888888888888,\"#fdca26\"],[1.0,\"#f0f921\"]],\"type\":\"surface\"}],\"table\":[{\"cells\":{\"fill\":{\"color\":\"#EBF0F8\"},\"line\":{\"color\":\"white\"}},\"header\":{\"fill\":{\"color\":\"#C8D4E3\"},\"line\":{\"color\":\"white\"}},\"type\":\"table\"}]},\"layout\":{\"annotationdefaults\":{\"arrowcolor\":\"#2a3f5f\",\"arrowhead\":0,\"arrowwidth\":1},\"autotypenumbers\":\"strict\",\"coloraxis\":{\"colorbar\":{\"outlinewidth\":0,\"ticks\":\"\"}},\"colorscale\":{\"diverging\":[[0,\"#8e0152\"],[0.1,\"#c51b7d\"],[0.2,\"#de77ae\"],[0.3,\"#f1b6da\"],[0.4,\"#fde0ef\"],[0.5,\"#f7f7f7\"],[0.6,\"#e6f5d0\"],[0.7,\"#b8e186\"],[0.8,\"#7fbc41\"],[0.9,\"#4d9221\"],[1,\"#276419\"]],\"sequential\":[[0.0,\"#0d0887\"],[0.1111111111111111,\"#46039f\"],[0.2222222222222222,\"#7201a8\"],[0.3333333333333333,\"#9c179e\"],[0.4444444444444444,\"#bd3786\"],[0.5555555555555556,\"#d8576b\"],[0.6666666666666666,\"#ed7953\"],[0.7777777777777778,\"#fb9f3a\"],[0.8888888888888888,\"#fdca26\"],[1.0,\"#f0f921\"]],\"sequentialminus\":[[0.0,\"#0d0887\"],[0.1111111111111111,\"#46039f\"],[0.2222222222222222,\"#7201a8\"],[0.3333333333333333,\"#9c179e\"],[0.4444444444444444,\"#bd3786\"],[0.5555555555555556,\"#d8576b\"],[0.6666666666666666,\"#ed7953\"],[0.7777777777777778,\"#fb9f3a\"],[0.8888888888888888,\"#fdca26\"],[1.0,\"#f0f921\"]]},\"colorway\":[\"#636efa\",\"#EF553B\",\"#00cc96\",\"#ab63fa\",\"#FFA15A\",\"#19d3f3\",\"#FF6692\",\"#B6E880\",\"#FF97FF\",\"#FECB52\"],\"font\":{\"color\":\"#2a3f5f\"},\"geo\":{\"bgcolor\":\"white\",\"lakecolor\":\"white\",\"landcolor\":\"white\",\"showlakes\":true,\"showland\":true,\"subunitcolor\":\"#C8D4E3\"},\"hoverlabel\":{\"align\":\"left\"},\"hovermode\":\"closest\",\"mapbox\":{\"style\":\"light\"},\"paper_bgcolor\":\"white\",\"plot_bgcolor\":\"white\",\"polar\":{\"angularaxis\":{\"gridcolor\":\"#EBF0F8\",\"linecolor\":\"#EBF0F8\",\"ticks\":\"\"},\"bgcolor\":\"white\",\"radialaxis\":{\"gridcolor\":\"#EBF0F8\",\"linecolor\":\"#EBF0F8\",\"ticks\":\"\"}},\"scene\":{\"xaxis\":{\"backgroundcolor\":\"white\",\"gridcolor\":\"#DFE8F3\",\"gridwidth\":2,\"linecolor\":\"#EBF0F8\",\"showbackground\":true,\"ticks\":\"\",\"zerolinecolor\":\"#EBF0F8\"},\"yaxis\":{\"backgroundcolor\":\"white\",\"gridcolor\":\"#DFE8F3\",\"gridwidth\":2,\"linecolor\":\"#EBF0F8\",\"showbackground\":true,\"ticks\":\"\",\"zerolinecolor\":\"#EBF0F8\"},\"zaxis\":{\"backgroundcolor\":\"white\",\"gridcolor\":\"#DFE8F3\",\"gridwidth\":2,\"linecolor\":\"#EBF0F8\",\"showbackground\":true,\"ticks\":\"\",\"zerolinecolor\":\"#EBF0F8\"}},\"shapedefaults\":{\"line\":{\"color\":\"#2a3f5f\"}},\"ternary\":{\"aaxis\":{\"gridcolor\":\"#DFE8F3\",\"linecolor\":\"#A2B1C6\",\"ticks\":\"\"},\"baxis\":{\"gridcolor\":\"#DFE8F3\",\"linecolor\":\"#A2B1C6\",\"ticks\":\"\"},\"bgcolor\":\"white\",\"caxis\":{\"gridcolor\":\"#DFE8F3\",\"linecolor\":\"#A2B1C6\",\"ticks\":\"\"}},\"title\":{\"x\":0.05},\"xaxis\":{\"automargin\":true,\"gridcolor\":\"#EBF0F8\",\"linecolor\":\"#EBF0F8\",\"ticks\":\"\",\"title\":{\"standoff\":15},\"zerolinecolor\":\"#EBF0F8\",\"zerolinewidth\":2},\"yaxis\":{\"automargin\":true,\"gridcolor\":\"#EBF0F8\",\"linecolor\":\"#EBF0F8\",\"ticks\":\"\",\"title\":{\"standoff\":15},\"zerolinecolor\":\"#EBF0F8\",\"zerolinewidth\":2}}},\"xaxis\":{\"anchor\":\"y\",\"domain\":[0.0,1.0],\"title\":{\"text\":\"Year\"}},\"yaxis\":{\"anchor\":\"x\",\"domain\":[0.0,1.0],\"title\":{\"text\":\"Games Published w/Top 10% BGG Bayes Rating\"}},\"legend\":{\"title\":{\"text\":\"variable\"},\"tracegroupgap\":0},\"margin\":{\"t\":60},\"barmode\":\"group\",\"showlegend\":false},                        {\"responsive\": true}                    ).then(function(){\n",
              "                            \n",
              "var gd = document.getElementById('7261388e-fc1b-4ba1-910a-2552a42b8d3c');\n",
              "var x = new MutationObserver(function (mutations, observer) {{\n",
              "        var display = window.getComputedStyle(gd).display;\n",
              "        if (!display || display === 'none') {{\n",
              "            console.log([gd, 'removed!']);\n",
              "            Plotly.purge(gd);\n",
              "            observer.disconnect();\n",
              "        }}\n",
              "}});\n",
              "\n",
              "// Listen for the removal of the full notebook cells\n",
              "var notebookContainer = gd.closest('#notebook-container');\n",
              "if (notebookContainer) {{\n",
              "    x.observe(notebookContainer, {childList: true});\n",
              "}}\n",
              "\n",
              "// Listen for the clearing of the current output cell\n",
              "var outputEl = gd.closest('.output');\n",
              "if (outputEl) {{\n",
              "    x.observe(outputEl, {childList: true});\n",
              "}}\n",
              "\n",
              "                        })                };                            </script>        </div>\n",
              "</body>\n",
              "</html>"
            ]
          },
          "metadata": {}
        }
      ],
      "source": [
        "q90 = final_ranked['bayes_rating'].quantile(.9)\n",
        "groupby_year_ks90 = final_ranked[final_ranked['bayes_rating'] >= q90].groupby(['year', 'Crowdfunding: Kickstarter'])\n",
        "year_ks90 = groupby_year_ks90.size().unstack()\n",
        "year_ks90.columns = ['Non-KS', 'KS']\n",
        "\n",
        "fig = px.bar(year_ks90.loc[year_ks90.index >= 2008],\n",
        "             barmode='group',\n",
        "              color_discrete_map={\n",
        "                  'KS': '#08ce78',\n",
        "                  'Non-KS': '#3f3a5f'\n",
        "              },\n",
        "             template='plotly_white',\n",
        "             labels={'value': 'Games Published w/Top 10% BGG Bayes Rating', 'year': 'Year'})\n",
        "fig.update_layout(showlegend=False)\n",
        "fig.show()"
      ]
    },
    {
      "cell_type": "code",
      "execution_count": null,
      "metadata": {
        "colab": {
          "base_uri": "https://localhost:8080/",
          "height": 542
        },
        "id": "Elq2QKeju86A",
        "outputId": "1fbcb340-1ec0-4936-8831-e5fc08d8dbe5"
      },
      "outputs": [
        {
          "output_type": "display_data",
          "data": {
            "text/html": [
              "<html>\n",
              "<head><meta charset=\"utf-8\" /></head>\n",
              "<body>\n",
              "    <div>            <script src=\"https://cdnjs.cloudflare.com/ajax/libs/mathjax/2.7.5/MathJax.js?config=TeX-AMS-MML_SVG\"></script><script type=\"text/javascript\">if (window.MathJax) {MathJax.Hub.Config({SVG: {font: \"STIX-Web\"}});}</script>                <script type=\"text/javascript\">window.PlotlyConfig = {MathJaxConfig: 'local'};</script>\n",
              "        <script src=\"https://cdn.plot.ly/plotly-2.8.3.min.js\"></script>                <div id=\"9b245bcd-17b1-402a-bced-1b8ddfef42be\" class=\"plotly-graph-div\" style=\"height:525px; width:100%;\"></div>            <script type=\"text/javascript\">                                    window.PLOTLYENV=window.PLOTLYENV || {};                                    if (document.getElementById(\"9b245bcd-17b1-402a-bced-1b8ddfef42be\")) {                    Plotly.newPlot(                        \"9b245bcd-17b1-402a-bced-1b8ddfef42be\",                        [{\"alignmentgroup\":\"True\",\"hovertemplate\":\"variable=Non-KS<br>Year=%{x}<br>Games Published w/Top 10% BGG Avg. Rating=%{y}<extra></extra>\",\"legendgroup\":\"Non-KS\",\"marker\":{\"color\":\"#3f3a5f\",\"pattern\":{\"shape\":\"\"}},\"name\":\"Non-KS\",\"offsetgroup\":\"Non-KS\",\"orientation\":\"v\",\"showlegend\":true,\"textposition\":\"auto\",\"x\":[2008,2009,2010,2011,2012,2013,2014,2015,2016,2017,2018,2019,2020,2021],\"xaxis\":\"x\",\"y\":[29.0,32.0,38.0,44.0,56.0,56.0,64.0,63.0,92.0,96.0,111.0,126.0,145.0,129.0],\"yaxis\":\"y\",\"type\":\"bar\"},{\"alignmentgroup\":\"True\",\"hovertemplate\":\"variable=KS<br>Year=%{x}<br>Games Published w/Top 10% BGG Avg. Rating=%{y}<extra></extra>\",\"legendgroup\":\"KS\",\"marker\":{\"color\":\"#08ce78\",\"pattern\":{\"shape\":\"\"}},\"name\":\"KS\",\"offsetgroup\":\"KS\",\"orientation\":\"v\",\"showlegend\":true,\"textposition\":\"auto\",\"x\":[2008,2009,2010,2011,2012,2013,2014,2015,2016,2017,2018,2019,2020,2021],\"xaxis\":\"x\",\"y\":[null,2.0,1.0,2.0,4.0,8.0,16.0,22.0,33.0,40.0,70.0,99.0,87.0,120.0],\"yaxis\":\"y\",\"type\":\"bar\"}],                        {\"template\":{\"data\":{\"barpolar\":[{\"marker\":{\"line\":{\"color\":\"white\",\"width\":0.5},\"pattern\":{\"fillmode\":\"overlay\",\"size\":10,\"solidity\":0.2}},\"type\":\"barpolar\"}],\"bar\":[{\"error_x\":{\"color\":\"#2a3f5f\"},\"error_y\":{\"color\":\"#2a3f5f\"},\"marker\":{\"line\":{\"color\":\"white\",\"width\":0.5},\"pattern\":{\"fillmode\":\"overlay\",\"size\":10,\"solidity\":0.2}},\"type\":\"bar\"}],\"carpet\":[{\"aaxis\":{\"endlinecolor\":\"#2a3f5f\",\"gridcolor\":\"#C8D4E3\",\"linecolor\":\"#C8D4E3\",\"minorgridcolor\":\"#C8D4E3\",\"startlinecolor\":\"#2a3f5f\"},\"baxis\":{\"endlinecolor\":\"#2a3f5f\",\"gridcolor\":\"#C8D4E3\",\"linecolor\":\"#C8D4E3\",\"minorgridcolor\":\"#C8D4E3\",\"startlinecolor\":\"#2a3f5f\"},\"type\":\"carpet\"}],\"choropleth\":[{\"colorbar\":{\"outlinewidth\":0,\"ticks\":\"\"},\"type\":\"choropleth\"}],\"contourcarpet\":[{\"colorbar\":{\"outlinewidth\":0,\"ticks\":\"\"},\"type\":\"contourcarpet\"}],\"contour\":[{\"colorbar\":{\"outlinewidth\":0,\"ticks\":\"\"},\"colorscale\":[[0.0,\"#0d0887\"],[0.1111111111111111,\"#46039f\"],[0.2222222222222222,\"#7201a8\"],[0.3333333333333333,\"#9c179e\"],[0.4444444444444444,\"#bd3786\"],[0.5555555555555556,\"#d8576b\"],[0.6666666666666666,\"#ed7953\"],[0.7777777777777778,\"#fb9f3a\"],[0.8888888888888888,\"#fdca26\"],[1.0,\"#f0f921\"]],\"type\":\"contour\"}],\"heatmapgl\":[{\"colorbar\":{\"outlinewidth\":0,\"ticks\":\"\"},\"colorscale\":[[0.0,\"#0d0887\"],[0.1111111111111111,\"#46039f\"],[0.2222222222222222,\"#7201a8\"],[0.3333333333333333,\"#9c179e\"],[0.4444444444444444,\"#bd3786\"],[0.5555555555555556,\"#d8576b\"],[0.6666666666666666,\"#ed7953\"],[0.7777777777777778,\"#fb9f3a\"],[0.8888888888888888,\"#fdca26\"],[1.0,\"#f0f921\"]],\"type\":\"heatmapgl\"}],\"heatmap\":[{\"colorbar\":{\"outlinewidth\":0,\"ticks\":\"\"},\"colorscale\":[[0.0,\"#0d0887\"],[0.1111111111111111,\"#46039f\"],[0.2222222222222222,\"#7201a8\"],[0.3333333333333333,\"#9c179e\"],[0.4444444444444444,\"#bd3786\"],[0.5555555555555556,\"#d8576b\"],[0.6666666666666666,\"#ed7953\"],[0.7777777777777778,\"#fb9f3a\"],[0.8888888888888888,\"#fdca26\"],[1.0,\"#f0f921\"]],\"type\":\"heatmap\"}],\"histogram2dcontour\":[{\"colorbar\":{\"outlinewidth\":0,\"ticks\":\"\"},\"colorscale\":[[0.0,\"#0d0887\"],[0.1111111111111111,\"#46039f\"],[0.2222222222222222,\"#7201a8\"],[0.3333333333333333,\"#9c179e\"],[0.4444444444444444,\"#bd3786\"],[0.5555555555555556,\"#d8576b\"],[0.6666666666666666,\"#ed7953\"],[0.7777777777777778,\"#fb9f3a\"],[0.8888888888888888,\"#fdca26\"],[1.0,\"#f0f921\"]],\"type\":\"histogram2dcontour\"}],\"histogram2d\":[{\"colorbar\":{\"outlinewidth\":0,\"ticks\":\"\"},\"colorscale\":[[0.0,\"#0d0887\"],[0.1111111111111111,\"#46039f\"],[0.2222222222222222,\"#7201a8\"],[0.3333333333333333,\"#9c179e\"],[0.4444444444444444,\"#bd3786\"],[0.5555555555555556,\"#d8576b\"],[0.6666666666666666,\"#ed7953\"],[0.7777777777777778,\"#fb9f3a\"],[0.8888888888888888,\"#fdca26\"],[1.0,\"#f0f921\"]],\"type\":\"histogram2d\"}],\"histogram\":[{\"marker\":{\"pattern\":{\"fillmode\":\"overlay\",\"size\":10,\"solidity\":0.2}},\"type\":\"histogram\"}],\"mesh3d\":[{\"colorbar\":{\"outlinewidth\":0,\"ticks\":\"\"},\"type\":\"mesh3d\"}],\"parcoords\":[{\"line\":{\"colorbar\":{\"outlinewidth\":0,\"ticks\":\"\"}},\"type\":\"parcoords\"}],\"pie\":[{\"automargin\":true,\"type\":\"pie\"}],\"scatter3d\":[{\"line\":{\"colorbar\":{\"outlinewidth\":0,\"ticks\":\"\"}},\"marker\":{\"colorbar\":{\"outlinewidth\":0,\"ticks\":\"\"}},\"type\":\"scatter3d\"}],\"scattercarpet\":[{\"marker\":{\"colorbar\":{\"outlinewidth\":0,\"ticks\":\"\"}},\"type\":\"scattercarpet\"}],\"scattergeo\":[{\"marker\":{\"colorbar\":{\"outlinewidth\":0,\"ticks\":\"\"}},\"type\":\"scattergeo\"}],\"scattergl\":[{\"marker\":{\"colorbar\":{\"outlinewidth\":0,\"ticks\":\"\"}},\"type\":\"scattergl\"}],\"scattermapbox\":[{\"marker\":{\"colorbar\":{\"outlinewidth\":0,\"ticks\":\"\"}},\"type\":\"scattermapbox\"}],\"scatterpolargl\":[{\"marker\":{\"colorbar\":{\"outlinewidth\":0,\"ticks\":\"\"}},\"type\":\"scatterpolargl\"}],\"scatterpolar\":[{\"marker\":{\"colorbar\":{\"outlinewidth\":0,\"ticks\":\"\"}},\"type\":\"scatterpolar\"}],\"scatter\":[{\"marker\":{\"colorbar\":{\"outlinewidth\":0,\"ticks\":\"\"}},\"type\":\"scatter\"}],\"scatterternary\":[{\"marker\":{\"colorbar\":{\"outlinewidth\":0,\"ticks\":\"\"}},\"type\":\"scatterternary\"}],\"surface\":[{\"colorbar\":{\"outlinewidth\":0,\"ticks\":\"\"},\"colorscale\":[[0.0,\"#0d0887\"],[0.1111111111111111,\"#46039f\"],[0.2222222222222222,\"#7201a8\"],[0.3333333333333333,\"#9c179e\"],[0.4444444444444444,\"#bd3786\"],[0.5555555555555556,\"#d8576b\"],[0.6666666666666666,\"#ed7953\"],[0.7777777777777778,\"#fb9f3a\"],[0.8888888888888888,\"#fdca26\"],[1.0,\"#f0f921\"]],\"type\":\"surface\"}],\"table\":[{\"cells\":{\"fill\":{\"color\":\"#EBF0F8\"},\"line\":{\"color\":\"white\"}},\"header\":{\"fill\":{\"color\":\"#C8D4E3\"},\"line\":{\"color\":\"white\"}},\"type\":\"table\"}]},\"layout\":{\"annotationdefaults\":{\"arrowcolor\":\"#2a3f5f\",\"arrowhead\":0,\"arrowwidth\":1},\"autotypenumbers\":\"strict\",\"coloraxis\":{\"colorbar\":{\"outlinewidth\":0,\"ticks\":\"\"}},\"colorscale\":{\"diverging\":[[0,\"#8e0152\"],[0.1,\"#c51b7d\"],[0.2,\"#de77ae\"],[0.3,\"#f1b6da\"],[0.4,\"#fde0ef\"],[0.5,\"#f7f7f7\"],[0.6,\"#e6f5d0\"],[0.7,\"#b8e186\"],[0.8,\"#7fbc41\"],[0.9,\"#4d9221\"],[1,\"#276419\"]],\"sequential\":[[0.0,\"#0d0887\"],[0.1111111111111111,\"#46039f\"],[0.2222222222222222,\"#7201a8\"],[0.3333333333333333,\"#9c179e\"],[0.4444444444444444,\"#bd3786\"],[0.5555555555555556,\"#d8576b\"],[0.6666666666666666,\"#ed7953\"],[0.7777777777777778,\"#fb9f3a\"],[0.8888888888888888,\"#fdca26\"],[1.0,\"#f0f921\"]],\"sequentialminus\":[[0.0,\"#0d0887\"],[0.1111111111111111,\"#46039f\"],[0.2222222222222222,\"#7201a8\"],[0.3333333333333333,\"#9c179e\"],[0.4444444444444444,\"#bd3786\"],[0.5555555555555556,\"#d8576b\"],[0.6666666666666666,\"#ed7953\"],[0.7777777777777778,\"#fb9f3a\"],[0.8888888888888888,\"#fdca26\"],[1.0,\"#f0f921\"]]},\"colorway\":[\"#636efa\",\"#EF553B\",\"#00cc96\",\"#ab63fa\",\"#FFA15A\",\"#19d3f3\",\"#FF6692\",\"#B6E880\",\"#FF97FF\",\"#FECB52\"],\"font\":{\"color\":\"#2a3f5f\"},\"geo\":{\"bgcolor\":\"white\",\"lakecolor\":\"white\",\"landcolor\":\"white\",\"showlakes\":true,\"showland\":true,\"subunitcolor\":\"#C8D4E3\"},\"hoverlabel\":{\"align\":\"left\"},\"hovermode\":\"closest\",\"mapbox\":{\"style\":\"light\"},\"paper_bgcolor\":\"white\",\"plot_bgcolor\":\"white\",\"polar\":{\"angularaxis\":{\"gridcolor\":\"#EBF0F8\",\"linecolor\":\"#EBF0F8\",\"ticks\":\"\"},\"bgcolor\":\"white\",\"radialaxis\":{\"gridcolor\":\"#EBF0F8\",\"linecolor\":\"#EBF0F8\",\"ticks\":\"\"}},\"scene\":{\"xaxis\":{\"backgroundcolor\":\"white\",\"gridcolor\":\"#DFE8F3\",\"gridwidth\":2,\"linecolor\":\"#EBF0F8\",\"showbackground\":true,\"ticks\":\"\",\"zerolinecolor\":\"#EBF0F8\"},\"yaxis\":{\"backgroundcolor\":\"white\",\"gridcolor\":\"#DFE8F3\",\"gridwidth\":2,\"linecolor\":\"#EBF0F8\",\"showbackground\":true,\"ticks\":\"\",\"zerolinecolor\":\"#EBF0F8\"},\"zaxis\":{\"backgroundcolor\":\"white\",\"gridcolor\":\"#DFE8F3\",\"gridwidth\":2,\"linecolor\":\"#EBF0F8\",\"showbackground\":true,\"ticks\":\"\",\"zerolinecolor\":\"#EBF0F8\"}},\"shapedefaults\":{\"line\":{\"color\":\"#2a3f5f\"}},\"ternary\":{\"aaxis\":{\"gridcolor\":\"#DFE8F3\",\"linecolor\":\"#A2B1C6\",\"ticks\":\"\"},\"baxis\":{\"gridcolor\":\"#DFE8F3\",\"linecolor\":\"#A2B1C6\",\"ticks\":\"\"},\"bgcolor\":\"white\",\"caxis\":{\"gridcolor\":\"#DFE8F3\",\"linecolor\":\"#A2B1C6\",\"ticks\":\"\"}},\"title\":{\"x\":0.05},\"xaxis\":{\"automargin\":true,\"gridcolor\":\"#EBF0F8\",\"linecolor\":\"#EBF0F8\",\"ticks\":\"\",\"title\":{\"standoff\":15},\"zerolinecolor\":\"#EBF0F8\",\"zerolinewidth\":2},\"yaxis\":{\"automargin\":true,\"gridcolor\":\"#EBF0F8\",\"linecolor\":\"#EBF0F8\",\"ticks\":\"\",\"title\":{\"standoff\":15},\"zerolinecolor\":\"#EBF0F8\",\"zerolinewidth\":2}}},\"xaxis\":{\"anchor\":\"y\",\"domain\":[0.0,1.0],\"title\":{\"text\":\"Year\"}},\"yaxis\":{\"anchor\":\"x\",\"domain\":[0.0,1.0],\"title\":{\"text\":\"Games Published w/Top 10% BGG Avg. Rating\"}},\"legend\":{\"title\":{\"text\":\"variable\"},\"tracegroupgap\":0},\"margin\":{\"t\":60},\"barmode\":\"group\",\"showlegend\":false},                        {\"responsive\": true}                    ).then(function(){\n",
              "                            \n",
              "var gd = document.getElementById('9b245bcd-17b1-402a-bced-1b8ddfef42be');\n",
              "var x = new MutationObserver(function (mutations, observer) {{\n",
              "        var display = window.getComputedStyle(gd).display;\n",
              "        if (!display || display === 'none') {{\n",
              "            console.log([gd, 'removed!']);\n",
              "            Plotly.purge(gd);\n",
              "            observer.disconnect();\n",
              "        }}\n",
              "}});\n",
              "\n",
              "// Listen for the removal of the full notebook cells\n",
              "var notebookContainer = gd.closest('#notebook-container');\n",
              "if (notebookContainer) {{\n",
              "    x.observe(notebookContainer, {childList: true});\n",
              "}}\n",
              "\n",
              "// Listen for the clearing of the current output cell\n",
              "var outputEl = gd.closest('.output');\n",
              "if (outputEl) {{\n",
              "    x.observe(outputEl, {childList: true});\n",
              "}}\n",
              "\n",
              "                        })                };                            </script>        </div>\n",
              "</body>\n",
              "</html>"
            ]
          },
          "metadata": {}
        }
      ],
      "source": [
        "q90 = final_ranked['avg_rating'].quantile(.9)\n",
        "groupby_year_ks90 = final_ranked[final_ranked['avg_rating'] >= q90].groupby(['year', 'Crowdfunding: Kickstarter'])\n",
        "year_ks90 = groupby_year_ks90.size().unstack()\n",
        "year_ks90.columns = ['Non-KS', 'KS']\n",
        "\n",
        "fig = px.bar(year_ks90.loc[year_ks90.index >= 2008],\n",
        "             barmode='group',\n",
        "              color_discrete_map={\n",
        "                  'KS': '#08ce78',\n",
        "                  'Non-KS': '#3f3a5f'\n",
        "              },\n",
        "             template='plotly_white',\n",
        "             labels={'value': 'Games Published w/Top 10% BGG Avg. Rating', 'year': 'Year'})\n",
        "fig.update_layout(showlegend=False)\n",
        "fig.show()"
      ]
    },
    {
      "cell_type": "code",
      "execution_count": null,
      "metadata": {
        "id": "qmOYx_UqvC2v"
      },
      "outputs": [],
      "source": [
        "bayes_spearman = final_ranked.corr(method='spearman')['bayes_rating'].sort_values(ascending=False)\n",
        "ks_spearman = final_ranked.corr(method='spearman')['ks_rank'].sort_values(ascending=False)"
      ]
    },
    {
      "cell_type": "code",
      "source": [
        "combined_spearman = bayes_spearman.to_frame().join(ks_spearman * -1)\n",
        "combined_spearman = combined_spearman[combined_spearman['bayes_rating'] / combined_spearman['ks_rank'] < 0]\n",
        "combined_spearman = combined_spearman.drop(index=['usd_exchange_rate', 'fx_rate', 'static_usd_rate'])\n",
        "combined_spearman = combined_spearman.stack().reset_index()\n",
        "combined_spearman.columns = ['Feature', 'Platform', 'Correlation']\n",
        "combined_spearman['Feature'] = combined_spearman['Feature'].map(lambda x: (x[0].upper() + x[1:]).replace('_', ': '))\n",
        "combined_spearman.iloc[0, 0] = 'Game type: Family Game'\n",
        "combined_spearman.iloc[1, 0] = 'Game type: Family Game'\n",
        "fig = px.scatter(combined_spearman, x=\"Correlation\", y=\"Feature\", color=\"Platform\",\n",
        "                 color_discrete_map={\n",
        "                  'ks_rank': '#08ce78',\n",
        "                  'bayes_rating': '#3f3a5f'\n",
        "                  },\n",
        "                  template='plotly_white',\n",
        "                 width=550, height=1200)\n",
        "fig.layout.yaxis.side = 'right'\n",
        "fig.update_layout(showlegend=False)\n",
        "fig.show()"
      ],
      "metadata": {
        "colab": {
          "base_uri": "https://localhost:8080/",
          "height": 1000
        },
        "id": "qQbVElN72hpN",
        "outputId": "3d3ebfc2-5135-4c1d-e695-7892b4ab3c11"
      },
      "execution_count": null,
      "outputs": [
        {
          "output_type": "display_data",
          "data": {
            "text/html": [
              "<html>\n",
              "<head><meta charset=\"utf-8\" /></head>\n",
              "<body>\n",
              "    <div>            <script src=\"https://cdnjs.cloudflare.com/ajax/libs/mathjax/2.7.5/MathJax.js?config=TeX-AMS-MML_SVG\"></script><script type=\"text/javascript\">if (window.MathJax) {MathJax.Hub.Config({SVG: {font: \"STIX-Web\"}});}</script>                <script type=\"text/javascript\">window.PlotlyConfig = {MathJaxConfig: 'local'};</script>\n",
              "        <script src=\"https://cdn.plot.ly/plotly-2.8.3.min.js\"></script>                <div id=\"12baa856-9471-4f05-bec5-4454ed3e14e0\" class=\"plotly-graph-div\" style=\"height:1200px; width:550px;\"></div>            <script type=\"text/javascript\">                                    window.PLOTLYENV=window.PLOTLYENV || {};                                    if (document.getElementById(\"12baa856-9471-4f05-bec5-4454ed3e14e0\")) {                    Plotly.newPlot(                        \"12baa856-9471-4f05-bec5-4454ed3e14e0\",                        [{\"hovertemplate\":\"Platform=bayes_rating<br>Correlation=%{x}<br>Feature=%{y}<extra></extra>\",\"legendgroup\":\"bayes_rating\",\"marker\":{\"color\":\"#3f3a5f\",\"symbol\":\"circle\"},\"mode\":\"markers\",\"name\":\"bayes_rating\",\"orientation\":\"h\",\"showlegend\":true,\"x\":[0.1853242109146583,0.13142491732818762,0.07241219394814087,0.06423583173611755,0.06318504695170528,0.05859206877337974,0.05785210050897103,0.04650891610193119,0.04220625151435479,0.040422932852433785,0.035480165270460176,0.03494098269887208,0.03410177984361388,0.03388917553830466,0.03224848593920382,0.03130931112032294,0.03040393062431736,0.026870186953314695,0.02664065616146623,0.026090408648795072,0.024763451119741157,0.021318411173274775,0.021022080388758597,0.0205804855396889,0.020488179044691378,0.01934757082560713,0.016367907768380412,0.01585329258066743,0.015288675945506258,0.014906331239976934,0.014440147602744183,0.013968102937023594,0.011481126146351672,0.010011421180934628,0.0090598744551763,0.009004903209630268,0.00874287970930844,0.007731741109048435,0.007539357575386041,0.007502634576082864,0.0064468051266694274,0.003774286897075611,0.0036346867398330106,0.0036150299150178424,0.0030345245258454573,0.0027083156395514936,-0.0009624809405236524,-0.0017566632370055462,-0.003943912532454158,-0.004394505563584176,-0.004790628203008792,-0.007667256783982345,-0.009662079167572404,-0.009913146015037937,-0.011705318937695304,-0.01280887611252172,-0.017877252395141794,-0.02059733792195703,-0.02103407699336391,-0.023950398861574004,-0.02792079334928914,-0.038011186480328404,-0.05844359346205069,-0.07125500582927204,-0.1249952404680615,-0.12956548533320422],\"xaxis\":\"x\",\"y\":[\"Game type: Family Game\",\"Mechanic: Hand Management\",\"Category: Renaissance\",\"Category: Ancient\",\"Mechanic: Campaign / Battle Card Driven\",\"Mechanic: Simultaneous Action Selection\",\"Category: Political\",\"Mechanic: Constrained Bidding\",\"Mechanic: Commodity Speculation\",\"Mechanic: Set Collection\",\"Mechanic: Auction: Fixed Placement\",\"Mechanic: Roles with Asymmetric Information\",\"Mechanic: Take That\",\"Mechanic: Highest-Lowest Scoring\",\"Category: Bluffing\",\"Category: Age of Reason\",\"Category: Deduction\",\"Mechanic: Cube Tower\",\"Category: Aviation / Flight\",\"Mechanic: Chaining\",\"Mechanic: Auction/Bidding\",\"Category: World War II\",\"Mechanic: Deduction\",\"Mechanic: Action/Event\",\"Mechanic: Secret Unit Deployment\",\"Mechanic: Simulation\",\"Category: Wargame\",\"Category: American Revolutionary War\",\"Mechanic: Chit-Pull System\",\"Mechanic: Measurement Movement\",\"Category: Religious\",\"Mechanic: Ladder Climbing\",\"Category: Post-Napoleonic\",\"Mechanic: Relative Movement\",\"Mechanic: Minimap Resolution\",\"Mechanic: Pattern Movement\",\"Category: American Indian Wars\",\"Category: Mafia\",\"Category: Real-time\",\"Category: World War I\",\"Category: Napoleonic\",\"Mechanic: Area-Impulse\",\"Mechanic: Speed Matching\",\"Category: Arabian\",\"Mechanic: Induction\",\"Mechanic: Movement Points\",\"Category: Video Game Theme\",\"Mechanic: Passed Action Token\",\"Mechanic: Stacking and Balancing\",\"Category: Pirates\",\"Category: Game System\",\"Category: Novel-based\",\"Mechanic: Physical Removal\",\"Category: Maze\",\"Mechanic: Player Judge\",\"Category: Comic Book / Strip\",\"Category: Dice\",\"Category: Collectible Components\",\"Mechanic: Hexagon Grid\",\"Mechanic: Matching\",\"Category: Mature / Adult\",\"Mechanic: Singing\",\"Mechanic: Trading\",\"Category: Electronic\",\"Category: Trivia\",\"Category: Movies / TV / Radio theme\"],\"yaxis\":\"y\",\"type\":\"scatter\"},{\"hovertemplate\":\"Platform=ks_rank<br>Correlation=%{x}<br>Feature=%{y}<extra></extra>\",\"legendgroup\":\"ks_rank\",\"marker\":{\"color\":\"#08ce78\",\"symbol\":\"circle\"},\"mode\":\"markers\",\"name\":\"ks_rank\",\"orientation\":\"h\",\"showlegend\":true,\"x\":[-0.08655042630844086,-0.032471457785984766,-5.9898539587451904e-05,-0.012377074695996613,-0.005983663525330598,-0.009433958894000524,-0.02242991383334928,-0.010464766276943616,-0.001416271035121351,-0.012756476377275328,-0.0052390421941980935,-0.005708054332878337,-0.005228083018753547,-0.0022844632967077448,-0.048680437050896794,-0.029832386028970346,-0.05178716092471874,-0.012531241630665674,-0.004715062420644059,-0.01557626707222877,-0.040823605522975835,-0.01526601898947289,-0.00596490100396153,-0.009125238258790656,-0.033087509062977354,-0.009100242171705353,-0.05417053264316093,-0.03390185193046562,-0.01479478830433888,-0.0060084782451350904,-0.027041276418260922,-0.026520755365332386,-0.01091602315494373,-0.007787765423807977,-0.01487098365670935,-0.007728185147857319,-0.03947857292427491,-0.040537576366944245,-0.004025838282705411,-0.012717078737436346,-0.03394787347683749,-0.012573487704431088,-0.028165751616105517,-0.0023422729468188866,-0.0007787765423807976,-0.005593980996940165,0.0812479142283767,0.009923501093064406,0.00077690750163645,0.008447304301616212,0.009134730314700197,0.008141225589700684,0.01926881960163398,0.0318149255245676,0.015896056292262855,0.07383136181634178,0.005045124218080382,0.04182187008486208,0.013758818558959659,0.006983638353395596,0.0361677027341521,0.008545391281969907,0.010110462604014898,0.0245789567550752,0.027033653198345418,0.023934702290366948],\"xaxis\":\"x\",\"y\":[\"Game type: Family Game\",\"Mechanic: Hand Management\",\"Category: Renaissance\",\"Category: Ancient\",\"Mechanic: Campaign / Battle Card Driven\",\"Mechanic: Simultaneous Action Selection\",\"Category: Political\",\"Mechanic: Constrained Bidding\",\"Mechanic: Commodity Speculation\",\"Mechanic: Set Collection\",\"Mechanic: Auction: Fixed Placement\",\"Mechanic: Roles with Asymmetric Information\",\"Mechanic: Take That\",\"Mechanic: Highest-Lowest Scoring\",\"Category: Bluffing\",\"Category: Age of Reason\",\"Category: Deduction\",\"Mechanic: Cube Tower\",\"Category: Aviation / Flight\",\"Mechanic: Chaining\",\"Mechanic: Auction/Bidding\",\"Category: World War II\",\"Mechanic: Deduction\",\"Mechanic: Action/Event\",\"Mechanic: Secret Unit Deployment\",\"Mechanic: Simulation\",\"Category: Wargame\",\"Category: American Revolutionary War\",\"Mechanic: Chit-Pull System\",\"Mechanic: Measurement Movement\",\"Category: Religious\",\"Mechanic: Ladder Climbing\",\"Category: Post-Napoleonic\",\"Mechanic: Relative Movement\",\"Mechanic: Minimap Resolution\",\"Mechanic: Pattern Movement\",\"Category: American Indian Wars\",\"Category: Mafia\",\"Category: Real-time\",\"Category: World War I\",\"Category: Napoleonic\",\"Mechanic: Area-Impulse\",\"Mechanic: Speed Matching\",\"Category: Arabian\",\"Mechanic: Induction\",\"Mechanic: Movement Points\",\"Category: Video Game Theme\",\"Mechanic: Passed Action Token\",\"Mechanic: Stacking and Balancing\",\"Category: Pirates\",\"Category: Game System\",\"Category: Novel-based\",\"Mechanic: Physical Removal\",\"Category: Maze\",\"Mechanic: Player Judge\",\"Category: Comic Book / Strip\",\"Category: Dice\",\"Category: Collectible Components\",\"Mechanic: Hexagon Grid\",\"Mechanic: Matching\",\"Category: Mature / Adult\",\"Mechanic: Singing\",\"Mechanic: Trading\",\"Category: Electronic\",\"Category: Trivia\",\"Category: Movies / TV / Radio theme\"],\"yaxis\":\"y\",\"type\":\"scatter\"}],                        {\"template\":{\"data\":{\"barpolar\":[{\"marker\":{\"line\":{\"color\":\"white\",\"width\":0.5},\"pattern\":{\"fillmode\":\"overlay\",\"size\":10,\"solidity\":0.2}},\"type\":\"barpolar\"}],\"bar\":[{\"error_x\":{\"color\":\"#2a3f5f\"},\"error_y\":{\"color\":\"#2a3f5f\"},\"marker\":{\"line\":{\"color\":\"white\",\"width\":0.5},\"pattern\":{\"fillmode\":\"overlay\",\"size\":10,\"solidity\":0.2}},\"type\":\"bar\"}],\"carpet\":[{\"aaxis\":{\"endlinecolor\":\"#2a3f5f\",\"gridcolor\":\"#C8D4E3\",\"linecolor\":\"#C8D4E3\",\"minorgridcolor\":\"#C8D4E3\",\"startlinecolor\":\"#2a3f5f\"},\"baxis\":{\"endlinecolor\":\"#2a3f5f\",\"gridcolor\":\"#C8D4E3\",\"linecolor\":\"#C8D4E3\",\"minorgridcolor\":\"#C8D4E3\",\"startlinecolor\":\"#2a3f5f\"},\"type\":\"carpet\"}],\"choropleth\":[{\"colorbar\":{\"outlinewidth\":0,\"ticks\":\"\"},\"type\":\"choropleth\"}],\"contourcarpet\":[{\"colorbar\":{\"outlinewidth\":0,\"ticks\":\"\"},\"type\":\"contourcarpet\"}],\"contour\":[{\"colorbar\":{\"outlinewidth\":0,\"ticks\":\"\"},\"colorscale\":[[0.0,\"#0d0887\"],[0.1111111111111111,\"#46039f\"],[0.2222222222222222,\"#7201a8\"],[0.3333333333333333,\"#9c179e\"],[0.4444444444444444,\"#bd3786\"],[0.5555555555555556,\"#d8576b\"],[0.6666666666666666,\"#ed7953\"],[0.7777777777777778,\"#fb9f3a\"],[0.8888888888888888,\"#fdca26\"],[1.0,\"#f0f921\"]],\"type\":\"contour\"}],\"heatmapgl\":[{\"colorbar\":{\"outlinewidth\":0,\"ticks\":\"\"},\"colorscale\":[[0.0,\"#0d0887\"],[0.1111111111111111,\"#46039f\"],[0.2222222222222222,\"#7201a8\"],[0.3333333333333333,\"#9c179e\"],[0.4444444444444444,\"#bd3786\"],[0.5555555555555556,\"#d8576b\"],[0.6666666666666666,\"#ed7953\"],[0.7777777777777778,\"#fb9f3a\"],[0.8888888888888888,\"#fdca26\"],[1.0,\"#f0f921\"]],\"type\":\"heatmapgl\"}],\"heatmap\":[{\"colorbar\":{\"outlinewidth\":0,\"ticks\":\"\"},\"colorscale\":[[0.0,\"#0d0887\"],[0.1111111111111111,\"#46039f\"],[0.2222222222222222,\"#7201a8\"],[0.3333333333333333,\"#9c179e\"],[0.4444444444444444,\"#bd3786\"],[0.5555555555555556,\"#d8576b\"],[0.6666666666666666,\"#ed7953\"],[0.7777777777777778,\"#fb9f3a\"],[0.8888888888888888,\"#fdca26\"],[1.0,\"#f0f921\"]],\"type\":\"heatmap\"}],\"histogram2dcontour\":[{\"colorbar\":{\"outlinewidth\":0,\"ticks\":\"\"},\"colorscale\":[[0.0,\"#0d0887\"],[0.1111111111111111,\"#46039f\"],[0.2222222222222222,\"#7201a8\"],[0.3333333333333333,\"#9c179e\"],[0.4444444444444444,\"#bd3786\"],[0.5555555555555556,\"#d8576b\"],[0.6666666666666666,\"#ed7953\"],[0.7777777777777778,\"#fb9f3a\"],[0.8888888888888888,\"#fdca26\"],[1.0,\"#f0f921\"]],\"type\":\"histogram2dcontour\"}],\"histogram2d\":[{\"colorbar\":{\"outlinewidth\":0,\"ticks\":\"\"},\"colorscale\":[[0.0,\"#0d0887\"],[0.1111111111111111,\"#46039f\"],[0.2222222222222222,\"#7201a8\"],[0.3333333333333333,\"#9c179e\"],[0.4444444444444444,\"#bd3786\"],[0.5555555555555556,\"#d8576b\"],[0.6666666666666666,\"#ed7953\"],[0.7777777777777778,\"#fb9f3a\"],[0.8888888888888888,\"#fdca26\"],[1.0,\"#f0f921\"]],\"type\":\"histogram2d\"}],\"histogram\":[{\"marker\":{\"pattern\":{\"fillmode\":\"overlay\",\"size\":10,\"solidity\":0.2}},\"type\":\"histogram\"}],\"mesh3d\":[{\"colorbar\":{\"outlinewidth\":0,\"ticks\":\"\"},\"type\":\"mesh3d\"}],\"parcoords\":[{\"line\":{\"colorbar\":{\"outlinewidth\":0,\"ticks\":\"\"}},\"type\":\"parcoords\"}],\"pie\":[{\"automargin\":true,\"type\":\"pie\"}],\"scatter3d\":[{\"line\":{\"colorbar\":{\"outlinewidth\":0,\"ticks\":\"\"}},\"marker\":{\"colorbar\":{\"outlinewidth\":0,\"ticks\":\"\"}},\"type\":\"scatter3d\"}],\"scattercarpet\":[{\"marker\":{\"colorbar\":{\"outlinewidth\":0,\"ticks\":\"\"}},\"type\":\"scattercarpet\"}],\"scattergeo\":[{\"marker\":{\"colorbar\":{\"outlinewidth\":0,\"ticks\":\"\"}},\"type\":\"scattergeo\"}],\"scattergl\":[{\"marker\":{\"colorbar\":{\"outlinewidth\":0,\"ticks\":\"\"}},\"type\":\"scattergl\"}],\"scattermapbox\":[{\"marker\":{\"colorbar\":{\"outlinewidth\":0,\"ticks\":\"\"}},\"type\":\"scattermapbox\"}],\"scatterpolargl\":[{\"marker\":{\"colorbar\":{\"outlinewidth\":0,\"ticks\":\"\"}},\"type\":\"scatterpolargl\"}],\"scatterpolar\":[{\"marker\":{\"colorbar\":{\"outlinewidth\":0,\"ticks\":\"\"}},\"type\":\"scatterpolar\"}],\"scatter\":[{\"marker\":{\"colorbar\":{\"outlinewidth\":0,\"ticks\":\"\"}},\"type\":\"scatter\"}],\"scatterternary\":[{\"marker\":{\"colorbar\":{\"outlinewidth\":0,\"ticks\":\"\"}},\"type\":\"scatterternary\"}],\"surface\":[{\"colorbar\":{\"outlinewidth\":0,\"ticks\":\"\"},\"colorscale\":[[0.0,\"#0d0887\"],[0.1111111111111111,\"#46039f\"],[0.2222222222222222,\"#7201a8\"],[0.3333333333333333,\"#9c179e\"],[0.4444444444444444,\"#bd3786\"],[0.5555555555555556,\"#d8576b\"],[0.6666666666666666,\"#ed7953\"],[0.7777777777777778,\"#fb9f3a\"],[0.8888888888888888,\"#fdca26\"],[1.0,\"#f0f921\"]],\"type\":\"surface\"}],\"table\":[{\"cells\":{\"fill\":{\"color\":\"#EBF0F8\"},\"line\":{\"color\":\"white\"}},\"header\":{\"fill\":{\"color\":\"#C8D4E3\"},\"line\":{\"color\":\"white\"}},\"type\":\"table\"}]},\"layout\":{\"annotationdefaults\":{\"arrowcolor\":\"#2a3f5f\",\"arrowhead\":0,\"arrowwidth\":1},\"autotypenumbers\":\"strict\",\"coloraxis\":{\"colorbar\":{\"outlinewidth\":0,\"ticks\":\"\"}},\"colorscale\":{\"diverging\":[[0,\"#8e0152\"],[0.1,\"#c51b7d\"],[0.2,\"#de77ae\"],[0.3,\"#f1b6da\"],[0.4,\"#fde0ef\"],[0.5,\"#f7f7f7\"],[0.6,\"#e6f5d0\"],[0.7,\"#b8e186\"],[0.8,\"#7fbc41\"],[0.9,\"#4d9221\"],[1,\"#276419\"]],\"sequential\":[[0.0,\"#0d0887\"],[0.1111111111111111,\"#46039f\"],[0.2222222222222222,\"#7201a8\"],[0.3333333333333333,\"#9c179e\"],[0.4444444444444444,\"#bd3786\"],[0.5555555555555556,\"#d8576b\"],[0.6666666666666666,\"#ed7953\"],[0.7777777777777778,\"#fb9f3a\"],[0.8888888888888888,\"#fdca26\"],[1.0,\"#f0f921\"]],\"sequentialminus\":[[0.0,\"#0d0887\"],[0.1111111111111111,\"#46039f\"],[0.2222222222222222,\"#7201a8\"],[0.3333333333333333,\"#9c179e\"],[0.4444444444444444,\"#bd3786\"],[0.5555555555555556,\"#d8576b\"],[0.6666666666666666,\"#ed7953\"],[0.7777777777777778,\"#fb9f3a\"],[0.8888888888888888,\"#fdca26\"],[1.0,\"#f0f921\"]]},\"colorway\":[\"#636efa\",\"#EF553B\",\"#00cc96\",\"#ab63fa\",\"#FFA15A\",\"#19d3f3\",\"#FF6692\",\"#B6E880\",\"#FF97FF\",\"#FECB52\"],\"font\":{\"color\":\"#2a3f5f\"},\"geo\":{\"bgcolor\":\"white\",\"lakecolor\":\"white\",\"landcolor\":\"white\",\"showlakes\":true,\"showland\":true,\"subunitcolor\":\"#C8D4E3\"},\"hoverlabel\":{\"align\":\"left\"},\"hovermode\":\"closest\",\"mapbox\":{\"style\":\"light\"},\"paper_bgcolor\":\"white\",\"plot_bgcolor\":\"white\",\"polar\":{\"angularaxis\":{\"gridcolor\":\"#EBF0F8\",\"linecolor\":\"#EBF0F8\",\"ticks\":\"\"},\"bgcolor\":\"white\",\"radialaxis\":{\"gridcolor\":\"#EBF0F8\",\"linecolor\":\"#EBF0F8\",\"ticks\":\"\"}},\"scene\":{\"xaxis\":{\"backgroundcolor\":\"white\",\"gridcolor\":\"#DFE8F3\",\"gridwidth\":2,\"linecolor\":\"#EBF0F8\",\"showbackground\":true,\"ticks\":\"\",\"zerolinecolor\":\"#EBF0F8\"},\"yaxis\":{\"backgroundcolor\":\"white\",\"gridcolor\":\"#DFE8F3\",\"gridwidth\":2,\"linecolor\":\"#EBF0F8\",\"showbackground\":true,\"ticks\":\"\",\"zerolinecolor\":\"#EBF0F8\"},\"zaxis\":{\"backgroundcolor\":\"white\",\"gridcolor\":\"#DFE8F3\",\"gridwidth\":2,\"linecolor\":\"#EBF0F8\",\"showbackground\":true,\"ticks\":\"\",\"zerolinecolor\":\"#EBF0F8\"}},\"shapedefaults\":{\"line\":{\"color\":\"#2a3f5f\"}},\"ternary\":{\"aaxis\":{\"gridcolor\":\"#DFE8F3\",\"linecolor\":\"#A2B1C6\",\"ticks\":\"\"},\"baxis\":{\"gridcolor\":\"#DFE8F3\",\"linecolor\":\"#A2B1C6\",\"ticks\":\"\"},\"bgcolor\":\"white\",\"caxis\":{\"gridcolor\":\"#DFE8F3\",\"linecolor\":\"#A2B1C6\",\"ticks\":\"\"}},\"title\":{\"x\":0.05},\"xaxis\":{\"automargin\":true,\"gridcolor\":\"#EBF0F8\",\"linecolor\":\"#EBF0F8\",\"ticks\":\"\",\"title\":{\"standoff\":15},\"zerolinecolor\":\"#EBF0F8\",\"zerolinewidth\":2},\"yaxis\":{\"automargin\":true,\"gridcolor\":\"#EBF0F8\",\"linecolor\":\"#EBF0F8\",\"ticks\":\"\",\"title\":{\"standoff\":15},\"zerolinecolor\":\"#EBF0F8\",\"zerolinewidth\":2}}},\"xaxis\":{\"anchor\":\"y\",\"domain\":[0.0,1.0],\"title\":{\"text\":\"Correlation\"}},\"yaxis\":{\"anchor\":\"x\",\"domain\":[0.0,1.0],\"title\":{\"text\":\"Feature\"},\"side\":\"right\"},\"legend\":{\"title\":{\"text\":\"Platform\"},\"tracegroupgap\":0},\"margin\":{\"t\":60},\"height\":1200,\"width\":550,\"showlegend\":false},                        {\"responsive\": true}                    ).then(function(){\n",
              "                            \n",
              "var gd = document.getElementById('12baa856-9471-4f05-bec5-4454ed3e14e0');\n",
              "var x = new MutationObserver(function (mutations, observer) {{\n",
              "        var display = window.getComputedStyle(gd).display;\n",
              "        if (!display || display === 'none') {{\n",
              "            console.log([gd, 'removed!']);\n",
              "            Plotly.purge(gd);\n",
              "            observer.disconnect();\n",
              "        }}\n",
              "}});\n",
              "\n",
              "// Listen for the removal of the full notebook cells\n",
              "var notebookContainer = gd.closest('#notebook-container');\n",
              "if (notebookContainer) {{\n",
              "    x.observe(notebookContainer, {childList: true});\n",
              "}}\n",
              "\n",
              "// Listen for the clearing of the current output cell\n",
              "var outputEl = gd.closest('.output');\n",
              "if (outputEl) {{\n",
              "    x.observe(outputEl, {childList: true});\n",
              "}}\n",
              "\n",
              "                        })                };                            </script>        </div>\n",
              "</body>\n",
              "</html>"
            ]
          },
          "metadata": {}
        }
      ]
    },
    {
      "cell_type": "code",
      "execution_count": null,
      "metadata": {
        "id": "HldmtUiyF_0s"
      },
      "outputs": [],
      "source": [
        "def createCategoryHeatmap(df, top_pledge_percent, top_category_percent):\n",
        "    top_category_percent = 100 - top_category_percent\n",
        "    \n",
        "    rank_df = df[df['ks_rank'].notna()].sort_values('usd_pledged', ascending=True)\n",
        "    rank_df = rank_df.head(int(len(rank_df)*(top_pledge_percent/100)))\n",
        "\n",
        "    category_cols = [x for x in rank_df.columns if 'category_' in x]\n",
        "    df_category = rank_df[category_cols]\n",
        "    df_category.columns = df_category.columns.str.replace('category_', '')\n",
        "    df_category = df_category.fillna(0)\n",
        "\n",
        "    adj = pd.DataFrame()\n",
        "\n",
        "    for column in list(df_category.columns):\n",
        "        t_df = pd.DataFrame(df_category[df_category[column] != 0].sum()).reset_index()\n",
        "        adj = pd.concat([adj, t_df[0]], ignore_index=True, sort=False, axis=1)\n",
        "\n",
        "    adj.columns = df_category.columns\n",
        "    adj.index = df_category.columns\n",
        "    np.fill_diagonal(adj.values, 0)\n",
        "\n",
        "\n",
        "    keep = adj.sum().sort_values(ascending=True).to_frame()\n",
        "    keep = list(keep.head(int(len(keep)*(top_category_percent/100))).index)\n",
        "\n",
        "    adj = adj.drop(keep)\n",
        "    adj = adj.drop(keep, axis=1)\n",
        "\n",
        "    order = list(adj.sum().sort_values(ascending=True).index)\n",
        "    \n",
        "    adj = pd.melt(adj.reset_index(), id_vars=['index'])\n",
        "    adj = adj[adj['value']!=0]\n",
        "\n",
        "    chart = alt.Chart(adj).mark_rect().encode(\n",
        "                alt.X('index:N', sort=order, title=None),\n",
        "                alt.Y('variable:N', sort=order, title=None),\n",
        "                alt.Color('value:Q',\n",
        "                    scale=alt.Scale(scheme='greenblue'),\n",
        "                    legend=None\n",
        "                )\n",
        "            ).properties(width=550,height=550)\n",
        "    \n",
        "    text = alt.Chart(adj).mark_text(baseline='middle').encode(\n",
        "                alt.X('index:N', sort=order),\n",
        "                alt.Y('variable:N', sort=order),\n",
        "                text=alt.Text('value:Q'),\n",
        "            )\n",
        "\n",
        "    return chart + text"
      ]
    },
    {
      "cell_type": "code",
      "execution_count": null,
      "metadata": {
        "colab": {
          "base_uri": "https://localhost:8080/",
          "height": 665
        },
        "id": "dx2swaf9DrWl",
        "outputId": "4e72808b-e6db-4eef-9b74-1a4c4391634a"
      },
      "outputs": [
        {
          "data": {
            "text/html": [
              "\n",
              "<div id=\"altair-viz-c1c7be6a439b45999c1dbf7f13a4dd31\"></div>\n",
              "<script type=\"text/javascript\">\n",
              "  var VEGA_DEBUG = (typeof VEGA_DEBUG == \"undefined\") ? {} : VEGA_DEBUG;\n",
              "  (function(spec, embedOpt){\n",
              "    let outputDiv = document.currentScript.previousElementSibling;\n",
              "    if (outputDiv.id !== \"altair-viz-c1c7be6a439b45999c1dbf7f13a4dd31\") {\n",
              "      outputDiv = document.getElementById(\"altair-viz-c1c7be6a439b45999c1dbf7f13a4dd31\");\n",
              "    }\n",
              "    const paths = {\n",
              "      \"vega\": \"https://cdn.jsdelivr.net/npm//vega@5?noext\",\n",
              "      \"vega-lib\": \"https://cdn.jsdelivr.net/npm//vega-lib?noext\",\n",
              "      \"vega-lite\": \"https://cdn.jsdelivr.net/npm//vega-lite@4.17.0?noext\",\n",
              "      \"vega-embed\": \"https://cdn.jsdelivr.net/npm//vega-embed@6?noext\",\n",
              "    };\n",
              "\n",
              "    function maybeLoadScript(lib, version) {\n",
              "      var key = `${lib.replace(\"-\", \"\")}_version`;\n",
              "      return (VEGA_DEBUG[key] == version) ?\n",
              "        Promise.resolve(paths[lib]) :\n",
              "        new Promise(function(resolve, reject) {\n",
              "          var s = document.createElement('script');\n",
              "          document.getElementsByTagName(\"head\")[0].appendChild(s);\n",
              "          s.async = true;\n",
              "          s.onload = () => {\n",
              "            VEGA_DEBUG[key] = version;\n",
              "            return resolve(paths[lib]);\n",
              "          };\n",
              "          s.onerror = () => reject(`Error loading script: ${paths[lib]}`);\n",
              "          s.src = paths[lib];\n",
              "        });\n",
              "    }\n",
              "\n",
              "    function showError(err) {\n",
              "      outputDiv.innerHTML = `<div class=\"error\" style=\"color:red;\">${err}</div>`;\n",
              "      throw err;\n",
              "    }\n",
              "\n",
              "    function displayChart(vegaEmbed) {\n",
              "      vegaEmbed(outputDiv, spec, embedOpt)\n",
              "        .catch(err => showError(`Javascript Error: ${err.message}<br>This usually means there's a typo in your chart specification. See the javascript console for the full traceback.`));\n",
              "    }\n",
              "\n",
              "    if(typeof define === \"function\" && define.amd) {\n",
              "      requirejs.config({paths});\n",
              "      require([\"vega-embed\"], displayChart, err => showError(`Error loading script: ${err.message}`));\n",
              "    } else {\n",
              "      maybeLoadScript(\"vega\", \"5\")\n",
              "        .then(() => maybeLoadScript(\"vega-lite\", \"4.17.0\"))\n",
              "        .then(() => maybeLoadScript(\"vega-embed\", \"6\"))\n",
              "        .catch(showError)\n",
              "        .then(() => displayChart(vegaEmbed));\n",
              "    }\n",
              "  })({\"config\": {\"view\": {\"continuousWidth\": 400, \"continuousHeight\": 300}}, \"layer\": [{\"mark\": \"rect\", \"encoding\": {\"color\": {\"field\": \"value\", \"legend\": null, \"scale\": {\"scheme\": \"greenblue\"}, \"type\": \"quantitative\"}, \"x\": {\"field\": \"index\", \"sort\": [\"Wargame\", \"Negotiation\", \"Abstract Strategy\", \"Exploration\", \"Medieval\", \"Animals\", \"Adventure\", \"Print & Play\", \"Science Fiction\", \"Dice\", \"Fighting\", \"Deduction\", \"Bluffing\", \"Humor\", \"Party Game\", \"Fantasy\", \"Card Game\"], \"title\": null, \"type\": \"nominal\"}, \"y\": {\"field\": \"variable\", \"sort\": [\"Wargame\", \"Negotiation\", \"Abstract Strategy\", \"Exploration\", \"Medieval\", \"Animals\", \"Adventure\", \"Print & Play\", \"Science Fiction\", \"Dice\", \"Fighting\", \"Deduction\", \"Bluffing\", \"Humor\", \"Party Game\", \"Fantasy\", \"Card Game\"], \"title\": null, \"type\": \"nominal\"}}, \"height\": 550, \"width\": 550}, {\"mark\": {\"type\": \"text\", \"baseline\": \"middle\"}, \"encoding\": {\"text\": {\"field\": \"value\", \"type\": \"quantitative\"}, \"x\": {\"field\": \"index\", \"sort\": [\"Wargame\", \"Negotiation\", \"Abstract Strategy\", \"Exploration\", \"Medieval\", \"Animals\", \"Adventure\", \"Print & Play\", \"Science Fiction\", \"Dice\", \"Fighting\", \"Deduction\", \"Bluffing\", \"Humor\", \"Party Game\", \"Fantasy\", \"Card Game\"], \"type\": \"nominal\"}, \"y\": {\"field\": \"variable\", \"sort\": [\"Wargame\", \"Negotiation\", \"Abstract Strategy\", \"Exploration\", \"Medieval\", \"Animals\", \"Adventure\", \"Print & Play\", \"Science Fiction\", \"Dice\", \"Fighting\", \"Deduction\", \"Bluffing\", \"Humor\", \"Party Game\", \"Fantasy\", \"Card Game\"], \"type\": \"nominal\"}}}], \"data\": {\"name\": \"data-e729368c73cb6baaebf34fc634e16dfc\"}, \"$schema\": \"https://vega.github.io/schema/vega-lite/v4.17.0.json\", \"datasets\": {\"data-e729368c73cb6baaebf34fc634e16dfc\": [{\"index\": \"Adventure\", \"variable\": \"Abstract Strategy\", \"value\": 2.0}, {\"index\": \"Animals\", \"variable\": \"Abstract Strategy\", \"value\": 5.0}, {\"index\": \"Bluffing\", \"variable\": \"Abstract Strategy\", \"value\": 5.0}, {\"index\": \"Card Game\", \"variable\": \"Abstract Strategy\", \"value\": 21.0}, {\"index\": \"Deduction\", \"variable\": \"Abstract Strategy\", \"value\": 6.0}, {\"index\": \"Dice\", \"variable\": \"Abstract Strategy\", \"value\": 2.0}, {\"index\": \"Fantasy\", \"variable\": \"Abstract Strategy\", \"value\": 6.0}, {\"index\": \"Fighting\", \"variable\": \"Abstract Strategy\", \"value\": 4.0}, {\"index\": \"Humor\", \"variable\": \"Abstract Strategy\", \"value\": 4.0}, {\"index\": \"Medieval\", \"variable\": \"Abstract Strategy\", \"value\": 4.0}, {\"index\": \"Negotiation\", \"variable\": \"Abstract Strategy\", \"value\": 2.0}, {\"index\": \"Party Game\", \"variable\": \"Abstract Strategy\", \"value\": 2.0}, {\"index\": \"Print & Play\", \"variable\": \"Abstract Strategy\", \"value\": 4.0}, {\"index\": \"Science Fiction\", \"variable\": \"Abstract Strategy\", \"value\": 1.0}, {\"index\": \"Wargame\", \"variable\": \"Abstract Strategy\", \"value\": 4.0}, {\"index\": \"Abstract Strategy\", \"variable\": \"Adventure\", \"value\": 2.0}, {\"index\": \"Animals\", \"variable\": \"Adventure\", \"value\": 3.0}, {\"index\": \"Bluffing\", \"variable\": \"Adventure\", \"value\": 5.0}, {\"index\": \"Card Game\", \"variable\": \"Adventure\", \"value\": 20.0}, {\"index\": \"Deduction\", \"variable\": \"Adventure\", \"value\": 1.0}, {\"index\": \"Dice\", \"variable\": \"Adventure\", \"value\": 13.0}, {\"index\": \"Exploration\", \"variable\": \"Adventure\", \"value\": 14.0}, {\"index\": \"Fantasy\", \"variable\": \"Adventure\", \"value\": 21.0}, {\"index\": \"Fighting\", \"variable\": \"Adventure\", \"value\": 10.0}, {\"index\": \"Humor\", \"variable\": \"Adventure\", \"value\": 2.0}, {\"index\": \"Medieval\", \"variable\": \"Adventure\", \"value\": 8.0}, {\"index\": \"Negotiation\", \"variable\": \"Adventure\", \"value\": 3.0}, {\"index\": \"Print & Play\", \"variable\": \"Adventure\", \"value\": 1.0}, {\"index\": \"Science Fiction\", \"variable\": \"Adventure\", \"value\": 6.0}, {\"index\": \"Wargame\", \"variable\": \"Adventure\", \"value\": 1.0}, {\"index\": \"Abstract Strategy\", \"variable\": \"Animals\", \"value\": 5.0}, {\"index\": \"Adventure\", \"variable\": \"Animals\", \"value\": 3.0}, {\"index\": \"Bluffing\", \"variable\": \"Animals\", \"value\": 8.0}, {\"index\": \"Card Game\", \"variable\": \"Animals\", \"value\": 34.0}, {\"index\": \"Deduction\", \"variable\": \"Animals\", \"value\": 2.0}, {\"index\": \"Dice\", \"variable\": \"Animals\", \"value\": 8.0}, {\"index\": \"Exploration\", \"variable\": \"Animals\", \"value\": 1.0}, {\"index\": \"Fantasy\", \"variable\": \"Animals\", \"value\": 5.0}, {\"index\": \"Fighting\", \"variable\": \"Animals\", \"value\": 3.0}, {\"index\": \"Humor\", \"variable\": \"Animals\", \"value\": 14.0}, {\"index\": \"Negotiation\", \"variable\": \"Animals\", \"value\": 2.0}, {\"index\": \"Party Game\", \"variable\": \"Animals\", \"value\": 15.0}, {\"index\": \"Print & Play\", \"variable\": \"Animals\", \"value\": 2.0}, {\"index\": \"Science Fiction\", \"variable\": \"Animals\", \"value\": 3.0}, {\"index\": \"Abstract Strategy\", \"variable\": \"Bluffing\", \"value\": 5.0}, {\"index\": \"Adventure\", \"variable\": \"Bluffing\", \"value\": 5.0}, {\"index\": \"Animals\", \"variable\": \"Bluffing\", \"value\": 8.0}, {\"index\": \"Card Game\", \"variable\": \"Bluffing\", \"value\": 53.0}, {\"index\": \"Deduction\", \"variable\": \"Bluffing\", \"value\": 37.0}, {\"index\": \"Dice\", \"variable\": \"Bluffing\", \"value\": 6.0}, {\"index\": \"Exploration\", \"variable\": \"Bluffing\", \"value\": 3.0}, {\"index\": \"Fantasy\", \"variable\": \"Bluffing\", \"value\": 10.0}, {\"index\": \"Fighting\", \"variable\": \"Bluffing\", \"value\": 4.0}, {\"index\": \"Humor\", \"variable\": \"Bluffing\", \"value\": 4.0}, {\"index\": \"Medieval\", \"variable\": \"Bluffing\", \"value\": 6.0}, {\"index\": \"Negotiation\", \"variable\": \"Bluffing\", \"value\": 13.0}, {\"index\": \"Party Game\", \"variable\": \"Bluffing\", \"value\": 18.0}, {\"index\": \"Print & Play\", \"variable\": \"Bluffing\", \"value\": 4.0}, {\"index\": \"Science Fiction\", \"variable\": \"Bluffing\", \"value\": 4.0}, {\"index\": \"Wargame\", \"variable\": \"Bluffing\", \"value\": 1.0}, {\"index\": \"Abstract Strategy\", \"variable\": \"Card Game\", \"value\": 21.0}, {\"index\": \"Adventure\", \"variable\": \"Card Game\", \"value\": 20.0}, {\"index\": \"Animals\", \"variable\": \"Card Game\", \"value\": 34.0}, {\"index\": \"Bluffing\", \"variable\": \"Card Game\", \"value\": 53.0}, {\"index\": \"Deduction\", \"variable\": \"Card Game\", \"value\": 50.0}, {\"index\": \"Dice\", \"variable\": \"Card Game\", \"value\": 32.0}, {\"index\": \"Exploration\", \"variable\": \"Card Game\", \"value\": 11.0}, {\"index\": \"Fantasy\", \"variable\": \"Card Game\", \"value\": 96.0}, {\"index\": \"Fighting\", \"variable\": \"Card Game\", \"value\": 35.0}, {\"index\": \"Humor\", \"variable\": \"Card Game\", \"value\": 63.0}, {\"index\": \"Medieval\", \"variable\": \"Card Game\", \"value\": 31.0}, {\"index\": \"Negotiation\", \"variable\": \"Card Game\", \"value\": 11.0}, {\"index\": \"Party Game\", \"variable\": \"Card Game\", \"value\": 75.0}, {\"index\": \"Print & Play\", \"variable\": \"Card Game\", \"value\": 49.0}, {\"index\": \"Science Fiction\", \"variable\": \"Card Game\", \"value\": 41.0}, {\"index\": \"Wargame\", \"variable\": \"Card Game\", \"value\": 12.0}, {\"index\": \"Abstract Strategy\", \"variable\": \"Deduction\", \"value\": 6.0}, {\"index\": \"Adventure\", \"variable\": \"Deduction\", \"value\": 1.0}, {\"index\": \"Animals\", \"variable\": \"Deduction\", \"value\": 2.0}, {\"index\": \"Bluffing\", \"variable\": \"Deduction\", \"value\": 37.0}, {\"index\": \"Card Game\", \"variable\": \"Deduction\", \"value\": 50.0}, {\"index\": \"Dice\", \"variable\": \"Deduction\", \"value\": 1.0}, {\"index\": \"Fantasy\", \"variable\": \"Deduction\", \"value\": 10.0}, {\"index\": \"Fighting\", \"variable\": \"Deduction\", \"value\": 1.0}, {\"index\": \"Humor\", \"variable\": \"Deduction\", \"value\": 5.0}, {\"index\": \"Medieval\", \"variable\": \"Deduction\", \"value\": 7.0}, {\"index\": \"Negotiation\", \"variable\": \"Deduction\", \"value\": 6.0}, {\"index\": \"Party Game\", \"variable\": \"Deduction\", \"value\": 21.0}, {\"index\": \"Print & Play\", \"variable\": \"Deduction\", \"value\": 7.0}, {\"index\": \"Science Fiction\", \"variable\": \"Deduction\", \"value\": 5.0}, {\"index\": \"Wargame\", \"variable\": \"Deduction\", \"value\": 1.0}, {\"index\": \"Abstract Strategy\", \"variable\": \"Dice\", \"value\": 2.0}, {\"index\": \"Adventure\", \"variable\": \"Dice\", \"value\": 13.0}, {\"index\": \"Animals\", \"variable\": \"Dice\", \"value\": 8.0}, {\"index\": \"Bluffing\", \"variable\": \"Dice\", \"value\": 6.0}, {\"index\": \"Card Game\", \"variable\": \"Dice\", \"value\": 32.0}, {\"index\": \"Deduction\", \"variable\": \"Dice\", \"value\": 1.0}, {\"index\": \"Exploration\", \"variable\": \"Dice\", \"value\": 7.0}, {\"index\": \"Fantasy\", \"variable\": \"Dice\", \"value\": 23.0}, {\"index\": \"Fighting\", \"variable\": \"Dice\", \"value\": 13.0}, {\"index\": \"Humor\", \"variable\": \"Dice\", \"value\": 8.0}, {\"index\": \"Medieval\", \"variable\": \"Dice\", \"value\": 7.0}, {\"index\": \"Negotiation\", \"variable\": \"Dice\", \"value\": 3.0}, {\"index\": \"Party Game\", \"variable\": \"Dice\", \"value\": 5.0}, {\"index\": \"Print & Play\", \"variable\": \"Dice\", \"value\": 7.0}, {\"index\": \"Science Fiction\", \"variable\": \"Dice\", \"value\": 8.0}, {\"index\": \"Wargame\", \"variable\": \"Dice\", \"value\": 6.0}, {\"index\": \"Adventure\", \"variable\": \"Exploration\", \"value\": 14.0}, {\"index\": \"Animals\", \"variable\": \"Exploration\", \"value\": 1.0}, {\"index\": \"Bluffing\", \"variable\": \"Exploration\", \"value\": 3.0}, {\"index\": \"Card Game\", \"variable\": \"Exploration\", \"value\": 11.0}, {\"index\": \"Dice\", \"variable\": \"Exploration\", \"value\": 7.0}, {\"index\": \"Fantasy\", \"variable\": \"Exploration\", \"value\": 12.0}, {\"index\": \"Fighting\", \"variable\": \"Exploration\", \"value\": 7.0}, {\"index\": \"Humor\", \"variable\": \"Exploration\", \"value\": 4.0}, {\"index\": \"Medieval\", \"variable\": \"Exploration\", \"value\": 4.0}, {\"index\": \"Negotiation\", \"variable\": \"Exploration\", \"value\": 2.0}, {\"index\": \"Party Game\", \"variable\": \"Exploration\", \"value\": 1.0}, {\"index\": \"Print & Play\", \"variable\": \"Exploration\", \"value\": 3.0}, {\"index\": \"Science Fiction\", \"variable\": \"Exploration\", \"value\": 10.0}, {\"index\": \"Abstract Strategy\", \"variable\": \"Fantasy\", \"value\": 6.0}, {\"index\": \"Adventure\", \"variable\": \"Fantasy\", \"value\": 21.0}, {\"index\": \"Animals\", \"variable\": \"Fantasy\", \"value\": 5.0}, {\"index\": \"Bluffing\", \"variable\": \"Fantasy\", \"value\": 10.0}, {\"index\": \"Card Game\", \"variable\": \"Fantasy\", \"value\": 96.0}, {\"index\": \"Deduction\", \"variable\": \"Fantasy\", \"value\": 10.0}, {\"index\": \"Dice\", \"variable\": \"Fantasy\", \"value\": 23.0}, {\"index\": \"Exploration\", \"variable\": \"Fantasy\", \"value\": 12.0}, {\"index\": \"Fighting\", \"variable\": \"Fantasy\", \"value\": 31.0}, {\"index\": \"Humor\", \"variable\": \"Fantasy\", \"value\": 12.0}, {\"index\": \"Medieval\", \"variable\": \"Fantasy\", \"value\": 17.0}, {\"index\": \"Negotiation\", \"variable\": \"Fantasy\", \"value\": 4.0}, {\"index\": \"Party Game\", \"variable\": \"Fantasy\", \"value\": 7.0}, {\"index\": \"Print & Play\", \"variable\": \"Fantasy\", \"value\": 11.0}, {\"index\": \"Science Fiction\", \"variable\": \"Fantasy\", \"value\": 6.0}, {\"index\": \"Wargame\", \"variable\": \"Fantasy\", \"value\": 6.0}, {\"index\": \"Abstract Strategy\", \"variable\": \"Fighting\", \"value\": 4.0}, {\"index\": \"Adventure\", \"variable\": \"Fighting\", \"value\": 10.0}, {\"index\": \"Animals\", \"variable\": \"Fighting\", \"value\": 3.0}, {\"index\": \"Bluffing\", \"variable\": \"Fighting\", \"value\": 4.0}, {\"index\": \"Card Game\", \"variable\": \"Fighting\", \"value\": 35.0}, {\"index\": \"Deduction\", \"variable\": \"Fighting\", \"value\": 1.0}, {\"index\": \"Dice\", \"variable\": \"Fighting\", \"value\": 13.0}, {\"index\": \"Exploration\", \"variable\": \"Fighting\", \"value\": 7.0}, {\"index\": \"Fantasy\", \"variable\": \"Fighting\", \"value\": 31.0}, {\"index\": \"Humor\", \"variable\": \"Fighting\", \"value\": 10.0}, {\"index\": \"Medieval\", \"variable\": \"Fighting\", \"value\": 8.0}, {\"index\": \"Negotiation\", \"variable\": \"Fighting\", \"value\": 3.0}, {\"index\": \"Party Game\", \"variable\": \"Fighting\", \"value\": 5.0}, {\"index\": \"Print & Play\", \"variable\": \"Fighting\", \"value\": 3.0}, {\"index\": \"Science Fiction\", \"variable\": \"Fighting\", \"value\": 8.0}, {\"index\": \"Wargame\", \"variable\": \"Fighting\", \"value\": 6.0}, {\"index\": \"Abstract Strategy\", \"variable\": \"Humor\", \"value\": 4.0}, {\"index\": \"Adventure\", \"variable\": \"Humor\", \"value\": 2.0}, {\"index\": \"Animals\", \"variable\": \"Humor\", \"value\": 14.0}, {\"index\": \"Bluffing\", \"variable\": \"Humor\", \"value\": 4.0}, {\"index\": \"Card Game\", \"variable\": \"Humor\", \"value\": 63.0}, {\"index\": \"Deduction\", \"variable\": \"Humor\", \"value\": 5.0}, {\"index\": \"Dice\", \"variable\": \"Humor\", \"value\": 8.0}, {\"index\": \"Exploration\", \"variable\": \"Humor\", \"value\": 4.0}, {\"index\": \"Fantasy\", \"variable\": \"Humor\", \"value\": 12.0}, {\"index\": \"Fighting\", \"variable\": \"Humor\", \"value\": 10.0}, {\"index\": \"Negotiation\", \"variable\": \"Humor\", \"value\": 4.0}, {\"index\": \"Party Game\", \"variable\": \"Humor\", \"value\": 38.0}, {\"index\": \"Print & Play\", \"variable\": \"Humor\", \"value\": 8.0}, {\"index\": \"Science Fiction\", \"variable\": \"Humor\", \"value\": 7.0}, {\"index\": \"Abstract Strategy\", \"variable\": \"Medieval\", \"value\": 4.0}, {\"index\": \"Adventure\", \"variable\": \"Medieval\", \"value\": 8.0}, {\"index\": \"Bluffing\", \"variable\": \"Medieval\", \"value\": 6.0}, {\"index\": \"Card Game\", \"variable\": \"Medieval\", \"value\": 31.0}, {\"index\": \"Deduction\", \"variable\": \"Medieval\", \"value\": 7.0}, {\"index\": \"Dice\", \"variable\": \"Medieval\", \"value\": 7.0}, {\"index\": \"Exploration\", \"variable\": \"Medieval\", \"value\": 4.0}, {\"index\": \"Fantasy\", \"variable\": \"Medieval\", \"value\": 17.0}, {\"index\": \"Fighting\", \"variable\": \"Medieval\", \"value\": 8.0}, {\"index\": \"Negotiation\", \"variable\": \"Medieval\", \"value\": 2.0}, {\"index\": \"Party Game\", \"variable\": \"Medieval\", \"value\": 1.0}, {\"index\": \"Print & Play\", \"variable\": \"Medieval\", \"value\": 3.0}, {\"index\": \"Science Fiction\", \"variable\": \"Medieval\", \"value\": 1.0}, {\"index\": \"Wargame\", \"variable\": \"Medieval\", \"value\": 6.0}, {\"index\": \"Abstract Strategy\", \"variable\": \"Negotiation\", \"value\": 2.0}, {\"index\": \"Adventure\", \"variable\": \"Negotiation\", \"value\": 3.0}, {\"index\": \"Animals\", \"variable\": \"Negotiation\", \"value\": 2.0}, {\"index\": \"Bluffing\", \"variable\": \"Negotiation\", \"value\": 13.0}, {\"index\": \"Card Game\", \"variable\": \"Negotiation\", \"value\": 11.0}, {\"index\": \"Deduction\", \"variable\": \"Negotiation\", \"value\": 6.0}, {\"index\": \"Dice\", \"variable\": \"Negotiation\", \"value\": 3.0}, {\"index\": \"Exploration\", \"variable\": \"Negotiation\", \"value\": 2.0}, {\"index\": \"Fantasy\", \"variable\": \"Negotiation\", \"value\": 4.0}, {\"index\": \"Fighting\", \"variable\": \"Negotiation\", \"value\": 3.0}, {\"index\": \"Humor\", \"variable\": \"Negotiation\", \"value\": 4.0}, {\"index\": \"Medieval\", \"variable\": \"Negotiation\", \"value\": 2.0}, {\"index\": \"Party Game\", \"variable\": \"Negotiation\", \"value\": 2.0}, {\"index\": \"Print & Play\", \"variable\": \"Negotiation\", \"value\": 1.0}, {\"index\": \"Science Fiction\", \"variable\": \"Negotiation\", \"value\": 3.0}, {\"index\": \"Wargame\", \"variable\": \"Negotiation\", \"value\": 2.0}, {\"index\": \"Abstract Strategy\", \"variable\": \"Party Game\", \"value\": 2.0}, {\"index\": \"Animals\", \"variable\": \"Party Game\", \"value\": 15.0}, {\"index\": \"Bluffing\", \"variable\": \"Party Game\", \"value\": 18.0}, {\"index\": \"Card Game\", \"variable\": \"Party Game\", \"value\": 75.0}, {\"index\": \"Deduction\", \"variable\": \"Party Game\", \"value\": 21.0}, {\"index\": \"Dice\", \"variable\": \"Party Game\", \"value\": 5.0}, {\"index\": \"Exploration\", \"variable\": \"Party Game\", \"value\": 1.0}, {\"index\": \"Fantasy\", \"variable\": \"Party Game\", \"value\": 7.0}, {\"index\": \"Fighting\", \"variable\": \"Party Game\", \"value\": 5.0}, {\"index\": \"Humor\", \"variable\": \"Party Game\", \"value\": 38.0}, {\"index\": \"Medieval\", \"variable\": \"Party Game\", \"value\": 1.0}, {\"index\": \"Negotiation\", \"variable\": \"Party Game\", \"value\": 2.0}, {\"index\": \"Print & Play\", \"variable\": \"Party Game\", \"value\": 11.0}, {\"index\": \"Science Fiction\", \"variable\": \"Party Game\", \"value\": 4.0}, {\"index\": \"Abstract Strategy\", \"variable\": \"Print & Play\", \"value\": 4.0}, {\"index\": \"Adventure\", \"variable\": \"Print & Play\", \"value\": 1.0}, {\"index\": \"Animals\", \"variable\": \"Print & Play\", \"value\": 2.0}, {\"index\": \"Bluffing\", \"variable\": \"Print & Play\", \"value\": 4.0}, {\"index\": \"Card Game\", \"variable\": \"Print & Play\", \"value\": 49.0}, {\"index\": \"Deduction\", \"variable\": \"Print & Play\", \"value\": 7.0}, {\"index\": \"Dice\", \"variable\": \"Print & Play\", \"value\": 7.0}, {\"index\": \"Exploration\", \"variable\": \"Print & Play\", \"value\": 3.0}, {\"index\": \"Fantasy\", \"variable\": \"Print & Play\", \"value\": 11.0}, {\"index\": \"Fighting\", \"variable\": \"Print & Play\", \"value\": 3.0}, {\"index\": \"Humor\", \"variable\": \"Print & Play\", \"value\": 8.0}, {\"index\": \"Medieval\", \"variable\": \"Print & Play\", \"value\": 3.0}, {\"index\": \"Negotiation\", \"variable\": \"Print & Play\", \"value\": 1.0}, {\"index\": \"Party Game\", \"variable\": \"Print & Play\", \"value\": 11.0}, {\"index\": \"Science Fiction\", \"variable\": \"Print & Play\", \"value\": 9.0}, {\"index\": \"Wargame\", \"variable\": \"Print & Play\", \"value\": 1.0}, {\"index\": \"Abstract Strategy\", \"variable\": \"Science Fiction\", \"value\": 1.0}, {\"index\": \"Adventure\", \"variable\": \"Science Fiction\", \"value\": 6.0}, {\"index\": \"Animals\", \"variable\": \"Science Fiction\", \"value\": 3.0}, {\"index\": \"Bluffing\", \"variable\": \"Science Fiction\", \"value\": 4.0}, {\"index\": \"Card Game\", \"variable\": \"Science Fiction\", \"value\": 41.0}, {\"index\": \"Deduction\", \"variable\": \"Science Fiction\", \"value\": 5.0}, {\"index\": \"Dice\", \"variable\": \"Science Fiction\", \"value\": 8.0}, {\"index\": \"Exploration\", \"variable\": \"Science Fiction\", \"value\": 10.0}, {\"index\": \"Fantasy\", \"variable\": \"Science Fiction\", \"value\": 6.0}, {\"index\": \"Fighting\", \"variable\": \"Science Fiction\", \"value\": 8.0}, {\"index\": \"Humor\", \"variable\": \"Science Fiction\", \"value\": 7.0}, {\"index\": \"Medieval\", \"variable\": \"Science Fiction\", \"value\": 1.0}, {\"index\": \"Negotiation\", \"variable\": \"Science Fiction\", \"value\": 3.0}, {\"index\": \"Party Game\", \"variable\": \"Science Fiction\", \"value\": 4.0}, {\"index\": \"Print & Play\", \"variable\": \"Science Fiction\", \"value\": 9.0}, {\"index\": \"Wargame\", \"variable\": \"Science Fiction\", \"value\": 9.0}, {\"index\": \"Abstract Strategy\", \"variable\": \"Wargame\", \"value\": 4.0}, {\"index\": \"Adventure\", \"variable\": \"Wargame\", \"value\": 1.0}, {\"index\": \"Bluffing\", \"variable\": \"Wargame\", \"value\": 1.0}, {\"index\": \"Card Game\", \"variable\": \"Wargame\", \"value\": 12.0}, {\"index\": \"Deduction\", \"variable\": \"Wargame\", \"value\": 1.0}, {\"index\": \"Dice\", \"variable\": \"Wargame\", \"value\": 6.0}, {\"index\": \"Fantasy\", \"variable\": \"Wargame\", \"value\": 6.0}, {\"index\": \"Fighting\", \"variable\": \"Wargame\", \"value\": 6.0}, {\"index\": \"Medieval\", \"variable\": \"Wargame\", \"value\": 6.0}, {\"index\": \"Negotiation\", \"variable\": \"Wargame\", \"value\": 2.0}, {\"index\": \"Print & Play\", \"variable\": \"Wargame\", \"value\": 1.0}, {\"index\": \"Science Fiction\", \"variable\": \"Wargame\", \"value\": 9.0}]}}, {\"mode\": \"vega-lite\"});\n",
              "</script>"
            ],
            "text/plain": [
              "alt.LayerChart(...)"
            ]
          },
          "execution_count": 84,
          "metadata": {},
          "output_type": "execute_result"
        }
      ],
      "source": [
        "createCategoryHeatmap(final_ranked, 30, 20)"
      ]
    }
  ],
  "metadata": {
    "colab": {
      "collapsed_sections": [
        "6zVm-PNBTUEh",
        "W8DTtMp6UGeg",
        "-994_BLYUXVR",
        "uwo9LvUXUdqN",
        "5Y7On7L7z6es",
        "R1z88TXjL7VB",
        "gsJQHnEyveYb",
        "3mWMwqa0voY1"
      ],
      "name": "merge_and_analysis_workbook.ipynb",
      "provenance": []
    },
    "kernelspec": {
      "display_name": "Python 3",
      "name": "python3"
    },
    "language_info": {
      "name": "python"
    }
  },
  "nbformat": 4,
  "nbformat_minor": 0
}