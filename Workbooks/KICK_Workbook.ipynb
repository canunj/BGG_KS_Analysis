{
 "cells": [
  {
   "cell_type": "code",
   "execution_count": 2,
   "id": "d23e3c6c",
   "metadata": {},
   "outputs": [],
   "source": [
    "import requests\n",
    "from bs4 import BeautifulSoup\n",
    "from urllib.request import urlopen\n",
    "from zipfile import ZipFile\n",
    "from pathlib import Path"
   ]
  },
  {
   "cell_type": "code",
   "execution_count": 3,
   "id": "0e9da0d8",
   "metadata": {},
   "outputs": [],
   "source": [
    "path = Path().parent.absolute()"
   ]
  },
  {
   "cell_type": "code",
   "execution_count": 4,
   "id": "7ba12ec3",
   "metadata": {},
   "outputs": [],
   "source": [
    "# Extract .zip file download links from webrobots.io and append to an interable.\n",
    "url = 'https://webrobots.io/kickstarter-datasets/'\n",
    "reqs = requests.get(url)\n",
    "soup = BeautifulSoup(reqs.text, 'html.parser')\n",
    " \n",
    "zip_urls = []\n",
    "for link in soup.find_all('a'):\n",
    "    try:\n",
    "        if 'Z.zip' in link.get('href'):\n",
    "            zip_urls.append(link.get('href'))\n",
    "    except:\n",
    "        continue"
   ]
  },
  {
   "cell_type": "code",
   "execution_count": null,
   "id": "2c31116d",
   "metadata": {},
   "outputs": [],
   "source": [
    "# Define necessary directoriess, loop through .zip file list created in step above, dowload .CSVs and append to df. \n",
    "path = Path().parent.absolute()\n",
    "temp_zip = str(path)+'/temp.zip'\n",
    "\n",
    "fdf = pd.DataFrame()\n",
    "\n",
    "for zipurl in zip_urls:\n",
    "    zipresp = urlopen(zipurl)\n",
    "    tempzip = open(temp_zip, \"wb\")\n",
    "    tempzip.write(zipresp.read())\n",
    "    tempzip.close()\n",
    "    zf = zipfile.ZipFile(temp_zip)\n",
    "    \n",
    "    text_files = zf.infolist()\n",
    "    for text_file in text_files:\n",
    "        try:\n",
    "            df = pd.read_csv(zf.open(text_file.filename))\n",
    "            df['pull_date'] = zip_file\n",
    "            df = df[df['source_url'].str.contains('categories/games')]\n",
    "            fdf = fdf.append(df)\n",
    "        except:\n",
    "            continue\n",
    "    \n",
    "    zf.close()\n",
    "\n",
    "os.remove(\"temp.zip\")"
   ]
  },
  {
   "cell_type": "code",
   "execution_count": null,
   "id": "9ad47070",
   "metadata": {},
   "outputs": [],
   "source": [
    "adf = fdf.drop(\n",
    "         ['currency_symbol', \n",
    "          'currency_trailing_code',\n",
    "          'current_currency',\n",
    "          'disable_communication',\n",
    "          'is_backing',\n",
    "          'permissions',\n",
    "          'urls',\n",
    "          'unread_messages_count',\n",
    "          'unseen_activity_count',\n",
    "          'country_displayable_name',\n",
    "          'projects',\n",
    "          'total_hits',\n",
    "          'seed',\n",
    "          'search_url',\n",
    "          'has_more',\n",
    "          'last_update_published_at'\n",
    "         ]\n",
    "         , axis=1)\n",
    "\n",
    "adf['created_at'] = pd.to_datetime(adf['created_at'].fillna(0).astype('int'),unit='s')\n",
    "adf['deadline'] = pd.to_datetime(adf['deadline'].fillna(0).astype('int'),unit='s')\n",
    "adf['launched_at'] = pd.to_datetime(adf['launched_at'].fillna(0).astype('int'),unit='s')\n",
    "adf['state_changed_at'] = pd.to_datetime(adf['state_changed_at'].fillna(0).astype('int'),unit='s')\n",
    "\n",
    "adf['pull_date'] = adf['pull_date'].str.replace('Kickstarter_', '').str.replace('Z.zip', '')\n",
    "adf['pull_date'] = pd.to_datetime(adf['pull_date'], format='%Y-%m-%dT%H_%M_%S_%f')"
   ]
  },
  {
   "cell_type": "code",
   "execution_count": null,
   "id": "82262247",
   "metadata": {},
   "outputs": [],
   "source": [
    "idx = adf.groupby(['slug'])['pull_date'].transform(max) == adf['pull_date']\n",
    "adf = adf[idx]\n",
    "adf = adf.drop_duplicates(subset=['slug'])"
   ]
  },
  {
   "cell_type": "code",
   "execution_count": null,
   "id": "da6bc89f",
   "metadata": {},
   "outputs": [],
   "source": [
    "adf.to_csv(str(path)+'/KICK_Data.csv')"
   ]
  }
 ],
 "metadata": {
  "kernelspec": {
   "display_name": "Python 3 (ipykernel)",
   "language": "python",
   "name": "python3"
  },
  "language_info": {
   "codemirror_mode": {
    "name": "ipython",
    "version": 3
   },
   "file_extension": ".py",
   "mimetype": "text/x-python",
   "name": "python",
   "nbconvert_exporter": "python",
   "pygments_lexer": "ipython3",
   "version": "3.9.7"
  }
 },
 "nbformat": 4,
 "nbformat_minor": 5
}
