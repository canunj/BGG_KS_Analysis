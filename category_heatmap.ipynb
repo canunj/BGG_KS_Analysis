{
 "cells": [
  {
   "cell_type": "code",
   "execution_count": 1,
   "id": "89d84ffc",
   "metadata": {},
   "outputs": [],
   "source": [
    "import pandas as pd\n",
    "from sklearn import preprocessing\n",
    "import altair as alt\n",
    "# import networkx as nx\n",
    "# import nx_altair as nxa\n",
    "# from matplotlib.pyplot import figure\n",
    "import numpy as np"
   ]
  },
  {
   "cell_type": "code",
   "execution_count": 19,
   "id": "5abd3f8d",
   "metadata": {},
   "outputs": [],
   "source": [
    "df = pd.read_csv('/Users/adamoldenkamp/Documents/GitHub/Milestone-1-BGG/final_ranked.csv')\n",
    "n = 30\n",
    "\n",
    "def createCategoryHeatmap(df, top_pledge_percent, top_category_percent):\n",
    "    top_category_percent = 100 - top_category_percent\n",
    "    \n",
    "    rank_df = df[df['ks_rank'].notna()].sort_values('usd_pledged', ascending=False)\n",
    "    rank_df = rank_df.head(int(len(rank_df)*(top_pledge_percent/100)))\n",
    "\n",
    "    category_cols = [x for x in rank_df.columns if 'category_' in x]\n",
    "    df_category = rank_df[category_cols]\n",
    "    df_category.columns = df_category.columns.str.replace('category_', '')\n",
    "    df_category = df_category.fillna(0)\n",
    "\n",
    "    adj = pd.DataFrame()\n",
    "\n",
    "    for column in list(df_category.columns):\n",
    "        t_df = pd.DataFrame(df_category[df_category[column] != 0].sum()).reset_index()\n",
    "        adj = pd.concat([adj, t_df[0]], ignore_index=True, sort=False, axis=1)\n",
    "\n",
    "    adj.columns = df_category.columns\n",
    "    adj.index = df_category.columns\n",
    "    np.fill_diagonal(adj.values, 0)\n",
    "\n",
    "    keep = adj.sum().sort_values(ascending=True).to_frame()\n",
    "    keep = list(keep.head(int(len(keep)*(top_category_percent/100))).index)\n",
    "\n",
    "    adj = adj.drop(keep)\n",
    "    adj = adj.drop(keep, axis=1)\n",
    "\n",
    "    order = list(adj.sum().sort_values(ascending=True).index)\n",
    "    \n",
    "    adj = pd.melt(adj.reset_index(), id_vars=['index'])\n",
    "    adj = adj[adj['value']!=0]\n",
    "    \n",
    "    chart = alt.Chart(adj).mark_rect().encode(\n",
    "                alt.X('index:N', sort=order, title=None),\n",
    "                alt.Y('variable:N', sort=order, title=None),\n",
    "                alt.Color('value:Q',\n",
    "                    scale=alt.Scale(scheme='greenblue'),\n",
    "                    legend=alt.Legend(title='Total Records')\n",
    "                )\n",
    "            ).properties(width=550,height=550)\n",
    "    \n",
    "    text = alt.Chart(adj).mark_text(baseline='middle').encode(\n",
    "                alt.X('index:N', sort=order),\n",
    "                alt.Y('variable:N', sort=order),\n",
    "                text='value:Q',\n",
    "            )\n",
    "\n",
    "    return chart + text"
   ]
  },
  {
   "cell_type": "code",
   "execution_count": 20,
   "id": "66a0f33d",
   "metadata": {},
   "outputs": [
    {
     "data": {
      "text/html": [
       "\n",
       "<div id=\"altair-viz-74d1b0795de249629d3379a9720f708b\"></div>\n",
       "<script type=\"text/javascript\">\n",
       "  var VEGA_DEBUG = (typeof VEGA_DEBUG == \"undefined\") ? {} : VEGA_DEBUG;\n",
       "  (function(spec, embedOpt){\n",
       "    let outputDiv = document.currentScript.previousElementSibling;\n",
       "    if (outputDiv.id !== \"altair-viz-74d1b0795de249629d3379a9720f708b\") {\n",
       "      outputDiv = document.getElementById(\"altair-viz-74d1b0795de249629d3379a9720f708b\");\n",
       "    }\n",
       "    const paths = {\n",
       "      \"vega\": \"https://cdn.jsdelivr.net/npm//vega@5?noext\",\n",
       "      \"vega-lib\": \"https://cdn.jsdelivr.net/npm//vega-lib?noext\",\n",
       "      \"vega-lite\": \"https://cdn.jsdelivr.net/npm//vega-lite@4.17.0?noext\",\n",
       "      \"vega-embed\": \"https://cdn.jsdelivr.net/npm//vega-embed@6?noext\",\n",
       "    };\n",
       "\n",
       "    function maybeLoadScript(lib, version) {\n",
       "      var key = `${lib.replace(\"-\", \"\")}_version`;\n",
       "      return (VEGA_DEBUG[key] == version) ?\n",
       "        Promise.resolve(paths[lib]) :\n",
       "        new Promise(function(resolve, reject) {\n",
       "          var s = document.createElement('script');\n",
       "          document.getElementsByTagName(\"head\")[0].appendChild(s);\n",
       "          s.async = true;\n",
       "          s.onload = () => {\n",
       "            VEGA_DEBUG[key] = version;\n",
       "            return resolve(paths[lib]);\n",
       "          };\n",
       "          s.onerror = () => reject(`Error loading script: ${paths[lib]}`);\n",
       "          s.src = paths[lib];\n",
       "        });\n",
       "    }\n",
       "\n",
       "    function showError(err) {\n",
       "      outputDiv.innerHTML = `<div class=\"error\" style=\"color:red;\">${err}</div>`;\n",
       "      throw err;\n",
       "    }\n",
       "\n",
       "    function displayChart(vegaEmbed) {\n",
       "      vegaEmbed(outputDiv, spec, embedOpt)\n",
       "        .catch(err => showError(`Javascript Error: ${err.message}<br>This usually means there's a typo in your chart specification. See the javascript console for the full traceback.`));\n",
       "    }\n",
       "\n",
       "    if(typeof define === \"function\" && define.amd) {\n",
       "      requirejs.config({paths});\n",
       "      require([\"vega-embed\"], displayChart, err => showError(`Error loading script: ${err.message}`));\n",
       "    } else {\n",
       "      maybeLoadScript(\"vega\", \"5\")\n",
       "        .then(() => maybeLoadScript(\"vega-lite\", \"4.17.0\"))\n",
       "        .then(() => maybeLoadScript(\"vega-embed\", \"6\"))\n",
       "        .catch(showError)\n",
       "        .then(() => displayChart(vegaEmbed));\n",
       "    }\n",
       "  })({\"config\": {\"view\": {\"continuousWidth\": 400, \"continuousHeight\": 300}}, \"layer\": [{\"mark\": \"rect\", \"encoding\": {\"color\": {\"field\": \"value\", \"legend\": {\"title\": \"Total Records\"}, \"scale\": {\"scheme\": \"greenblue\"}, \"type\": \"quantitative\"}, \"x\": {\"field\": \"index\", \"sort\": [\"Economic\", \"Bluffing\", \"Party Game\", \"Mythology\", \"Wargame\", \"Video Game Theme\", \"Humor\", \"Medieval\", \"Horror\", \"Dice\", \"Science Fiction\", \"Exploration\", \"Card Game\", \"Adventure\", \"Miniatures\", \"Fighting\", \"Fantasy\"], \"title\": null, \"type\": \"nominal\"}, \"y\": {\"field\": \"variable\", \"sort\": [\"Economic\", \"Bluffing\", \"Party Game\", \"Mythology\", \"Wargame\", \"Video Game Theme\", \"Humor\", \"Medieval\", \"Horror\", \"Dice\", \"Science Fiction\", \"Exploration\", \"Card Game\", \"Adventure\", \"Miniatures\", \"Fighting\", \"Fantasy\"], \"title\": null, \"type\": \"nominal\"}}, \"height\": 550, \"width\": 550}, {\"mark\": {\"type\": \"text\", \"baseline\": \"middle\"}, \"encoding\": {\"text\": {\"field\": \"value\", \"type\": \"quantitative\"}, \"x\": {\"field\": \"index\", \"sort\": [\"Economic\", \"Bluffing\", \"Party Game\", \"Mythology\", \"Wargame\", \"Video Game Theme\", \"Humor\", \"Medieval\", \"Horror\", \"Dice\", \"Science Fiction\", \"Exploration\", \"Card Game\", \"Adventure\", \"Miniatures\", \"Fighting\", \"Fantasy\"], \"type\": \"nominal\"}, \"y\": {\"field\": \"variable\", \"sort\": [\"Economic\", \"Bluffing\", \"Party Game\", \"Mythology\", \"Wargame\", \"Video Game Theme\", \"Humor\", \"Medieval\", \"Horror\", \"Dice\", \"Science Fiction\", \"Exploration\", \"Card Game\", \"Adventure\", \"Miniatures\", \"Fighting\", \"Fantasy\"], \"type\": \"nominal\"}}}], \"data\": {\"name\": \"data-a85396e747fa472303637e1c7adc30c7\"}, \"$schema\": \"https://vega.github.io/schema/vega-lite/v4.17.0.json\", \"datasets\": {\"data-a85396e747fa472303637e1c7adc30c7\": [{\"index\": \"Bluffing\", \"variable\": \"Adventure\", \"value\": 2.0}, {\"index\": \"Card Game\", \"variable\": \"Adventure\", \"value\": 16.0}, {\"index\": \"Dice\", \"variable\": \"Adventure\", \"value\": 27.0}, {\"index\": \"Economic\", \"variable\": \"Adventure\", \"value\": 4.0}, {\"index\": \"Exploration\", \"variable\": \"Adventure\", \"value\": 74.0}, {\"index\": \"Fantasy\", \"variable\": \"Adventure\", \"value\": 102.0}, {\"index\": \"Fighting\", \"variable\": \"Adventure\", \"value\": 64.0}, {\"index\": \"Horror\", \"variable\": \"Adventure\", \"value\": 34.0}, {\"index\": \"Humor\", \"variable\": \"Adventure\", \"value\": 7.0}, {\"index\": \"Medieval\", \"variable\": \"Adventure\", \"value\": 16.0}, {\"index\": \"Miniatures\", \"variable\": \"Adventure\", \"value\": 84.0}, {\"index\": \"Mythology\", \"variable\": \"Adventure\", \"value\": 14.0}, {\"index\": \"Party Game\", \"variable\": \"Adventure\", \"value\": 2.0}, {\"index\": \"Science Fiction\", \"variable\": \"Adventure\", \"value\": 27.0}, {\"index\": \"Video Game Theme\", \"variable\": \"Adventure\", \"value\": 10.0}, {\"index\": \"Wargame\", \"variable\": \"Adventure\", \"value\": 2.0}, {\"index\": \"Adventure\", \"variable\": \"Bluffing\", \"value\": 2.0}, {\"index\": \"Card Game\", \"variable\": \"Bluffing\", \"value\": 24.0}, {\"index\": \"Dice\", \"variable\": \"Bluffing\", \"value\": 2.0}, {\"index\": \"Economic\", \"variable\": \"Bluffing\", \"value\": 2.0}, {\"index\": \"Exploration\", \"variable\": \"Bluffing\", \"value\": 2.0}, {\"index\": \"Fantasy\", \"variable\": \"Bluffing\", \"value\": 8.0}, {\"index\": \"Fighting\", \"variable\": \"Bluffing\", \"value\": 6.0}, {\"index\": \"Horror\", \"variable\": \"Bluffing\", \"value\": 8.0}, {\"index\": \"Humor\", \"variable\": \"Bluffing\", \"value\": 1.0}, {\"index\": \"Medieval\", \"variable\": \"Bluffing\", \"value\": 4.0}, {\"index\": \"Miniatures\", \"variable\": \"Bluffing\", \"value\": 2.0}, {\"index\": \"Mythology\", \"variable\": \"Bluffing\", \"value\": 2.0}, {\"index\": \"Party Game\", \"variable\": \"Bluffing\", \"value\": 11.0}, {\"index\": \"Science Fiction\", \"variable\": \"Bluffing\", \"value\": 5.0}, {\"index\": \"Video Game Theme\", \"variable\": \"Bluffing\", \"value\": 1.0}, {\"index\": \"Wargame\", \"variable\": \"Bluffing\", \"value\": 1.0}, {\"index\": \"Adventure\", \"variable\": \"Card Game\", \"value\": 16.0}, {\"index\": \"Bluffing\", \"variable\": \"Card Game\", \"value\": 24.0}, {\"index\": \"Dice\", \"variable\": \"Card Game\", \"value\": 30.0}, {\"index\": \"Economic\", \"variable\": \"Card Game\", \"value\": 10.0}, {\"index\": \"Exploration\", \"variable\": \"Card Game\", \"value\": 8.0}, {\"index\": \"Fantasy\", \"variable\": \"Card Game\", \"value\": 94.0}, {\"index\": \"Fighting\", \"variable\": \"Card Game\", \"value\": 57.0}, {\"index\": \"Horror\", \"variable\": \"Card Game\", \"value\": 23.0}, {\"index\": \"Humor\", \"variable\": \"Card Game\", \"value\": 34.0}, {\"index\": \"Medieval\", \"variable\": \"Card Game\", \"value\": 10.0}, {\"index\": \"Miniatures\", \"variable\": \"Card Game\", \"value\": 17.0}, {\"index\": \"Mythology\", \"variable\": \"Card Game\", \"value\": 8.0}, {\"index\": \"Party Game\", \"variable\": \"Card Game\", \"value\": 33.0}, {\"index\": \"Science Fiction\", \"variable\": \"Card Game\", \"value\": 33.0}, {\"index\": \"Video Game Theme\", \"variable\": \"Card Game\", \"value\": 18.0}, {\"index\": \"Wargame\", \"variable\": \"Card Game\", \"value\": 9.0}, {\"index\": \"Adventure\", \"variable\": \"Dice\", \"value\": 27.0}, {\"index\": \"Bluffing\", \"variable\": \"Dice\", \"value\": 2.0}, {\"index\": \"Card Game\", \"variable\": \"Dice\", \"value\": 30.0}, {\"index\": \"Economic\", \"variable\": \"Dice\", \"value\": 4.0}, {\"index\": \"Exploration\", \"variable\": \"Dice\", \"value\": 18.0}, {\"index\": \"Fantasy\", \"variable\": \"Dice\", \"value\": 49.0}, {\"index\": \"Fighting\", \"variable\": \"Dice\", \"value\": 33.0}, {\"index\": \"Horror\", \"variable\": \"Dice\", \"value\": 8.0}, {\"index\": \"Humor\", \"variable\": \"Dice\", \"value\": 5.0}, {\"index\": \"Medieval\", \"variable\": \"Dice\", \"value\": 8.0}, {\"index\": \"Miniatures\", \"variable\": \"Dice\", \"value\": 22.0}, {\"index\": \"Mythology\", \"variable\": \"Dice\", \"value\": 8.0}, {\"index\": \"Party Game\", \"variable\": \"Dice\", \"value\": 4.0}, {\"index\": \"Science Fiction\", \"variable\": \"Dice\", \"value\": 23.0}, {\"index\": \"Wargame\", \"variable\": \"Dice\", \"value\": 5.0}, {\"index\": \"Adventure\", \"variable\": \"Economic\", \"value\": 4.0}, {\"index\": \"Bluffing\", \"variable\": \"Economic\", \"value\": 2.0}, {\"index\": \"Card Game\", \"variable\": \"Economic\", \"value\": 10.0}, {\"index\": \"Dice\", \"variable\": \"Economic\", \"value\": 4.0}, {\"index\": \"Exploration\", \"variable\": \"Economic\", \"value\": 7.0}, {\"index\": \"Fantasy\", \"variable\": \"Economic\", \"value\": 11.0}, {\"index\": \"Fighting\", \"variable\": \"Economic\", \"value\": 3.0}, {\"index\": \"Horror\", \"variable\": \"Economic\", \"value\": 1.0}, {\"index\": \"Humor\", \"variable\": \"Economic\", \"value\": 2.0}, {\"index\": \"Medieval\", \"variable\": \"Economic\", \"value\": 10.0}, {\"index\": \"Miniatures\", \"variable\": \"Economic\", \"value\": 5.0}, {\"index\": \"Mythology\", \"variable\": \"Economic\", \"value\": 1.0}, {\"index\": \"Science Fiction\", \"variable\": \"Economic\", \"value\": 14.0}, {\"index\": \"Wargame\", \"variable\": \"Economic\", \"value\": 5.0}, {\"index\": \"Adventure\", \"variable\": \"Exploration\", \"value\": 74.0}, {\"index\": \"Bluffing\", \"variable\": \"Exploration\", \"value\": 2.0}, {\"index\": \"Card Game\", \"variable\": \"Exploration\", \"value\": 8.0}, {\"index\": \"Dice\", \"variable\": \"Exploration\", \"value\": 18.0}, {\"index\": \"Economic\", \"variable\": \"Exploration\", \"value\": 7.0}, {\"index\": \"Fantasy\", \"variable\": \"Exploration\", \"value\": 53.0}, {\"index\": \"Fighting\", \"variable\": \"Exploration\", \"value\": 36.0}, {\"index\": \"Horror\", \"variable\": \"Exploration\", \"value\": 15.0}, {\"index\": \"Humor\", \"variable\": \"Exploration\", \"value\": 2.0}, {\"index\": \"Medieval\", \"variable\": \"Exploration\", \"value\": 11.0}, {\"index\": \"Miniatures\", \"variable\": \"Exploration\", \"value\": 39.0}, {\"index\": \"Mythology\", \"variable\": \"Exploration\", \"value\": 7.0}, {\"index\": \"Party Game\", \"variable\": \"Exploration\", \"value\": 1.0}, {\"index\": \"Science Fiction\", \"variable\": \"Exploration\", \"value\": 22.0}, {\"index\": \"Video Game Theme\", \"variable\": \"Exploration\", \"value\": 3.0}, {\"index\": \"Wargame\", \"variable\": \"Exploration\", \"value\": 3.0}, {\"index\": \"Adventure\", \"variable\": \"Fantasy\", \"value\": 102.0}, {\"index\": \"Bluffing\", \"variable\": \"Fantasy\", \"value\": 8.0}, {\"index\": \"Card Game\", \"variable\": \"Fantasy\", \"value\": 94.0}, {\"index\": \"Dice\", \"variable\": \"Fantasy\", \"value\": 49.0}, {\"index\": \"Economic\", \"variable\": \"Fantasy\", \"value\": 11.0}, {\"index\": \"Exploration\", \"variable\": \"Fantasy\", \"value\": 53.0}, {\"index\": \"Fighting\", \"variable\": \"Fantasy\", \"value\": 113.0}, {\"index\": \"Horror\", \"variable\": \"Fantasy\", \"value\": 36.0}, {\"index\": \"Humor\", \"variable\": \"Fantasy\", \"value\": 15.0}, {\"index\": \"Medieval\", \"variable\": \"Fantasy\", \"value\": 32.0}, {\"index\": \"Miniatures\", \"variable\": \"Fantasy\", \"value\": 95.0}, {\"index\": \"Mythology\", \"variable\": \"Fantasy\", \"value\": 21.0}, {\"index\": \"Party Game\", \"variable\": \"Fantasy\", \"value\": 9.0}, {\"index\": \"Science Fiction\", \"variable\": \"Fantasy\", \"value\": 21.0}, {\"index\": \"Video Game Theme\", \"variable\": \"Fantasy\", \"value\": 26.0}, {\"index\": \"Wargame\", \"variable\": \"Fantasy\", \"value\": 13.0}, {\"index\": \"Adventure\", \"variable\": \"Fighting\", \"value\": 64.0}, {\"index\": \"Bluffing\", \"variable\": \"Fighting\", \"value\": 6.0}, {\"index\": \"Card Game\", \"variable\": \"Fighting\", \"value\": 57.0}, {\"index\": \"Dice\", \"variable\": \"Fighting\", \"value\": 33.0}, {\"index\": \"Economic\", \"variable\": \"Fighting\", \"value\": 3.0}, {\"index\": \"Exploration\", \"variable\": \"Fighting\", \"value\": 36.0}, {\"index\": \"Fantasy\", \"variable\": \"Fighting\", \"value\": 113.0}, {\"index\": \"Horror\", \"variable\": \"Fighting\", \"value\": 28.0}, {\"index\": \"Humor\", \"variable\": \"Fighting\", \"value\": 9.0}, {\"index\": \"Medieval\", \"variable\": \"Fighting\", \"value\": 19.0}, {\"index\": \"Miniatures\", \"variable\": \"Fighting\", \"value\": 86.0}, {\"index\": \"Mythology\", \"variable\": \"Fighting\", \"value\": 11.0}, {\"index\": \"Party Game\", \"variable\": \"Fighting\", \"value\": 1.0}, {\"index\": \"Science Fiction\", \"variable\": \"Fighting\", \"value\": 42.0}, {\"index\": \"Video Game Theme\", \"variable\": \"Fighting\", \"value\": 22.0}, {\"index\": \"Wargame\", \"variable\": \"Fighting\", \"value\": 12.0}, {\"index\": \"Adventure\", \"variable\": \"Horror\", \"value\": 34.0}, {\"index\": \"Bluffing\", \"variable\": \"Horror\", \"value\": 8.0}, {\"index\": \"Card Game\", \"variable\": \"Horror\", \"value\": 23.0}, {\"index\": \"Dice\", \"variable\": \"Horror\", \"value\": 8.0}, {\"index\": \"Economic\", \"variable\": \"Horror\", \"value\": 1.0}, {\"index\": \"Exploration\", \"variable\": \"Horror\", \"value\": 15.0}, {\"index\": \"Fantasy\", \"variable\": \"Horror\", \"value\": 36.0}, {\"index\": \"Fighting\", \"variable\": \"Horror\", \"value\": 28.0}, {\"index\": \"Humor\", \"variable\": \"Horror\", \"value\": 4.0}, {\"index\": \"Medieval\", \"variable\": \"Horror\", \"value\": 5.0}, {\"index\": \"Miniatures\", \"variable\": \"Horror\", \"value\": 41.0}, {\"index\": \"Mythology\", \"variable\": \"Horror\", \"value\": 7.0}, {\"index\": \"Party Game\", \"variable\": \"Horror\", \"value\": 4.0}, {\"index\": \"Science Fiction\", \"variable\": \"Horror\", \"value\": 16.0}, {\"index\": \"Video Game Theme\", \"variable\": \"Horror\", \"value\": 9.0}, {\"index\": \"Wargame\", \"variable\": \"Horror\", \"value\": 2.0}, {\"index\": \"Adventure\", \"variable\": \"Humor\", \"value\": 7.0}, {\"index\": \"Bluffing\", \"variable\": \"Humor\", \"value\": 1.0}, {\"index\": \"Card Game\", \"variable\": \"Humor\", \"value\": 34.0}, {\"index\": \"Dice\", \"variable\": \"Humor\", \"value\": 5.0}, {\"index\": \"Economic\", \"variable\": \"Humor\", \"value\": 2.0}, {\"index\": \"Exploration\", \"variable\": \"Humor\", \"value\": 2.0}, {\"index\": \"Fantasy\", \"variable\": \"Humor\", \"value\": 15.0}, {\"index\": \"Fighting\", \"variable\": \"Humor\", \"value\": 9.0}, {\"index\": \"Horror\", \"variable\": \"Humor\", \"value\": 4.0}, {\"index\": \"Medieval\", \"variable\": \"Humor\", \"value\": 6.0}, {\"index\": \"Miniatures\", \"variable\": \"Humor\", \"value\": 12.0}, {\"index\": \"Mythology\", \"variable\": \"Humor\", \"value\": 1.0}, {\"index\": \"Party Game\", \"variable\": \"Humor\", \"value\": 16.0}, {\"index\": \"Science Fiction\", \"variable\": \"Humor\", \"value\": 5.0}, {\"index\": \"Video Game Theme\", \"variable\": \"Humor\", \"value\": 5.0}, {\"index\": \"Wargame\", \"variable\": \"Humor\", \"value\": 3.0}, {\"index\": \"Adventure\", \"variable\": \"Medieval\", \"value\": 16.0}, {\"index\": \"Bluffing\", \"variable\": \"Medieval\", \"value\": 4.0}, {\"index\": \"Card Game\", \"variable\": \"Medieval\", \"value\": 10.0}, {\"index\": \"Dice\", \"variable\": \"Medieval\", \"value\": 8.0}, {\"index\": \"Economic\", \"variable\": \"Medieval\", \"value\": 10.0}, {\"index\": \"Exploration\", \"variable\": \"Medieval\", \"value\": 11.0}, {\"index\": \"Fantasy\", \"variable\": \"Medieval\", \"value\": 32.0}, {\"index\": \"Fighting\", \"variable\": \"Medieval\", \"value\": 19.0}, {\"index\": \"Horror\", \"variable\": \"Medieval\", \"value\": 5.0}, {\"index\": \"Humor\", \"variable\": \"Medieval\", \"value\": 6.0}, {\"index\": \"Miniatures\", \"variable\": \"Medieval\", \"value\": 16.0}, {\"index\": \"Mythology\", \"variable\": \"Medieval\", \"value\": 4.0}, {\"index\": \"Party Game\", \"variable\": \"Medieval\", \"value\": 4.0}, {\"index\": \"Video Game Theme\", \"variable\": \"Medieval\", \"value\": 5.0}, {\"index\": \"Wargame\", \"variable\": \"Medieval\", \"value\": 7.0}, {\"index\": \"Adventure\", \"variable\": \"Miniatures\", \"value\": 84.0}, {\"index\": \"Bluffing\", \"variable\": \"Miniatures\", \"value\": 2.0}, {\"index\": \"Card Game\", \"variable\": \"Miniatures\", \"value\": 17.0}, {\"index\": \"Dice\", \"variable\": \"Miniatures\", \"value\": 22.0}, {\"index\": \"Economic\", \"variable\": \"Miniatures\", \"value\": 5.0}, {\"index\": \"Exploration\", \"variable\": \"Miniatures\", \"value\": 39.0}, {\"index\": \"Fantasy\", \"variable\": \"Miniatures\", \"value\": 95.0}, {\"index\": \"Fighting\", \"variable\": \"Miniatures\", \"value\": 86.0}, {\"index\": \"Horror\", \"variable\": \"Miniatures\", \"value\": 41.0}, {\"index\": \"Humor\", \"variable\": \"Miniatures\", \"value\": 12.0}, {\"index\": \"Medieval\", \"variable\": \"Miniatures\", \"value\": 16.0}, {\"index\": \"Mythology\", \"variable\": \"Miniatures\", \"value\": 14.0}, {\"index\": \"Party Game\", \"variable\": \"Miniatures\", \"value\": 2.0}, {\"index\": \"Science Fiction\", \"variable\": \"Miniatures\", \"value\": 55.0}, {\"index\": \"Video Game Theme\", \"variable\": \"Miniatures\", \"value\": 17.0}, {\"index\": \"Wargame\", \"variable\": \"Miniatures\", \"value\": 35.0}, {\"index\": \"Adventure\", \"variable\": \"Mythology\", \"value\": 14.0}, {\"index\": \"Bluffing\", \"variable\": \"Mythology\", \"value\": 2.0}, {\"index\": \"Card Game\", \"variable\": \"Mythology\", \"value\": 8.0}, {\"index\": \"Dice\", \"variable\": \"Mythology\", \"value\": 8.0}, {\"index\": \"Economic\", \"variable\": \"Mythology\", \"value\": 1.0}, {\"index\": \"Exploration\", \"variable\": \"Mythology\", \"value\": 7.0}, {\"index\": \"Fantasy\", \"variable\": \"Mythology\", \"value\": 21.0}, {\"index\": \"Fighting\", \"variable\": \"Mythology\", \"value\": 11.0}, {\"index\": \"Horror\", \"variable\": \"Mythology\", \"value\": 7.0}, {\"index\": \"Humor\", \"variable\": \"Mythology\", \"value\": 1.0}, {\"index\": \"Medieval\", \"variable\": \"Mythology\", \"value\": 4.0}, {\"index\": \"Miniatures\", \"variable\": \"Mythology\", \"value\": 14.0}, {\"index\": \"Party Game\", \"variable\": \"Mythology\", \"value\": 1.0}, {\"index\": \"Science Fiction\", \"variable\": \"Mythology\", \"value\": 4.0}, {\"index\": \"Video Game Theme\", \"variable\": \"Mythology\", \"value\": 1.0}, {\"index\": \"Wargame\", \"variable\": \"Mythology\", \"value\": 4.0}, {\"index\": \"Adventure\", \"variable\": \"Party Game\", \"value\": 2.0}, {\"index\": \"Bluffing\", \"variable\": \"Party Game\", \"value\": 11.0}, {\"index\": \"Card Game\", \"variable\": \"Party Game\", \"value\": 33.0}, {\"index\": \"Dice\", \"variable\": \"Party Game\", \"value\": 4.0}, {\"index\": \"Exploration\", \"variable\": \"Party Game\", \"value\": 1.0}, {\"index\": \"Fantasy\", \"variable\": \"Party Game\", \"value\": 9.0}, {\"index\": \"Fighting\", \"variable\": \"Party Game\", \"value\": 1.0}, {\"index\": \"Horror\", \"variable\": \"Party Game\", \"value\": 4.0}, {\"index\": \"Humor\", \"variable\": \"Party Game\", \"value\": 16.0}, {\"index\": \"Medieval\", \"variable\": \"Party Game\", \"value\": 4.0}, {\"index\": \"Miniatures\", \"variable\": \"Party Game\", \"value\": 2.0}, {\"index\": \"Mythology\", \"variable\": \"Party Game\", \"value\": 1.0}, {\"index\": \"Science Fiction\", \"variable\": \"Party Game\", \"value\": 3.0}, {\"index\": \"Video Game Theme\", \"variable\": \"Party Game\", \"value\": 1.0}, {\"index\": \"Adventure\", \"variable\": \"Science Fiction\", \"value\": 27.0}, {\"index\": \"Bluffing\", \"variable\": \"Science Fiction\", \"value\": 5.0}, {\"index\": \"Card Game\", \"variable\": \"Science Fiction\", \"value\": 33.0}, {\"index\": \"Dice\", \"variable\": \"Science Fiction\", \"value\": 23.0}, {\"index\": \"Economic\", \"variable\": \"Science Fiction\", \"value\": 14.0}, {\"index\": \"Exploration\", \"variable\": \"Science Fiction\", \"value\": 22.0}, {\"index\": \"Fantasy\", \"variable\": \"Science Fiction\", \"value\": 21.0}, {\"index\": \"Fighting\", \"variable\": \"Science Fiction\", \"value\": 42.0}, {\"index\": \"Horror\", \"variable\": \"Science Fiction\", \"value\": 16.0}, {\"index\": \"Humor\", \"variable\": \"Science Fiction\", \"value\": 5.0}, {\"index\": \"Miniatures\", \"variable\": \"Science Fiction\", \"value\": 55.0}, {\"index\": \"Mythology\", \"variable\": \"Science Fiction\", \"value\": 4.0}, {\"index\": \"Party Game\", \"variable\": \"Science Fiction\", \"value\": 3.0}, {\"index\": \"Video Game Theme\", \"variable\": \"Science Fiction\", \"value\": 4.0}, {\"index\": \"Wargame\", \"variable\": \"Science Fiction\", \"value\": 16.0}, {\"index\": \"Adventure\", \"variable\": \"Video Game Theme\", \"value\": 10.0}, {\"index\": \"Bluffing\", \"variable\": \"Video Game Theme\", \"value\": 1.0}, {\"index\": \"Card Game\", \"variable\": \"Video Game Theme\", \"value\": 18.0}, {\"index\": \"Exploration\", \"variable\": \"Video Game Theme\", \"value\": 3.0}, {\"index\": \"Fantasy\", \"variable\": \"Video Game Theme\", \"value\": 26.0}, {\"index\": \"Fighting\", \"variable\": \"Video Game Theme\", \"value\": 22.0}, {\"index\": \"Horror\", \"variable\": \"Video Game Theme\", \"value\": 9.0}, {\"index\": \"Humor\", \"variable\": \"Video Game Theme\", \"value\": 5.0}, {\"index\": \"Medieval\", \"variable\": \"Video Game Theme\", \"value\": 5.0}, {\"index\": \"Miniatures\", \"variable\": \"Video Game Theme\", \"value\": 17.0}, {\"index\": \"Mythology\", \"variable\": \"Video Game Theme\", \"value\": 1.0}, {\"index\": \"Party Game\", \"variable\": \"Video Game Theme\", \"value\": 1.0}, {\"index\": \"Science Fiction\", \"variable\": \"Video Game Theme\", \"value\": 4.0}, {\"index\": \"Wargame\", \"variable\": \"Video Game Theme\", \"value\": 3.0}, {\"index\": \"Adventure\", \"variable\": \"Wargame\", \"value\": 2.0}, {\"index\": \"Bluffing\", \"variable\": \"Wargame\", \"value\": 1.0}, {\"index\": \"Card Game\", \"variable\": \"Wargame\", \"value\": 9.0}, {\"index\": \"Dice\", \"variable\": \"Wargame\", \"value\": 5.0}, {\"index\": \"Economic\", \"variable\": \"Wargame\", \"value\": 5.0}, {\"index\": \"Exploration\", \"variable\": \"Wargame\", \"value\": 3.0}, {\"index\": \"Fantasy\", \"variable\": \"Wargame\", \"value\": 13.0}, {\"index\": \"Fighting\", \"variable\": \"Wargame\", \"value\": 12.0}, {\"index\": \"Horror\", \"variable\": \"Wargame\", \"value\": 2.0}, {\"index\": \"Humor\", \"variable\": \"Wargame\", \"value\": 3.0}, {\"index\": \"Medieval\", \"variable\": \"Wargame\", \"value\": 7.0}, {\"index\": \"Miniatures\", \"variable\": \"Wargame\", \"value\": 35.0}, {\"index\": \"Mythology\", \"variable\": \"Wargame\", \"value\": 4.0}, {\"index\": \"Science Fiction\", \"variable\": \"Wargame\", \"value\": 16.0}, {\"index\": \"Video Game Theme\", \"variable\": \"Wargame\", \"value\": 3.0}]}}, {\"mode\": \"vega-lite\"});\n",
       "</script>"
      ],
      "text/plain": [
       "alt.LayerChart(...)"
      ]
     },
     "execution_count": 20,
     "metadata": {},
     "output_type": "execute_result"
    }
   ],
   "source": [
    "createCategoryHeatmap(df, 30, 20)"
   ]
  }
 ],
 "metadata": {
  "kernelspec": {
   "display_name": "Python 3 (ipykernel)",
   "language": "python",
   "name": "python3"
  },
  "language_info": {
   "codemirror_mode": {
    "name": "ipython",
    "version": 3
   },
   "file_extension": ".py",
   "mimetype": "text/x-python",
   "name": "python",
   "nbconvert_exporter": "python",
   "pygments_lexer": "ipython3",
   "version": "3.9.7"
  }
 },
 "nbformat": 4,
 "nbformat_minor": 5
}
